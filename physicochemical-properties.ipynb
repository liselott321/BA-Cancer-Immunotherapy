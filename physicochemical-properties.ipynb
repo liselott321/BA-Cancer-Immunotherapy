{
 "cells": [
  {
   "cell_type": "markdown",
   "id": "b9e34890-846b-4223-826e-e2b3993ebb12",
   "metadata": {},
   "source": [
    "## Create Physicochemical Properties"
   ]
  },
  {
   "cell_type": "code",
   "execution_count": 2,
   "id": "5cad3eed-8ce3-48e9-87fd-229d523ed352",
   "metadata": {},
   "outputs": [
    {
     "name": "stdout",
     "output_type": "stream",
     "text": [
      "Requirement already satisfied: tidytcells in /home/ubuntu/anaconda3/lib/python3.12/site-packages (2.1.3)\n"
     ]
    }
   ],
   "source": [
    "import os\n",
    "import pandas as pd\n",
    "import sys\n",
    "!\"{sys.executable}\" -m pip install tidytcells"
   ]
  },
  {
   "cell_type": "code",
   "execution_count": 3,
   "id": "3df29aac-d265-4c9b-8858-c4c93282222d",
   "metadata": {},
   "outputs": [],
   "source": [
    "# set precision of mhc and V/J values (gene or allele)\n",
    "precision = 'gene'"
   ]
  },
  {
   "cell_type": "code",
   "execution_count": 4,
   "id": "4242ecc8-0020-439b-9e98-5914de4d3fd2",
   "metadata": {},
   "outputs": [],
   "source": [
    "# this function is not thread safe\n",
    "def create_folders_if_not_exists(folders):\n",
    "  for path in folders:\n",
    "    if not os.path.exists(path):\n",
    "      os.makedirs(path)"
   ]
  },
  {
   "cell_type": "code",
   "execution_count": 5,
   "id": "cc6d208d-470c-4a56-b3e0-3b5c7665bf5f",
   "metadata": {},
   "outputs": [],
   "source": [
    "pipeline_data = '../../data'\n",
    "pipeline_data_plain = f'{pipeline_data}/plain_datasets'\n",
    "pipeline_data_cleaned = f'{pipeline_data}/cleaned_datasets'\n",
    "pipeline_data_concatenated = f'{pipeline_data}/concatenated_datasets'\n",
    "pipeline_data_splitted = f'{pipeline_data}/splitted_datasets'\n",
    "pipeline_data_temp_bucket = f'{pipeline_data}/temp'\n",
    "\n",
    "pipeline_folders = [pipeline_data, pipeline_data_plain, pipeline_data_cleaned, pipeline_data_concatenated, pipeline_data_splitted, pipeline_data_temp_bucket]\n",
    "\n",
    "create_folders_if_not_exists(pipeline_folders)"
   ]
  },
  {
   "cell_type": "markdown",
   "id": "d6a13baf-da79-42fb-85b8-43dd52b4e480",
   "metadata": {},
   "source": [
    "## PLE"
   ]
  },
  {
   "cell_type": "code",
   "execution_count": 24,
   "id": "3ed11203-a581-4b74-89e5-c903bca4e15f",
   "metadata": {},
   "outputs": [
    {
     "name": "stdout",
     "output_type": "stream",
     "text": [
      "PLE-Embedding-Modul erfolgreich geladen!\n"
     ]
    }
   ],
   "source": [
    "import importlib.util\n",
    "\n",
    "\n",
    "ple_path = \"../../data_scripts/ple_embedding.py\"\n",
    "\n",
    "# Lade das Modul manuell\n",
    "spec = importlib.util.spec_from_file_location(\"ple_embedding\", ple_path)\n",
    "ple_embedding = importlib.util.module_from_spec(spec)\n",
    "spec.loader.exec_module(ple_embedding)\n",
    "\n",
    "# Jetzt kannst du Funktionen direkt verwenden\n",
    "encode_dataframe = ple_embedding.encode_dataframe\n",
    "ple_encode_sequence = ple_embedding.ple_encode_sequence\n",
    "print(\"PLE-Embedding-Modul erfolgreich geladen!\")\n"
   ]
  },
  {
   "cell_type": "code",
   "execution_count": 14,
   "id": "0d65a8ba-9d70-4b64-bca8-2f6389f41417",
   "metadata": {},
   "outputs": [
    {
     "name": "stdout",
     "output_type": "stream",
     "text": [
      "PLE-Embeddings erfolgreich mit Padding erstellt und gespeichert!\n"
     ]
    }
   ],
   "source": [
    "import pandas as pd\n",
    "import numpy as np\n",
    "\n",
    "# Lade die Daten\n",
    "df_paired = pd.read_csv(\"../../data/splitted_datasets/gene/paired/train.tsv\", sep=\"\\t\")\n",
    "\n",
    "# Wende PLE auf TCR-Sequenzen an\n",
    "ple_TRA = encode_dataframe(df_paired, \"TRA_CDR3\")\n",
    "ple_TRB = encode_dataframe(df_paired, \"TRB_CDR3\")\n",
    "ple_Epi = encode_dataframe(df_paired, \"Epitope\")\n",
    "\n",
    "def pad_sequences(sequences, max_len=None):\n",
    "    \"\"\"\n",
    "    Füllt alle Sequenzen mit Nullen auf die gleiche Länge auf.\n",
    "    :param sequences: Liste von NumPy-Arrays mit PLE-Embeddings\n",
    "    :param max_len: Maximale Länge der Sequenzen (falls None, wird längste Sequenz verwendet)\n",
    "    :return: 3D-NumPy-Array (Anzahl der Sequenzen, max_len, Feature-Dimension)\n",
    "    \"\"\"\n",
    "    if max_len is None:\n",
    "        max_len = max(seq.shape[0] for seq in sequences)  # Finde die längste Sequenz\n",
    "\n",
    "    feature_dim = sequences[0].shape[1]  # Anzahl der physikochemischen Eigenschaften\n",
    "    padded_seqs = np.zeros((len(sequences), max_len, feature_dim))  # (num_samples, max_len, feature_dim)\n",
    "\n",
    "    for i, seq in enumerate(sequences):\n",
    "        padded_seqs[i, :seq.shape[0], :] = seq  # Kopiere Originalwerte\n",
    "\n",
    "    return padded_seqs\n",
    "\n",
    "# Padding anwenden, um gleiche Länge für alle Sequenzen zu haben\n",
    "ple_TRA_padded = pad_sequences(ple_TRA)\n",
    "ple_TRB_padded = pad_sequences(ple_TRB)\n",
    "ple_Epi_padded = pad_sequences(ple_Epi)\n",
    "\n",
    "# Speichern der PLE-Embeddings mit Padding\n",
    "np.savez_compressed(\"../../data/embeddings/paired/gene/TRA_PLE_padded.npz\", embeddings=ple_TRA_padded)\n",
    "np.savez_compressed(\"../../data/embeddings/paired/gene/TRB_PLE_padded.npz\", embeddings=ple_TRB_padded)\n",
    "np.savez_compressed(\"../../data/embeddings/paired/gene/Epitope_PLE_padded.npz\", embeddings=ple_Epi_padded)\n",
    "\n",
    "print(\"PLE-Embeddings erfolgreich mit Padding erstellt und gespeichert!\")"
   ]
  },
  {
   "cell_type": "code",
   "execution_count": 16,
   "id": "d63a6148-b282-45a9-893d-95c3b4fd1df4",
   "metadata": {},
   "outputs": [
    {
     "name": "stderr",
     "output_type": "stream",
     "text": [
      "/tmp/ipykernel_2414/325641139.py:1: DtypeWarning: Columns (0,4) have mixed types. Specify dtype option on import or set low_memory=False.\n",
      "  df_beta = pd.read_csv(\"../../data/splitted_datasets/gene/beta/train.tsv\", sep=\"\\t\")\n"
     ]
    },
    {
     "name": "stdout",
     "output_type": "stream",
     "text": [
      "PLE-Embeddings für Beta erfolgreich mit Padding erstellt und gespeichert!\n"
     ]
    }
   ],
   "source": [
    "df_beta = pd.read_csv(\"../../data/splitted_datasets/gene/beta/train.tsv\", sep=\"\\t\")\n",
    "\n",
    "# Wende PLE auf die Beta-Sequenzen an\n",
    "ple_TRB = encode_dataframe(df_beta, \"TRB_CDR3\")\n",
    "ple_Epi = encode_dataframe(df_beta, \"Epitope\")\n",
    "\n",
    "# Padding anwenden, um gleiche Länge für alle Sequenzen zu haben\n",
    "ple_TRB_padded = pad_sequences(ple_TRB)\n",
    "ple_Epi_padded = pad_sequences(ple_Epi)\n",
    "\n",
    "# Speichern der PLE-Embeddings mit Padding\n",
    "np.savez_compressed(\"../../data/embeddings/beta/gene/TRB_PLE_padded.npz\", embeddings=ple_TRB_padded)\n",
    "np.savez_compressed(\"../../data/embeddings/beta/gene/Epitope_PLE_padded.npz\", embeddings=ple_Epi_padded)\n",
    "\n",
    "print(\"PLE-Embeddings für Beta erfolgreich mit Padding erstellt und gespeichert!\")"
   ]
  },
  {
   "cell_type": "code",
   "execution_count": 27,
   "id": "b9e97a3e-5c77-4735-b4b7-561a1107a283",
   "metadata": {},
   "outputs": [
    {
     "name": "stdout",
     "output_type": "stream",
     "text": [
      "\n",
      "Erwartete PLE-Werte für: AVFDRKSDAK\n",
      "A: [1.8  0.62 0.05]\n",
      "V: [4.2  1.08 0.36]\n",
      "F: [2.8  1.19 0.42]\n",
      "D: [-3.5  -0.9  -0.49]\n",
      "R: [-4.5  -2.53 -0.32]\n",
      "K: [-3.9  -1.5  -0.34]\n",
      "S: [-0.8  -0.18 -0.05]\n",
      "D: [-3.5  -0.9  -0.49]\n",
      "A: [1.8  0.62 0.05]\n",
      "K: [-3.9  -1.5  -0.34]\n"
     ]
    }
   ],
   "source": [
    "test_seq = \"AVFDRKSDAK\"  # Beispiel einer Epitope-Sequenz\n",
    "expected_ple = ple_encode_sequence(test_seq)\n",
    "\n",
    "print(\"\\nErwartete PLE-Werte für:\", test_seq)\n",
    "for aa, values in zip(test_seq, expected_ple):\n",
    "    print(f\"{aa}: {values}\")\n",
    "#Alle Werte stimmen mit der physikochemischen Tabelle überein!"
   ]
  },
  {
   "cell_type": "code",
   "execution_count": 28,
   "id": "1515e48e-3f32-49a8-b97d-f3e649edc960",
   "metadata": {},
   "outputs": [
    {
     "name": "stdout",
     "output_type": "stream",
     "text": [
      "Vergleich gespeicherte vs. berechnete PLE-Werte:\n",
      "[[ 1.8   0.62  0.05]\n",
      " [ 4.2   1.08  0.36]\n",
      " [ 2.8   1.19  0.42]\n",
      " [-3.5  -0.9  -0.49]\n",
      " [-4.5  -2.53 -0.32]\n",
      " [-3.9  -1.5  -0.34]\n",
      " [-0.8  -0.18 -0.05]\n",
      " [-3.5  -0.9  -0.49]\n",
      " [ 1.8   0.62  0.05]\n",
      " [-3.9  -1.5  -0.34]\n",
      " [ 0.    0.    0.  ]\n",
      " [ 0.    0.    0.  ]\n",
      " [ 0.    0.    0.  ]\n",
      " [ 0.    0.    0.  ]\n",
      " [ 0.    0.    0.  ]\n",
      " [ 0.    0.    0.  ]\n",
      " [ 0.    0.    0.  ]\n",
      " [ 0.    0.    0.  ]\n",
      " [ 0.    0.    0.  ]\n",
      " [ 0.    0.    0.  ]\n",
      " [ 0.    0.    0.  ]\n",
      " [ 0.    0.    0.  ]\n",
      " [ 0.    0.    0.  ]\n",
      " [ 0.    0.    0.  ]\n",
      " [ 0.    0.    0.  ]]\n",
      "[[ 1.8   0.62  0.05]\n",
      " [ 4.2   1.08  0.36]\n",
      " [ 2.8   1.19  0.42]\n",
      " [-3.5  -0.9  -0.49]\n",
      " [-4.5  -2.53 -0.32]\n",
      " [-3.9  -1.5  -0.34]\n",
      " [-0.8  -0.18 -0.05]\n",
      " [-3.5  -0.9  -0.49]\n",
      " [ 1.8   0.62  0.05]\n",
      " [-3.9  -1.5  -0.34]]\n"
     ]
    }
   ],
   "source": [
    "epi_ple = np.load(\"../../data/embeddings/paired/gene/Epitope_PLE_padded.npz\")[\"embeddings\"]\n",
    "\n",
    "print(\"Vergleich gespeicherte vs. berechnete PLE-Werte:\")\n",
    "print(epi_ple[0])  # Erste gespeicherte Epitope-Kodierung\n",
    "print(expected_ple)  # Neu berechnete Kodierung"
   ]
  },
  {
   "cell_type": "markdown",
   "id": "178e0eb8-ea00-4176-a7db-59abf3bcb7a5",
   "metadata": {},
   "source": [
    "## Periodische Embeddings"
   ]
  },
  {
   "cell_type": "code",
   "execution_count": null,
   "id": "1b759807-f43b-4267-91df-5d75148296c8",
   "metadata": {},
   "outputs": [],
   "source": []
  },
  {
   "cell_type": "code",
   "execution_count": null,
   "id": "c520ffbf-f961-4790-a01d-7cc8c0ddac6d",
   "metadata": {},
   "outputs": [],
   "source": []
  }
 ],
 "metadata": {
  "kernelspec": {
   "display_name": "Python 3 (ipykernel)",
   "language": "python",
   "name": "python3"
  },
  "language_info": {
   "codemirror_mode": {
    "name": "ipython",
    "version": 3
   },
   "file_extension": ".py",
   "mimetype": "text/x-python",
   "name": "python",
   "nbconvert_exporter": "python",
   "pygments_lexer": "ipython3",
   "version": "3.12.2"
  }
 },
 "nbformat": 4,
 "nbformat_minor": 5
}
