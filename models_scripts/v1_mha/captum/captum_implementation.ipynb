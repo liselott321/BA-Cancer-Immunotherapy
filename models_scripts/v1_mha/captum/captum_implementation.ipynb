{
 "cells": [
  {
   "cell_type": "markdown",
   "id": "13a64cbb",
   "metadata": {},
   "source": [
    "## CAPTUM"
   ]
  },
  {
   "cell_type": "markdown",
   "id": "f69d6d50",
   "metadata": {},
   "source": [
    "### Model v1"
   ]
  },
  {
   "cell_type": "code",
   "execution_count": 1,
   "id": "2a303d96",
   "metadata": {},
   "outputs": [],
   "source": [
    "import torch\n",
    "import torch.nn as nn\n",
    "\n",
    "import pandas as pd\n",
    "import h5py\n",
    "import torch\n",
    "import numpy as np\n",
    "import shap\n",
    "import wandb\n",
    "import os\n",
    "\n",
    "# class ResidualBlock(nn.Module):\n",
    "#     def __init__(self, hidden_dim, dropout):\n",
    "#         super(ResidualBlock, self).__init__()\n",
    "#         self.block = nn.Sequential(\n",
    "#             nn.BatchNorm1d(hidden_dim),\n",
    "#             nn.ReLU(),\n",
    "#             nn.Linear(hidden_dim, hidden_dim),\n",
    "#             nn.BatchNorm1d(hidden_dim),\n",
    "#             nn.ReLU(),\n",
    "#             nn.Dropout(dropout),\n",
    "#             nn.Linear(hidden_dim, hidden_dim)\n",
    "#         )\n",
    "class ResidualBlock(nn.Module):\n",
    "    def __init__(self, hidden_dim, dropout):\n",
    "        super(ResidualBlock, self).__init__()\n",
    "        self.block = nn.Sequential(\n",
    "            nn.LayerNorm(hidden_dim),\n",
    "            nn.ReLU(),\n",
    "            nn.Linear(hidden_dim, hidden_dim),\n",
    "            nn.LayerNorm(hidden_dim),\n",
    "            nn.ReLU(),\n",
    "            nn.Dropout(dropout),\n",
    "            nn.Linear(hidden_dim, hidden_dim)\n",
    "        )\n",
    "\n",
    "    def forward(self, x):\n",
    "        return x + self.block(x)\n",
    "\n",
    "class Classifier(nn.Module):\n",
    "    def __init__(self, input_dim, hidden_dim, dropout):\n",
    "        super(Classifier, self).__init__()\n",
    "        self.model = nn.Sequential(\n",
    "            ResidualBlock(input_dim, dropout),\n",
    "            nn.Linear(input_dim, 1)\n",
    "        )\n",
    "\n",
    "    def forward(self, x):\n",
    "        return self.model(x)\n",
    "\n",
    "class AttentionBlock(nn.Module):\n",
    "    def __init__(self, embed_dim, num_heads, dropout=0.1):\n",
    "        super(AttentionBlock, self).__init__()\n",
    "        self.attn = nn.MultiheadAttention(embed_dim, num_heads, dropout=dropout, batch_first=True)\n",
    "        self.norm1 = nn.LayerNorm(embed_dim)\n",
    "        self.dropout1 = nn.Dropout(dropout)\n",
    "        self.ff = nn.Sequential(\n",
    "            nn.Linear(embed_dim, embed_dim * 4),\n",
    "            nn.ReLU(),\n",
    "            nn.Dropout(dropout),\n",
    "            nn.Linear(embed_dim * 4, embed_dim)\n",
    "        )\n",
    "        self.norm2 = nn.LayerNorm(embed_dim)\n",
    "        self.dropout2 = nn.Dropout(dropout)\n",
    "\n",
    "    def forward(self, x, key_padding_mask=None):\n",
    "        attn_output, _ = self.attn(x, x, x, key_padding_mask=key_padding_mask)\n",
    "        x = self.norm1(x + self.dropout1(attn_output))\n",
    "        ff_output = self.ff(x)\n",
    "        x = self.norm2(x + self.dropout2(ff_output))\n",
    "        return x\n",
    "\n",
    "class LazyTCR_Epitope_Dataset(torch.utils.data.Dataset):\n",
    "    def __init__(self, data_frame, tcr_embeddings, epitope_embeddings):\n",
    "        \"\"\"\n",
    "        Args:\n",
    "            data_frame (DataFrame): The DataFrame containing sample data.\n",
    "            tcr_embeddings (h5py.File): HDF5 file containing TCR embeddings.\n",
    "            epitope_embeddings (h5py.File): HDF5 file containing epitope embeddings.\n",
    "        \"\"\"\n",
    "        self.data_frame = data_frame\n",
    "        self.tcr_embeddings = tcr_embeddings\n",
    "        self.epitope_embeddings = epitope_embeddings\n",
    "\n",
    "    def __len__(self):\n",
    "        return len(self.data_frame)\n",
    "\n",
    "    def __getitem__(self, idx):\n",
    "        sample = self.data_frame.iloc[idx]\n",
    "        tcr_id = sample['TRB_CDR3']  # Column name for TCR IDs\n",
    "        epitope_id = sample['Epitope']  # Column name for epitope IDs\n",
    "        label = sample['Binding']  # Target label\n",
    "\n",
    "        # Access embeddings lazily\n",
    "        tcr_embedding = self.tcr_embeddings[tcr_id][:]\n",
    "        epitope_embedding = self.epitope_embeddings[epitope_id][:]\n",
    "\n",
    "        return (\n",
    "            torch.tensor(tcr_embedding, dtype=torch.float32),\n",
    "            torch.tensor(epitope_embedding, dtype=torch.float32),\n",
    "            torch.tensor(label, dtype=torch.float32),\n",
    "        )\n",
    "\n",
    "class TCR_Epitope_Transformer(nn.Module):\n",
    "    def __init__(self, embed_dim=128, num_heads=4, num_layers=2, max_tcr_length=43, \n",
    "    max_epitope_length=43, dropout=0.1, classifier_hidden_dim=64):\n",
    "        super(TCR_Epitope_Transformer, self).__init__()\n",
    "        self.embed_dim = embed_dim\n",
    "        self.tcr_embedding = nn.Linear(1024, embed_dim)\n",
    "        self.epitope_embedding = nn.Linear(1024, embed_dim)\n",
    "\n",
    "        self.tcr_positional_encoding = nn.Parameter(torch.randn(1, max_tcr_length, embed_dim))\n",
    "        self.epitope_positional_encoding = nn.Parameter(torch.randn(1, max_epitope_length, embed_dim))\n",
    "\n",
    "        self.transformer_layers = nn.ModuleList([\n",
    "            AttentionBlock(embed_dim, num_heads, dropout) for _ in range(num_layers)\n",
    "        ])\n",
    "        self.classifier_input_dim = (max_tcr_length + max_epitope_length) * embed_dim\n",
    "\n",
    "        self.classifier = Classifier(self.classifier_input_dim, classifier_hidden_dim, dropout)\n",
    "\n",
    "    def forward(self, tcr, epitope):\n",
    "        tcr_emb = self.tcr_embedding(tcr)\n",
    "        epitope_emb = self.epitope_embedding(epitope)\n",
    "\n",
    "        # Create masks\n",
    "        tcr_mask = (tcr.sum(dim=-1) == 0)\n",
    "        epitope_mask = (epitope.sum(dim=-1) == 0)\n",
    "\n",
    "        # Add positional encoding\n",
    "        tcr_emb += self.tcr_positional_encoding[:, :tcr_emb.size(1), :]\n",
    "        epitope_emb += self.epitope_positional_encoding[:, :epitope_emb.size(1), :]\n",
    "\n",
    "        # Concatenate sequence and mask\n",
    "        combined = torch.cat([tcr_emb, epitope_emb], dim=1)\n",
    "        key_padding_mask = torch.cat([tcr_mask, epitope_mask], dim=1)\n",
    "\n",
    "        for layer in self.transformer_layers:\n",
    "            combined = layer(combined, key_padding_mask=key_padding_mask)\n",
    "\n",
    "        flattened = combined.view(combined.size(0), -1)  \n",
    "\n",
    "        output = self.classifier(flattened).squeeze(1)\n",
    "        return output"
   ]
  },
  {
   "cell_type": "code",
   "execution_count": 10,
   "id": "cf41d9db",
   "metadata": {},
   "outputs": [
    {
     "name": "stdout",
     "output_type": "stream",
     "text": [
      "TCR Embedding shape: torch.Size([43, 1024])\n",
      "Epitope Embedding shape: torch.Size([43, 1024])\n",
      "Label: tensor(1.)\n"
     ]
    }
   ],
   "source": [
    "\n",
    "# ---------------- Load Data ----------------\n",
    "\n",
    "device = torch.device(\"cuda\" if torch.cuda.is_available() else \"cpu\")\n",
    "\n",
    "train_path = \"../../../../../data/splitted_datasets/allele/beta/train.tsv\"\n",
    "train_epi_emb_path = \"../../../../../data/embeddings/beta/allele/dimension_1024/padded_train_epitope_embeddings_final.h5\"\n",
    "train_tcr_emb_path = \"../../../../../data/embeddings/beta/allele/dimension_1024/padded_train_tcr_embeddings_final.h5\"\n",
    "\n",
    "train_df = pd.read_csv(train_path, sep='\\t')\n",
    "binding_samples = train_df[train_df['Binding'] == 1].sample(4, random_state=42)\n",
    "non_binding_samples = train_df[train_df['Binding'] == 0].sample(4, random_state=42)\n",
    "selected_samples = pd.concat([binding_samples, non_binding_samples])\n",
    "selected_tcrs = selected_samples['TRB_CDR3'].tolist()\n",
    "selected_epitopes = selected_samples['Epitope'].tolist()\n",
    "\n",
    "def load_embeddings(h5_path, keys):\n",
    "    embeddings = []\n",
    "    with h5py.File(h5_path, 'r') as f:\n",
    "        for key in keys:\n",
    "            if key in f:\n",
    "                embeddings.append(f[key][:])\n",
    "            else:\n",
    "                raise ValueError(f\"Key '{key}' not found in {h5_path}\")\n",
    "    return np.stack(embeddings)\n",
    "\n",
    "tcr_embeddings = load_embeddings(train_tcr_emb_path, selected_tcrs)\n",
    "epi_embeddings = load_embeddings(train_epi_emb_path, selected_epitopes)\n",
    "# tcr_embeddings = torch.from_numpy(tcr_embeddings).float()\n",
    "# epi_embeddings = torch.from_numpy(epi_embeddings).float()\n",
    "\n",
    "class InMemoryTCR_Epitope_Dataset(torch.utils.data.Dataset):\n",
    "    def __init__(self, data_frame, tcr_embeddings, epitope_embeddings):\n",
    "        self.data_frame = data_frame.reset_index(drop=True)\n",
    "        self.tcr_embeddings = tcr_embeddings\n",
    "        self.epitope_embeddings = epitope_embeddings\n",
    "\n",
    "    def __len__(self):\n",
    "        return len(self.data_frame)\n",
    "\n",
    "    def __getitem__(self, idx):\n",
    "        sample = self.data_frame.iloc[idx]\n",
    "        return (\n",
    "            torch.tensor(self.tcr_embeddings[idx], dtype=torch.float32),\n",
    "            torch.tensor(self.epitope_embeddings[idx], dtype=torch.float32),\n",
    "            torch.tensor(sample['Binding'], dtype=torch.float32),\n",
    "        )\n",
    "dataset = InMemoryTCR_Epitope_Dataset(selected_samples, tcr_embeddings, epi_embeddings)\n",
    "\n",
    "\n",
    "# ---------------- adjustment ------------------\n",
    "\n",
    "\n",
    "# # Create dataset\n",
    "# dataset = LazyTCR_Epitope_Dataset(train_df, tcr_embeddings, epi_embeddings)\n",
    "\n",
    "# # Optional: create a DataLoader\n",
    "# batch_size = 128\n",
    "# dataloader = DataLoader(dataset, batch_size=batch_size, shuffle=True)\n",
    "\n",
    "# Quick sanity check\n",
    "sample_tcr, sample_epitope, sample_label = dataset[0]\n",
    "print(\"TCR Embedding shape:\", sample_tcr.shape)\n",
    "print(\"Epitope Embedding shape:\", sample_epitope.shape)\n",
    "print(\"Label:\", sample_label)\n",
    "\n",
    "# ------------------- until here -----------------\n",
    "\n",
    "# dataset = list(zip(tcr_embeddings, epi_embeddings))\n",
    "\n",
    "# background_tcr = torch.stack([dataset[i][0] for i in range(50)]).to(device)\n",
    "# background_epitope = torch.stack([dataset[i][1] for i in range(50)]).to(device)\n"
   ]
  },
  {
   "cell_type": "code",
   "execution_count": 2,
   "id": "b481393d",
   "metadata": {},
   "outputs": [
    {
     "name": "stderr",
     "output_type": "stream",
     "text": [
      "\u001b[34m\u001b[1mwandb\u001b[0m: Using wandb-core as the SDK backend.  Please refer to https://wandb.me/wandb-core for more information.\n",
      "\u001b[34m\u001b[1mwandb\u001b[0m: Currently logged in as: \u001b[33marina-frohofer\u001b[0m (\u001b[33mba_cancerimmunotherapy\u001b[0m). Use \u001b[1m`wandb login --relogin`\u001b[0m to force relogin\n"
     ]
    },
    {
     "data": {
      "text/html": [
       "Tracking run with wandb version 0.18.7"
      ],
      "text/plain": [
       "<IPython.core.display.HTML object>"
      ]
     },
     "metadata": {},
     "output_type": "display_data"
    },
    {
     "data": {
      "text/html": [
       "Run data is saved locally in <code>/home/ubuntu/oscar/BA-Cancer-Immunotherapy/models_scripts/v1_mha/captum/wandb/run-20250426_141935-bryxf5tr</code>"
      ],
      "text/plain": [
       "<IPython.core.display.HTML object>"
      ]
     },
     "metadata": {},
     "output_type": "display_data"
    },
    {
     "data": {
      "text/html": [
       "Syncing run <strong><a href='https://wandb.ai/ba_cancerimmunotherapy/BA-Cancer-Immunotherapy-models_scripts_v1_mha_captum/runs/bryxf5tr' target=\"_blank\">rosy-terrain-1</a></strong> to <a href='https://wandb.ai/ba_cancerimmunotherapy/BA-Cancer-Immunotherapy-models_scripts_v1_mha_captum' target=\"_blank\">Weights & Biases</a> (<a href='https://wandb.me/developer-guide' target=\"_blank\">docs</a>)<br/>"
      ],
      "text/plain": [
       "<IPython.core.display.HTML object>"
      ]
     },
     "metadata": {},
     "output_type": "display_data"
    },
    {
     "data": {
      "text/html": [
       " View project at <a href='https://wandb.ai/ba_cancerimmunotherapy/BA-Cancer-Immunotherapy-models_scripts_v1_mha_captum' target=\"_blank\">https://wandb.ai/ba_cancerimmunotherapy/BA-Cancer-Immunotherapy-models_scripts_v1_mha_captum</a>"
      ],
      "text/plain": [
       "<IPython.core.display.HTML object>"
      ]
     },
     "metadata": {},
     "output_type": "display_data"
    },
    {
     "data": {
      "text/html": [
       " View run at <a href='https://wandb.ai/ba_cancerimmunotherapy/BA-Cancer-Immunotherapy-models_scripts_v1_mha_captum/runs/bryxf5tr' target=\"_blank\">https://wandb.ai/ba_cancerimmunotherapy/BA-Cancer-Immunotherapy-models_scripts_v1_mha_captum/runs/bryxf5tr</a>"
      ],
      "text/plain": [
       "<IPython.core.display.HTML object>"
      ]
     },
     "metadata": {},
     "output_type": "display_data"
    },
    {
     "name": "stderr",
     "output_type": "stream",
     "text": [
      "\u001b[34m\u001b[1mwandb\u001b[0m: Downloading large artifact Run_v1_mha_1024_shap_model:v0, 926.60MB. 1 files... \n",
      "\u001b[34m\u001b[1mwandb\u001b[0m:   1 of 1 files downloaded.  \n",
      "Done. 0:0:5.9\n"
     ]
    }
   ],
   "source": [
    "# ---------------- Load Model ---------------- to be updated!!!\n",
    "\n",
    "run = wandb.init()\n",
    "artifact = run.use_artifact('ba_cancerimmunotherapy/dataset-allele/Run_v1_mha_1024_shap_model:v0', type='model')\n",
    "artifact_dir = artifact.download()\n",
    "model_file = os.path.join(artifact_dir, os.listdir(artifact_dir)[0])"
   ]
  },
  {
   "cell_type": "code",
   "execution_count": 4,
   "id": "f84e2d43",
   "metadata": {},
   "outputs": [
    {
     "name": "stderr",
     "output_type": "stream",
     "text": [
      "/tmp/ipykernel_131648/11261735.py:12: FutureWarning: You are using `torch.load` with `weights_only=False` (the current default value), which uses the default pickle module implicitly. It is possible to construct malicious pickle data which will execute arbitrary code during unpickling (See https://github.com/pytorch/pytorch/blob/main/SECURITY.md#untrusted-models for more details). In a future release, the default value for `weights_only` will be flipped to `True`. This limits the functions that could be executed during unpickling. Arbitrary objects will no longer be allowed to be loaded via this mode unless they are explicitly allowlisted by the user via `torch.serialization.add_safe_globals`. We recommend you start setting `weights_only=True` for any use case where you don't have full control of the loaded file. Please open an issue on GitHub for any issues related to this experimental feature.\n",
      "  model.load_state_dict(torch.load(model_file, map_location=device))\n"
     ]
    },
    {
     "data": {
      "text/plain": [
       "TCR_Epitope_Transformer(\n",
       "  (tcr_embedding): Linear(in_features=1024, out_features=128, bias=True)\n",
       "  (epitope_embedding): Linear(in_features=1024, out_features=128, bias=True)\n",
       "  (transformer_layers): ModuleList(\n",
       "    (0): AttentionBlock(\n",
       "      (attn): MultiheadAttention(\n",
       "        (out_proj): NonDynamicallyQuantizableLinear(in_features=128, out_features=128, bias=True)\n",
       "      )\n",
       "      (norm1): LayerNorm((128,), eps=1e-05, elementwise_affine=True)\n",
       "      (dropout1): Dropout(p=0.125, inplace=False)\n",
       "      (ff): Sequential(\n",
       "        (0): Linear(in_features=128, out_features=512, bias=True)\n",
       "        (1): ReLU()\n",
       "        (2): Dropout(p=0.125, inplace=False)\n",
       "        (3): Linear(in_features=512, out_features=128, bias=True)\n",
       "      )\n",
       "      (norm2): LayerNorm((128,), eps=1e-05, elementwise_affine=True)\n",
       "      (dropout2): Dropout(p=0.125, inplace=False)\n",
       "    )\n",
       "  )\n",
       "  (classifier): Classifier(\n",
       "    (model): Sequential(\n",
       "      (0): ResidualBlock(\n",
       "        (block): Sequential(\n",
       "          (0): LayerNorm((11008,), eps=1e-05, elementwise_affine=True)\n",
       "          (1): ReLU()\n",
       "          (2): Linear(in_features=11008, out_features=11008, bias=True)\n",
       "          (3): LayerNorm((11008,), eps=1e-05, elementwise_affine=True)\n",
       "          (4): ReLU()\n",
       "          (5): Dropout(p=0.125, inplace=False)\n",
       "          (6): Linear(in_features=11008, out_features=11008, bias=True)\n",
       "        )\n",
       "      )\n",
       "      (1): Linear(in_features=11008, out_features=1, bias=True)\n",
       "    )\n",
       "  )\n",
       ")"
      ]
     },
     "execution_count": 4,
     "metadata": {},
     "output_type": "execute_result"
    }
   ],
   "source": [
    "device = torch.device(\"cuda\" if torch.cuda.is_available() else \"cpu\")\n",
    "\n",
    "model = TCR_Epitope_Transformer(\n",
    "    embed_dim=128, \n",
    "    num_heads=4, \n",
    "    num_layers=1, \n",
    "    dropout=0.125, \n",
    "    max_tcr_length=43, \n",
    "    max_epitope_length=43, \n",
    "    classifier_hidden_dim=64\n",
    ").to(device)\n",
    "model.load_state_dict(torch.load(model_file, map_location=device))\n",
    "model.eval()\n"
   ]
  },
  {
   "cell_type": "code",
   "execution_count": 5,
   "id": "8b997e8a",
   "metadata": {},
   "outputs": [],
   "source": [
    "import torch\n",
    "from captum.attr import IntegratedGradients\n",
    "\n",
    "# # Suppose you already have your trained model\n",
    "# model.eval()\n",
    "\n",
    "# Example batch (adjust shape as needed)\n",
    "tcr_batch = torch.randn((4, 43, 1024))      # (batch_size, seq_len, embedding_dim)\n",
    "epitope_batch = torch.randn((4, 43, 1024))\n",
    "\n",
    "# Move to correct device\n",
    "device = torch.device(\"cuda\" if torch.cuda.is_available() else \"cpu\")\n",
    "model = model.to(device)\n",
    "tcr_batch = tcr_batch.to(device)\n",
    "epitope_batch = epitope_batch.to(device)\n"
   ]
  },
  {
   "cell_type": "code",
   "execution_count": 12,
   "id": "fe3c9fe8",
   "metadata": {},
   "outputs": [],
   "source": [
    "# Convert to tensors\n",
    "tcr_batch = torch.tensor(tcr_embeddings, dtype=torch.float32)\n",
    "epitope_batch = torch.tensor(epi_embeddings, dtype=torch.float32)\n",
    "\n",
    "tcr_batch = tcr_batch.to(device)\n",
    "epitope_batch = epitope_batch.to(device)"
   ]
  },
  {
   "cell_type": "code",
   "execution_count": 6,
   "id": "0e9aac5e",
   "metadata": {},
   "outputs": [],
   "source": [
    "class ModelWrapper(torch.nn.Module):\n",
    "    def __init__(self, model):\n",
    "        super(ModelWrapper, self).__init__()\n",
    "        self.model = model\n",
    "\n",
    "    def forward(self, inputs):\n",
    "        # inputs shape: (batch, 2, seq_len, embedding_dim)\n",
    "        tcr = inputs[:, 0, :, :]\n",
    "        epitope = inputs[:, 1, :, :]\n",
    "        return self.model(tcr, epitope)\n",
    "        \n",
    "wrapped_model = ModelWrapper(model)\n"
   ]
  },
  {
   "cell_type": "code",
   "execution_count": 13,
   "id": "b975201d",
   "metadata": {},
   "outputs": [],
   "source": [
    "# Stack TCR and Epitope together for Captum\n",
    "inputs = torch.stack([tcr_batch, epitope_batch], dim=1)  # (batch_size, 2, seq_len, embedding_dim)\n",
    "\n",
    "# You can pick a single sample for easier debugging\n",
    "input_sample = inputs[0:1]\n"
   ]
  },
  {
   "cell_type": "code",
   "execution_count": 14,
   "id": "10cbbfcc",
   "metadata": {},
   "outputs": [
    {
     "name": "stdout",
     "output_type": "stream",
     "text": [
      "Attributions shape: torch.Size([1, 2, 43, 1024])\n",
      "Convergence delta: tensor([nan], device='cuda:0')\n"
     ]
    }
   ],
   "source": [
    "# Initialize Integrated Gradients\n",
    "ig = IntegratedGradients(wrapped_model)\n",
    "\n",
    "# Compute attributions\n",
    "attributions, delta = ig.attribute(\n",
    "    input_sample,\n",
    "    target=None,    # Assuming binary output; if multiclass, specify target class\n",
    "    return_convergence_delta=True,\n",
    "    n_steps=50\n",
    ")\n",
    "\n",
    "print(\"Attributions shape:\", attributions.shape)\n",
    "print(\"Convergence delta:\", delta)\n"
   ]
  },
  {
   "cell_type": "code",
   "execution_count": 15,
   "id": "08d8b804",
   "metadata": {},
   "outputs": [
    {
     "data": {
      "image/png": "[encoded data removed]",
      "text/plain": [
       "<Figure size 1200x500 with 2 Axes>"
      ]
     },
     "metadata": {},
     "output_type": "display_data"
    }
   ],
   "source": [
    "import matplotlib.pyplot as plt\n",
    "\n",
    "# Split TCR and Epitope attributions\n",
    "tcr_attr = attributions[:, 0, :, :].squeeze(0)      # (seq_len, embed_dim)\n",
    "epitope_attr = attributions[:, 1, :, :].squeeze(0)\n",
    "\n",
    "# Sum absolute attributions over embedding dimension\n",
    "tcr_importance = tcr_attr.abs().sum(dim=-1).detach().cpu().numpy()\n",
    "epitope_importance = epitope_attr.abs().sum(dim=-1).detach().cpu().numpy()\n",
    "\n",
    "# Plot\n",
    "plt.figure(figsize=(12, 5))\n",
    "plt.subplot(1, 2, 1)\n",
    "plt.plot(tcr_importance)\n",
    "plt.title(\"TCR Position Importance\")\n",
    "\n",
    "plt.subplot(1, 2, 2)\n",
    "plt.plot(epitope_importance)\n",
    "plt.title(\"Epitope Position Importance\")\n",
    "\n",
    "plt.show()\n"
   ]
  },
  {
   "cell_type": "code",
   "execution_count": null,
   "id": "f0ec884c",
   "metadata": {},
   "outputs": [],
   "source": []
  },
  {
   "cell_type": "code",
   "execution_count": null,
   "id": "677e037b",
   "metadata": {},
   "outputs": [],
   "source": []
  },
  {
   "cell_type": "markdown",
   "id": "dfabe007",
   "metadata": {},
   "source": [
    "## Captum on v2-model"
   ]
  },
  {
   "cell_type": "markdown",
   "id": "2e414290",
   "metadata": {},
   "source": [
    "#### v2_mha_1024_res_more_features"
   ]
  },
  {
   "cell_type": "code",
   "execution_count": 1,
   "id": "56c79297",
   "metadata": {},
   "outputs": [],
   "source": [
    "import torch\n",
    "import torch.nn as nn\n",
    "from torch.utils.data import Dataset\n",
    "\n",
    "import pandas as pd\n",
    "import h5py\n",
    "import torch\n",
    "import numpy as np\n",
    "import shap\n",
    "import wandb\n",
    "import os\n",
    "\n",
    "class ResidualBlock(nn.Module):\n",
    "    def __init__(self, hidden_dim, dropout):\n",
    "        super(ResidualBlock, self).__init__()\n",
    "        self.block = nn.Sequential(\n",
    "            nn.BatchNorm1d(hidden_dim),\n",
    "            nn.ReLU(),\n",
    "            nn.Linear(hidden_dim, hidden_dim),\n",
    "            nn.BatchNorm1d(hidden_dim),\n",
    "            nn.ReLU(),\n",
    "            nn.Dropout(dropout), # - Nochmals prüfen, ob wirklich notwendig vlt auslassen  \n",
    "            nn.Linear(hidden_dim, hidden_dim)\n",
    "        )\n",
    "\n",
    "    def forward(self, x):\n",
    "        return x + self.block(x)\n",
    "\n",
    "\n",
    "class Classifier(nn.Module):\n",
    "    def __init__(self, input_dim, hidden_dim, dropout):\n",
    "        super(Classifier, self).__init__()\n",
    "        self.model = nn.Sequential(\n",
    "            #nn.Linear(input_dim, hidden_dim),\n",
    "            #nn.BatchNorm1d(hidden_dim),\n",
    "            #nn.ReLU(),\n",
    "            #nn.Dropout(dropout),\n",
    "            ResidualBlock(input_dim, dropout),\n",
    "            nn.Linear(input_dim, 1)\n",
    "        )\n",
    "\n",
    "    def forward(self, x):\n",
    "        return self.model(x)\n",
    "\n",
    "class AttentionBlock(nn.Module):\n",
    "    def __init__(self, embed_dim, num_heads, dropout=0.1):\n",
    "        super(AttentionBlock, self).__init__()\n",
    "        self.attn = nn.MultiheadAttention(embed_dim, num_heads, dropout=dropout, batch_first=True)\n",
    "        self.norm1 = nn.LayerNorm(embed_dim)\n",
    "        self.dropout1 = nn.Dropout(dropout) # Im Transformer Dropout ohne versuchen / Sequentiell ja () Anders Paper noch - wie sie es gmacht haben im AB \n",
    "        self.ff = nn.Sequential(\n",
    "            nn.Linear(embed_dim, embed_dim * 4),\n",
    "            nn.ReLU(),\n",
    "            nn.Dropout(dropout), \n",
    "            nn.Linear(embed_dim * 4, embed_dim)\n",
    "        )\n",
    "        self.norm2 = nn.LayerNorm(embed_dim)\n",
    "        self.dropout2 = nn.Dropout(dropout)\n",
    "\n",
    "    def forward(self, x, key_padding_mask=None):\n",
    "        attn_output, _ = self.attn(x, x, x, key_padding_mask=key_padding_mask)\n",
    "        x = self.norm1(x + self.dropout1(attn_output))\n",
    "        ff_output = self.ff(x)\n",
    "        x = self.norm2(x + self.dropout2(ff_output))\n",
    "        return x\n",
    "\n",
    "# class LazyTCR_Epitope_Dataset(torch.utils.data.Dataset):\n",
    "#     def __init__(self, data_frame, tcr_embeddings, epitope_embeddings,\n",
    "#                  trbv_dict, trbj_dict, mhc_dict):\n",
    "#         self.data_frame = data_frame\n",
    "#         self.tcr_embeddings = tcr_embeddings\n",
    "#         self.epitope_embeddings = epitope_embeddings\n",
    "\n",
    "#         # Dictionary-Zuweisung\n",
    "#         self.trbv_dict = trbv_dict\n",
    "#         self.trbj_dict = trbj_dict\n",
    "#         self.mhc_dict = mhc_dict\n",
    "\n",
    "#         # Berechne UNKNOWN-Indices\n",
    "#         self.unknown_trbv_idx = len(trbv_dict)\n",
    "#         self.unknown_trbj_idx = len(trbj_dict)\n",
    "#         self.unknown_mhc_idx = len(mhc_dict)\n",
    "\n",
    "#         self.data_frame[\"TRBV_Index\"] = data_frame[\"TRBV\"].map(trbv_dict).fillna(self.unknown_trbv_idx).astype(int)\n",
    "#         self.data_frame[\"TRBJ_Index\"] = data_frame[\"TRBJ\"].map(trbj_dict).fillna(self.unknown_trbj_idx).astype(int)\n",
    "#         self.data_frame[\"MHC_Index\"] = data_frame[\"MHC\"].map(mhc_dict).fillna(self.unknown_mhc_idx).astype(int)\n",
    "\n",
    "#         # Sicherheit\n",
    "#         assert self.data_frame[\"TRBV_Index\"].max() < (self.unknown_trbv_idx + 1), \"TRBV_Index out of range!\"\n",
    "#         assert self.data_frame[\"TRBJ_Index\"].max() < (self.unknown_trbj_idx + 1), \"TRBJ_Index out of range!\"\n",
    "#         assert self.data_frame[\"MHC_Index\"].max() < (self.unknown_mhc_idx + 1), \"MHC_Index out of range!\"\n",
    "\n",
    "\n",
    "#     def __getitem__(self, idx):\n",
    "#         sample = self.data_frame.iloc[idx]\n",
    "#         tcr_id = sample[\"TRB_CDR3\"]\n",
    "#         epitope_id = sample[\"Epitope\"]\n",
    "#         label = sample[\"Binding\"]\n",
    "\n",
    "#         tcr_embedding = self.tcr_embeddings[tcr_id][:]\n",
    "#         epitope_embedding = self.epitope_embeddings[epitope_id][:]\n",
    "\n",
    "#         return (\n",
    "#             torch.tensor(tcr_embedding, dtype=torch.float32),\n",
    "#             torch.tensor(epitope_embedding, dtype=torch.float32),\n",
    "#             torch.tensor(sample[\"TRBV_Index\"], dtype=torch.long),\n",
    "#             torch.tensor(sample[\"TRBJ_Index\"], dtype=torch.long),\n",
    "#             torch.tensor(sample[\"MHC_Index\"], dtype=torch.long),\n",
    "#             torch.tensor(label, dtype=torch.float32)\n",
    "#         )\n",
    "\n",
    "#     def __len__(self):\n",
    "#         return len(self.data_frame)\n",
    "\n",
    "\n",
    "class LazyTCR_Epitope_Dataset(Dataset):\n",
    "    def __init__(self, data_frame, tcr_embeddings, epitope_embeddings, trbv_dict, trbj_dict, mhc_dict):\n",
    "        \"\"\"\n",
    "        Args:\n",
    "            data_frame (pd.DataFrame): The dataframe containing sample metadata.\n",
    "            tcr_embeddings (np.array): TCR embeddings (ordered).\n",
    "            epitope_embeddings (np.array): Epitope embeddings (ordered).\n",
    "            trbv_dict (dict): Mapping from TRBV genes to indices.\n",
    "            trbj_dict (dict): Mapping from TRBJ genes to indices.\n",
    "            mhc_dict (dict): Mapping from MHC alleles to indices.\n",
    "        \"\"\"\n",
    "        self.data_frame = data_frame.reset_index(drop=True)\n",
    "\n",
    "        # Build mapping from ID to embedding\n",
    "        self.tcr_embeddings = {tcr_id: emb for tcr_id, emb in zip(data_frame[\"TRB_CDR3\"], tcr_embeddings)}\n",
    "        self.epitope_embeddings = {epi_id: emb for epi_id, emb in zip(data_frame[\"Epitope\"], epitope_embeddings)}\n",
    "\n",
    "        self.trbv_dict = trbv_dict\n",
    "        self.trbj_dict = trbj_dict\n",
    "        self.mhc_dict  = mhc_dict\n",
    "\n",
    "        # Define unknown indices\n",
    "        self.unknown_trbv_idx = len(trbv_dict)\n",
    "        self.unknown_trbj_idx = len(trbj_dict)\n",
    "        self.unknown_mhc_idx  = len(mhc_dict)\n",
    "\n",
    "    def __len__(self):\n",
    "        return len(self.data_frame)\n",
    "\n",
    "    def __getitem__(self, idx):\n",
    "        sample = self.data_frame.iloc[idx]\n",
    "\n",
    "        tcr_id = sample[\"TRB_CDR3\"]\n",
    "        epitope_id = sample[\"Epitope\"]\n",
    "        label = sample[\"Binding\"]\n",
    "\n",
    "        # Get embeddings safely\n",
    "        try:\n",
    "            tcr_embedding = self.tcr_embeddings[tcr_id]\n",
    "        except KeyError:\n",
    "            raise ValueError(f\"TCR ID {tcr_id} not found in tcr_embeddings dictionary.\")\n",
    "        \n",
    "        try:\n",
    "            epitope_embedding = self.epitope_embeddings[epitope_id]\n",
    "        except KeyError:\n",
    "            raise ValueError(f\"Epitope ID {epitope_id} not found in epitope_embeddings dictionary.\")\n",
    "\n",
    "        # Map TRBV, TRBJ, MHC to index, default to unknown\n",
    "        trbv_idx = self.trbv_dict.get(sample[\"TRBV\"], self.unknown_trbv_idx)\n",
    "        trbj_idx = self.trbj_dict.get(sample[\"TRBJ\"], self.unknown_trbj_idx)\n",
    "        mhc_idx  = self.mhc_dict.get(sample[\"MHC\"],  self.unknown_mhc_idx)\n",
    "\n",
    "        return (\n",
    "            torch.tensor(tcr_embedding, dtype=torch.float32),\n",
    "            torch.tensor(epitope_embedding, dtype=torch.float32),\n",
    "            torch.tensor(trbv_idx, dtype=torch.long).unsqueeze(0),  # Embedding layers expect (batch, 1)\n",
    "            torch.tensor(trbj_idx, dtype=torch.long).unsqueeze(0),\n",
    "            torch.tensor(mhc_idx, dtype=torch.long).unsqueeze(0),\n",
    "            torch.tensor(label, dtype=torch.float32)\n",
    "        )\n",
    "\n",
    "\n",
    "class TCR_Epitope_Transformer(nn.Module):\n",
    "    def __init__(self, embed_dim=128, num_heads=4, num_layers=2, max_tcr_length=20, max_epitope_length=15,\n",
    "             dropout=0.1, classifier_hidden_dim=64,\n",
    "             trbv_vocab_size=50, trbj_vocab_size=20, mhc_vocab_size=100):\n",
    "        super(TCR_Epitope_Transformer, self).__init__()\n",
    "        self.embed_dim = embed_dim\n",
    "        self.tcr_embedding = nn.Linear(1024, embed_dim)\n",
    "        self.epitope_embedding = nn.Linear(1024, embed_dim)\n",
    "        self.trbv_embed = nn.Embedding(trbv_vocab_size, embed_dim, padding_idx=trbv_vocab_size - 1)\n",
    "        self.trbj_embed = nn.Embedding(trbj_vocab_size, embed_dim, padding_idx=trbj_vocab_size - 1)\n",
    "        self.mhc_embed  = nn.Embedding(mhc_vocab_size,  embed_dim, padding_idx=mhc_vocab_size - 1)\n",
    "\n",
    "        self.tcr_positional_encoding = nn.Parameter(torch.randn(1, max_tcr_length, embed_dim))\n",
    "        self.epitope_positional_encoding = nn.Parameter(torch.randn(1, max_epitope_length, embed_dim))\n",
    "\n",
    "        self.transformer_layers = nn.ModuleList([\n",
    "            AttentionBlock(embed_dim, num_heads, dropout) for _ in range(num_layers)\n",
    "        ])\n",
    "\n",
    "        #self.classifier_input_dim = 11392 \n",
    "        self.classifier_input_dim = (max_tcr_length + max_epitope_length) * embed_dim + 3 * embed_dim\n",
    "\n",
    "        self.classifier = Classifier(self.classifier_input_dim, classifier_hidden_dim, dropout)\n",
    "\n",
    "\n",
    "    def forward(self, tcr, epitope, trbv, trbj, mhc):\n",
    "        tcr_emb = self.tcr_embedding(tcr)\n",
    "        epitope_emb = self.epitope_embedding(epitope)\n",
    "        trbv_embed = self.trbv_embed(trbv).squeeze(1)\n",
    "        trbj_embed = self.trbj_embed(trbj).squeeze(1)\n",
    "        mhc_embed = self.mhc_embed(mhc).squeeze(1)\n",
    "\n",
    "        # Create masks\n",
    "        tcr_mask = (tcr.sum(dim=-1) == 0)\n",
    "        epitope_mask = (epitope.sum(dim=-1) == 0)\n",
    "\n",
    "        # Add positional encoding\n",
    "        tcr_emb += self.tcr_positional_encoding[:, :tcr_emb.size(1), :]\n",
    "        epitope_emb += self.epitope_positional_encoding[:, :epitope_emb.size(1), :]\n",
    "\n",
    "        # Concatenate sequence and mask\n",
    "        combined = torch.cat([tcr_emb, epitope_emb], dim=1)\n",
    "        key_padding_mask = torch.cat([tcr_mask, epitope_mask], dim=1)\n",
    "\n",
    "        for layer in self.transformer_layers:\n",
    "            combined = layer(combined, key_padding_mask=key_padding_mask)\n",
    "\n",
    "        # Flatten the combined sequences + embeddings\n",
    "        flattened = combined.view(combined.size(0), -1)\n",
    "\n",
    "        # Alle Merkmale (TCR, Epitope, MHC, TRBV, TRBJ) für den Klassifikator zusammenführen\n",
    "        combined_features = torch.cat([flattened, trbv_embed, trbj_embed, mhc_embed], dim=1)\n",
    "\n",
    "        output = self.classifier(combined_features).squeeze(1)\n",
    "        return output"
   ]
  },
  {
   "cell_type": "code",
   "execution_count": 2,
   "id": "df71ee15",
   "metadata": {},
   "outputs": [],
   "source": [
    "import torch.nn as nn\n",
    "\n",
    "class ModelWrapper(nn.Module):\n",
    "    def __init__(self, model):\n",
    "        super(ModelWrapper, self).__init__()\n",
    "        self.model = model\n",
    "\n",
    "    def forward(self, tcr, epitope, trbv, trbj, mhc):\n",
    "        return self.model(tcr, epitope, trbv, trbj, mhc)\n"
   ]
  },
  {
   "cell_type": "code",
   "execution_count": 3,
   "id": "12dc04ed",
   "metadata": {},
   "outputs": [
    {
     "name": "stderr",
     "output_type": "stream",
     "text": [
      "/tmp/ipykernel_33008/1340836317.py:12: DtypeWarning: Columns (7) have mixed types. Specify dtype option on import or set low_memory=False.\n",
      "  valid_df = pd.read_csv(valid_path, sep='\\t')\n"
     ]
    }
   ],
   "source": [
    "\n",
    "# ---------------- Load Data ----------------\n",
    "\n",
    "device = torch.device(\"cuda\" if torch.cuda.is_available() else \"cpu\")\n",
    "\n",
    "train_path = \"../../../../../data/splitted_datasets/allele/beta/train.tsv\"\n",
    "valid_path = \"../../../../../data/splitted_datasets/allele/beta/validation.tsv\"\n",
    "\n",
    "train_epi_emb_path = \"../../../../../data/embeddings/beta/allele/dimension_1024/padded_train_epitope_embeddings_final.h5\"\n",
    "train_tcr_emb_path = \"../../../../../data/embeddings/beta/allele/dimension_1024/padded_train_tcr_embeddings_final.h5\"\n",
    "\n",
    "train_df = pd.read_csv(train_path, sep='\\t')\n",
    "valid_df = pd.read_csv(valid_path, sep='\\t')\n",
    "\n",
    "# load an amount n*2 of samples (n positives, n negatives)\n",
    "n_samples = 4\n",
    "binding_samples = train_df[train_df['Binding'] == 1].sample(n_samples, random_state=42)\n",
    "non_binding_samples = train_df[train_df['Binding'] == 0].sample(n_samples, random_state=42)\n",
    "selected_samples = pd.concat([binding_samples, non_binding_samples])\n",
    "selected_tcrs = selected_samples['TRB_CDR3'].tolist()\n",
    "selected_epitopes = selected_samples['Epitope'].tolist()\n",
    "\n",
    "def load_embeddings(h5_path, keys):\n",
    "    embeddings = []\n",
    "    with h5py.File(h5_path, 'r') as f:\n",
    "        for key in keys:\n",
    "            if key in f:\n",
    "                embeddings.append(f[key][:])\n",
    "            else:\n",
    "                raise ValueError(f\"Key '{key}' not found in {h5_path}\")\n",
    "    return np.stack(embeddings)\n",
    "\n",
    "tcr_embeddings = load_embeddings(train_tcr_emb_path, selected_tcrs)\n",
    "epi_embeddings = load_embeddings(train_epi_emb_path, selected_epitopes)\n",
    "\n",
    "# Convert to tensors\n",
    "tcr_batch = torch.tensor(tcr_embeddings, dtype=torch.float32)\n",
    "epitope_batch = torch.tensor(epi_embeddings, dtype=torch.float32)"
   ]
  },
  {
   "cell_type": "code",
   "execution_count": 4,
   "id": "c70aad44",
   "metadata": {},
   "outputs": [
    {
     "name": "stdout",
     "output_type": "stream",
     "text": [
      "162\n",
      "30\n",
      "63\n"
     ]
    }
   ],
   "source": [
    "trbv_dict = {v: i for i, v in enumerate(train_df[\"TRBV\"].unique())}\n",
    "trbj_dict = {v: i for i, v in enumerate(train_df[\"TRBJ\"].unique())}\n",
    "mhc_dict  = {v: i for i, v in enumerate(train_df[\"MHC\"].unique())}\n",
    "\n",
    "UNKNOWN_TRBV_IDX = len(trbv_dict)\n",
    "UNKNOWN_TRBJ_IDX = len(trbj_dict)\n",
    "UNKNOWN_MHC_IDX  = len(mhc_dict)\n",
    "\n",
    "for df in [train_df, valid_df]:\n",
    "    df[\"TRBV_Index\"] = df[\"TRBV\"].map(trbv_dict).fillna(UNKNOWN_TRBV_IDX).astype(int)\n",
    "    df[\"TRBJ_Index\"] = df[\"TRBJ\"].map(trbj_dict).fillna(UNKNOWN_TRBJ_IDX).astype(int)\n",
    "    df[\"MHC_Index\"]  = df[\"MHC\"].map(mhc_dict).fillna(UNKNOWN_MHC_IDX).astype(int)\n",
    "\n",
    "# Vokabulargrößen bestimmen\n",
    "trbv_vocab_size = UNKNOWN_TRBV_IDX + 1\n",
    "trbj_vocab_size = UNKNOWN_TRBJ_IDX + 1\n",
    "mhc_vocab_size  = UNKNOWN_MHC_IDX + 1\n",
    "\n",
    "print(trbv_vocab_size)\n",
    "print(trbj_vocab_size)\n",
    "print(mhc_vocab_size)\n",
    "\n",
    "trbv_dict = {v: i for i, v in enumerate(selected_samples[\"TRBV\"].unique())}\n",
    "trbj_dict = {v: i for i, v in enumerate(selected_samples[\"TRBJ\"].unique())}\n",
    "mhc_dict  = {v: i for i, v in enumerate(selected_samples[\"MHC\"].unique())}\n",
    "\n",
    "\n",
    "dataset = LazyTCR_Epitope_Dataset(selected_samples, tcr_embeddings, epi_embeddings,\n",
    "                                  trbv_dict, trbj_dict, mhc_dict)\n"
   ]
  },
  {
   "cell_type": "code",
   "execution_count": 9,
   "id": "c028a286",
   "metadata": {},
   "outputs": [],
   "source": [
    "# Assume you have dataloader or dataset\n",
    "sample = dataset[0]    # (tcr, epitope, trbv, trbj, mhc, label)\n",
    "tcr_sample, epitope_sample, trbv_sample, trbj_sample, mhc_sample, label = sample\n",
    "\n",
    "# Add batch dimension and fix types\n",
    "tcr_sample = tcr_sample.unsqueeze(0).float().to(device)\n",
    "epitope_sample = epitope_sample.unsqueeze(0).float().to(device)\n",
    "trbv_sample = trbv_sample.unsqueeze(0).long().to(device)\n",
    "trbj_sample = trbj_sample.unsqueeze(0).long().to(device)\n",
    "mhc_sample = mhc_sample.unsqueeze(0).long().to(device)\n"
   ]
  },
  {
   "cell_type": "code",
   "execution_count": 6,
   "id": "494bc824",
   "metadata": {},
   "outputs": [
    {
     "name": "stderr",
     "output_type": "stream",
     "text": [
      "\u001b[34m\u001b[1mwandb\u001b[0m: Using wandb-core as the SDK backend.  Please refer to https://wandb.me/wandb-core for more information.\n",
      "\u001b[34m\u001b[1mwandb\u001b[0m: Currently logged in as: \u001b[33marina-frohofer\u001b[0m (\u001b[33mba_cancerimmunotherapy\u001b[0m). Use \u001b[1m`wandb login --relogin`\u001b[0m to force relogin\n"
     ]
    },
    {
     "data": {
      "text/html": [
       "Tracking run with wandb version 0.18.7"
      ],
      "text/plain": [
       "<IPython.core.display.HTML object>"
      ]
     },
     "metadata": {},
     "output_type": "display_data"
    },
    {
     "data": {
      "text/html": [
       "Run data is saved locally in <code>/home/ubuntu/oscar/BA-Cancer-Immunotherapy/models_scripts/v1_mha/captum/wandb/run-20250428_092505-wc7m1fyr</code>"
      ],
      "text/plain": [
       "<IPython.core.display.HTML object>"
      ]
     },
     "metadata": {},
     "output_type": "display_data"
    },
    {
     "data": {
      "text/html": [
       "Syncing run <strong><a href='https://wandb.ai/ba_cancerimmunotherapy/BA-Cancer-Immunotherapy-models_scripts_v1_mha_captum/runs/wc7m1fyr' target=\"_blank\">crisp-durian-7</a></strong> to <a href='https://wandb.ai/ba_cancerimmunotherapy/BA-Cancer-Immunotherapy-models_scripts_v1_mha_captum' target=\"_blank\">Weights & Biases</a> (<a href='https://wandb.me/developer-guide' target=\"_blank\">docs</a>)<br/>"
      ],
      "text/plain": [
       "<IPython.core.display.HTML object>"
      ]
     },
     "metadata": {},
     "output_type": "display_data"
    },
    {
     "data": {
      "text/html": [
       " View project at <a href='https://wandb.ai/ba_cancerimmunotherapy/BA-Cancer-Immunotherapy-models_scripts_v1_mha_captum' target=\"_blank\">https://wandb.ai/ba_cancerimmunotherapy/BA-Cancer-Immunotherapy-models_scripts_v1_mha_captum</a>"
      ],
      "text/plain": [
       "<IPython.core.display.HTML object>"
      ]
     },
     "metadata": {},
     "output_type": "display_data"
    },
    {
     "data": {
      "text/html": [
       " View run at <a href='https://wandb.ai/ba_cancerimmunotherapy/BA-Cancer-Immunotherapy-models_scripts_v1_mha_captum/runs/wc7m1fyr' target=\"_blank\">https://wandb.ai/ba_cancerimmunotherapy/BA-Cancer-Immunotherapy-models_scripts_v1_mha_captum/runs/wc7m1fyr</a>"
      ],
      "text/plain": [
       "<IPython.core.display.HTML object>"
      ]
     },
     "metadata": {},
     "output_type": "display_data"
    },
    {
     "name": "stderr",
     "output_type": "stream",
     "text": [
      "\u001b[34m\u001b[1mwandb\u001b[0m: Downloading large artifact Run_v1_mha_1024h_model:v21, 994.82MB. 1 files... \n",
      "\u001b[34m\u001b[1mwandb\u001b[0m:   1 of 1 files downloaded.  \n",
      "Done. 0:0:6.2\n",
      "/tmp/ipykernel_33008/1323064587.py:15: FutureWarning: You are using `torch.load` with `weights_only=False` (the current default value), which uses the default pickle module implicitly. It is possible to construct malicious pickle data which will execute arbitrary code during unpickling (See https://github.com/pytorch/pytorch/blob/main/SECURITY.md#untrusted-models for more details). In a future release, the default value for `weights_only` will be flipped to `True`. This limits the functions that could be executed during unpickling. Arbitrary objects will no longer be allowed to be loaded via this mode unless they are explicitly allowlisted by the user via `torch.serialization.add_safe_globals`. We recommend you start setting `weights_only=True` for any use case where you don't have full control of the loaded file. Please open an issue on GitHub for any issues related to this experimental feature.\n",
      "  model.load_state_dict(torch.load(model_file, map_location=device))\n"
     ]
    },
    {
     "data": {
      "text/plain": [
       "<All keys matched successfully>"
      ]
     },
     "execution_count": 6,
     "metadata": {},
     "output_type": "execute_result"
    }
   ],
   "source": [
    "run = wandb.init()\n",
    "artifact = run.use_artifact('ba_cancerimmunotherapy/dataset-allele/Run_v1_mha_1024h_model:v21', type='model')\n",
    "artifact_dir = artifact.download()\n",
    "model_file = os.path.join(artifact_dir, os.listdir(artifact_dir)[0])\n",
    "\n",
    "device = torch.device(\"cuda\" if torch.cuda.is_available() else \"cpu\")\n",
    "\n",
    "model = TCR_Epitope_Transformer(embed_dim=128, num_heads=8, \n",
    "num_layers=4, max_tcr_length=43, max_epitope_length=43,\n",
    "             dropout=0.1, classifier_hidden_dim=64,\n",
    "             trbv_vocab_size=trbv_vocab_size, \n",
    "             trbj_vocab_size=trbj_vocab_size, \n",
    "             mhc_vocab_size=mhc_vocab_size,\n",
    "             ).to(device)\n",
    "model.load_state_dict(torch.load(model_file, map_location=device))\n"
   ]
  },
  {
   "cell_type": "code",
   "execution_count": 29,
   "id": "d57db077",
   "metadata": {},
   "outputs": [
    {
     "data": {
      "text/plain": [
       "Embedding(162, 128, padding_idx=161)"
      ]
     },
     "execution_count": 29,
     "metadata": {},
     "output_type": "execute_result"
    }
   ],
   "source": [
    "model.tcr_embedding\n",
    "model.trbv_embed"
   ]
  },
  {
   "cell_type": "code",
   "execution_count": 12,
   "id": "ca07ca85",
   "metadata": {},
   "outputs": [
    {
     "name": "stdout",
     "output_type": "stream",
     "text": [
      "Attributions returned: <class 'tuple'> 2\n",
      "Attribution 0: shape torch.Size([1, 43, 1024])\n",
      "Attribution 1: shape torch.Size([1, 43, 1024])\n"
     ]
    }
   ],
   "source": [
    "from captum.attr import IntegratedGradients\n",
    "# inputs = (\n",
    "#     tcr_sample, \n",
    "#     epitope_sample, \n",
    "#     trbv_sample,     \n",
    "#     trbj_sample,\n",
    "#     mhc_sample\n",
    "# )\n",
    "inputs = (tcr_sample, epitope_sample)  # Only continuous inputs\n",
    "\n",
    "additional_args = (trbv_sample, trbj_sample, mhc_sample)  # Categorical features separately\n",
    "\n",
    "\n",
    "wrapped_model = ModelWrapper(model)\n",
    "\n",
    "wrapped_model = wrapped_model.to(device)\n",
    "wrapped_model.eval()\n",
    "\n",
    "\n",
    "ig = IntegratedGradients(wrapped_model)\n",
    "\n",
    "# attributions, delta = ig.attribute(\n",
    "#     inputs,\n",
    "#     target=None,\n",
    "#     return_convergence_delta=True,\n",
    "#     n_steps=50\n",
    "# )\n",
    "attributions, delta = ig.attribute(\n",
    "    inputs,\n",
    "    target=None,\n",
    "    additional_forward_args=additional_args,\n",
    "    return_convergence_delta=True,\n",
    "    n_steps=50\n",
    ")\n",
    "\n",
    "\n",
    "print(\"Attributions returned:\", type(attributions), len(attributions))\n",
    "for i, attr in enumerate(attributions):\n",
    "    print(f\"Attribution {i}: shape {attr.shape}\")\n",
    "\n",
    "\n"
   ]
  },
  {
   "cell_type": "code",
   "execution_count": null,
   "id": "9fc6b87e",
   "metadata": {},
   "outputs": [],
   "source": [
    "def plot_categorical_attribution(attr, title):\n",
    "    attr = attr.squeeze(0).detach().cpu().numpy()\n",
    "    summed_attr = np.sum(np.abs(attr), axis=-1)  # Sum over embedding dimension if needed\n",
    "\n",
    "    plt.figure(figsize=(6, 3))\n",
    "    plt.bar(range(len(summed_attr)), summed_attr)\n",
    "    plt.title(title)\n",
    "    plt.xlabel(\"Embedding Feature Index\")\n",
    "    plt.ylabel(\"Importance (Summed Attribution)\")\n",
    "    plt.tight_layout()\n",
    "    plt.show()\n",
    "plot_categorical_attribution(attributions[2], \"TRBV Embedding Attribution\")\n",
    "plot_categorical_attribution(attributions[3], \"TRBJ Embedding Attribution\")\n",
    "plot_categorical_attribution(attributions[4], \"MHC Embedding Attribution\")\n"
   ]
  },
  {
   "cell_type": "code",
   "execution_count": 37,
   "id": "1699a893",
   "metadata": {},
   "outputs": [
    {
     "data": {
      "image/png": "[encoded data removed]",
      "text/plain": [
       "<Figure size 1600x600 with 2 Axes>"
      ]
     },
     "metadata": {},
     "output_type": "display_data"
    }
   ],
   "source": [
    "import matplotlib.pyplot as plt\n",
    "import numpy as np\n",
    "\n",
    "def plot_attributions(attributions, titles=None, figsize=(16, 6)):\n",
    "    \"\"\"\n",
    "    Plot attributions from Integrated Gradients.\n",
    "    \n",
    "    Args:\n",
    "        attributions (tuple of tensors): attribution tensors (tcr_attr, epitope_attr).\n",
    "        titles (list): titles for subplots.\n",
    "        figsize (tuple): size of the whole figure.\n",
    "    \"\"\"\n",
    "    num_inputs = len(attributions)\n",
    "    if titles is None:\n",
    "        titles = [f\"Input {i}\" for i in range(num_inputs)]\n",
    "    \n",
    "    fig, axes = plt.subplots(1, num_inputs, figsize=figsize)\n",
    "\n",
    "    if num_inputs == 1:\n",
    "        axes = [axes]  # Make it iterable if only one plot\n",
    "\n",
    "    for i, attr in enumerate(attributions):\n",
    "        attr = attr.squeeze(0).detach().cpu().numpy()  # Remove batch dimension, move to CPU\n",
    "        summed_attr = np.sum(np.abs(attr), axis=-1)    # Sum across feature dimension if necessary\n",
    "\n",
    "        axes[i].imshow(summed_attr[np.newaxis, :], cmap='viridis', aspect='auto')\n",
    "        axes[i].set_title(titles[i])\n",
    "        axes[i].set_yticks([])\n",
    "        axes[i].set_xlabel(\"Position / Feature Index\")\n",
    "\n",
    "    plt.tight_layout()\n",
    "    plt.show()\n",
    "plot_attributions(attributions)"
   ]
  },
  {
   "cell_type": "code",
   "execution_count": null,
   "id": "1a8a894a",
   "metadata": {},
   "outputs": [],
   "source": []
  },
  {
   "cell_type": "code",
   "execution_count": null,
   "metadata": {},
   "outputs": [],
   "source": []
  },
  {
   "cell_type": "markdown",
   "id": "42cc4b98",
   "metadata": {},
   "source": [
    "## Captum on v3"
   ]
  },
  {
   "cell_type": "markdown",
   "id": "115428d8",
   "metadata": {},
   "source": [
    "#### v3_mha_1024_res_php_pe.py"
   ]
  },
  {
   "cell_type": "code",
   "execution_count": null,
   "id": "161d7755",
   "metadata": {},
   "outputs": [],
   "source": [
    "#import like this or read the model below\n",
    "\n",
    "import sys\n",
    "import os\n",
    "\n",
    "# Get the absolute path of 'TCRpeg' and add it to sys.path\n",
    "model_path = os.path.abspath(\"../../../models/morning_stars_v1/beta\")\n",
    "sys.path.append(model_path)\n",
    "\n",
    "from v3_mha_1024_res_php_pe import TCR_Epitope_Transformer, LazyTCR_Epitope_Descriptor_Dataset\n"
   ]
  },
  {
   "cell_type": "code",
   "execution_count": 1,
   "id": "f6d3b4ee",
   "metadata": {},
   "outputs": [],
   "source": [
    "import torch\n",
    "import torch.nn as nn\n",
    "import h5py\n",
    "import math\n",
    "import numpy as np\n",
    "import pandas as pd\n",
    "\n",
    "class ResidualBlock(nn.Module):\n",
    "    def __init__(self, hidden_dim, dropout):\n",
    "        super(ResidualBlock, self).__init__()\n",
    "        self.block = nn.Sequential(\n",
    "            nn.LayerNorm(hidden_dim),\n",
    "            nn.ReLU(),\n",
    "            nn.Linear(hidden_dim, hidden_dim),\n",
    "            nn.LayerNorm(hidden_dim),\n",
    "            nn.ReLU(),\n",
    "            nn.Dropout(dropout),\n",
    "            nn.Linear(hidden_dim, hidden_dim)\n",
    "        )\n",
    "\n",
    "    def forward(self, x):\n",
    "        return x + self.block(x)\n",
    "\n",
    "class Classifier(nn.Module):\n",
    "    def __init__(self, input_dim, hidden_dim, dropout):\n",
    "        super(Classifier, self).__init__()\n",
    "        self.model = nn.Sequential(\n",
    "            nn.Linear(input_dim, hidden_dim),\n",
    "            nn.LayerNorm(hidden_dim),\n",
    "            nn.ReLU(),\n",
    "            nn.Dropout(dropout),\n",
    "            ResidualBlock(hidden_dim, dropout),\n",
    "            nn.Linear(hidden_dim, 1)\n",
    "        )\n",
    "\n",
    "    def forward(self, x):\n",
    "        return self.model(x)\n",
    "\n",
    "class AttentionBlock(nn.Module):\n",
    "    def __init__(self, embed_dim, num_heads, dropout=0.1):\n",
    "        super(AttentionBlock, self).__init__()\n",
    "        self.attn = nn.MultiheadAttention(embed_dim, num_heads, dropout=dropout, batch_first=True)\n",
    "        self.norm1 = nn.LayerNorm(embed_dim)\n",
    "        self.dropout1 = nn.Dropout(dropout)\n",
    "        self.ff = nn.Sequential(\n",
    "            nn.Linear(embed_dim, embed_dim * 4),\n",
    "            nn.ReLU(),\n",
    "            nn.Dropout(dropout),\n",
    "            nn.Linear(embed_dim * 4, embed_dim)\n",
    "        )\n",
    "        self.norm2 = nn.LayerNorm(embed_dim)\n",
    "        self.dropout2 = nn.Dropout(dropout)\n",
    "\n",
    "    def forward(self, x, key_padding_mask=None):\n",
    "        attn_output, _ = self.attn(x, x, x, key_padding_mask=key_padding_mask)\n",
    "        x = self.norm1(x + self.dropout1(attn_output))\n",
    "        ff_output = self.ff(x)\n",
    "        x = self.norm2(x + self.dropout2(ff_output))\n",
    "        return x\n",
    "\n",
    "class PeriodicEmbedding(nn.Module):\n",
    "    def __init__(self, input_dim):\n",
    "        super().__init__()\n",
    "        self.input_dim = input_dim\n",
    "        self.output_dim = input_dim * 2\n",
    "\n",
    "    def forward(self, x):\n",
    "        # Erwartet (batch_size, input_dim)\n",
    "        div_term = torch.exp(\n",
    "            torch.arange(0, self.input_dim, device=x.device, dtype=x.dtype) *\n",
    "            -(np.log(10000.0) / self.input_dim)\n",
    "        )  # (input_dim,)\n",
    "\n",
    "        pe = torch.cat([torch.sin(x * div_term), torch.cos(x * div_term)], dim=-1)\n",
    "        return pe\n",
    "\n",
    "class LazyTCR_Epitope_Descriptor_Dataset(torch.utils.data.Dataset):\n",
    "    def __init__(self, data_frame, tcr_embeddings, epitope_embeddings, physchem_h5_path):\n",
    "        self.data_frame = data_frame\n",
    "        self.tcr_embeddings = tcr_embeddings\n",
    "        self.epitope_embeddings = epitope_embeddings\n",
    "        self.physchem_data = physchem_h5_path\n",
    "\n",
    "    def __len__(self):\n",
    "        return len(self.data_frame)\n",
    "\n",
    "    def __getitem__(self, idx):\n",
    "        sample = self.data_frame.iloc[idx]\n",
    "        tcr_id = sample[\"TRB_CDR3\"]\n",
    "        epitope_id = sample[\"Epitope\"]\n",
    "        label = sample[\"Binding\"]\n",
    "        phys_idx = sample[\"physchem_index\"]\n",
    "\n",
    "        # Use dict lookup here\n",
    "        tcr_embedding = self.tcr_embeddings[tcr_id]\n",
    "        epitope_embedding = self.epitope_embeddings[epitope_id]\n",
    "        tcr_physchem = self.physchem_data[\"tcr_encoded\"][phys_idx]\n",
    "        epi_physchem = self.physchem_data[\"epi_encoded\"][phys_idx]\n",
    "\n",
    "        return (\n",
    "            torch.tensor(tcr_embedding, dtype=torch.float32),\n",
    "            torch.tensor(epitope_embedding, dtype=torch.float32),\n",
    "            torch.tensor(tcr_physchem, dtype=torch.float32),\n",
    "            torch.tensor(epi_physchem, dtype=torch.float32),\n",
    "            torch.tensor(label, dtype=torch.float32),\n",
    "        )\n",
    "\n",
    "    # def __getitem__(self, idx):\n",
    "    #     sample = self.data_frame.iloc[idx]\n",
    "    #     tcr_id = sample[\"TRB_CDR3\"]\n",
    "    #     epitope_id = sample[\"Epitope\"]\n",
    "    #     label = sample[\"Binding\"]\n",
    "    #     phys_idx = sample[\"physchem_index\"]  # <- RICHTIG\n",
    "    \n",
    "    #     tcr_embedding = self.tcr_embeddings[tcr_id][:]\n",
    "    #     epitope_embedding = self.epitope_embeddings[epitope_id][:]\n",
    "    #     tcr_physchem = self.physchem_data[\"tcr_encoded\"][phys_idx]\n",
    "    #     epi_physchem = self.physchem_data[\"epi_encoded\"][phys_idx]\n",
    "    \n",
    "    #     return (\n",
    "    #         torch.tensor(tcr_embedding, dtype=torch.float32),\n",
    "    #         torch.tensor(epitope_embedding, dtype=torch.float32),\n",
    "    #         torch.tensor(tcr_physchem, dtype=torch.float32),\n",
    "    #         torch.tensor(epi_physchem, dtype=torch.float32),\n",
    "    #         torch.tensor(label, dtype=torch.float32),\n",
    "    #     )\n",
    "\n",
    "class TCR_Epitope_Transformer(nn.Module):\n",
    "    def __init__(self, embed_dim=128, num_heads=4, num_layers=2, max_tcr_length=43, max_epitope_length=43,\n",
    "                 dropout=0.1, classifier_hidden_dim=64, physchem_dim=10):\n",
    "        super(TCR_Epitope_Transformer, self).__init__()\n",
    "\n",
    "        self.embed_dim = embed_dim\n",
    "        self.tcr_embedding = nn.Linear(1024, embed_dim)\n",
    "        self.epitope_embedding = nn.Linear(1024, embed_dim)\n",
    "\n",
    "        self.tcr_positional_encoding = nn.Parameter(torch.randn(1, max_tcr_length, embed_dim))\n",
    "        self.epitope_positional_encoding = nn.Parameter(torch.randn(1, max_epitope_length, embed_dim))\n",
    "\n",
    "        self.transformer_layers = nn.ModuleList([\n",
    "            AttentionBlock(embed_dim, num_heads, dropout) for _ in range(num_layers)\n",
    "        ])\n",
    "\n",
    "        self.physchem_dim = physchem_dim\n",
    "        self.tcr_physchem_embed = PeriodicEmbedding(physchem_dim)\n",
    "        self.epi_physchem_embed = PeriodicEmbedding(physchem_dim)\n",
    "\n",
    "        self.classifier_input_dim = embed_dim * (max_tcr_length + max_epitope_length) + self.tcr_physchem_embed.output_dim * 2\n",
    "\n",
    "        self.classifier = Classifier(self.classifier_input_dim, classifier_hidden_dim, dropout)\n",
    "\n",
    "    def forward(self, tcr, epitope, tcr_physchem=None, epi_physchem=None):\n",
    "        tcr_emb = self.tcr_embedding(tcr)\n",
    "        epitope_emb = self.epitope_embedding(epitope)\n",
    "    \n",
    "        # Create masks\n",
    "        tcr_mask = (tcr.sum(dim=-1) == 0)\n",
    "        epitope_mask = (epitope.sum(dim=-1) == 0)\n",
    "    \n",
    "        # Add positional encoding\n",
    "        tcr_emb += self.tcr_positional_encoding[:, :tcr_emb.size(1), :]\n",
    "        epitope_emb += self.epitope_positional_encoding[:, :epitope_emb.size(1), :]\n",
    "    \n",
    "        # Concatenate sequence and mask\n",
    "        combined = torch.cat([tcr_emb, epitope_emb], dim=1)\n",
    "        key_padding_mask = torch.cat([tcr_mask, epitope_mask], dim=1)\n",
    "    \n",
    "        for layer in self.transformer_layers:\n",
    "            combined = layer(combined, key_padding_mask=key_padding_mask)\n",
    "    \n",
    "        # flattening + classifier\n",
    "        flattened = combined.view(combined.size(0), -1)  # [batch_size, total_seq_len * embed_dim]\n",
    "    \n",
    "        # Physikochemie anhängen\n",
    "        if tcr_physchem is not None and epi_physchem is not None:\n",
    "            tcr_physchem = self.tcr_physchem_embed(tcr_physchem)\n",
    "            epi_physchem = self.epi_physchem_embed(epi_physchem)\n",
    "            flattened = torch.cat([flattened, tcr_physchem, epi_physchem], dim=1)\n",
    "    \n",
    "        output = self.classifier(flattened).squeeze(1)\n",
    "        return output\n"
   ]
  },
  {
   "cell_type": "code",
   "execution_count": 3,
   "id": "198cd615",
   "metadata": {},
   "outputs": [
    {
     "name": "stdout",
     "output_type": "stream",
     "text": [
      "TCR physchem shape: torch.Size([50, 102])\n",
      "Epitope physchem shape: torch.Size([50, 102])\n"
     ]
    }
   ],
   "source": [
    "import torch\n",
    "import numpy as np\n",
    "# ---------------- Load Data ----------------\n",
    "\n",
    "device = torch.device(\"cuda\" if torch.cuda.is_available() else \"cpu\")\n",
    "\n",
    "train_path = \"../../../../../data/splitted_datasets/allele/beta/train.tsv\"\n",
    "valid_path = \"../../../../../data/splitted_datasets/allele/beta/validation.tsv\"\n",
    "\n",
    "train_epi_emb_path = \"../../../../../data/embeddings/beta/allele/dimension_1024/padded_train_epitope_embeddings_final.h5\"\n",
    "train_tcr_emb_path = \"../../../../../data/embeddings/beta/allele/dimension_1024/padded_train_tcr_embeddings_final.h5\"\n",
    "\n",
    "train_df = pd.read_csv(train_path, sep='\\t')\n",
    "valid_df = pd.read_csv(valid_path, sep='\\t', low_memory=False)\n",
    "\n",
    "physchem_path =  \"../../../../../data/physico/descriptor_encoded_physchem.h5\"\n",
    "physchem_file = h5py.File(physchem_path, 'r')\n",
    "\n",
    "physchem_map = pd.read_csv(\"../../../../../data/physico/descriptor_encoded_physchem_mapping.tsv\", sep=\"\\t\")\n",
    "train_df = pd.merge(train_df, physchem_map, on=[\"TRB_CDR3\", \"Epitope\"], how=\"left\")\n",
    "# valid_df = pd.merge(valid_df, physchem_map, on=[\"TRB_CDR3\", \"Epitope\"], how=\"left\")\n",
    "\n",
    "\n",
    "def get_physchem_vectors_by_physidx(physchem_file, indices, key):\n",
    "    \"\"\"\n",
    "    Fetch vectors from an HDF5 dataset with keys like 'tcr_encoded' or 'epi_encoded',\n",
    "    using a list of integer indices.\n",
    "\n",
    "    Parameters:\n",
    "        physchem_file: opened h5py.File\n",
    "        indices: list or array of integers (phys_idx values)\n",
    "        key: str, either 'tcr_encoded' or 'epi_encoded'\n",
    "\n",
    "    Returns:\n",
    "        np.array of shape [len(indices), feature_dim]\n",
    "    \"\"\"\n",
    "    dataset = physchem_file[key]\n",
    "    return np.stack([dataset[i] for i in indices])\n",
    "\n",
    "# load an amount n*2 of samples (n positives, n negatives)\n",
    "n_samples = 25\n",
    "binding_samples = train_df[train_df['Binding'] == 1].sample(n_samples, random_state=42)\n",
    "non_binding_samples = train_df[train_df['Binding'] == 0].sample(n_samples, random_state=42)\n",
    "selected_samples = pd.concat([binding_samples, non_binding_samples])\n",
    "selected_tcrs = selected_samples['TRB_CDR3'].tolist()\n",
    "selected_epitopes = selected_samples['Epitope'].tolist()\n",
    "\n",
    "# Subset merged train_df to match the selected samples\n",
    "selected_physchem_df = train_df.set_index(['TRB_CDR3', 'Epitope']).loc[list(zip(selected_tcrs, selected_epitopes))]\n",
    "\n",
    "# Get the phys_idx for each sample\n",
    "phys_indices = selected_physchem_df['physchem_index'].values\n",
    "\n",
    "# Extract from h5 file\n",
    "tcr_physchem_sample = get_physchem_vectors_by_physidx(physchem_file, phys_indices, key='tcr_encoded')\n",
    "epi_physchem_sample = get_physchem_vectors_by_physidx(physchem_file, phys_indices, key='epi_encoded')\n",
    "\n",
    "# Convert to tensors\n",
    "tcr_physchem_tensor = torch.tensor(tcr_physchem_sample, dtype=torch.float32).to(device)\n",
    "epi_physchem_tensor = torch.tensor(epi_physchem_sample, dtype=torch.float32).to(device)\n",
    "\n",
    "\n",
    "# def load_embeddings(h5_path, keys):\n",
    "#     embeddings = []\n",
    "#     with h5py.File(h5_path, 'r') as f:\n",
    "#         for key in keys:\n",
    "#             if key in f:\n",
    "#                 embeddings.append(f[key][:])\n",
    "#             else:\n",
    "#                 raise ValueError(f\"Key '{key}' not found in {h5_path}\")\n",
    "#     return np.stack(embeddings)\n",
    "\n",
    "def load_embeddings(h5_path, keys):\n",
    "    embeddings = {}\n",
    "    with h5py.File(h5_path, 'r') as f:\n",
    "        for key in keys:\n",
    "            if key in f:\n",
    "                embeddings[key] = f[key][:]\n",
    "            else:\n",
    "                raise ValueError(f\"Key '{key}' not found in {h5_path}\")\n",
    "    return embeddings\n",
    "\n",
    "\n",
    "tcr_embeddings = load_embeddings(train_tcr_emb_path, selected_tcrs)\n",
    "epi_embeddings = load_embeddings(train_epi_emb_path, selected_epitopes)\n",
    "\n",
    "train_dataset = LazyTCR_Epitope_Descriptor_Dataset(selected_samples, tcr_embeddings, epi_embeddings, physchem_file)\n",
    "\n",
    "print(\"TCR physchem shape:\", tcr_physchem_tensor.shape)   # Expected: [50, 102]\n",
    "print(\"Epitope physchem shape:\", epi_physchem_tensor.shape)  # Expected: [50, 102]\n",
    "\n",
    "background_data = [tcr_physchem_tensor[:1], epi_physchem_tensor[:1]]  # 1-sample baseline\n",
    "sample_data = [tcr_physchem_tensor, epi_physchem_tensor]              # 50 samples\n"
   ]
  },
  {
   "cell_type": "code",
   "execution_count": 4,
   "id": "957ac5cb",
   "metadata": {},
   "outputs": [
    {
     "name": "stderr",
     "output_type": "stream",
     "text": [
      "\u001b[34m\u001b[1mwandb\u001b[0m: Using wandb-core as the SDK backend.  Please refer to https://wandb.me/wandb-core for more information.\n",
      "\u001b[34m\u001b[1mwandb\u001b[0m: Currently logged in as: \u001b[33marina-frohofer\u001b[0m (\u001b[33mba_cancerimmunotherapy\u001b[0m). Use \u001b[1m`wandb login --relogin`\u001b[0m to force relogin\n"
     ]
    },
    {
     "data": {
      "text/html": [
       "Tracking run with wandb version 0.18.7"
      ],
      "text/plain": [
       "<IPython.core.display.HTML object>"
      ]
     },
     "metadata": {},
     "output_type": "display_data"
    },
    {
     "data": {
      "text/html": [
       "Run data is saved locally in <code>/home/ubuntu/oscar/BA-Cancer-Immunotherapy/models_scripts/v1_mha/captum/wandb/run-20250430_092237-60jpazwm</code>"
      ],
      "text/plain": [
       "<IPython.core.display.HTML object>"
      ]
     },
     "metadata": {},
     "output_type": "display_data"
    },
    {
     "data": {
      "text/html": [
       "Syncing run <strong><a href='https://wandb.ai/ba_cancerimmunotherapy/BA-Cancer-Immunotherapy-models_scripts_v1_mha_captum/runs/60jpazwm' target=\"_blank\">snowy-dream-9</a></strong> to <a href='https://wandb.ai/ba_cancerimmunotherapy/BA-Cancer-Immunotherapy-models_scripts_v1_mha_captum' target=\"_blank\">Weights & Biases</a> (<a href='https://wandb.me/developer-guide' target=\"_blank\">docs</a>)<br/>"
      ],
      "text/plain": [
       "<IPython.core.display.HTML object>"
      ]
     },
     "metadata": {},
     "output_type": "display_data"
    },
    {
     "data": {
      "text/html": [
       " View project at <a href='https://wandb.ai/ba_cancerimmunotherapy/BA-Cancer-Immunotherapy-models_scripts_v1_mha_captum' target=\"_blank\">https://wandb.ai/ba_cancerimmunotherapy/BA-Cancer-Immunotherapy-models_scripts_v1_mha_captum</a>"
      ],
      "text/plain": [
       "<IPython.core.display.HTML object>"
      ]
     },
     "metadata": {},
     "output_type": "display_data"
    },
    {
     "data": {
      "text/html": [
       " View run at <a href='https://wandb.ai/ba_cancerimmunotherapy/BA-Cancer-Immunotherapy-models_scripts_v1_mha_captum/runs/60jpazwm' target=\"_blank\">https://wandb.ai/ba_cancerimmunotherapy/BA-Cancer-Immunotherapy-models_scripts_v1_mha_captum/runs/60jpazwm</a>"
      ],
      "text/plain": [
       "<IPython.core.display.HTML object>"
      ]
     },
     "metadata": {},
     "output_type": "display_data"
    },
    {
     "name": "stderr",
     "output_type": "stream",
     "text": [
      "\u001b[34m\u001b[1mwandb\u001b[0m:   1 of 1 files downloaded.  \n"
     ]
    }
   ],
   "source": [
    "import wandb\n",
    "import os\n",
    "\n",
    "run = wandb.init()\n",
    "artifact = run.use_artifact('ba_cancerimmunotherapy/dataset-allele/Run_v3_mha_resh_model:v3', type='model')\n",
    "artifact_dir = artifact.download()\n",
    "model_file = os.path.join(artifact_dir, os.listdir(artifact_dir)[0])"
   ]
  },
  {
   "cell_type": "code",
   "execution_count": 14,
   "id": "a56d6ef0",
   "metadata": {},
   "outputs": [
    {
     "name": "stdout",
     "output_type": "stream",
     "text": [
      "tcr_positional_encoding: torch.Size([1, 43, 128])\n",
      "epitope_positional_encoding: torch.Size([1, 43, 128])\n",
      "tcr_embedding.weight: torch.Size([128, 1024])\n",
      "tcr_embedding.bias: torch.Size([128])\n",
      "epitope_embedding.weight: torch.Size([128, 1024])\n",
      "epitope_embedding.bias: torch.Size([128])\n",
      "transformer_layers.0.attn.in_proj_weight: torch.Size([384, 128])\n",
      "transformer_layers.0.attn.in_proj_bias: torch.Size([384])\n",
      "transformer_layers.0.attn.out_proj.weight: torch.Size([128, 128])\n",
      "transformer_layers.0.attn.out_proj.bias: torch.Size([128])\n",
      "transformer_layers.0.norm1.weight: torch.Size([128])\n",
      "transformer_layers.0.norm1.bias: torch.Size([128])\n",
      "transformer_layers.0.ff.0.weight: torch.Size([512, 128])\n",
      "transformer_layers.0.ff.0.bias: torch.Size([512])\n",
      "transformer_layers.0.ff.3.weight: torch.Size([128, 512])\n",
      "transformer_layers.0.ff.3.bias: torch.Size([128])\n",
      "transformer_layers.0.norm2.weight: torch.Size([128])\n",
      "transformer_layers.0.norm2.bias: torch.Size([128])\n",
      "classifier.model.0.weight: torch.Size([64, 11416])\n",
      "classifier.model.0.bias: torch.Size([64])\n",
      "classifier.model.1.weight: torch.Size([64])\n",
      "classifier.model.1.bias: torch.Size([64])\n",
      "classifier.model.4.block.0.weight: torch.Size([64])\n",
      "classifier.model.4.block.0.bias: torch.Size([64])\n",
      "classifier.model.4.block.2.weight: torch.Size([64, 64])\n",
      "classifier.model.4.block.2.bias: torch.Size([64])\n",
      "classifier.model.4.block.3.weight: torch.Size([64])\n",
      "classifier.model.4.block.3.bias: torch.Size([64])\n",
      "classifier.model.4.block.6.weight: torch.Size([64, 64])\n",
      "classifier.model.4.block.6.bias: torch.Size([64])\n",
      "classifier.model.5.weight: torch.Size([1, 64])\n",
      "classifier.model.5.bias: torch.Size([1])\n"
     ]
    },
    {
     "name": "stderr",
     "output_type": "stream",
     "text": [
      "/tmp/ipykernel_79082/2553021575.py:1: FutureWarning: You are using `torch.load` with `weights_only=False` (the current default value), which uses the default pickle module implicitly. It is possible to construct malicious pickle data which will execute arbitrary code during unpickling (See https://github.com/pytorch/pytorch/blob/main/SECURITY.md#untrusted-models for more details). In a future release, the default value for `weights_only` will be flipped to `True`. This limits the functions that could be executed during unpickling. Arbitrary objects will no longer be allowed to be loaded via this mode unless they are explicitly allowlisted by the user via `torch.serialization.add_safe_globals`. We recommend you start setting `weights_only=True` for any use case where you don't have full control of the loaded file. Please open an issue on GitHub for any issues related to this experimental feature.\n",
      "  checkpoint = torch.load(model_file, map_location=device)\n"
     ]
    }
   ],
   "source": [
    "checkpoint = torch.load(model_file, map_location=device)\n",
    "for k, v in checkpoint.items():\n",
    "    print(f\"{k}: {v.shape}\")"
   ]
  },
  {
   "cell_type": "code",
   "execution_count": 5,
   "id": "5c835ee5",
   "metadata": {},
   "outputs": [
    {
     "name": "stderr",
     "output_type": "stream",
     "text": [
      "/tmp/ipykernel_86598/4122286243.py:6: FutureWarning: You are using `torch.load` with `weights_only=False` (the current default value), which uses the default pickle module implicitly. It is possible to construct malicious pickle data which will execute arbitrary code during unpickling (See https://github.com/pytorch/pytorch/blob/main/SECURITY.md#untrusted-models for more details). In a future release, the default value for `weights_only` will be flipped to `True`. This limits the functions that could be executed during unpickling. Arbitrary objects will no longer be allowed to be loaded via this mode unless they are explicitly allowlisted by the user via `torch.serialization.add_safe_globals`. We recommend you start setting `weights_only=True` for any use case where you don't have full control of the loaded file. Please open an issue on GitHub for any issues related to this experimental feature.\n",
      "  model.load_state_dict(torch.load(model_file, map_location=device))\n"
     ]
    },
    {
     "data": {
      "text/plain": [
       "<All keys matched successfully>"
      ]
     },
     "execution_count": 5,
     "metadata": {},
     "output_type": "execute_result"
    }
   ],
   "source": [
    "model = TCR_Epitope_Transformer(embed_dim=128, num_heads=4, \n",
    "num_layers=1, max_tcr_length=43, max_epitope_length=43,\n",
    "             dropout=0.1, classifier_hidden_dim=64, physchem_dim=102\n",
    "             ).to(device)\n",
    "\n",
    "model.load_state_dict(torch.load(model_file, map_location=device))"
   ]
  },
  {
   "cell_type": "code",
   "execution_count": 6,
   "id": "d28de778",
   "metadata": {},
   "outputs": [],
   "source": [
    "def compute_physchem_feature_importance(model, dataset, device, baseline=\"zero\"):\n",
    "    model.eval()\n",
    "    importances = {\n",
    "        \"tcr\": np.zeros(102),\n",
    "        \"epitope\": np.zeros(102)\n",
    "    }\n",
    "\n",
    "    dataloader = torch.utils.data.DataLoader(dataset, batch_size=1, shuffle=False)\n",
    "\n",
    "    with torch.no_grad():\n",
    "        for batch in dataloader:\n",
    "            # tcr_emb = batch['tcr_emb'].to(device)\n",
    "            # epi_emb = batch['epitope_emb'].to(device)\n",
    "            # tcr_phys = batch['tcr_physchem'].to(device)\n",
    "            # epi_phys = batch['epitope_physchem'].to(device)\n",
    "\n",
    "            tcr_emb, epi_emb, tcr_phys, epi_phys, _ = [x.to(device) for x in batch]\n",
    "\n",
    "            original_output = model(tcr_emb, epi_emb, tcr_phys, epi_phys).item()\n",
    "\n",
    "            for i in range(102):  # TCR features\n",
    "                perturbed = tcr_phys.clone()\n",
    "                if baseline == \"zero\":\n",
    "                    perturbed[:, i] = 0\n",
    "                elif baseline == \"mean\":\n",
    "                    perturbed[:, i] = tcr_phys[:, i].mean()\n",
    "                output = model(tcr_emb, epi_emb, perturbed, epi_phys).item()\n",
    "                importances[\"tcr\"][i] += abs(original_output - output)\n",
    "\n",
    "            for i in range(102):  # Epitope features\n",
    "                perturbed = epi_phys.clone()\n",
    "                if baseline == \"zero\":\n",
    "                    perturbed[:, i] = 0\n",
    "                elif baseline == \"mean\":\n",
    "                    perturbed[:, i] = epi_phys[:, i].mean()\n",
    "                output = model(tcr_emb, epi_emb, tcr_phys, perturbed).item()\n",
    "                importances[\"epitope\"][i] += abs(original_output - output)\n",
    "\n",
    "    # Normalize\n",
    "    importances[\"tcr\"] /= len(dataset)\n",
    "    importances[\"epitope\"] /= len(dataset)\n",
    "\n",
    "    return importances\n"
   ]
  },
  {
   "cell_type": "code",
   "execution_count": 7,
   "id": "bf741b8a",
   "metadata": {},
   "outputs": [],
   "source": [
    "importances = compute_physchem_feature_importance(model, train_dataset, device)\n"
   ]
  },
  {
   "cell_type": "code",
   "execution_count": 15,
   "id": "b62784bc",
   "metadata": {},
   "outputs": [
    {
     "data": {
      "image/png": "[encoded data removed]",
      "text/plain": [
       "<Figure size 1200x400 with 1 Axes>"
      ]
     },
     "metadata": {},
     "output_type": "display_data"
    },
    {
     "data": {
      "image/png": "[encoded data removed]",
      "text/plain": [
       "<Figure size 1200x400 with 1 Axes>"
      ]
     },
     "metadata": {},
     "output_type": "display_data"
    }
   ],
   "source": [
    "import matplotlib.pyplot as plt\n",
    "import numpy as np\n",
    "\n",
    "# Sort importances (optional, for better visuals)\n",
    "tcr_importance = importances[\"tcr\"]\n",
    "epi_importance = importances[\"epitope\"]\n",
    "\n",
    "# Plot TCR physchem importances\n",
    "plt.figure(figsize=(12, 4))\n",
    "plt.bar(np.arange(len(tcr_importance)), tcr_importance, color='steelblue')\n",
    "plt.title(\"TCR Physicochemical Feature Importance\")\n",
    "plt.xlabel(\"Feature Index\")\n",
    "plt.ylabel(\"Importance\")\n",
    "plt.tight_layout()\n",
    "plt.show()\n",
    "\n",
    "# Plot Epitope physchem importances\n",
    "plt.figure(figsize=(12, 4))\n",
    "plt.bar(np.arange(len(epi_importance)), epi_importance, color='darkorange')\n",
    "plt.title(\"Epitope Physicochemical Feature Importance\")\n",
    "plt.xlabel(\"Feature Index\")\n",
    "plt.ylabel(\"Importance\")\n",
    "plt.tight_layout()\n",
    "plt.show()\n"
   ]
  },
  {
   "cell_type": "code",
   "execution_count": 14,
   "metadata": {},
   "outputs": [
    {
     "data": {
      "image/png": "[encoded data removed]",
      "text/plain": [
       "<Figure size 1800x500 with 1 Axes>"
      ]
     },
     "metadata": {},
     "output_type": "display_data"
    },
    {
     "data": {
      "image/png": "[encoded data removed]",
      "text/plain": [
       "<Figure size 1800x500 with 1 Axes>"
      ]
     },
     "metadata": {},
     "output_type": "display_data"
    }
   ],
   "source": [
    "import matplotlib.pyplot as plt\n",
    "import numpy as np\n",
    "\n",
    "# Extract feature names from desc_df\n",
    "tcr_feature_names = [col for col in desc_df.columns if col.startswith(\"tcr_\")]\n",
    "epi_feature_names = [col for col in desc_df.columns if col.startswith(\"epi_\")]\n",
    "\n",
    "# Make sure they align with the importance array size\n",
    "assert len(tcr_feature_names) == 102\n",
    "assert len(epi_feature_names) == 102\n",
    "\n",
    "# Access the importance arrays\n",
    "tcr_importance = importances[\"tcr\"]\n",
    "epi_importance = importances[\"epitope\"]\n",
    "\n",
    "# Plot TCR feature importances\n",
    "plt.figure(figsize=(18, 5))\n",
    "plt.bar(np.arange(len(tcr_importance)), tcr_importance, color='steelblue')\n",
    "plt.xticks(ticks=np.arange(len(tcr_feature_names)), labels=tcr_feature_names, rotation=90, fontsize=8)\n",
    "plt.title(\"TCR Physicochemical Feature Importance\")\n",
    "plt.xlabel(\"Feature\")\n",
    "plt.ylabel(\"Importance\")\n",
    "plt.tight_layout()\n",
    "plt.show()\n",
    "\n",
    "# Plot Epitope feature importances\n",
    "plt.figure(figsize=(18, 5))\n",
    "plt.bar(np.arange(len(epi_importance)), epi_importance, color='darkorange')\n",
    "plt.xticks(ticks=np.arange(len(epi_feature_names)), labels=epi_feature_names, rotation=90, fontsize=8)\n",
    "plt.title(\"Epitope Physicochemical Feature Importance\")\n",
    "plt.xlabel(\"Feature\")\n",
    "plt.ylabel(\"Importance\")\n",
    "plt.tight_layout()\n",
    "plt.show()\n"
   ]
  },
  {
   "cell_type": "code",
   "execution_count": 16,
   "id": "97d800e1",
   "metadata": {},
   "outputs": [
    {
     "data": {
      "image/png": "[encoded data removed]",
      "text/plain": [
       "<Figure size 1800x500 with 1 Axes>"
      ]
     },
     "metadata": {},
     "output_type": "display_data"
    },
    {
     "data": {
      "image/png": "[encoded data removed]",
      "text/plain": [
       "<Figure size 1800x500 with 1 Axes>"
      ]
     },
     "metadata": {},
     "output_type": "display_data"
    }
   ],
   "source": [
    "import matplotlib.pyplot as plt\n",
    "import numpy as np\n",
    "\n",
    "# Sort TCR importance and feature names\n",
    "tcr_sorted_indices = np.argsort(-tcr_importance)  # Negative for descending\n",
    "tcr_sorted_importance = tcr_importance[tcr_sorted_indices]\n",
    "tcr_sorted_names = [tcr_feature_names[i] for i in tcr_sorted_indices]\n",
    "\n",
    "# Plot sorted TCR importances\n",
    "plt.figure(figsize=(18, 5))\n",
    "plt.bar(np.arange(len(tcr_sorted_importance)), tcr_sorted_importance, color='steelblue')\n",
    "plt.xticks(ticks=np.arange(len(tcr_sorted_names)), labels=tcr_sorted_names, rotation=90, fontsize=8)\n",
    "plt.title(\"TCR Physicochemical Feature Importance (Sorted)\")\n",
    "plt.xlabel(\"Feature\")\n",
    "plt.ylabel(\"Importance\")\n",
    "plt.tight_layout()\n",
    "plt.show()\n",
    "\n",
    "# Sort Epitope importance and feature names\n",
    "epi_sorted_indices = np.argsort(-epi_importance)\n",
    "epi_sorted_importance = epi_importance[epi_sorted_indices]\n",
    "epi_sorted_names = [epi_feature_names[i] for i in epi_sorted_indices]\n",
    "\n",
    "# Plot sorted Epitope importances\n",
    "plt.figure(figsize=(18, 5))\n",
    "plt.bar(np.arange(len(epi_sorted_importance)), epi_sorted_importance, color='darkorange')\n",
    "plt.xticks(ticks=np.arange(len(epi_sorted_names)), labels=epi_sorted_names, rotation=90, fontsize=8)\n",
    "plt.title(\"Epitope Physicochemical Feature Importance (Sorted)\")\n",
    "plt.xlabel(\"Feature\")\n",
    "plt.ylabel(\"Importance\")\n",
    "plt.tight_layout()\n",
    "plt.show()\n"
   ]
  },
  {
   "cell_type": "code",
   "execution_count": null,
   "id": "ac8e95a2",
   "metadata": {},
   "outputs": [],
   "source": []
  },
  {
   "cell_type": "markdown",
   "id": "dbea3946",
   "metadata": {},
   "source": [
    "### some checks on physico"
   ]
  },
  {
   "cell_type": "code",
   "execution_count": null,
   "metadata": {},
   "outputs": [
    {
     "name": "stdout",
     "output_type": "stream",
     "text": [
      "Datasets in the file:\n",
      " - binding: shape=(993078,), dtype=int64\n",
      " - epi_encoded: shape=(993078, 102), dtype=float64\n",
      " - tcr_encoded: shape=(993078, 102), dtype=float64\n",
      "\n",
      "Sample data:\n",
      "tcr_encoded[0]: [ 3.61664356e+00 -1.31394417e+00  1.19261033e+00 -4.56278865e+00\n",
      "  6.53149528e-01  1.54276456e+00 -6.66290677e+00 -7.96043663e-01\n",
      " -1.85348714e+00 -2.29823471e+00  4.80538331e-01 -2.53749648e+00\n",
      "  2.23740811e+00 -1.60822272e+00 -2.75608320e+00  2.35100647e+00\n",
      "  4.68973577e+00  3.49637495e+00  3.32848543e+00 -1.05781929e+00\n",
      " -6.16728354e-01 -7.45365619e-01  1.10411057e+00  1.01446224e+00\n",
      " -1.64966168e+00  7.84596956e-01 -1.07578960e+00 -1.14300867e+00\n",
      "  3.59310072e+00  4.02225851e-01  2.91112617e+00  6.12372801e-01\n",
      "  1.84426807e-01  1.00376126e+00 -4.14976587e+00  2.40869021e-02\n",
      "  5.20974596e+00 -2.13461468e+00 -5.44160485e+00 -5.44460665e+00\n",
      " -2.61083837e+01 -7.35526189e-01  3.16585060e+00 -5.18986022e+00\n",
      "  1.08606240e+00  1.46855786e+00  9.52244565e-01  1.57472893e+00\n",
      "  1.43075618e+00 -7.02243379e-02  9.61801567e-01 -3.55471204e-01\n",
      " -1.00389187e+00 -7.22416727e-02 -8.53443104e+00 -1.03682226e+00\n",
      "  5.18982913e+00 -2.50998604e+00 -9.96267694e+00  7.09089099e+00\n",
      "  2.34367486e+00  4.08729601e+00 -1.19702506e+01  2.45309459e-01\n",
      "  1.95837027e+00 -5.01579760e+00 -3.79845653e+00  3.03916561e-02\n",
      " -1.93301214e+00  9.41324457e-01 -2.42021507e+00 -5.06920062e-02\n",
      " -2.66709272e+00  3.57375196e-01  1.68459621e+00 -6.28646786e+00\n",
      " -6.90453116e-01 -3.73584179e+00  6.41187663e+00  2.19910848e+00\n",
      " -2.48868736e-01  3.53900400e-01 -5.75468655e+00 -2.20015800e+00\n",
      "  1.63185347e+00  1.57183316e+00 -1.00525069e+00  5.48572281e-02\n",
      " -2.42524361e+00  8.84955074e-01  2.70618047e+00  4.01011688e+00\n",
      "  9.44937017e+00 -6.28984295e+00  1.40092805e+00 -1.18773359e+01\n",
      " -2.65721402e+00 -6.22147638e+00 -9.04576444e-01 -2.10022805e+01\n",
      "  3.98447325e-01 -4.81757209e+00]\n",
      "epi_encoded[0]: [-5.48853603e-01 -2.30270213e+00  9.04386282e-01 -1.37584239e+00\n",
      "  5.50088288e-01  1.12027069e-01  1.83994724e+00  3.03566000e-01\n",
      "  6.03102646e-01  7.65089553e-02 -2.55324019e+00 -7.25329348e-01\n",
      "  2.07734161e+00 -1.09227225e+00 -1.33087910e+00  1.54606174e+00\n",
      " -9.92103412e-01 -2.07034106e+00 -5.67239517e+00 -1.83423698e+00\n",
      " -3.38600470e-01 -1.31061900e+00 -1.09712243e+00 -7.32244317e+00\n",
      " -2.44139513e+00 -3.91165029e+00 -6.87950931e-01  1.35830098e+00\n",
      " -1.69807179e+00 -3.21667136e+00 -1.06990022e+00  1.00328001e+00\n",
      "  1.92184418e+00 -2.82953333e+00  2.23435896e+00 -2.73287318e+00\n",
      "  9.84522941e-01  1.53465046e+00 -2.84317486e+00  5.24273403e+00\n",
      "  1.35317223e+01 -3.15593386e+01  6.94586537e-01  5.10416513e-01\n",
      " -6.98105505e-01  9.34431296e-01 -1.06466400e+00 -8.58897613e-01\n",
      "  6.37144637e-01  1.10655656e+00 -7.02962726e-01  2.26706724e+00\n",
      " -1.31456677e+00 -1.20070335e+00 -5.79985231e-03 -2.79659780e+01\n",
      " -2.52120974e+00 -4.70093832e+00 -5.36647669e-01  2.94076123e+00\n",
      "  1.90194277e+00  9.40223175e-01 -1.31076554e+00 -1.58267421e+00\n",
      "  3.81261252e-01 -1.20578964e+00  3.53589498e-01  8.66332423e-01\n",
      "  8.34295731e-01 -4.24938397e-01  1.50192438e+00 -1.18531397e+00\n",
      " -1.02056641e+00  5.61023145e-01 -1.15645760e+00  1.81630054e+00\n",
      "  1.13006337e+00 -1.75138999e+00  3.68600289e+00  9.45153641e-01\n",
      "  1.99571777e+00 -1.40358634e+00 -1.29554214e+00 -1.76180575e+00\n",
      "  7.33725180e-01  9.79993859e-01  1.87506437e+00  8.64528173e-01\n",
      "  3.35321549e-01  2.78403232e-01 -8.86392326e-01  7.99825589e+00\n",
      " -2.17338816e+01 -2.36921925e+00 -6.89259203e-01 -5.05836138e-01\n",
      "  9.45939806e-01  2.59774440e-01  1.35610068e-01 -1.10140711e+00\n",
      " -2.70796176e-01 -3.58962220e-01]\n",
      "binding[0]: 1\n"
     ]
    }
   ],
   "source": [
    "import h5py\n",
    "import numpy as np\n",
    "\n",
    "# Path to your HDF5 file\n",
    "hdf5_path = \"../../../../../data/physico/descriptor_encoded_physchem.h5\"\n",
    "\n",
    "# Open the HDF5 file in read mode\n",
    "with h5py.File(hdf5_path, \"r\") as h5f:\n",
    "    print(\"Datasets in the file:\")\n",
    "    for key in h5f.keys():\n",
    "        data = h5f[key]\n",
    "        print(f\" - {key}: shape={data.shape}, dtype={data.dtype}\")\n",
    "        \n",
    "    # Optional: load datasets to inspect contents\n",
    "    tcr_encoded = h5f[\"tcr_encoded\"][:]\n",
    "    epi_encoded = h5f[\"epi_encoded\"][:]\n",
    "    binding = h5f[\"binding\"][:]\n",
    "    \n",
    "    # print(\"\\nSample data:\")\n",
    "    # print(\"tcr_encoded[0]:\", tcr_encoded[0])\n",
    "    # print(\"epi_encoded[0]:\", epi_encoded[0])\n",
    "    # print(\"binding[0]:\", binding[0])\n"
   ]
  },
  {
   "cell_type": "code",
   "execution_count": null,
   "id": "27bcbfbe",
   "metadata": {},
   "outputs": [],
   "source": [
    "train_file_path = \"../../../../../data/splitted_datasets/allele/beta/train.tsv\"\n",
    "\n",
    "train_data = pd.read_csv(train_file_path, sep=\"\\t\")\n",
    "# val_data = pd.read_csv(val_file_path, sep=\"\\t\")\n",
    "\n",
    "physchem_map = pd.read_csv(\"../../../../../data/physico/descriptor_encoded_physchem_mapping.tsv\", sep=\"\\t\")"
   ]
  },
  {
   "cell_type": "code",
   "execution_count": 5,
   "id": "3b814234",
   "metadata": {},
   "outputs": [
    {
     "data": {
      "text/html": [
       "<div>\n",
       "<style scoped>\n",
       "    .dataframe tbody tr th:only-of-type {\n",
       "        vertical-align: middle;\n",
       "    }\n",
       "\n",
       "    .dataframe tbody tr th {\n",
       "        vertical-align: top;\n",
       "    }\n",
       "\n",
       "    .dataframe thead th {\n",
       "        text-align: right;\n",
       "    }\n",
       "</style>\n",
       "<table border=\"1\" class=\"dataframe\">\n",
       "  <thead>\n",
       "    <tr style=\"text-align: right;\">\n",
       "      <th></th>\n",
       "      <th>TRB_CDR3</th>\n",
       "      <th>Epitope</th>\n",
       "      <th>physchem_index</th>\n",
       "    </tr>\n",
       "  </thead>\n",
       "  <tbody>\n",
       "    <tr>\n",
       "      <th>0</th>\n",
       "      <td>CAASQNTEAFF</td>\n",
       "      <td>ILDTAGKEEY</td>\n",
       "      <td>0</td>\n",
       "    </tr>\n",
       "    <tr>\n",
       "      <th>1</th>\n",
       "      <td>CASSLWEKLAKNIQYF</td>\n",
       "      <td>RQWGPDPAAV</td>\n",
       "      <td>1</td>\n",
       "    </tr>\n",
       "    <tr>\n",
       "      <th>2</th>\n",
       "      <td>CASSAGGGVETQYF</td>\n",
       "      <td>RAQAPPPSW</td>\n",
       "      <td>2</td>\n",
       "    </tr>\n",
       "    <tr>\n",
       "      <th>3</th>\n",
       "      <td>CASSQEFVGAVLDTQYF</td>\n",
       "      <td>TLREIRRYQK</td>\n",
       "      <td>3</td>\n",
       "    </tr>\n",
       "    <tr>\n",
       "      <th>4</th>\n",
       "      <td>CASRTRGGTLIEQYF</td>\n",
       "      <td>IPLTEEAEL</td>\n",
       "      <td>4</td>\n",
       "    </tr>\n",
       "  </tbody>\n",
       "</table>\n",
       "</div>"
      ],
      "text/plain": [
       "            TRB_CDR3     Epitope  physchem_index\n",
       "0        CAASQNTEAFF  ILDTAGKEEY               0\n",
       "1   CASSLWEKLAKNIQYF  RQWGPDPAAV               1\n",
       "2     CASSAGGGVETQYF   RAQAPPPSW               2\n",
       "3  CASSQEFVGAVLDTQYF  TLREIRRYQK               3\n",
       "4    CASRTRGGTLIEQYF   IPLTEEAEL               4"
      ]
     },
     "execution_count": 5,
     "metadata": {},
     "output_type": "execute_result"
    }
   ],
   "source": [
    "physchem_map = pd.read_csv(\"../../../../../data/physico/descriptor_encoded_physchem_mapping.tsv\", sep=\"\\t\")\n",
    "physchem_map.head()"
   ]
  },
  {
   "cell_type": "code",
   "execution_count": 9,
   "id": "64281371",
   "metadata": {},
   "outputs": [],
   "source": [
    "import pandas as pd\n",
    "import numpy as np\n",
    "import json\n",
    "from peptides import Peptide\n",
    "from sklearn.ensemble import RandomForestClassifier\n",
    "from sklearn.preprocessing import StandardScaler\n",
    "import wandb\n",
    "import joblib\n",
    "\n",
    "\n",
    "\n",
    "# --- Dateipfade definieren ---\n",
    "path_beta_train = \"../../../../../data/splitted_datasets/allele/beta/train.tsv\"\n",
    "\n",
    "# --- Daten laden ---\n",
    "\n",
    "df_beta_train = pd.read_csv(path_beta_train, sep=\"\\t\", index_col=False)\n",
    "\n",
    "# --- Relevante Spalten extrahieren ---\n",
    "df_physchem = df_beta_train[[\"TRB_CDR3\", \"Epitope\", \"Binding\"]].dropna()\n",
    "\n",
    "# --- Deskriptoren extrahieren ---\n",
    "def get_descriptors(seq):\n",
    "    try:\n",
    "        return Peptide(seq).descriptors()\n",
    "    except:\n",
    "        return {}\n",
    "\n",
    "\n",
    "tcr_desc = df_physchem[\"TRB_CDR3\"].apply(get_descriptors)\n",
    "\n",
    "epi_desc = df_physchem[\"Epitope\"].apply(get_descriptors)\n",
    "\n",
    "# --- Kombinieren & Label anhängen ---\n",
    "tcr_df = pd.DataFrame(tcr_desc.tolist()).add_prefix(\"tcr_\")\n",
    "epi_df = pd.DataFrame(epi_desc.tolist()).add_prefix(\"epi_\")\n",
    "desc_df = pd.concat([tcr_df, epi_df], axis=1)\n",
    "desc_df[\"label\"] = df_physchem[\"Binding\"].values"
   ]
  },
  {
   "cell_type": "code",
   "execution_count": 10,
   "id": "cfcca354",
   "metadata": {},
   "outputs": [
    {
     "data": {
      "text/html": [
       "<div>\n",
       "<style scoped>\n",
       "    .dataframe tbody tr th:only-of-type {\n",
       "        vertical-align: middle;\n",
       "    }\n",
       "\n",
       "    .dataframe tbody tr th {\n",
       "        vertical-align: top;\n",
       "    }\n",
       "\n",
       "    .dataframe thead th {\n",
       "        text-align: right;\n",
       "    }\n",
       "</style>\n",
       "<table border=\"1\" class=\"dataframe\">\n",
       "  <thead>\n",
       "    <tr style=\"text-align: right;\">\n",
       "      <th></th>\n",
       "      <th>tcr_AF1</th>\n",
       "      <th>tcr_AF2</th>\n",
       "      <th>tcr_AF3</th>\n",
       "      <th>tcr_AF4</th>\n",
       "      <th>tcr_AF5</th>\n",
       "      <th>tcr_BLOSUM1</th>\n",
       "      <th>tcr_BLOSUM2</th>\n",
       "      <th>tcr_BLOSUM3</th>\n",
       "      <th>tcr_BLOSUM4</th>\n",
       "      <th>tcr_BLOSUM5</th>\n",
       "      <th>...</th>\n",
       "      <th>epi_VSTPV3</th>\n",
       "      <th>epi_VSTPV4</th>\n",
       "      <th>epi_VSTPV5</th>\n",
       "      <th>epi_VSTPV6</th>\n",
       "      <th>epi_Z1</th>\n",
       "      <th>epi_Z2</th>\n",
       "      <th>epi_Z3</th>\n",
       "      <th>epi_Z4</th>\n",
       "      <th>epi_Z5</th>\n",
       "      <th>label</th>\n",
       "    </tr>\n",
       "  </thead>\n",
       "  <tbody>\n",
       "    <tr>\n",
       "      <th>0</th>\n",
       "      <td>0.116623</td>\n",
       "      <td>0.107142</td>\n",
       "      <td>-0.664915</td>\n",
       "      <td>-0.202693</td>\n",
       "      <td>-0.773033</td>\n",
       "      <td>0.163750</td>\n",
       "      <td>0.355625</td>\n",
       "      <td>-0.004375</td>\n",
       "      <td>0.140000</td>\n",
       "      <td>0.063750</td>\n",
       "      <td>...</td>\n",
       "      <td>0.873333</td>\n",
       "      <td>-0.120000</td>\n",
       "      <td>-0.292222</td>\n",
       "      <td>-0.190000</td>\n",
       "      <td>-1.600000</td>\n",
       "      <td>-1.887778</td>\n",
       "      <td>-0.216667</td>\n",
       "      <td>-0.367778</td>\n",
       "      <td>-0.067778</td>\n",
       "      <td>0</td>\n",
       "    </tr>\n",
       "    <tr>\n",
       "      <th>1</th>\n",
       "      <td>-0.353990</td>\n",
       "      <td>0.614071</td>\n",
       "      <td>0.038913</td>\n",
       "      <td>0.396322</td>\n",
       "      <td>0.154959</td>\n",
       "      <td>0.087059</td>\n",
       "      <td>-0.024118</td>\n",
       "      <td>0.442353</td>\n",
       "      <td>0.209412</td>\n",
       "      <td>-0.147059</td>\n",
       "      <td>...</td>\n",
       "      <td>0.752222</td>\n",
       "      <td>-0.386667</td>\n",
       "      <td>-0.404444</td>\n",
       "      <td>-0.460000</td>\n",
       "      <td>-1.313333</td>\n",
       "      <td>-1.450000</td>\n",
       "      <td>-0.264444</td>\n",
       "      <td>0.102222</td>\n",
       "      <td>0.783333</td>\n",
       "      <td>0</td>\n",
       "    </tr>\n",
       "    <tr>\n",
       "      <th>2</th>\n",
       "      <td>-0.449971</td>\n",
       "      <td>0.126705</td>\n",
       "      <td>-0.649627</td>\n",
       "      <td>0.545306</td>\n",
       "      <td>-0.315661</td>\n",
       "      <td>-0.208000</td>\n",
       "      <td>-0.359333</td>\n",
       "      <td>0.112667</td>\n",
       "      <td>0.168667</td>\n",
       "      <td>0.112667</td>\n",
       "      <td>...</td>\n",
       "      <td>0.873333</td>\n",
       "      <td>-0.120000</td>\n",
       "      <td>-0.292222</td>\n",
       "      <td>-0.190000</td>\n",
       "      <td>-1.600000</td>\n",
       "      <td>-1.887778</td>\n",
       "      <td>-0.216667</td>\n",
       "      <td>-0.367778</td>\n",
       "      <td>-0.067778</td>\n",
       "      <td>0</td>\n",
       "    </tr>\n",
       "    <tr>\n",
       "      <th>3</th>\n",
       "      <td>-0.407534</td>\n",
       "      <td>0.178883</td>\n",
       "      <td>-0.733281</td>\n",
       "      <td>0.354487</td>\n",
       "      <td>-0.543702</td>\n",
       "      <td>-0.087857</td>\n",
       "      <td>-0.133571</td>\n",
       "      <td>0.369286</td>\n",
       "      <td>0.005714</td>\n",
       "      <td>-0.006429</td>\n",
       "      <td>...</td>\n",
       "      <td>0.273333</td>\n",
       "      <td>-0.100000</td>\n",
       "      <td>0.223333</td>\n",
       "      <td>0.245556</td>\n",
       "      <td>-0.510000</td>\n",
       "      <td>0.527778</td>\n",
       "      <td>0.363333</td>\n",
       "      <td>-0.024444</td>\n",
       "      <td>-0.263333</td>\n",
       "      <td>0</td>\n",
       "    </tr>\n",
       "    <tr>\n",
       "      <th>4</th>\n",
       "      <td>-0.153087</td>\n",
       "      <td>0.078931</td>\n",
       "      <td>-0.513032</td>\n",
       "      <td>0.447260</td>\n",
       "      <td>-0.358088</td>\n",
       "      <td>0.275000</td>\n",
       "      <td>-0.159375</td>\n",
       "      <td>0.235000</td>\n",
       "      <td>0.161250</td>\n",
       "      <td>0.051250</td>\n",
       "      <td>...</td>\n",
       "      <td>0.497222</td>\n",
       "      <td>-0.150000</td>\n",
       "      <td>-0.432222</td>\n",
       "      <td>-0.352778</td>\n",
       "      <td>-2.537778</td>\n",
       "      <td>-0.733333</td>\n",
       "      <td>-0.138889</td>\n",
       "      <td>0.045000</td>\n",
       "      <td>0.142778</td>\n",
       "      <td>0</td>\n",
       "    </tr>\n",
       "  </tbody>\n",
       "</table>\n",
       "<p>5 rows × 205 columns</p>\n",
       "</div>"
      ],
      "text/plain": [
       "    tcr_AF1   tcr_AF2   tcr_AF3   tcr_AF4   tcr_AF5  tcr_BLOSUM1  tcr_BLOSUM2  \\\n",
       "0  0.116623  0.107142 -0.664915 -0.202693 -0.773033     0.163750     0.355625   \n",
       "1 -0.353990  0.614071  0.038913  0.396322  0.154959     0.087059    -0.024118   \n",
       "2 -0.449971  0.126705 -0.649627  0.545306 -0.315661    -0.208000    -0.359333   \n",
       "3 -0.407534  0.178883 -0.733281  0.354487 -0.543702    -0.087857    -0.133571   \n",
       "4 -0.153087  0.078931 -0.513032  0.447260 -0.358088     0.275000    -0.159375   \n",
       "\n",
       "   tcr_BLOSUM3  tcr_BLOSUM4  tcr_BLOSUM5  ...  epi_VSTPV3  epi_VSTPV4  \\\n",
       "0    -0.004375     0.140000     0.063750  ...    0.873333   -0.120000   \n",
       "1     0.442353     0.209412    -0.147059  ...    0.752222   -0.386667   \n",
       "2     0.112667     0.168667     0.112667  ...    0.873333   -0.120000   \n",
       "3     0.369286     0.005714    -0.006429  ...    0.273333   -0.100000   \n",
       "4     0.235000     0.161250     0.051250  ...    0.497222   -0.150000   \n",
       "\n",
       "   epi_VSTPV5  epi_VSTPV6    epi_Z1    epi_Z2    epi_Z3    epi_Z4    epi_Z5  \\\n",
       "0   -0.292222   -0.190000 -1.600000 -1.887778 -0.216667 -0.367778 -0.067778   \n",
       "1   -0.404444   -0.460000 -1.313333 -1.450000 -0.264444  0.102222  0.783333   \n",
       "2   -0.292222   -0.190000 -1.600000 -1.887778 -0.216667 -0.367778 -0.067778   \n",
       "3    0.223333    0.245556 -0.510000  0.527778  0.363333 -0.024444 -0.263333   \n",
       "4   -0.432222   -0.352778 -2.537778 -0.733333 -0.138889  0.045000  0.142778   \n",
       "\n",
       "   label  \n",
       "0      0  \n",
       "1      0  \n",
       "2      0  \n",
       "3      0  \n",
       "4      0  \n",
       "\n",
       "[5 rows x 205 columns]"
      ]
     },
     "execution_count": 10,
     "metadata": {},
     "output_type": "execute_result"
    }
   ],
   "source": [
    "desc_df.head()"
   ]
  },
  {
   "cell_type": "code",
   "execution_count": 13,
   "id": "e88d2648",
   "metadata": {},
   "outputs": [
    {
     "data": {
      "text/plain": [
       "Index(['tcr_AF1', 'tcr_AF2', 'tcr_AF3', 'tcr_AF4', 'tcr_AF5', 'tcr_BLOSUM1',\n",
       "       'tcr_BLOSUM2', 'tcr_BLOSUM3', 'tcr_BLOSUM4', 'tcr_BLOSUM5',\n",
       "       ...\n",
       "       'epi_VSTPV3', 'epi_VSTPV4', 'epi_VSTPV5', 'epi_VSTPV6', 'epi_Z1',\n",
       "       'epi_Z2', 'epi_Z3', 'epi_Z4', 'epi_Z5', 'label'],\n",
       "      dtype='object', length=205)"
      ]
     },
     "execution_count": 13,
     "metadata": {},
     "output_type": "execute_result"
    }
   ],
   "source": [
    "desc_df.columns"
   ]
  },
  {
   "cell_type": "code",
   "execution_count": 11,
   "id": "efa68727",
   "metadata": {},
   "outputs": [
    {
     "data": {
      "text/plain": [
       "0    {'AF1': 0.11662331749999999, 'AF2': 0.10714156...\n",
       "1    {'AF1': -0.353989505882353, 'AF2': 0.614071150...\n",
       "2    {'AF1': -0.44997075266666664, 'AF2': 0.1267049...\n",
       "3    {'AF1': -0.4075337807142857, 'AF2': 0.17888284...\n",
       "4    {'AF1': -0.153086564375, 'AF2': 0.078931039375...\n",
       "Name: TRB_CDR3, dtype: object"
      ]
     },
     "execution_count": 11,
     "metadata": {},
     "output_type": "execute_result"
    }
   ],
   "source": [
    "tcr_desc.head()"
   ]
  },
  {
   "cell_type": "code",
   "execution_count": 12,
   "id": "5f2d8ede",
   "metadata": {},
   "outputs": [],
   "source": [
    "# Convert the Series of dictionaries into a DataFrame (each key becomes a column)\n",
    "tcrs_df = pd.json_normalize(tcr_desc)\n",
    "\n",
    "# Save to CSV\n",
    "tcrs_df.to_csv(\"tcr_descriptors.csv\", index=False)\n",
    "\n",
    "# Convert the Series of dictionaries into a DataFrame (each key becomes a column)\n",
    "epitope_df = pd.json_normalize(epi_desc)\n",
    "\n",
    "# Save to CSV\n",
    "epitope_df.to_csv(\"epi_descriptors.csv\", index=False)"
   ]
  },
  {
   "cell_type": "code",
   "execution_count": null,
   "id": "8cc68f78",
   "metadata": {},
   "outputs": [],
   "source": []
  },
  {
   "cell_type": "code",
   "execution_count": null,
   "metadata": {},
   "outputs": [],
   "source": []
  },
  {
   "cell_type": "code",
   "execution_count": null,
   "metadata": {},
   "outputs": [],
   "source": []
  },
  {
   "cell_type": "code",
   "execution_count": null,
   "id": "422f1921",
   "metadata": {},
   "outputs": [],
   "source": []
  },
  {
   "cell_type": "markdown",
   "id": "a4525899",
   "metadata": {},
   "source": [
    "### some check on validatin file"
   ]
  },
  {
   "cell_type": "code",
   "execution_count": 6,
   "id": "de419bc8",
   "metadata": {},
   "outputs": [
    {
     "name": "stdout",
     "output_type": "stream",
     "text": [
      "Index(['TRB_CDR3', 'Epitope',\n",
      "       'TCR_name\\tTRAV\\tTRAJ\\tTRA_CDR3\\tTRBV\\tTRBJ\\tTRB_CDR3\\tTRB_leader\\tTRAC\\tTRBC\\tLinker\\tLink_order\\tTRA_5_prime_seq\\tTRA_3_prime_seq\\tTRB_5_prime_seq\\tTRB_3_prime_seq\\tEpitope\\tMHC\\tMHC class',\n",
      "       'TRBC', 'TRBV', 'TRBJ', 'MHC', 'TCR_name', 'Binding', 'task', 'source',\n",
      "       'task_predicted'],\n",
      "      dtype='object')\n"
     ]
    }
   ],
   "source": [
    "import pandas as pd\n",
    "\n",
    "valid_path = \"../../../../../data/splitted_datasets/allele/beta/validation.tsv\"\n",
    "df_sample = pd.read_csv(valid_path, sep='\\t', nrows=5)\n",
    "print(df_sample.columns)\n"
   ]
  },
  {
   "cell_type": "code",
   "execution_count": 7,
   "id": "b52a00aa",
   "metadata": {},
   "outputs": [
    {
     "name": "stdout",
     "output_type": "stream",
     "text": [
      "Data types in column 7: TCR_name\n",
      "<class 'str'>    131072\n",
      "<class 'int'>     55879\n",
      "Name: count, dtype: int64\n"
     ]
    },
    {
     "name": "stderr",
     "output_type": "stream",
     "text": [
      "/tmp/ipykernel_74266/3295248275.py:2: DtypeWarning: Columns (7) have mixed types. Specify dtype option on import or set low_memory=False.\n",
      "  df_full = pd.read_csv(valid_path, sep='\\t', usecols=[col_name])\n"
     ]
    }
   ],
   "source": [
    "col_name = df_sample.columns[7]  # 8th column\n",
    "df_full = pd.read_csv(valid_path, sep='\\t', usecols=[col_name])\n",
    "\n",
    "# Get type info\n",
    "types = df_full[col_name].map(type).value_counts()\n",
    "print(\"Data types in column 7:\", types)\n",
    "\n"
   ]
  }
 ],
 "metadata": {
  "kernelspec": {
   "display_name": "base",
   "language": "python",
   "name": "python3"
  },
  "language_info": {
   "codemirror_mode": {
    "name": "ipython",
    "version": 3
   },
   "file_extension": ".py",
   "mimetype": "text/x-python",
   "name": "python",
   "nbconvert_exporter": "python",
   "pygments_lexer": "ipython3",
   "version": "3.12.2"
  }
 },
 "nbformat": 4,
 "nbformat_minor": 5
}
