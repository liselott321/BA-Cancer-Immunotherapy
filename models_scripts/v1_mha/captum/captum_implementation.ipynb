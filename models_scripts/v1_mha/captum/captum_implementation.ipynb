{
 "cells": [
  {
   "cell_type": "markdown",
   "id": "13a64cbb",
   "metadata": {},
   "source": [
    "## CAPTUM"
   ]
  },
  {
   "cell_type": "markdown",
   "id": "f69d6d50",
   "metadata": {},
   "source": [
    "### Model v1"
   ]
  },
  {
   "cell_type": "code",
   "execution_count": 1,
   "id": "2a303d96",
   "metadata": {},
   "outputs": [],
   "source": [
    "import torch\n",
    "import torch.nn as nn\n",
    "\n",
    "import pandas as pd\n",
    "import h5py\n",
    "import torch\n",
    "import numpy as np\n",
    "import shap\n",
    "import wandb\n",
    "import os\n",
    "\n",
    "# class ResidualBlock(nn.Module):\n",
    "#     def __init__(self, hidden_dim, dropout):\n",
    "#         super(ResidualBlock, self).__init__()\n",
    "#         self.block = nn.Sequential(\n",
    "#             nn.BatchNorm1d(hidden_dim),\n",
    "#             nn.ReLU(),\n",
    "#             nn.Linear(hidden_dim, hidden_dim),\n",
    "#             nn.BatchNorm1d(hidden_dim),\n",
    "#             nn.ReLU(),\n",
    "#             nn.Dropout(dropout),\n",
    "#             nn.Linear(hidden_dim, hidden_dim)\n",
    "#         )\n",
    "class ResidualBlock(nn.Module):\n",
    "    def __init__(self, hidden_dim, dropout):\n",
    "        super(ResidualBlock, self).__init__()\n",
    "        self.block = nn.Sequential(\n",
    "            nn.LayerNorm(hidden_dim),\n",
    "            nn.ReLU(),\n",
    "            nn.Linear(hidden_dim, hidden_dim),\n",
    "            nn.LayerNorm(hidden_dim),\n",
    "            nn.ReLU(),\n",
    "            nn.Dropout(dropout),\n",
    "            nn.Linear(hidden_dim, hidden_dim)\n",
    "        )\n",
    "\n",
    "    def forward(self, x):\n",
    "        return x + self.block(x)\n",
    "\n",
    "class Classifier(nn.Module):\n",
    "    def __init__(self, input_dim, hidden_dim, dropout):\n",
    "        super(Classifier, self).__init__()\n",
    "        self.model = nn.Sequential(\n",
    "            ResidualBlock(input_dim, dropout),\n",
    "            nn.Linear(input_dim, 1)\n",
    "        )\n",
    "\n",
    "    def forward(self, x):\n",
    "        return self.model(x)\n",
    "\n",
    "class AttentionBlock(nn.Module):\n",
    "    def __init__(self, embed_dim, num_heads, dropout=0.1):\n",
    "        super(AttentionBlock, self).__init__()\n",
    "        self.attn = nn.MultiheadAttention(embed_dim, num_heads, dropout=dropout, batch_first=True)\n",
    "        self.norm1 = nn.LayerNorm(embed_dim)\n",
    "        self.dropout1 = nn.Dropout(dropout)\n",
    "        self.ff = nn.Sequential(\n",
    "            nn.Linear(embed_dim, embed_dim * 4),\n",
    "            nn.ReLU(),\n",
    "            nn.Dropout(dropout),\n",
    "            nn.Linear(embed_dim * 4, embed_dim)\n",
    "        )\n",
    "        self.norm2 = nn.LayerNorm(embed_dim)\n",
    "        self.dropout2 = nn.Dropout(dropout)\n",
    "\n",
    "    def forward(self, x, key_padding_mask=None):\n",
    "        attn_output, _ = self.attn(x, x, x, key_padding_mask=key_padding_mask)\n",
    "        x = self.norm1(x + self.dropout1(attn_output))\n",
    "        ff_output = self.ff(x)\n",
    "        x = self.norm2(x + self.dropout2(ff_output))\n",
    "        return x\n",
    "\n",
    "class LazyTCR_Epitope_Dataset(torch.utils.data.Dataset):\n",
    "    def __init__(self, data_frame, tcr_embeddings, epitope_embeddings):\n",
    "        \"\"\"\n",
    "        Args:\n",
    "            data_frame (DataFrame): The DataFrame containing sample data.\n",
    "            tcr_embeddings (h5py.File): HDF5 file containing TCR embeddings.\n",
    "            epitope_embeddings (h5py.File): HDF5 file containing epitope embeddings.\n",
    "        \"\"\"\n",
    "        self.data_frame = data_frame\n",
    "        self.tcr_embeddings = tcr_embeddings\n",
    "        self.epitope_embeddings = epitope_embeddings\n",
    "\n",
    "    def __len__(self):\n",
    "        return len(self.data_frame)\n",
    "\n",
    "    def __getitem__(self, idx):\n",
    "        sample = self.data_frame.iloc[idx]\n",
    "        tcr_id = sample['TRB_CDR3']  # Column name for TCR IDs\n",
    "        epitope_id = sample['Epitope']  # Column name for epitope IDs\n",
    "        label = sample['Binding']  # Target label\n",
    "\n",
    "        # Access embeddings lazily\n",
    "        tcr_embedding = self.tcr_embeddings[tcr_id][:]\n",
    "        epitope_embedding = self.epitope_embeddings[epitope_id][:]\n",
    "\n",
    "        return (\n",
    "            torch.tensor(tcr_embedding, dtype=torch.float32),\n",
    "            torch.tensor(epitope_embedding, dtype=torch.float32),\n",
    "            torch.tensor(label, dtype=torch.float32),\n",
    "        )\n",
    "\n",
    "class TCR_Epitope_Transformer(nn.Module):\n",
    "    def __init__(self, embed_dim=128, num_heads=4, num_layers=2, max_tcr_length=43, \n",
    "    max_epitope_length=43, dropout=0.1, classifier_hidden_dim=64):\n",
    "        super(TCR_Epitope_Transformer, self).__init__()\n",
    "        self.embed_dim = embed_dim\n",
    "        self.tcr_embedding = nn.Linear(1024, embed_dim)\n",
    "        self.epitope_embedding = nn.Linear(1024, embed_dim)\n",
    "\n",
    "        self.tcr_positional_encoding = nn.Parameter(torch.randn(1, max_tcr_length, embed_dim))\n",
    "        self.epitope_positional_encoding = nn.Parameter(torch.randn(1, max_epitope_length, embed_dim))\n",
    "\n",
    "        self.transformer_layers = nn.ModuleList([\n",
    "            AttentionBlock(embed_dim, num_heads, dropout) for _ in range(num_layers)\n",
    "        ])\n",
    "        self.classifier_input_dim = (max_tcr_length + max_epitope_length) * embed_dim\n",
    "\n",
    "        self.classifier = Classifier(self.classifier_input_dim, classifier_hidden_dim, dropout)\n",
    "\n",
    "    def forward(self, tcr, epitope):\n",
    "        tcr_emb = self.tcr_embedding(tcr)\n",
    "        epitope_emb = self.epitope_embedding(epitope)\n",
    "\n",
    "        # Create masks\n",
    "        tcr_mask = (tcr.sum(dim=-1) == 0)\n",
    "        epitope_mask = (epitope.sum(dim=-1) == 0)\n",
    "\n",
    "        # Add positional encoding\n",
    "        tcr_emb += self.tcr_positional_encoding[:, :tcr_emb.size(1), :]\n",
    "        epitope_emb += self.epitope_positional_encoding[:, :epitope_emb.size(1), :]\n",
    "\n",
    "        # Concatenate sequence and mask\n",
    "        combined = torch.cat([tcr_emb, epitope_emb], dim=1)\n",
    "        key_padding_mask = torch.cat([tcr_mask, epitope_mask], dim=1)\n",
    "\n",
    "        for layer in self.transformer_layers:\n",
    "            combined = layer(combined, key_padding_mask=key_padding_mask)\n",
    "\n",
    "        flattened = combined.view(combined.size(0), -1)  \n",
    "\n",
    "        output = self.classifier(flattened).squeeze(1)\n",
    "        return output"
   ]
  },
  {
   "cell_type": "code",
   "execution_count": 10,
   "id": "cf41d9db",
   "metadata": {},
   "outputs": [
    {
     "name": "stdout",
     "output_type": "stream",
     "text": [
      "TCR Embedding shape: torch.Size([43, 1024])\n",
      "Epitope Embedding shape: torch.Size([43, 1024])\n",
      "Label: tensor(1.)\n"
     ]
    }
   ],
   "source": [
    "\n",
    "# ---------------- Load Data ----------------\n",
    "\n",
    "device = torch.device(\"cuda\" if torch.cuda.is_available() else \"cpu\")\n",
    "\n",
    "train_path = \"../../../../../data/splitted_datasets/allele/beta/train.tsv\"\n",
    "train_epi_emb_path = \"../../../../../data/embeddings/beta/allele/dimension_1024/padded_train_epitope_embeddings_final.h5\"\n",
    "train_tcr_emb_path = \"../../../../../data/embeddings/beta/allele/dimension_1024/padded_train_tcr_embeddings_final.h5\"\n",
    "\n",
    "train_df = pd.read_csv(train_path, sep='\\t')\n",
    "binding_samples = train_df[train_df['Binding'] == 1].sample(4, random_state=42)\n",
    "non_binding_samples = train_df[train_df['Binding'] == 0].sample(4, random_state=42)\n",
    "selected_samples = pd.concat([binding_samples, non_binding_samples])\n",
    "selected_tcrs = selected_samples['TRB_CDR3'].tolist()\n",
    "selected_epitopes = selected_samples['Epitope'].tolist()\n",
    "\n",
    "def load_embeddings(h5_path, keys):\n",
    "    embeddings = []\n",
    "    with h5py.File(h5_path, 'r') as f:\n",
    "        for key in keys:\n",
    "            if key in f:\n",
    "                embeddings.append(f[key][:])\n",
    "            else:\n",
    "                raise ValueError(f\"Key '{key}' not found in {h5_path}\")\n",
    "    return np.stack(embeddings)\n",
    "\n",
    "tcr_embeddings = load_embeddings(train_tcr_emb_path, selected_tcrs)\n",
    "epi_embeddings = load_embeddings(train_epi_emb_path, selected_epitopes)\n",
    "# tcr_embeddings = torch.from_numpy(tcr_embeddings).float()\n",
    "# epi_embeddings = torch.from_numpy(epi_embeddings).float()\n",
    "\n",
    "class InMemoryTCR_Epitope_Dataset(torch.utils.data.Dataset):\n",
    "    def __init__(self, data_frame, tcr_embeddings, epitope_embeddings):\n",
    "        self.data_frame = data_frame.reset_index(drop=True)\n",
    "        self.tcr_embeddings = tcr_embeddings\n",
    "        self.epitope_embeddings = epitope_embeddings\n",
    "\n",
    "    def __len__(self):\n",
    "        return len(self.data_frame)\n",
    "\n",
    "    def __getitem__(self, idx):\n",
    "        sample = self.data_frame.iloc[idx]\n",
    "        return (\n",
    "            torch.tensor(self.tcr_embeddings[idx], dtype=torch.float32),\n",
    "            torch.tensor(self.epitope_embeddings[idx], dtype=torch.float32),\n",
    "            torch.tensor(sample['Binding'], dtype=torch.float32),\n",
    "        )\n",
    "dataset = InMemoryTCR_Epitope_Dataset(selected_samples, tcr_embeddings, epi_embeddings)\n",
    "\n",
    "\n",
    "# ---------------- adjustment ------------------\n",
    "\n",
    "\n",
    "# # Create dataset\n",
    "# dataset = LazyTCR_Epitope_Dataset(train_df, tcr_embeddings, epi_embeddings)\n",
    "\n",
    "# # Optional: create a DataLoader\n",
    "# batch_size = 128\n",
    "# dataloader = DataLoader(dataset, batch_size=batch_size, shuffle=True)\n",
    "\n",
    "# Quick sanity check\n",
    "sample_tcr, sample_epitope, sample_label = dataset[0]\n",
    "print(\"TCR Embedding shape:\", sample_tcr.shape)\n",
    "print(\"Epitope Embedding shape:\", sample_epitope.shape)\n",
    "print(\"Label:\", sample_label)\n",
    "\n",
    "# ------------------- until here -----------------\n",
    "\n",
    "# dataset = list(zip(tcr_embeddings, epi_embeddings))\n",
    "\n",
    "# background_tcr = torch.stack([dataset[i][0] for i in range(50)]).to(device)\n",
    "# background_epitope = torch.stack([dataset[i][1] for i in range(50)]).to(device)\n"
   ]
  },
  {
   "cell_type": "code",
   "execution_count": 2,
   "id": "b481393d",
   "metadata": {},
   "outputs": [
    {
     "name": "stderr",
     "output_type": "stream",
     "text": [
      "\u001b[34m\u001b[1mwandb\u001b[0m: Using wandb-core as the SDK backend.  Please refer to https://wandb.me/wandb-core for more information.\n",
      "\u001b[34m\u001b[1mwandb\u001b[0m: Currently logged in as: \u001b[33marina-frohofer\u001b[0m (\u001b[33mba_cancerimmunotherapy\u001b[0m). Use \u001b[1m`wandb login --relogin`\u001b[0m to force relogin\n"
     ]
    },
    {
     "data": {
      "text/html": [
       "Tracking run with wandb version 0.18.7"
      ],
      "text/plain": [
       "<IPython.core.display.HTML object>"
      ]
     },
     "metadata": {},
     "output_type": "display_data"
    },
    {
     "data": {
      "text/html": [
       "Run data is saved locally in <code>/home/ubuntu/oscar/BA-Cancer-Immunotherapy/models_scripts/v1_mha/captum/wandb/run-20250426_141935-bryxf5tr</code>"
      ],
      "text/plain": [
       "<IPython.core.display.HTML object>"
      ]
     },
     "metadata": {},
     "output_type": "display_data"
    },
    {
     "data": {
      "text/html": [
       "Syncing run <strong><a href='https://wandb.ai/ba_cancerimmunotherapy/BA-Cancer-Immunotherapy-models_scripts_v1_mha_captum/runs/bryxf5tr' target=\"_blank\">rosy-terrain-1</a></strong> to <a href='https://wandb.ai/ba_cancerimmunotherapy/BA-Cancer-Immunotherapy-models_scripts_v1_mha_captum' target=\"_blank\">Weights & Biases</a> (<a href='https://wandb.me/developer-guide' target=\"_blank\">docs</a>)<br/>"
      ],
      "text/plain": [
       "<IPython.core.display.HTML object>"
      ]
     },
     "metadata": {},
     "output_type": "display_data"
    },
    {
     "data": {
      "text/html": [
       " View project at <a href='https://wandb.ai/ba_cancerimmunotherapy/BA-Cancer-Immunotherapy-models_scripts_v1_mha_captum' target=\"_blank\">https://wandb.ai/ba_cancerimmunotherapy/BA-Cancer-Immunotherapy-models_scripts_v1_mha_captum</a>"
      ],
      "text/plain": [
       "<IPython.core.display.HTML object>"
      ]
     },
     "metadata": {},
     "output_type": "display_data"
    },
    {
     "data": {
      "text/html": [
       " View run at <a href='https://wandb.ai/ba_cancerimmunotherapy/BA-Cancer-Immunotherapy-models_scripts_v1_mha_captum/runs/bryxf5tr' target=\"_blank\">https://wandb.ai/ba_cancerimmunotherapy/BA-Cancer-Immunotherapy-models_scripts_v1_mha_captum/runs/bryxf5tr</a>"
      ],
      "text/plain": [
       "<IPython.core.display.HTML object>"
      ]
     },
     "metadata": {},
     "output_type": "display_data"
    },
    {
     "name": "stderr",
     "output_type": "stream",
     "text": [
      "\u001b[34m\u001b[1mwandb\u001b[0m: Downloading large artifact Run_v1_mha_1024_shap_model:v0, 926.60MB. 1 files... \n",
      "\u001b[34m\u001b[1mwandb\u001b[0m:   1 of 1 files downloaded.  \n",
      "Done. 0:0:5.9\n"
     ]
    }
   ],
   "source": [
    "# ---------------- Load Model ---------------- to be updated!!!\n",
    "\n",
    "run = wandb.init()\n",
    "artifact = run.use_artifact('ba_cancerimmunotherapy/dataset-allele/Run_v1_mha_1024_shap_model:v0', type='model')\n",
    "artifact_dir = artifact.download()\n",
    "model_file = os.path.join(artifact_dir, os.listdir(artifact_dir)[0])"
   ]
  },
  {
   "cell_type": "code",
   "execution_count": 4,
   "id": "f84e2d43",
   "metadata": {},
   "outputs": [
    {
     "name": "stderr",
     "output_type": "stream",
     "text": [
      "/tmp/ipykernel_131648/11261735.py:12: FutureWarning: You are using `torch.load` with `weights_only=False` (the current default value), which uses the default pickle module implicitly. It is possible to construct malicious pickle data which will execute arbitrary code during unpickling (See https://github.com/pytorch/pytorch/blob/main/SECURITY.md#untrusted-models for more details). In a future release, the default value for `weights_only` will be flipped to `True`. This limits the functions that could be executed during unpickling. Arbitrary objects will no longer be allowed to be loaded via this mode unless they are explicitly allowlisted by the user via `torch.serialization.add_safe_globals`. We recommend you start setting `weights_only=True` for any use case where you don't have full control of the loaded file. Please open an issue on GitHub for any issues related to this experimental feature.\n",
      "  model.load_state_dict(torch.load(model_file, map_location=device))\n"
     ]
    },
    {
     "data": {
      "text/plain": [
       "TCR_Epitope_Transformer(\n",
       "  (tcr_embedding): Linear(in_features=1024, out_features=128, bias=True)\n",
       "  (epitope_embedding): Linear(in_features=1024, out_features=128, bias=True)\n",
       "  (transformer_layers): ModuleList(\n",
       "    (0): AttentionBlock(\n",
       "      (attn): MultiheadAttention(\n",
       "        (out_proj): NonDynamicallyQuantizableLinear(in_features=128, out_features=128, bias=True)\n",
       "      )\n",
       "      (norm1): LayerNorm((128,), eps=1e-05, elementwise_affine=True)\n",
       "      (dropout1): Dropout(p=0.125, inplace=False)\n",
       "      (ff): Sequential(\n",
       "        (0): Linear(in_features=128, out_features=512, bias=True)\n",
       "        (1): ReLU()\n",
       "        (2): Dropout(p=0.125, inplace=False)\n",
       "        (3): Linear(in_features=512, out_features=128, bias=True)\n",
       "      )\n",
       "      (norm2): LayerNorm((128,), eps=1e-05, elementwise_affine=True)\n",
       "      (dropout2): Dropout(p=0.125, inplace=False)\n",
       "    )\n",
       "  )\n",
       "  (classifier): Classifier(\n",
       "    (model): Sequential(\n",
       "      (0): ResidualBlock(\n",
       "        (block): Sequential(\n",
       "          (0): LayerNorm((11008,), eps=1e-05, elementwise_affine=True)\n",
       "          (1): ReLU()\n",
       "          (2): Linear(in_features=11008, out_features=11008, bias=True)\n",
       "          (3): LayerNorm((11008,), eps=1e-05, elementwise_affine=True)\n",
       "          (4): ReLU()\n",
       "          (5): Dropout(p=0.125, inplace=False)\n",
       "          (6): Linear(in_features=11008, out_features=11008, bias=True)\n",
       "        )\n",
       "      )\n",
       "      (1): Linear(in_features=11008, out_features=1, bias=True)\n",
       "    )\n",
       "  )\n",
       ")"
      ]
     },
     "execution_count": 4,
     "metadata": {},
     "output_type": "execute_result"
    }
   ],
   "source": [
    "device = torch.device(\"cuda\" if torch.cuda.is_available() else \"cpu\")\n",
    "\n",
    "model = TCR_Epitope_Transformer(\n",
    "    embed_dim=128, \n",
    "    num_heads=4, \n",
    "    num_layers=1, \n",
    "    dropout=0.125, \n",
    "    max_tcr_length=43, \n",
    "    max_epitope_length=43, \n",
    "    classifier_hidden_dim=64\n",
    ").to(device)\n",
    "model.load_state_dict(torch.load(model_file, map_location=device))\n",
    "model.eval()\n"
   ]
  },
  {
   "cell_type": "code",
   "execution_count": 5,
   "id": "8b997e8a",
   "metadata": {},
   "outputs": [],
   "source": [
    "import torch\n",
    "from captum.attr import IntegratedGradients\n",
    "\n",
    "# # Suppose you already have your trained model\n",
    "# model.eval()\n",
    "\n",
    "# Example batch (adjust shape as needed)\n",
    "tcr_batch = torch.randn((4, 43, 1024))      # (batch_size, seq_len, embedding_dim)\n",
    "epitope_batch = torch.randn((4, 43, 1024))\n",
    "\n",
    "# Move to correct device\n",
    "device = torch.device(\"cuda\" if torch.cuda.is_available() else \"cpu\")\n",
    "model = model.to(device)\n",
    "tcr_batch = tcr_batch.to(device)\n",
    "epitope_batch = epitope_batch.to(device)\n"
   ]
  },
  {
   "cell_type": "code",
   "execution_count": 12,
   "id": "fe3c9fe8",
   "metadata": {},
   "outputs": [],
   "source": [
    "# Convert to tensors\n",
    "tcr_batch = torch.tensor(tcr_embeddings, dtype=torch.float32)\n",
    "epitope_batch = torch.tensor(epi_embeddings, dtype=torch.float32)\n",
    "\n",
    "tcr_batch = tcr_batch.to(device)\n",
    "epitope_batch = epitope_batch.to(device)"
   ]
  },
  {
   "cell_type": "code",
   "execution_count": 6,
   "id": "0e9aac5e",
   "metadata": {},
   "outputs": [],
   "source": [
    "class ModelWrapper(torch.nn.Module):\n",
    "    def __init__(self, model):\n",
    "        super(ModelWrapper, self).__init__()\n",
    "        self.model = model\n",
    "\n",
    "    def forward(self, inputs):\n",
    "        # inputs shape: (batch, 2, seq_len, embedding_dim)\n",
    "        tcr = inputs[:, 0, :, :]\n",
    "        epitope = inputs[:, 1, :, :]\n",
    "        return self.model(tcr, epitope)\n",
    "        \n",
    "wrapped_model = ModelWrapper(model)\n"
   ]
  },
  {
   "cell_type": "code",
   "execution_count": 13,
   "id": "b975201d",
   "metadata": {},
   "outputs": [],
   "source": [
    "# Stack TCR and Epitope together for Captum\n",
    "inputs = torch.stack([tcr_batch, epitope_batch], dim=1)  # (batch_size, 2, seq_len, embedding_dim)\n",
    "\n",
    "# You can pick a single sample for easier debugging\n",
    "input_sample = inputs[0:1]\n"
   ]
  },
  {
   "cell_type": "code",
   "execution_count": 14,
   "id": "10cbbfcc",
   "metadata": {},
   "outputs": [
    {
     "name": "stdout",
     "output_type": "stream",
     "text": [
      "Attributions shape: torch.Size([1, 2, 43, 1024])\n",
      "Convergence delta: tensor([nan], device='cuda:0')\n"
     ]
    }
   ],
   "source": [
    "# Initialize Integrated Gradients\n",
    "ig = IntegratedGradients(wrapped_model)\n",
    "\n",
    "# Compute attributions\n",
    "attributions, delta = ig.attribute(\n",
    "    input_sample,\n",
    "    target=None,    # Assuming binary output; if multiclass, specify target class\n",
    "    return_convergence_delta=True,\n",
    "    n_steps=50\n",
    ")\n",
    "\n",
    "print(\"Attributions shape:\", attributions.shape)\n",
    "print(\"Convergence delta:\", delta)\n"
   ]
  },
  {
   "cell_type": "code",
   "execution_count": 15,
   "id": "08d8b804",
   "metadata": {},
   "outputs": [
    {
     "data": {
      "image/png": "[encoded data removed]",
      "text/plain": [
       "<Figure size 1200x500 with 2 Axes>"
      ]
     },
     "metadata": {},
     "output_type": "display_data"
    }
   ],
   "source": [
    "import matplotlib.pyplot as plt\n",
    "\n",
    "# Split TCR and Epitope attributions\n",
    "tcr_attr = attributions[:, 0, :, :].squeeze(0)      # (seq_len, embed_dim)\n",
    "epitope_attr = attributions[:, 1, :, :].squeeze(0)\n",
    "\n",
    "# Sum absolute attributions over embedding dimension\n",
    "tcr_importance = tcr_attr.abs().sum(dim=-1).detach().cpu().numpy()\n",
    "epitope_importance = epitope_attr.abs().sum(dim=-1).detach().cpu().numpy()\n",
    "\n",
    "# Plot\n",
    "plt.figure(figsize=(12, 5))\n",
    "plt.subplot(1, 2, 1)\n",
    "plt.plot(tcr_importance)\n",
    "plt.title(\"TCR Position Importance\")\n",
    "\n",
    "plt.subplot(1, 2, 2)\n",
    "plt.plot(epitope_importance)\n",
    "plt.title(\"Epitope Position Importance\")\n",
    "\n",
    "plt.show()\n"
   ]
  },
  {
   "cell_type": "code",
   "execution_count": null,
   "id": "f0ec884c",
   "metadata": {},
   "outputs": [],
   "source": []
  },
  {
   "cell_type": "code",
   "execution_count": null,
   "id": "677e037b",
   "metadata": {},
   "outputs": [],
   "source": []
  },
  {
   "cell_type": "markdown",
   "id": "dfabe007",
   "metadata": {},
   "source": [
    "## Captum on v2-model"
   ]
  },
  {
   "cell_type": "markdown",
   "id": "2e414290",
   "metadata": {},
   "source": [
    "#### v2_mha_1024_res_more_features"
   ]
  },
  {
   "cell_type": "code",
   "execution_count": 1,
   "id": "56c79297",
   "metadata": {},
   "outputs": [],
   "source": [
    "import torch\n",
    "import torch.nn as nn\n",
    "from torch.utils.data import Dataset\n",
    "\n",
    "import pandas as pd\n",
    "import h5py\n",
    "import torch\n",
    "import numpy as np\n",
    "import shap\n",
    "import wandb\n",
    "import os\n",
    "\n",
    "class ResidualBlock(nn.Module):\n",
    "    def __init__(self, hidden_dim, dropout):\n",
    "        super(ResidualBlock, self).__init__()\n",
    "        self.block = nn.Sequential(\n",
    "            nn.BatchNorm1d(hidden_dim),\n",
    "            nn.ReLU(),\n",
    "            nn.Linear(hidden_dim, hidden_dim),\n",
    "            nn.BatchNorm1d(hidden_dim),\n",
    "            nn.ReLU(),\n",
    "            nn.Dropout(dropout), # - Nochmals prüfen, ob wirklich notwendig vlt auslassen  \n",
    "            nn.Linear(hidden_dim, hidden_dim)\n",
    "        )\n",
    "\n",
    "    def forward(self, x):\n",
    "        return x + self.block(x)\n",
    "\n",
    "\n",
    "class Classifier(nn.Module):\n",
    "    def __init__(self, input_dim, hidden_dim, dropout):\n",
    "        super(Classifier, self).__init__()\n",
    "        self.model = nn.Sequential(\n",
    "            #nn.Linear(input_dim, hidden_dim),\n",
    "            #nn.BatchNorm1d(hidden_dim),\n",
    "            #nn.ReLU(),\n",
    "            #nn.Dropout(dropout),\n",
    "            ResidualBlock(input_dim, dropout),\n",
    "            nn.Linear(input_dim, 1)\n",
    "        )\n",
    "\n",
    "    def forward(self, x):\n",
    "        return self.model(x)\n",
    "\n",
    "class AttentionBlock(nn.Module):\n",
    "    def __init__(self, embed_dim, num_heads, dropout=0.1):\n",
    "        super(AttentionBlock, self).__init__()\n",
    "        self.attn = nn.MultiheadAttention(embed_dim, num_heads, dropout=dropout, batch_first=True)\n",
    "        self.norm1 = nn.LayerNorm(embed_dim)\n",
    "        self.dropout1 = nn.Dropout(dropout) # Im Transformer Dropout ohne versuchen / Sequentiell ja () Anders Paper noch - wie sie es gmacht haben im AB \n",
    "        self.ff = nn.Sequential(\n",
    "            nn.Linear(embed_dim, embed_dim * 4),\n",
    "            nn.ReLU(),\n",
    "            nn.Dropout(dropout), \n",
    "            nn.Linear(embed_dim * 4, embed_dim)\n",
    "        )\n",
    "        self.norm2 = nn.LayerNorm(embed_dim)\n",
    "        self.dropout2 = nn.Dropout(dropout)\n",
    "\n",
    "    def forward(self, x, key_padding_mask=None):\n",
    "        attn_output, _ = self.attn(x, x, x, key_padding_mask=key_padding_mask)\n",
    "        x = self.norm1(x + self.dropout1(attn_output))\n",
    "        ff_output = self.ff(x)\n",
    "        x = self.norm2(x + self.dropout2(ff_output))\n",
    "        return x\n",
    "\n",
    "# class LazyTCR_Epitope_Dataset(torch.utils.data.Dataset):\n",
    "#     def __init__(self, data_frame, tcr_embeddings, epitope_embeddings,\n",
    "#                  trbv_dict, trbj_dict, mhc_dict):\n",
    "#         self.data_frame = data_frame\n",
    "#         self.tcr_embeddings = tcr_embeddings\n",
    "#         self.epitope_embeddings = epitope_embeddings\n",
    "\n",
    "#         # Dictionary-Zuweisung\n",
    "#         self.trbv_dict = trbv_dict\n",
    "#         self.trbj_dict = trbj_dict\n",
    "#         self.mhc_dict = mhc_dict\n",
    "\n",
    "#         # Berechne UNKNOWN-Indices\n",
    "#         self.unknown_trbv_idx = len(trbv_dict)\n",
    "#         self.unknown_trbj_idx = len(trbj_dict)\n",
    "#         self.unknown_mhc_idx = len(mhc_dict)\n",
    "\n",
    "#         self.data_frame[\"TRBV_Index\"] = data_frame[\"TRBV\"].map(trbv_dict).fillna(self.unknown_trbv_idx).astype(int)\n",
    "#         self.data_frame[\"TRBJ_Index\"] = data_frame[\"TRBJ\"].map(trbj_dict).fillna(self.unknown_trbj_idx).astype(int)\n",
    "#         self.data_frame[\"MHC_Index\"] = data_frame[\"MHC\"].map(mhc_dict).fillna(self.unknown_mhc_idx).astype(int)\n",
    "\n",
    "#         # Sicherheit\n",
    "#         assert self.data_frame[\"TRBV_Index\"].max() < (self.unknown_trbv_idx + 1), \"TRBV_Index out of range!\"\n",
    "#         assert self.data_frame[\"TRBJ_Index\"].max() < (self.unknown_trbj_idx + 1), \"TRBJ_Index out of range!\"\n",
    "#         assert self.data_frame[\"MHC_Index\"].max() < (self.unknown_mhc_idx + 1), \"MHC_Index out of range!\"\n",
    "\n",
    "\n",
    "#     def __getitem__(self, idx):\n",
    "#         sample = self.data_frame.iloc[idx]\n",
    "#         tcr_id = sample[\"TRB_CDR3\"]\n",
    "#         epitope_id = sample[\"Epitope\"]\n",
    "#         label = sample[\"Binding\"]\n",
    "\n",
    "#         tcr_embedding = self.tcr_embeddings[tcr_id][:]\n",
    "#         epitope_embedding = self.epitope_embeddings[epitope_id][:]\n",
    "\n",
    "#         return (\n",
    "#             torch.tensor(tcr_embedding, dtype=torch.float32),\n",
    "#             torch.tensor(epitope_embedding, dtype=torch.float32),\n",
    "#             torch.tensor(sample[\"TRBV_Index\"], dtype=torch.long),\n",
    "#             torch.tensor(sample[\"TRBJ_Index\"], dtype=torch.long),\n",
    "#             torch.tensor(sample[\"MHC_Index\"], dtype=torch.long),\n",
    "#             torch.tensor(label, dtype=torch.float32)\n",
    "#         )\n",
    "\n",
    "#     def __len__(self):\n",
    "#         return len(self.data_frame)\n",
    "\n",
    "\n",
    "class LazyTCR_Epitope_Dataset(Dataset):\n",
    "    def __init__(self, data_frame, tcr_embeddings, epitope_embeddings, trbv_dict, trbj_dict, mhc_dict):\n",
    "        \"\"\"\n",
    "        Args:\n",
    "            data_frame (pd.DataFrame): The dataframe containing sample metadata.\n",
    "            tcr_embeddings (np.array): TCR embeddings (ordered).\n",
    "            epitope_embeddings (np.array): Epitope embeddings (ordered).\n",
    "            trbv_dict (dict): Mapping from TRBV genes to indices.\n",
    "            trbj_dict (dict): Mapping from TRBJ genes to indices.\n",
    "            mhc_dict (dict): Mapping from MHC alleles to indices.\n",
    "        \"\"\"\n",
    "        self.data_frame = data_frame.reset_index(drop=True)\n",
    "\n",
    "        # Build mapping from ID to embedding\n",
    "        self.tcr_embeddings = {tcr_id: emb for tcr_id, emb in zip(data_frame[\"TRB_CDR3\"], tcr_embeddings)}\n",
    "        self.epitope_embeddings = {epi_id: emb for epi_id, emb in zip(data_frame[\"Epitope\"], epitope_embeddings)}\n",
    "\n",
    "        self.trbv_dict = trbv_dict\n",
    "        self.trbj_dict = trbj_dict\n",
    "        self.mhc_dict  = mhc_dict\n",
    "\n",
    "        # Define unknown indices\n",
    "        self.unknown_trbv_idx = len(trbv_dict)\n",
    "        self.unknown_trbj_idx = len(trbj_dict)\n",
    "        self.unknown_mhc_idx  = len(mhc_dict)\n",
    "\n",
    "    def __len__(self):\n",
    "        return len(self.data_frame)\n",
    "\n",
    "    def __getitem__(self, idx):\n",
    "        sample = self.data_frame.iloc[idx]\n",
    "\n",
    "        tcr_id = sample[\"TRB_CDR3\"]\n",
    "        epitope_id = sample[\"Epitope\"]\n",
    "        label = sample[\"Binding\"]\n",
    "\n",
    "        # Get embeddings safely\n",
    "        try:\n",
    "            tcr_embedding = self.tcr_embeddings[tcr_id]\n",
    "        except KeyError:\n",
    "            raise ValueError(f\"TCR ID {tcr_id} not found in tcr_embeddings dictionary.\")\n",
    "        \n",
    "        try:\n",
    "            epitope_embedding = self.epitope_embeddings[epitope_id]\n",
    "        except KeyError:\n",
    "            raise ValueError(f\"Epitope ID {epitope_id} not found in epitope_embeddings dictionary.\")\n",
    "\n",
    "        # Map TRBV, TRBJ, MHC to index, default to unknown\n",
    "        trbv_idx = self.trbv_dict.get(sample[\"TRBV\"], self.unknown_trbv_idx)\n",
    "        trbj_idx = self.trbj_dict.get(sample[\"TRBJ\"], self.unknown_trbj_idx)\n",
    "        mhc_idx  = self.mhc_dict.get(sample[\"MHC\"],  self.unknown_mhc_idx)\n",
    "\n",
    "        return (\n",
    "            torch.tensor(tcr_embedding, dtype=torch.float32),\n",
    "            torch.tensor(epitope_embedding, dtype=torch.float32),\n",
    "            torch.tensor(trbv_idx, dtype=torch.long).unsqueeze(0),  # Embedding layers expect (batch, 1)\n",
    "            torch.tensor(trbj_idx, dtype=torch.long).unsqueeze(0),\n",
    "            torch.tensor(mhc_idx, dtype=torch.long).unsqueeze(0),\n",
    "            torch.tensor(label, dtype=torch.float32)\n",
    "        )\n",
    "\n",
    "\n",
    "class TCR_Epitope_Transformer(nn.Module):\n",
    "    def __init__(self, embed_dim=128, num_heads=4, num_layers=2, max_tcr_length=20, max_epitope_length=15,\n",
    "             dropout=0.1, classifier_hidden_dim=64,\n",
    "             trbv_vocab_size=50, trbj_vocab_size=20, mhc_vocab_size=100):\n",
    "        super(TCR_Epitope_Transformer, self).__init__()\n",
    "        self.embed_dim = embed_dim\n",
    "        self.tcr_embedding = nn.Linear(1024, embed_dim)\n",
    "        self.epitope_embedding = nn.Linear(1024, embed_dim)\n",
    "        self.trbv_embed = nn.Embedding(trbv_vocab_size, embed_dim, padding_idx=trbv_vocab_size - 1)\n",
    "        self.trbj_embed = nn.Embedding(trbj_vocab_size, embed_dim, padding_idx=trbj_vocab_size - 1)\n",
    "        self.mhc_embed  = nn.Embedding(mhc_vocab_size,  embed_dim, padding_idx=mhc_vocab_size - 1)\n",
    "\n",
    "        self.tcr_positional_encoding = nn.Parameter(torch.randn(1, max_tcr_length, embed_dim))\n",
    "        self.epitope_positional_encoding = nn.Parameter(torch.randn(1, max_epitope_length, embed_dim))\n",
    "\n",
    "        self.transformer_layers = nn.ModuleList([\n",
    "            AttentionBlock(embed_dim, num_heads, dropout) for _ in range(num_layers)\n",
    "        ])\n",
    "\n",
    "        #self.classifier_input_dim = 11392 \n",
    "        self.classifier_input_dim = (max_tcr_length + max_epitope_length) * embed_dim + 3 * embed_dim\n",
    "\n",
    "        self.classifier = Classifier(self.classifier_input_dim, classifier_hidden_dim, dropout)\n",
    "\n",
    "\n",
    "    def forward(self, tcr, epitope, trbv, trbj, mhc):\n",
    "        tcr_emb = self.tcr_embedding(tcr)\n",
    "        epitope_emb = self.epitope_embedding(epitope)\n",
    "        trbv_embed = self.trbv_embed(trbv).squeeze(1)\n",
    "        trbj_embed = self.trbj_embed(trbj).squeeze(1)\n",
    "        mhc_embed = self.mhc_embed(mhc).squeeze(1)\n",
    "\n",
    "        # Create masks\n",
    "        tcr_mask = (tcr.sum(dim=-1) == 0)\n",
    "        epitope_mask = (epitope.sum(dim=-1) == 0)\n",
    "\n",
    "        # Add positional encoding\n",
    "        tcr_emb += self.tcr_positional_encoding[:, :tcr_emb.size(1), :]\n",
    "        epitope_emb += self.epitope_positional_encoding[:, :epitope_emb.size(1), :]\n",
    "\n",
    "        # Concatenate sequence and mask\n",
    "        combined = torch.cat([tcr_emb, epitope_emb], dim=1)\n",
    "        key_padding_mask = torch.cat([tcr_mask, epitope_mask], dim=1)\n",
    "\n",
    "        for layer in self.transformer_layers:\n",
    "            combined = layer(combined, key_padding_mask=key_padding_mask)\n",
    "\n",
    "        # Flatten the combined sequences + embeddings\n",
    "        flattened = combined.view(combined.size(0), -1)\n",
    "\n",
    "        # Alle Merkmale (TCR, Epitope, MHC, TRBV, TRBJ) für den Klassifikator zusammenführen\n",
    "        combined_features = torch.cat([flattened, trbv_embed, trbj_embed, mhc_embed], dim=1)\n",
    "\n",
    "        output = self.classifier(combined_features).squeeze(1)\n",
    "        return output"
   ]
  },
  {
   "cell_type": "code",
   "execution_count": 2,
   "id": "df71ee15",
   "metadata": {},
   "outputs": [],
   "source": [
    "import torch.nn as nn\n",
    "\n",
    "class ModelWrapper(nn.Module):\n",
    "    def __init__(self, model):\n",
    "        super(ModelWrapper, self).__init__()\n",
    "        self.model = model\n",
    "\n",
    "    def forward(self, tcr, epitope, trbv, trbj, mhc):\n",
    "        return self.model(tcr, epitope, trbv, trbj, mhc)\n"
   ]
  },
  {
   "cell_type": "code",
   "execution_count": 3,
   "id": "12dc04ed",
   "metadata": {},
   "outputs": [
    {
     "name": "stderr",
     "output_type": "stream",
     "text": [
      "/tmp/ipykernel_33008/1340836317.py:12: DtypeWarning: Columns (7) have mixed types. Specify dtype option on import or set low_memory=False.\n",
      "  valid_df = pd.read_csv(valid_path, sep='\\t')\n"
     ]
    }
   ],
   "source": [
    "\n",
    "# ---------------- Load Data ----------------\n",
    "\n",
    "device = torch.device(\"cuda\" if torch.cuda.is_available() else \"cpu\")\n",
    "\n",
    "train_path = \"../../../../../data/splitted_datasets/allele/beta/train.tsv\"\n",
    "valid_path = \"../../../../../data/splitted_datasets/allele/beta/validation.tsv\"\n",
    "\n",
    "train_epi_emb_path = \"../../../../../data/embeddings/beta/allele/dimension_1024/padded_train_epitope_embeddings_final.h5\"\n",
    "train_tcr_emb_path = \"../../../../../data/embeddings/beta/allele/dimension_1024/padded_train_tcr_embeddings_final.h5\"\n",
    "\n",
    "train_df = pd.read_csv(train_path, sep='\\t')\n",
    "valid_df = pd.read_csv(valid_path, sep='\\t')\n",
    "\n",
    "# load an amount n*2 of samples (n positives, n negatives)\n",
    "n_samples = 4\n",
    "binding_samples = train_df[train_df['Binding'] == 1].sample(n_samples, random_state=42)\n",
    "non_binding_samples = train_df[train_df['Binding'] == 0].sample(n_samples, random_state=42)\n",
    "selected_samples = pd.concat([binding_samples, non_binding_samples])\n",
    "selected_tcrs = selected_samples['TRB_CDR3'].tolist()\n",
    "selected_epitopes = selected_samples['Epitope'].tolist()\n",
    "\n",
    "def load_embeddings(h5_path, keys):\n",
    "    embeddings = []\n",
    "    with h5py.File(h5_path, 'r') as f:\n",
    "        for key in keys:\n",
    "            if key in f:\n",
    "                embeddings.append(f[key][:])\n",
    "            else:\n",
    "                raise ValueError(f\"Key '{key}' not found in {h5_path}\")\n",
    "    return np.stack(embeddings)\n",
    "\n",
    "tcr_embeddings = load_embeddings(train_tcr_emb_path, selected_tcrs)\n",
    "epi_embeddings = load_embeddings(train_epi_emb_path, selected_epitopes)\n",
    "\n",
    "# Convert to tensors\n",
    "tcr_batch = torch.tensor(tcr_embeddings, dtype=torch.float32)\n",
    "epitope_batch = torch.tensor(epi_embeddings, dtype=torch.float32)"
   ]
  },
  {
   "cell_type": "code",
   "execution_count": 4,
   "id": "c70aad44",
   "metadata": {},
   "outputs": [
    {
     "name": "stdout",
     "output_type": "stream",
     "text": [
      "162\n",
      "30\n",
      "63\n"
     ]
    }
   ],
   "source": [
    "trbv_dict = {v: i for i, v in enumerate(train_df[\"TRBV\"].unique())}\n",
    "trbj_dict = {v: i for i, v in enumerate(train_df[\"TRBJ\"].unique())}\n",
    "mhc_dict  = {v: i for i, v in enumerate(train_df[\"MHC\"].unique())}\n",
    "\n",
    "UNKNOWN_TRBV_IDX = len(trbv_dict)\n",
    "UNKNOWN_TRBJ_IDX = len(trbj_dict)\n",
    "UNKNOWN_MHC_IDX  = len(mhc_dict)\n",
    "\n",
    "for df in [train_df, valid_df]:\n",
    "    df[\"TRBV_Index\"] = df[\"TRBV\"].map(trbv_dict).fillna(UNKNOWN_TRBV_IDX).astype(int)\n",
    "    df[\"TRBJ_Index\"] = df[\"TRBJ\"].map(trbj_dict).fillna(UNKNOWN_TRBJ_IDX).astype(int)\n",
    "    df[\"MHC_Index\"]  = df[\"MHC\"].map(mhc_dict).fillna(UNKNOWN_MHC_IDX).astype(int)\n",
    "\n",
    "# Vokabulargrößen bestimmen\n",
    "trbv_vocab_size = UNKNOWN_TRBV_IDX + 1\n",
    "trbj_vocab_size = UNKNOWN_TRBJ_IDX + 1\n",
    "mhc_vocab_size  = UNKNOWN_MHC_IDX + 1\n",
    "\n",
    "print(trbv_vocab_size)\n",
    "print(trbj_vocab_size)\n",
    "print(mhc_vocab_size)\n",
    "\n",
    "trbv_dict = {v: i for i, v in enumerate(selected_samples[\"TRBV\"].unique())}\n",
    "trbj_dict = {v: i for i, v in enumerate(selected_samples[\"TRBJ\"].unique())}\n",
    "mhc_dict  = {v: i for i, v in enumerate(selected_samples[\"MHC\"].unique())}\n",
    "\n",
    "\n",
    "dataset = LazyTCR_Epitope_Dataset(selected_samples, tcr_embeddings, epi_embeddings,\n",
    "                                  trbv_dict, trbj_dict, mhc_dict)\n"
   ]
  },
  {
   "cell_type": "code",
   "execution_count": 9,
   "id": "c028a286",
   "metadata": {},
   "outputs": [],
   "source": [
    "# Assume you have dataloader or dataset\n",
    "sample = dataset[0]    # (tcr, epitope, trbv, trbj, mhc, label)\n",
    "tcr_sample, epitope_sample, trbv_sample, trbj_sample, mhc_sample, label = sample\n",
    "\n",
    "# Add batch dimension and fix types\n",
    "tcr_sample = tcr_sample.unsqueeze(0).float().to(device)\n",
    "epitope_sample = epitope_sample.unsqueeze(0).float().to(device)\n",
    "trbv_sample = trbv_sample.unsqueeze(0).long().to(device)\n",
    "trbj_sample = trbj_sample.unsqueeze(0).long().to(device)\n",
    "mhc_sample = mhc_sample.unsqueeze(0).long().to(device)\n"
   ]
  },
  {
   "cell_type": "code",
   "execution_count": 6,
   "id": "494bc824",
   "metadata": {},
   "outputs": [
    {
     "name": "stderr",
     "output_type": "stream",
     "text": [
      "\u001b[34m\u001b[1mwandb\u001b[0m: Using wandb-core as the SDK backend.  Please refer to https://wandb.me/wandb-core for more information.\n",
      "\u001b[34m\u001b[1mwandb\u001b[0m: Currently logged in as: \u001b[33marina-frohofer\u001b[0m (\u001b[33mba_cancerimmunotherapy\u001b[0m). Use \u001b[1m`wandb login --relogin`\u001b[0m to force relogin\n"
     ]
    },
    {
     "data": {
      "text/html": [
       "Tracking run with wandb version 0.18.7"
      ],
      "text/plain": [
       "<IPython.core.display.HTML object>"
      ]
     },
     "metadata": {},
     "output_type": "display_data"
    },
    {
     "data": {
      "text/html": [
       "Run data is saved locally in <code>/home/ubuntu/oscar/BA-Cancer-Immunotherapy/models_scripts/v1_mha/captum/wandb/run-20250428_092505-wc7m1fyr</code>"
      ],
      "text/plain": [
       "<IPython.core.display.HTML object>"
      ]
     },
     "metadata": {},
     "output_type": "display_data"
    },
    {
     "data": {
      "text/html": [
       "Syncing run <strong><a href='https://wandb.ai/ba_cancerimmunotherapy/BA-Cancer-Immunotherapy-models_scripts_v1_mha_captum/runs/wc7m1fyr' target=\"_blank\">crisp-durian-7</a></strong> to <a href='https://wandb.ai/ba_cancerimmunotherapy/BA-Cancer-Immunotherapy-models_scripts_v1_mha_captum' target=\"_blank\">Weights & Biases</a> (<a href='https://wandb.me/developer-guide' target=\"_blank\">docs</a>)<br/>"
      ],
      "text/plain": [
       "<IPython.core.display.HTML object>"
      ]
     },
     "metadata": {},
     "output_type": "display_data"
    },
    {
     "data": {
      "text/html": [
       " View project at <a href='https://wandb.ai/ba_cancerimmunotherapy/BA-Cancer-Immunotherapy-models_scripts_v1_mha_captum' target=\"_blank\">https://wandb.ai/ba_cancerimmunotherapy/BA-Cancer-Immunotherapy-models_scripts_v1_mha_captum</a>"
      ],
      "text/plain": [
       "<IPython.core.display.HTML object>"
      ]
     },
     "metadata": {},
     "output_type": "display_data"
    },
    {
     "data": {
      "text/html": [
       " View run at <a href='https://wandb.ai/ba_cancerimmunotherapy/BA-Cancer-Immunotherapy-models_scripts_v1_mha_captum/runs/wc7m1fyr' target=\"_blank\">https://wandb.ai/ba_cancerimmunotherapy/BA-Cancer-Immunotherapy-models_scripts_v1_mha_captum/runs/wc7m1fyr</a>"
      ],
      "text/plain": [
       "<IPython.core.display.HTML object>"
      ]
     },
     "metadata": {},
     "output_type": "display_data"
    },
    {
     "name": "stderr",
     "output_type": "stream",
     "text": [
      "\u001b[34m\u001b[1mwandb\u001b[0m: Downloading large artifact Run_v1_mha_1024h_model:v21, 994.82MB. 1 files... \n",
      "\u001b[34m\u001b[1mwandb\u001b[0m:   1 of 1 files downloaded.  \n",
      "Done. 0:0:6.2\n",
      "/tmp/ipykernel_33008/1323064587.py:15: FutureWarning: You are using `torch.load` with `weights_only=False` (the current default value), which uses the default pickle module implicitly. It is possible to construct malicious pickle data which will execute arbitrary code during unpickling (See https://github.com/pytorch/pytorch/blob/main/SECURITY.md#untrusted-models for more details). In a future release, the default value for `weights_only` will be flipped to `True`. This limits the functions that could be executed during unpickling. Arbitrary objects will no longer be allowed to be loaded via this mode unless they are explicitly allowlisted by the user via `torch.serialization.add_safe_globals`. We recommend you start setting `weights_only=True` for any use case where you don't have full control of the loaded file. Please open an issue on GitHub for any issues related to this experimental feature.\n",
      "  model.load_state_dict(torch.load(model_file, map_location=device))\n"
     ]
    },
    {
     "data": {
      "text/plain": [
       "<All keys matched successfully>"
      ]
     },
     "execution_count": 6,
     "metadata": {},
     "output_type": "execute_result"
    }
   ],
   "source": [
    "run = wandb.init()\n",
    "artifact = run.use_artifact('ba_cancerimmunotherapy/dataset-allele/Run_v1_mha_1024h_model:v21', type='model')\n",
    "artifact_dir = artifact.download()\n",
    "model_file = os.path.join(artifact_dir, os.listdir(artifact_dir)[0])\n",
    "\n",
    "device = torch.device(\"cuda\" if torch.cuda.is_available() else \"cpu\")\n",
    "\n",
    "model = TCR_Epitope_Transformer(embed_dim=128, num_heads=8, \n",
    "num_layers=4, max_tcr_length=43, max_epitope_length=43,\n",
    "             dropout=0.1, classifier_hidden_dim=64,\n",
    "             trbv_vocab_size=trbv_vocab_size, \n",
    "             trbj_vocab_size=trbj_vocab_size, \n",
    "             mhc_vocab_size=mhc_vocab_size,\n",
    "             ).to(device)\n",
    "model.load_state_dict(torch.load(model_file, map_location=device))\n"
   ]
  },
  {
   "cell_type": "code",
   "execution_count": 29,
   "id": "d57db077",
   "metadata": {},
   "outputs": [
    {
     "data": {
      "text/plain": [
       "Embedding(162, 128, padding_idx=161)"
      ]
     },
     "execution_count": 29,
     "metadata": {},
     "output_type": "execute_result"
    }
   ],
   "source": [
    "model.tcr_embedding\n",
    "model.trbv_embed"
   ]
  },
  {
   "cell_type": "code",
   "execution_count": 12,
   "id": "ca07ca85",
   "metadata": {},
   "outputs": [
    {
     "name": "stdout",
     "output_type": "stream",
     "text": [
      "Attributions returned: <class 'tuple'> 2\n",
      "Attribution 0: shape torch.Size([1, 43, 1024])\n",
      "Attribution 1: shape torch.Size([1, 43, 1024])\n"
     ]
    }
   ],
   "source": [
    "from captum.attr import IntegratedGradients\n",
    "# inputs = (\n",
    "#     tcr_sample, \n",
    "#     epitope_sample, \n",
    "#     trbv_sample,     \n",
    "#     trbj_sample,\n",
    "#     mhc_sample\n",
    "# )\n",
    "inputs = (tcr_sample, epitope_sample)  # Only continuous inputs\n",
    "\n",
    "additional_args = (trbv_sample, trbj_sample, mhc_sample)  # Categorical features separately\n",
    "\n",
    "\n",
    "wrapped_model = ModelWrapper(model)\n",
    "\n",
    "wrapped_model = wrapped_model.to(device)\n",
    "wrapped_model.eval()\n",
    "\n",
    "\n",
    "ig = IntegratedGradients(wrapped_model)\n",
    "\n",
    "# attributions, delta = ig.attribute(\n",
    "#     inputs,\n",
    "#     target=None,\n",
    "#     return_convergence_delta=True,\n",
    "#     n_steps=50\n",
    "# )\n",
    "attributions, delta = ig.attribute(\n",
    "    inputs,\n",
    "    target=None,\n",
    "    additional_forward_args=additional_args,\n",
    "    return_convergence_delta=True,\n",
    "    n_steps=50\n",
    ")\n",
    "\n",
    "\n",
    "print(\"Attributions returned:\", type(attributions), len(attributions))\n",
    "for i, attr in enumerate(attributions):\n",
    "    print(f\"Attribution {i}: shape {attr.shape}\")\n",
    "\n",
    "\n"
   ]
  },
  {
   "cell_type": "code",
   "execution_count": null,
   "id": "9fc6b87e",
   "metadata": {},
   "outputs": [],
   "source": [
    "def plot_categorical_attribution(attr, title):\n",
    "    attr = attr.squeeze(0).detach().cpu().numpy()\n",
    "    summed_attr = np.sum(np.abs(attr), axis=-1)  # Sum over embedding dimension if needed\n",
    "\n",
    "    plt.figure(figsize=(6, 3))\n",
    "    plt.bar(range(len(summed_attr)), summed_attr)\n",
    "    plt.title(title)\n",
    "    plt.xlabel(\"Embedding Feature Index\")\n",
    "    plt.ylabel(\"Importance (Summed Attribution)\")\n",
    "    plt.tight_layout()\n",
    "    plt.show()\n",
    "plot_categorical_attribution(attributions[2], \"TRBV Embedding Attribution\")\n",
    "plot_categorical_attribution(attributions[3], \"TRBJ Embedding Attribution\")\n",
    "plot_categorical_attribution(attributions[4], \"MHC Embedding Attribution\")\n"
   ]
  },
  {
   "cell_type": "code",
   "execution_count": 37,
   "id": "1699a893",
   "metadata": {},
   "outputs": [
    {
     "data": {
      "image/png": "[encoded data removed]",
      "text/plain": [
       "<Figure size 1600x600 with 2 Axes>"
      ]
     },
     "metadata": {},
     "output_type": "display_data"
    }
   ],
   "source": [
    "import matplotlib.pyplot as plt\n",
    "import numpy as np\n",
    "\n",
    "def plot_attributions(attributions, titles=None, figsize=(16, 6)):\n",
    "    \"\"\"\n",
    "    Plot attributions from Integrated Gradients.\n",
    "    \n",
    "    Args:\n",
    "        attributions (tuple of tensors): attribution tensors (tcr_attr, epitope_attr).\n",
    "        titles (list): titles for subplots.\n",
    "        figsize (tuple): size of the whole figure.\n",
    "    \"\"\"\n",
    "    num_inputs = len(attributions)\n",
    "    if titles is None:\n",
    "        titles = [f\"Input {i}\" for i in range(num_inputs)]\n",
    "    \n",
    "    fig, axes = plt.subplots(1, num_inputs, figsize=figsize)\n",
    "\n",
    "    if num_inputs == 1:\n",
    "        axes = [axes]  # Make it iterable if only one plot\n",
    "\n",
    "    for i, attr in enumerate(attributions):\n",
    "        attr = attr.squeeze(0).detach().cpu().numpy()  # Remove batch dimension, move to CPU\n",
    "        summed_attr = np.sum(np.abs(attr), axis=-1)    # Sum across feature dimension if necessary\n",
    "\n",
    "        axes[i].imshow(summed_attr[np.newaxis, :], cmap='viridis', aspect='auto')\n",
    "        axes[i].set_title(titles[i])\n",
    "        axes[i].set_yticks([])\n",
    "        axes[i].set_xlabel(\"Position / Feature Index\")\n",
    "\n",
    "    plt.tight_layout()\n",
    "    plt.show()\n",
    "plot_attributions(attributions)"
   ]
  },
  {
   "cell_type": "code",
   "execution_count": null,
   "id": "1a8a894a",
   "metadata": {},
   "outputs": [],
   "source": []
  },
  {
   "cell_type": "code",
   "execution_count": null,
   "metadata": {},
   "outputs": [],
   "source": []
  },
  {
   "cell_type": "markdown",
   "id": "42cc4b98",
   "metadata": {},
   "source": [
    "## Captum on v3"
   ]
  },
  {
   "cell_type": "markdown",
   "id": "115428d8",
   "metadata": {},
   "source": [
    "#### v3_mha_1024_res_php.py"
   ]
  },
  {
   "cell_type": "code",
   "execution_count": null,
   "id": "f6d3b4ee",
   "metadata": {},
   "outputs": [],
   "source": [
    "import torch\n",
    "import torch.nn as nn\n",
    "import h5py\n",
    "\n",
    "class ResidualBlock(nn.Module):\n",
    "    def __init__(self, hidden_dim, dropout):\n",
    "        super(ResidualBlock, self).__init__()\n",
    "        self.block = nn.Sequential(\n",
    "            nn.LayerNorm(hidden_dim),\n",
    "            nn.ReLU(),\n",
    "            nn.Linear(hidden_dim, hidden_dim),\n",
    "            nn.LayerNorm(hidden_dim),\n",
    "            nn.ReLU(),\n",
    "            nn.Dropout(dropout),\n",
    "            nn.Linear(hidden_dim, hidden_dim)\n",
    "        )\n",
    "\n",
    "    def forward(self, x):\n",
    "        return x + self.block(x)\n",
    "\n",
    "class Classifier(nn.Module):\n",
    "    def __init__(self, input_dim, hidden_dim, dropout):\n",
    "        super(Classifier, self).__init__()\n",
    "        self.model = nn.Sequential(\n",
    "            nn.Linear(input_dim, hidden_dim),\n",
    "            nn.LayerNorm(hidden_dim),\n",
    "            nn.ReLU(),\n",
    "            nn.Dropout(dropout),\n",
    "            ResidualBlock(hidden_dim, dropout),\n",
    "            nn.Linear(hidden_dim, 1)\n",
    "        )\n",
    "\n",
    "    def forward(self, x):\n",
    "        return self.model(x)\n",
    "\n",
    "class AttentionBlock(nn.Module):\n",
    "    def __init__(self, embed_dim, num_heads, dropout=0.1):\n",
    "        super(AttentionBlock, self).__init__()\n",
    "        self.attn = nn.MultiheadAttention(embed_dim, num_heads, dropout=dropout, batch_first=True)\n",
    "        self.norm1 = nn.LayerNorm(embed_dim)\n",
    "        self.dropout1 = nn.Dropout(dropout)\n",
    "        self.ff = nn.Sequential(\n",
    "            nn.Linear(embed_dim, embed_dim * 4),\n",
    "            nn.ReLU(),\n",
    "            nn.Dropout(dropout),\n",
    "            nn.Linear(embed_dim * 4, embed_dim)\n",
    "        )\n",
    "        self.norm2 = nn.LayerNorm(embed_dim)\n",
    "        self.dropout2 = nn.Dropout(dropout)\n",
    "\n",
    "    def forward(self, x, key_padding_mask=None):\n",
    "        attn_output, _ = self.attn(x, x, x, key_padding_mask=key_padding_mask)\n",
    "        x = self.norm1(x + self.dropout1(attn_output))\n",
    "        ff_output = self.ff(x)\n",
    "        x = self.norm2(x + self.dropout2(ff_output))\n",
    "        return x\n",
    "\n",
    "class LazyTCR_Epitope_Descriptor_Dataset(torch.utils.data.Dataset):\n",
    "    def __init__(self, data_frame, tcr_embeddings, epitope_embeddings, physchem_h5_path):\n",
    "        self.data_frame = data_frame\n",
    "        self.tcr_embeddings = tcr_embeddings\n",
    "        self.epitope_embeddings = epitope_embeddings\n",
    "        self.physchem_data = physchem_h5_path\n",
    "\n",
    "    def __len__(self):\n",
    "        return len(self.data_frame)\n",
    "\n",
    "    def __getitem__(self, idx):\n",
    "        sample = self.data_frame.iloc[idx]\n",
    "        tcr_id = sample[\"TRB_CDR3\"]\n",
    "        epitope_id = sample[\"Epitope\"]\n",
    "        label = sample[\"Binding\"]\n",
    "        phys_idx = sample[\"physchem_index\"]  # <- RICHTIG\n",
    "    \n",
    "        tcr_embedding = self.tcr_embeddings[tcr_id][:]\n",
    "        epitope_embedding = self.epitope_embeddings[epitope_id][:]\n",
    "        tcr_physchem = self.physchem_data[\"tcr_encoded\"][phys_idx]\n",
    "        epi_physchem = self.physchem_data[\"epi_encoded\"][phys_idx]\n",
    "    \n",
    "        return (\n",
    "            torch.tensor(tcr_embedding, dtype=torch.float32),\n",
    "            torch.tensor(epitope_embedding, dtype=torch.float32),\n",
    "            torch.tensor(tcr_physchem, dtype=torch.float32),\n",
    "            torch.tensor(epi_physchem, dtype=torch.float32),\n",
    "            torch.tensor(label, dtype=torch.float32),\n",
    "        )\n",
    "\n",
    "class TCR_Epitope_Transformer(nn.Module):\n",
    "    def __init__(self, embed_dim=128, num_heads=4, num_layers=2, max_tcr_length=43, max_epitope_length=43,\n",
    "                 dropout=0.1, classifier_hidden_dim=64, physchem_dim=10):\n",
    "        super(TCR_Epitope_Transformer, self).__init__()\n",
    "        self.embed_dim = embed_dim\n",
    "        self.tcr_embedding = nn.Linear(1024, embed_dim)\n",
    "        self.epitope_embedding = nn.Linear(1024, embed_dim)\n",
    "\n",
    "        self.tcr_positional_encoding = nn.Parameter(torch.randn(1, max_tcr_length, embed_dim))\n",
    "        self.epitope_positional_encoding = nn.Parameter(torch.randn(1, max_epitope_length, embed_dim))\n",
    "\n",
    "        self.transformer_layers = nn.ModuleList([\n",
    "            AttentionBlock(embed_dim, num_heads, dropout) for _ in range(num_layers)\n",
    "        ])\n",
    "\n",
    "        self.physchem_dim = physchem_dim\n",
    "        self.classifier_input_dim = embed_dim * (max_tcr_length + max_epitope_length) + physchem_dim * 2\n",
    "\n",
    "        self.classifier = Classifier(self.classifier_input_dim, classifier_hidden_dim, dropout)\n",
    "\n",
    "    def forward(self, tcr, epitope, tcr_physchem=None, epi_physchem=None):\n",
    "        tcr_emb = self.tcr_embedding(tcr)\n",
    "        epitope_emb = self.epitope_embedding(epitope)\n",
    "    \n",
    "        # Create masks\n",
    "        tcr_mask = (tcr.sum(dim=-1) == 0)\n",
    "        epitope_mask = (epitope.sum(dim=-1) == 0)\n",
    "    \n",
    "        # Add positional encoding\n",
    "        tcr_emb += self.tcr_positional_encoding[:, :tcr_emb.size(1), :]\n",
    "        epitope_emb += self.epitope_positional_encoding[:, :epitope_emb.size(1), :]\n",
    "    \n",
    "        # Concatenate sequence and mask\n",
    "        combined = torch.cat([tcr_emb, epitope_emb], dim=1)\n",
    "        key_padding_mask = torch.cat([tcr_mask, epitope_mask], dim=1)\n",
    "    \n",
    "        for layer in self.transformer_layers:\n",
    "            combined = layer(combined, key_padding_mask=key_padding_mask)\n",
    "    \n",
    "        # flattening + classifier\n",
    "        flattened = combined.view(combined.size(0), -1)  # [batch_size, total_seq_len * embed_dim]\n",
    "    \n",
    "        # Physikochemie anhängen\n",
    "        if tcr_physchem is not None and epi_physchem is not None:\n",
    "            self.physchem_dim = tcr_physchem.shape[1]\n",
    "            flattened = torch.cat([flattened, tcr_physchem, epi_physchem], dim=1)\n",
    "            self.classifier_input_dim += self.physchem_dim * 2\n",
    "    \n",
    "        output = self.classifier(flattened).squeeze(1)\n",
    "        return output\n"
   ]
  }
 ],
 "metadata": {
  "kernelspec": {
   "display_name": "base",
   "language": "python",
   "name": "python3"
  },
  "language_info": {
   "codemirror_mode": {
    "name": "ipython",
    "version": 3
   },
   "file_extension": ".py",
   "mimetype": "text/x-python",
   "name": "python",
   "nbconvert_exporter": "python",
   "pygments_lexer": "ipython3",
   "version": "3.12.2"
  }
 },
 "nbformat": 4,
 "nbformat_minor": 5
}
