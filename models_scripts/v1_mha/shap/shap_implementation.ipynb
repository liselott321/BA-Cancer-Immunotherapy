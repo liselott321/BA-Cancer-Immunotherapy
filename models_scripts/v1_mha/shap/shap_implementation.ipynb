{
 "cells": [
  {
   "cell_type": "code",
   "execution_count": 12,
   "id": "383e3ed9",
   "metadata": {},
   "outputs": [],
   "source": [
    "import shap\n",
    "import torch\n",
    "import torch.nn as nn\n",
    "import sys\n",
    "import os"
   ]
  },
  {
   "cell_type": "code",
   "execution_count": 13,
   "id": "f789daa1",
   "metadata": {},
   "outputs": [],
   "source": [
    "class ResidualBlock(nn.Module):\n",
    "    def __init__(self, hidden_dim, dropout):\n",
    "        super(ResidualBlock, self).__init__()\n",
    "        self.block = nn.Sequential(\n",
    "            nn.BatchNorm1d(hidden_dim),\n",
    "            nn.ReLU(),\n",
    "            nn.Linear(hidden_dim, hidden_dim),\n",
    "            nn.BatchNorm1d(hidden_dim),\n",
    "            nn.ReLU(),\n",
    "            nn.Dropout(dropout), # - Nochmals prüfen, ob wirklich notwendig vlt auslassen  \n",
    "            nn.Linear(hidden_dim, hidden_dim)\n",
    "        )\n",
    "\n",
    "    def forward(self, x):\n",
    "        return x + self.block(x)\n",
    "\n",
    "\n",
    "class Classifier(nn.Module):\n",
    "    def __init__(self, input_dim, hidden_dim, dropout):\n",
    "        super(Classifier, self).__init__()\n",
    "        self.model = nn.Sequential(\n",
    "            #nn.Linear(input_dim, hidden_dim),\n",
    "            #nn.BatchNorm1d(hidden_dim),\n",
    "            #nn.ReLU(),\n",
    "            #nn.Dropout(dropout),\n",
    "            ResidualBlock(input_dim, dropout),\n",
    "            nn.Linear(input_dim, 1)\n",
    "        )\n",
    "\n",
    "    def forward(self, x):\n",
    "        return self.model(x)\n",
    "\n",
    "class AttentionBlock(nn.Module):\n",
    "    def __init__(self, embed_dim, num_heads, dropout=0.1):\n",
    "        super(AttentionBlock, self).__init__()\n",
    "        self.attn = nn.MultiheadAttention(embed_dim, num_heads, dropout=dropout, batch_first=True)\n",
    "        self.norm1 = nn.LayerNorm(embed_dim)\n",
    "        self.dropout1 = nn.Dropout(dropout) # Im Transformer Dropout ohne versuchen / Sequentiell ja () Anders Paper noch - wie sie es gmacht haben im AB \n",
    "        self.ff = nn.Sequential(\n",
    "            nn.Linear(embed_dim, embed_dim * 4),\n",
    "            nn.ReLU(),\n",
    "            nn.Dropout(dropout), \n",
    "            nn.Linear(embed_dim * 4, embed_dim)\n",
    "        )\n",
    "        self.norm2 = nn.LayerNorm(embed_dim)\n",
    "        self.dropout2 = nn.Dropout(dropout)\n",
    "\n",
    "    def forward(self, x, key_padding_mask=None):\n",
    "        attn_output, _ = self.attn(x, x, x, key_padding_mask=key_padding_mask)\n",
    "        x = self.norm1(x + self.dropout1(attn_output))\n",
    "        ff_output = self.ff(x)\n",
    "        x = self.norm2(x + self.dropout2(ff_output))\n",
    "        return x\n",
    "\n",
    "class LazyTCR_Epitope_Dataset(torch.utils.data.Dataset):\n",
    "    def __init__(self, data_frame, tcr_embeddings, epitope_embeddings,\n",
    "                 trbv_dict, trbj_dict, mhc_dict):\n",
    "        self.data_frame = data_frame\n",
    "        self.tcr_embeddings = tcr_embeddings\n",
    "        self.epitope_embeddings = epitope_embeddings\n",
    "\n",
    "        # Dictionary-Zuweisung\n",
    "        self.trbv_dict = trbv_dict\n",
    "        self.trbj_dict = trbj_dict\n",
    "        self.mhc_dict = mhc_dict\n",
    "\n",
    "        # Berechne UNKNOWN-Indices\n",
    "        self.unknown_trbv_idx = len(trbv_dict)\n",
    "        self.unknown_trbj_idx = len(trbj_dict)\n",
    "        self.unknown_mhc_idx = len(mhc_dict)\n",
    "\n",
    "        self.data_frame[\"TRBV_Index\"] = data_frame[\"TRBV\"].map(trbv_dict).fillna(self.unknown_trbv_idx).astype(int)\n",
    "        self.data_frame[\"TRBJ_Index\"] = data_frame[\"TRBJ\"].map(trbj_dict).fillna(self.unknown_trbj_idx).astype(int)\n",
    "        self.data_frame[\"MHC_Index\"] = data_frame[\"MHC\"].map(mhc_dict).fillna(self.unknown_mhc_idx).astype(int)\n",
    "\n",
    "        # Sicherheit\n",
    "        assert self.data_frame[\"TRBV_Index\"].max() < (self.unknown_trbv_idx + 1), \"TRBV_Index out of range!\"\n",
    "        assert self.data_frame[\"TRBJ_Index\"].max() < (self.unknown_trbj_idx + 1), \"TRBJ_Index out of range!\"\n",
    "        assert self.data_frame[\"MHC_Index\"].max() < (self.unknown_mhc_idx + 1), \"MHC_Index out of range!\"\n",
    "\n",
    "\n",
    "    def __getitem__(self, idx):\n",
    "        sample = self.data_frame.iloc[idx]\n",
    "        tcr_id = sample[\"TRB_CDR3\"]\n",
    "        epitope_id = sample[\"Epitope\"]\n",
    "        label = sample[\"Binding\"]\n",
    "\n",
    "        tcr_embedding = self.tcr_embeddings[tcr_id][:]\n",
    "        epitope_embedding = self.epitope_embeddings[epitope_id][:]\n",
    "\n",
    "        return (\n",
    "            torch.tensor(tcr_embedding, dtype=torch.float32),\n",
    "            torch.tensor(epitope_embedding, dtype=torch.float32),\n",
    "            torch.tensor(sample[\"TRBV_Index\"], dtype=torch.long),\n",
    "            torch.tensor(sample[\"TRBJ_Index\"], dtype=torch.long),\n",
    "            torch.tensor(sample[\"MHC_Index\"], dtype=torch.long),\n",
    "            torch.tensor(label, dtype=torch.float32)\n",
    "        )\n",
    "\n",
    "    def __len__(self):\n",
    "        return len(self.data_frame)\n",
    "\n",
    "\n",
    "class TCR_Epitope_Transformer(nn.Module):\n",
    "    def __init__(self, embed_dim=128, num_heads=4, num_layers=2, max_tcr_length=20, max_epitope_length=15,\n",
    "             dropout=0.1, classifier_hidden_dim=64,\n",
    "             trbv_vocab_size=50, trbj_vocab_size=20, mhc_vocab_size=100):\n",
    "        super(TCR_Epitope_Transformer, self).__init__()\n",
    "        self.embed_dim = embed_dim\n",
    "        self.tcr_embedding = nn.Linear(1024, embed_dim)\n",
    "        self.epitope_embedding = nn.Linear(1024, embed_dim)\n",
    "        self.trbv_embed = nn.Embedding(trbv_vocab_size, embed_dim, padding_idx=trbv_vocab_size - 1)\n",
    "        self.trbj_embed = nn.Embedding(trbj_vocab_size, embed_dim, padding_idx=trbj_vocab_size - 1)\n",
    "        self.mhc_embed  = nn.Embedding(mhc_vocab_size,  embed_dim, padding_idx=mhc_vocab_size - 1)\n",
    "         \n",
    "        #self.tcr_bn = nn.BatchNorm1d(max_tcr_length) # Wieso? Nochmals prüfen, ob notwendig -\n",
    "        #self.epitope_bn = nn.BatchNorm1d(max_epitope_length) # Wieso? Nochmals prüfen, ob notwendig -\n",
    "\n",
    "        self.tcr_positional_encoding = nn.Parameter(torch.randn(1, max_tcr_length, embed_dim))\n",
    "        self.epitope_positional_encoding = nn.Parameter(torch.randn(1, max_epitope_length, embed_dim))\n",
    "\n",
    "        self.transformer_layers = nn.ModuleList([\n",
    "            AttentionBlock(embed_dim, num_heads, dropout) for _ in range(num_layers)\n",
    "        ])\n",
    "\n",
    "        #self.classifier_input_dim = embed_dim * 2\n",
    "        #self.classifier_input_dim = (max_tcr_length + max_epitope_length) * embed_dim\n",
    "        #self.classifier_input_dim = embed_dim * 5\n",
    "        \n",
    "        #self.classifier_input_dim = 11392 \n",
    "        self.classifier_input_dim = (max_tcr_length + max_epitope_length) * embed_dim + 3 * embed_dim\n",
    "\n",
    "        self.classifier = Classifier(self.classifier_input_dim, classifier_hidden_dim, dropout)\n",
    "\n",
    "\n",
    "    def forward(self, tcr, epitope, trbv, trbj, mhc, return_combined_features=False):\n",
    "        tcr_emb = self.tcr_embedding(tcr)\n",
    "        epitope_emb = self.epitope_embedding(epitope)\n",
    "        trbv_embed = self.trbv_embed(trbv).squeeze(1)\n",
    "        trbj_embed = self.trbj_embed(trbj).squeeze(1)\n",
    "        mhc_embed = self.mhc_embed(mhc).squeeze(1)\n",
    "\n",
    "        # Optional: normalize across sequence\n",
    "        #tcr_emb = self.tcr_bn(tcr_emb)\n",
    "        #epitope_emb = self.epitope_bn(epitope_emb)\n",
    "\n",
    "        # Create masks\n",
    "        tcr_mask = (tcr.sum(dim=-1) == 0)\n",
    "        epitope_mask = (epitope.sum(dim=-1) == 0)\n",
    "\n",
    "        # Add positional encoding\n",
    "        tcr_emb += self.tcr_positional_encoding[:, :tcr_emb.size(1), :]\n",
    "        epitope_emb += self.epitope_positional_encoding[:, :epitope_emb.size(1), :]\n",
    "\n",
    "        # Concatenate sequence and mask\n",
    "        combined = torch.cat([tcr_emb, epitope_emb], dim=1)\n",
    "        key_padding_mask = torch.cat([tcr_mask, epitope_mask], dim=1)\n",
    "\n",
    "        for layer in self.transformer_layers:\n",
    "            combined = layer(combined, key_padding_mask=key_padding_mask)\n",
    "\n",
    "        # Flatten the combined sequences + embeddings\n",
    "        flattened = combined.view(combined.size(0), -1)\n",
    "\n",
    "        # Alle Merkmale (TCR, Epitope, MHC, TRBV, TRBJ) für den Klassifikator zusammenführen\n",
    "        combined_features = torch.cat([flattened, trbv_embed, trbj_embed, mhc_embed], dim=1)\n",
    "\n",
    "        output = self.classifier(combined_features).squeeze(1)       \n",
    "\n",
    "        if return_combined_features:\n",
    "            return combined_features\n",
    "\n",
    "        return output"
   ]
  },
  {
   "cell_type": "code",
   "execution_count": 14,
   "id": "3d243f2a",
   "metadata": {},
   "outputs": [
    {
     "data": {
      "text/plain": [
       "TCR_Epitope_Transformer(\n",
       "  (tcr_embedding): Linear(in_features=1024, out_features=128, bias=True)\n",
       "  (epitope_embedding): Linear(in_features=1024, out_features=128, bias=True)\n",
       "  (trbv_embed): Embedding(50, 128, padding_idx=49)\n",
       "  (trbj_embed): Embedding(20, 128, padding_idx=19)\n",
       "  (mhc_embed): Embedding(100, 128, padding_idx=99)\n",
       "  (transformer_layers): ModuleList(\n",
       "    (0-1): 2 x AttentionBlock(\n",
       "      (attn): MultiheadAttention(\n",
       "        (out_proj): NonDynamicallyQuantizableLinear(in_features=128, out_features=128, bias=True)\n",
       "      )\n",
       "      (norm1): LayerNorm((128,), eps=1e-05, elementwise_affine=True)\n",
       "      (dropout1): Dropout(p=0.1, inplace=False)\n",
       "      (ff): Sequential(\n",
       "        (0): Linear(in_features=128, out_features=512, bias=True)\n",
       "        (1): ReLU()\n",
       "        (2): Dropout(p=0.1, inplace=False)\n",
       "        (3): Linear(in_features=512, out_features=128, bias=True)\n",
       "      )\n",
       "      (norm2): LayerNorm((128,), eps=1e-05, elementwise_affine=True)\n",
       "      (dropout2): Dropout(p=0.1, inplace=False)\n",
       "    )\n",
       "  )\n",
       "  (classifier): Classifier(\n",
       "    (model): Sequential(\n",
       "      (0): ResidualBlock(\n",
       "        (block): Sequential(\n",
       "          (0): BatchNorm1d(4864, eps=1e-05, momentum=0.1, affine=True, track_running_stats=True)\n",
       "          (1): ReLU()\n",
       "          (2): Linear(in_features=4864, out_features=4864, bias=True)\n",
       "          (3): BatchNorm1d(4864, eps=1e-05, momentum=0.1, affine=True, track_running_stats=True)\n",
       "          (4): ReLU()\n",
       "          (5): Dropout(p=0.1, inplace=False)\n",
       "          (6): Linear(in_features=4864, out_features=4864, bias=True)\n",
       "        )\n",
       "      )\n",
       "      (1): Linear(in_features=4864, out_features=1, bias=True)\n",
       "    )\n",
       "  )\n",
       ")"
      ]
     },
     "execution_count": 14,
     "metadata": {},
     "output_type": "execute_result"
    }
   ],
   "source": [
    "\n",
    "# sys.path.append(os.path.abspath(os.path.join(os.getcwd(), '../../../')))\n",
    "# from models.morning_stars_v1.beta.v2_only_res_noBNpre_flatten import TCR_Epitope_Transformer, LazyTCR_Epitope_Dataset\n",
    "\n",
    "\n",
    "model = TCR_Epitope_Transformer()\n",
    "model.eval()  # Important for SHAP\n"
   ]
  },
  {
   "cell_type": "code",
   "execution_count": 15,
   "metadata": {},
   "outputs": [],
   "source": [
    "# Example dummy shapes – replace with actual data\n",
    "# All tensors should be torch.Tensor of shape: [batch_size, ...]\n",
    "tcr = torch.randn(10, 20, 1024)            # 10 samples, max_tcr_length=20\n",
    "epitope = torch.randn(10, 15, 1024)        # 10 samples, max_epitope_length=15\n",
    "trbv = torch.randint(0, 50, (10, 1))       # vocab size 50\n",
    "trbj = torch.randint(0, 20, (10, 1))       # vocab size 20\n",
    "mhc = torch.randint(0, 100, (10, 1))       # vocab size 100\n",
    "\n",
    "# For explanation, use a single example or small batch\n",
    "explainer_input = (tcr, epitope, trbv, trbj, mhc)\n"
   ]
  },
  {
   "cell_type": "code",
   "execution_count": 17,
   "id": "253730b3",
   "metadata": {},
   "outputs": [
    {
     "name": "stderr",
     "output_type": "stream",
     "text": [
      "/tmp/ipykernel_20749/2241255557.py:20: FutureWarning: The NumPy global RNG was seeded by calling `np.random.seed`. In a future version this function will no longer use the global RNG. Pass `rng` explicitly to opt-in to the new behaviour and silence this warning.\n",
      "  shap.summary_plot(shap_values, features=sample.cpu().numpy())\n",
      "/home/ubuntu/anaconda3/lib/python3.12/site-packages/shap/plots/_beeswarm.py:726: FutureWarning: The NumPy global RNG was seeded by calling `np.random.seed`. In a future version this function will no longer use the global RNG. Pass `rng` explicitly to opt-in to the new behaviour and silence this warning.\n",
      "  summary_legacy(\n"
     ]
    },
    {
     "data": {
      "text/plain": [
       "<Figure size 640x480 with 0 Axes>"
      ]
     },
     "metadata": {},
     "output_type": "display_data"
    },
    {
     "data": {
      "image/png": "[encoded data removed]",
      "text/plain": [
       "<Figure size 1150x660 with 1 Axes>"
      ]
     },
     "metadata": {},
     "output_type": "display_data"
    }
   ],
   "source": [
    "# 1. Forward pass through transformer -> get combined_features\n",
    "with torch.no_grad():\n",
    "    combined_features = model.forward(\n",
    "        tcr, epitope, trbv, trbj, mhc, return_combined_features=True\n",
    "    )\n",
    "\n",
    "# 2. Define classifier-only model\n",
    "classifier = model.classifier\n",
    "\n",
    "# 3. Create SHAP explainer on the classifier\n",
    "explainer = shap.GradientExplainer(classifier, combined_features)\n",
    "\n",
    "# 4. Choose a single sample to explain\n",
    "sample = combined_features[0:1]\n",
    "\n",
    "# 5. Compute SHAP values\n",
    "shap_values = explainer.shap_values(sample)\n",
    "\n",
    "# 6. Visualize\n",
    "shap.summary_plot(shap_values, features=sample.cpu().numpy())\n"
   ]
  },
  {
   "cell_type": "code",
   "execution_count": 25,
   "id": "8fa761a7",
   "metadata": {},
   "outputs": [
    {
     "name": "stdout",
     "output_type": "stream",
     "text": [
      "torch.Size([1, 4864])\n",
      "(1, 4864, 1)\n"
     ]
    }
   ],
   "source": [
    "print(sample.shape)\n",
    "print(shap_values.shape)"
   ]
  },
  {
   "cell_type": "code",
   "execution_count": 29,
   "id": "10debadf",
   "metadata": {},
   "outputs": [],
   "source": [
    "# Fix shape: shap_values[0] is (4864, 1) → transpose to (1, 4864)\n",
    "shap_array = shap_values[0].T  # Now shape is (1, 4864)\n"
   ]
  },
  {
   "cell_type": "code",
   "execution_count": 36,
   "id": "84bdf964",
   "metadata": {},
   "outputs": [],
   "source": [
    "# Transpose once to get shape (1, 4864)\n",
    "shap_array = shap_values[0].T  # shape: (1, 4864)\n",
    "\n",
    "# Split up into regions\n",
    "tcr_shap     = shap_array[:, 0:2560]\n",
    "epitope_shap = shap_array[:, 2560:4480]\n",
    "trbv_shap    = shap_array[:, 4480:4608]\n",
    "trbj_shap    = shap_array[:, 4608:4736]\n",
    "mhc_shap     = shap_array[:, 4736:4864]\n",
    "\n",
    "# Optional: reshape TCR SHAP for visualization\n",
    "tcr_shap_values = tcr_shap.reshape(1, 20, 128)  # shape: (1, TCR_length, embed_dim)\n",
    "# tcr_importance_per_pos = tcr_shap_values.abs().sum(dim=2).squeeze(0)  # shape: (20,)\n",
    "\n",
    "\n",
    "# Convert to tensor\n",
    "tcr_shap_tensor = torch.tensor(tcr_shap, dtype=torch.float32)  # shape: (1, 2560)\n",
    "\n",
    "# Reshape to (1, 20, 128)\n",
    "tcr_shap_values = tcr_shap_tensor.reshape(1, 20, 128)\n",
    "\n",
    "# Aggregate SHAP values per position\n",
    "tcr_importance_per_pos = tcr_shap_values.abs().sum(dim=2).squeeze(0)  # shape: (20,)\n",
    "\n"
   ]
  },
  {
   "cell_type": "code",
   "execution_count": 32,
   "id": "b71d5fb9",
   "metadata": {},
   "outputs": [
    {
     "name": "stdout",
     "output_type": "stream",
     "text": [
      "(1, 4864)\n",
      "(1, 2560)\n",
      "(1, 1920)\n",
      "torch.Size([10, 1])\n",
      "torch.Size([10, 1])\n",
      "(1, 128)\n"
     ]
    }
   ],
   "source": [
    "print(shap_array.shape)\n",
    "print(tcr_shap.shape)\n",
    "print(epitope_shap.shape)\n",
    "print(trbv.shape)\n",
    "print(trbj.shape)\n",
    "print(mhc_shap.shape)"
   ]
  },
  {
   "cell_type": "code",
   "execution_count": 37,
   "metadata": {},
   "outputs": [
    {
     "data": {
      "image/png": "[encoded data removed]",
      "text/plain": [
       "<Figure size 1000x400 with 1 Axes>"
      ]
     },
     "metadata": {},
     "output_type": "display_data"
    }
   ],
   "source": [
    "# # Reshape to (batch_size, sequence_length, embedding_dim)\n",
    "# tcr_shap_values = tcr_shap.reshape(1, 20, 128)  # shape: (1, 20, 128)\n",
    "\n",
    "# # Aggregate importance by TCR position\n",
    "# tcr_importance_per_pos = tcr_shap_values.abs().sum(dim=2).squeeze(0)  # (20,)\n",
    "\n",
    "# Plot\n",
    "import matplotlib.pyplot as plt\n",
    "plt.figure(figsize=(10, 4))\n",
    "plt.plot(range(1, 21), tcr_importance_per_pos.cpu().numpy(), marker='o')\n",
    "plt.title(\"TCR Feature Importance by Position (SHAP)\")\n",
    "plt.xlabel(\"TCR Sequence Position\")\n",
    "plt.ylabel(\"Importance (|SHAP| sum)\")\n",
    "plt.grid(True)\n",
    "plt.show()\n"
   ]
  },
  {
   "cell_type": "code",
   "execution_count": null,
   "id": "e7ff1894",
   "metadata": {},
   "outputs": [],
   "source": []
  },
  {
   "cell_type": "code",
   "execution_count": 38,
   "metadata": {},
   "outputs": [],
   "source": [
    "# Your decoded sequences\n",
    "tcr_aa_sequence = \"CASSFGQRDRGYWRNTEAFF\"   # Length = 20\n",
    "epitope_aa_sequence = \"ARNLVPMVATVQGQN\"  # Length = 15\n"
   ]
  },
  {
   "cell_type": "code",
   "execution_count": 39,
   "id": "a81cf28f",
   "metadata": {},
   "outputs": [],
   "source": [
    "import matplotlib.pyplot as plt\n",
    "import matplotlib.cm as cm\n",
    "import matplotlib.colors as mcolors\n",
    "from IPython.display import display, HTML\n",
    "\n",
    "def color_sequence_by_importance(sequence, importances, cmap_name=\"Reds\"):\n",
    "    \"\"\"\n",
    "    Returns an HTML string with amino acids colored by importance values.\n",
    "    \"\"\"\n",
    "    cmap = cm.get_cmap(cmap_name)\n",
    "    norm = mcolors.Normalize(vmin=0, vmax=max(importances))\n",
    "    \n",
    "    html_str = \"\"\n",
    "    for aa, score in zip(sequence, importances):\n",
    "        rgba = cmap(norm(score))\n",
    "        color = mcolors.to_hex(rgba)\n",
    "        html_str += f'<span style=\"background-color:{color};padding:2px;\">{aa}</span>'\n",
    "    \n",
    "    return html_str\n"
   ]
  },
  {
   "cell_type": "code",
   "execution_count": 41,
   "id": "bbd09fe9",
   "metadata": {},
   "outputs": [
    {
     "name": "stderr",
     "output_type": "stream",
     "text": [
      "/tmp/ipykernel_20749/4162379589.py:10: MatplotlibDeprecationWarning: The get_cmap function was deprecated in Matplotlib 3.7 and will be removed in 3.11. Use ``matplotlib.colormaps[name]`` or ``matplotlib.colormaps.get_cmap()`` or ``pyplot.get_cmap()`` instead.\n",
      "  cmap = cm.get_cmap(cmap_name)\n"
     ]
    },
    {
     "data": {
      "text/html": [
       "<h4>TCR Sequence SHAP Overlay</h4><span style=\"background-color:#bf151b;padding:2px;\">C</span><span style=\"background-color:#860811;padding:2px;\">A</span><span style=\"background-color:#820711;padding:2px;\">S</span><span style=\"background-color:#c8171c;padding:2px;\">S</span><span style=\"background-color:#9d0d14;padding:2px;\">F</span><span style=\"background-color:#c4161c;padding:2px;\">G</span><span style=\"background-color:#c4161c;padding:2px;\">Q</span><span style=\"background-color:#ab1016;padding:2px;\">R</span><span style=\"background-color:#b31218;padding:2px;\">D</span><span style=\"background-color:#bc141a;padding:2px;\">R</span><span style=\"background-color:#9f0e14;padding:2px;\">G</span><span style=\"background-color:#b01217;padding:2px;\">Y</span><span style=\"background-color:#b91419;padding:2px;\">W</span><span style=\"background-color:#840711;padding:2px;\">R</span><span style=\"background-color:#b61319;padding:2px;\">N</span><span style=\"background-color:#b91419;padding:2px;\">T</span><span style=\"background-color:#ab1016;padding:2px;\">E</span><span style=\"background-color:#9c0d14;padding:2px;\">A</span><span style=\"background-color:#67000d;padding:2px;\">F</span><span style=\"background-color:#a91016;padding:2px;\">F</span>"
      ],
      "text/plain": [
       "<IPython.core.display.HTML object>"
      ]
     },
     "metadata": {},
     "output_type": "display_data"
    }
   ],
   "source": [
    "# Example usage\n",
    "tcr_html = color_sequence_by_importance(tcr_aa_sequence, tcr_importance_per_pos)\n",
    "# epitope_html = color_sequence_by_importance(epitope_aa_sequence, epitope_importance_per_pos)\n",
    "\n",
    "# Display in notebook\n",
    "display(HTML(f\"<h4>TCR Sequence SHAP Overlay</h4>{tcr_html}\"))\n",
    "# display(HTML(f\"<h4>Epitope Sequence SHAP Overlay</h4>{epitope_html}\"))\n"
   ]
  },
  {
   "cell_type": "code",
   "execution_count": null,
   "id": "b1f2a76f",
   "metadata": {},
   "outputs": [],
   "source": [
    "import shap\n",
    "import torch\n",
    "\n",
    "class CustomModelWrapper(torch.nn.Module):\n",
    "    def __init__(self, model):\n",
    "        super().__init__()\n",
    "        self.model = model\n",
    "\n",
    "    def forward(self, inputs):\n",
    "        # Unpack tuple to pass to the original model\n",
    "        return self.model(*inputs)\n",
    "        \n",
    "wrapped_model = CustomModelWrapper(model)\n"
   ]
  },
  {
   "cell_type": "code",
   "execution_count": 8,
   "id": "ab4beb69",
   "metadata": {},
   "outputs": [],
   "source": [
    "# explainer = shap.GradientExplainer(wrapped_model, explainer_input)\n",
    "# # Or use DeepExplainer if all ops are supported\n",
    "# # explainer = shap.DeepExplainer(wrapped_model, explainer_input)\n",
    "\n",
    "explainer = shap.Explainer(wrapped_model, explainer_input)\n"
   ]
  },
  {
   "cell_type": "code",
   "execution_count": 9,
   "id": "4576b631",
   "metadata": {},
   "outputs": [
    {
     "ename": "ValueError",
     "evalue": "max_evals=500 is too low for the Permutation explainer, it must be at least 2 * num_features + 1 = 40961!",
     "output_type": "error",
     "traceback": [
      "\u001b[0;31m---------------------------------------------------------------------------\u001b[0m",
      "\u001b[0;31mValueError\u001b[0m                                Traceback (most recent call last)",
      "Cell \u001b[0;32mIn[9], line 9\u001b[0m\n\u001b[1;32m      1\u001b[0m sample_input \u001b[38;5;241m=\u001b[39m (\n\u001b[1;32m      2\u001b[0m     tcr[\u001b[38;5;241m0\u001b[39m:\u001b[38;5;241m1\u001b[39m],\n\u001b[1;32m      3\u001b[0m     epitope[\u001b[38;5;241m0\u001b[39m:\u001b[38;5;241m1\u001b[39m],\n\u001b[0;32m   (...)\u001b[0m\n\u001b[1;32m      6\u001b[0m     mhc[\u001b[38;5;241m0\u001b[39m:\u001b[38;5;241m1\u001b[39m]\n\u001b[1;32m      7\u001b[0m )\n\u001b[0;32m----> 9\u001b[0m shap_values \u001b[38;5;241m=\u001b[39m explainer(sample_input)\n",
      "File \u001b[0;32m~/anaconda3/lib/python3.12/site-packages/shap/explainers/_permutation.py:100\u001b[0m, in \u001b[0;36mPermutationExplainer.__call__\u001b[0;34m(self, max_evals, main_effects, error_bounds, batch_size, outputs, silent, *args)\u001b[0m\n\u001b[1;32m     89\u001b[0m \u001b[38;5;28;01mdef\u001b[39;00m \u001b[38;5;21m__call__\u001b[39m(\n\u001b[1;32m     90\u001b[0m     \u001b[38;5;28mself\u001b[39m,\n\u001b[1;32m     91\u001b[0m     \u001b[38;5;241m*\u001b[39margs,\n\u001b[0;32m   (...)\u001b[0m\n\u001b[1;32m     97\u001b[0m     silent\u001b[38;5;241m=\u001b[39m\u001b[38;5;28;01mFalse\u001b[39;00m,\n\u001b[1;32m     98\u001b[0m ):\n\u001b[1;32m     99\u001b[0m \u001b[38;5;250m    \u001b[39m\u001b[38;5;124;03m\"\"\"Explain the output of the model on the given arguments.\"\"\"\u001b[39;00m\n\u001b[0;32m--> 100\u001b[0m     \u001b[38;5;28;01mreturn\u001b[39;00m \u001b[38;5;28msuper\u001b[39m()\u001b[38;5;241m.\u001b[39m\u001b[38;5;21m__call__\u001b[39m(\n\u001b[1;32m    101\u001b[0m         \u001b[38;5;241m*\u001b[39margs,\n\u001b[1;32m    102\u001b[0m         max_evals\u001b[38;5;241m=\u001b[39mmax_evals,\n\u001b[1;32m    103\u001b[0m         main_effects\u001b[38;5;241m=\u001b[39mmain_effects,\n\u001b[1;32m    104\u001b[0m         error_bounds\u001b[38;5;241m=\u001b[39merror_bounds,\n\u001b[1;32m    105\u001b[0m         batch_size\u001b[38;5;241m=\u001b[39mbatch_size,\n\u001b[1;32m    106\u001b[0m         outputs\u001b[38;5;241m=\u001b[39moutputs,\n\u001b[1;32m    107\u001b[0m         silent\u001b[38;5;241m=\u001b[39msilent,\n\u001b[1;32m    108\u001b[0m     )\n",
      "File \u001b[0;32m~/anaconda3/lib/python3.12/site-packages/shap/explainers/_explainer.py:366\u001b[0m, in \u001b[0;36mExplainer.__call__\u001b[0;34m(self, max_evals, main_effects, error_bounds, batch_size, outputs, silent, *args, **kwargs)\u001b[0m\n\u001b[1;32m    364\u001b[0m     feature_names \u001b[38;5;241m=\u001b[39m [[] \u001b[38;5;28;01mfor\u001b[39;00m _ \u001b[38;5;129;01min\u001b[39;00m \u001b[38;5;28mrange\u001b[39m(\u001b[38;5;28mlen\u001b[39m(args))]\n\u001b[1;32m    365\u001b[0m \u001b[38;5;28;01mfor\u001b[39;00m row_args \u001b[38;5;129;01min\u001b[39;00m show_progress(\u001b[38;5;28mzip\u001b[39m(\u001b[38;5;241m*\u001b[39margs), num_rows, \u001b[38;5;28mself\u001b[39m\u001b[38;5;241m.\u001b[39m\u001b[38;5;18m__class__\u001b[39m\u001b[38;5;241m.\u001b[39m\u001b[38;5;18m__name__\u001b[39m \u001b[38;5;241m+\u001b[39m \u001b[38;5;124m\"\u001b[39m\u001b[38;5;124m explainer\u001b[39m\u001b[38;5;124m\"\u001b[39m, silent):\n\u001b[0;32m--> 366\u001b[0m     row_result \u001b[38;5;241m=\u001b[39m \u001b[38;5;28mself\u001b[39m\u001b[38;5;241m.\u001b[39mexplain_row(\n\u001b[1;32m    367\u001b[0m         \u001b[38;5;241m*\u001b[39mrow_args,\n\u001b[1;32m    368\u001b[0m         max_evals\u001b[38;5;241m=\u001b[39mmax_evals,\n\u001b[1;32m    369\u001b[0m         main_effects\u001b[38;5;241m=\u001b[39mmain_effects,\n\u001b[1;32m    370\u001b[0m         error_bounds\u001b[38;5;241m=\u001b[39merror_bounds,\n\u001b[1;32m    371\u001b[0m         batch_size\u001b[38;5;241m=\u001b[39mbatch_size,\n\u001b[1;32m    372\u001b[0m         outputs\u001b[38;5;241m=\u001b[39moutputs,\n\u001b[1;32m    373\u001b[0m         silent\u001b[38;5;241m=\u001b[39msilent,\n\u001b[1;32m    374\u001b[0m         \u001b[38;5;241m*\u001b[39m\u001b[38;5;241m*\u001b[39mkwargs,\n\u001b[1;32m    375\u001b[0m     )\n\u001b[1;32m    376\u001b[0m     values\u001b[38;5;241m.\u001b[39mappend(row_result\u001b[38;5;241m.\u001b[39mget(\u001b[38;5;124m\"\u001b[39m\u001b[38;5;124mvalues\u001b[39m\u001b[38;5;124m\"\u001b[39m, \u001b[38;5;28;01mNone\u001b[39;00m))\n\u001b[1;32m    377\u001b[0m     output_indices\u001b[38;5;241m.\u001b[39mappend(row_result\u001b[38;5;241m.\u001b[39mget(\u001b[38;5;124m\"\u001b[39m\u001b[38;5;124moutput_indices\u001b[39m\u001b[38;5;124m\"\u001b[39m, \u001b[38;5;28;01mNone\u001b[39;00m))\n",
      "File \u001b[0;32m~/anaconda3/lib/python3.12/site-packages/shap/explainers/_permutation.py:192\u001b[0m, in \u001b[0;36mPermutationExplainer.explain_row\u001b[0;34m(self, max_evals, main_effects, error_bounds, batch_size, outputs, silent, *row_args)\u001b[0m\n\u001b[1;32m    189\u001b[0m     history_pos \u001b[38;5;241m+\u001b[39m\u001b[38;5;241m=\u001b[39m \u001b[38;5;241m1\u001b[39m\n\u001b[1;32m    191\u001b[0m \u001b[38;5;28;01mif\u001b[39;00m npermutations \u001b[38;5;241m==\u001b[39m \u001b[38;5;241m0\u001b[39m:\n\u001b[0;32m--> 192\u001b[0m     \u001b[38;5;28;01mraise\u001b[39;00m \u001b[38;5;167;01mValueError\u001b[39;00m(\n\u001b[1;32m    193\u001b[0m         \u001b[38;5;124mf\u001b[39m\u001b[38;5;124m\"\u001b[39m\u001b[38;5;124mmax_evals=\u001b[39m\u001b[38;5;132;01m{\u001b[39;00mmax_evals\u001b[38;5;132;01m}\u001b[39;00m\u001b[38;5;124m is too low for the Permutation explainer, it must be at least 2 * num_features + 1 = \u001b[39m\u001b[38;5;132;01m{\u001b[39;00m\u001b[38;5;241m2\u001b[39m\u001b[38;5;250m \u001b[39m\u001b[38;5;241m*\u001b[39m\u001b[38;5;250m \u001b[39m\u001b[38;5;28mlen\u001b[39m(inds)\u001b[38;5;250m \u001b[39m\u001b[38;5;241m+\u001b[39m\u001b[38;5;250m \u001b[39m\u001b[38;5;241m1\u001b[39m\u001b[38;5;132;01m}\u001b[39;00m\u001b[38;5;124m!\u001b[39m\u001b[38;5;124m\"\u001b[39m\n\u001b[1;32m    194\u001b[0m     )\n\u001b[1;32m    196\u001b[0m expected_value \u001b[38;5;241m=\u001b[39m outputs[\u001b[38;5;241m0\u001b[39m]\n\u001b[1;32m    198\u001b[0m \u001b[38;5;66;03m# compute the main effects if we need to\u001b[39;00m\n",
      "\u001b[0;31mValueError\u001b[0m: max_evals=500 is too low for the Permutation explainer, it must be at least 2 * num_features + 1 = 40961!"
     ]
    }
   ],
   "source": [
    "sample_input = (\n",
    "    tcr[0:1],\n",
    "    epitope[0:1],\n",
    "    trbv[0:1],\n",
    "    trbj[0:1],\n",
    "    mhc[0:1]\n",
    ")\n",
    "\n",
    "shap_values = explainer(sample_input)\n"
   ]
  },
  {
   "cell_type": "code",
   "execution_count": null,
   "id": "2fe991c3",
   "metadata": {},
   "outputs": [],
   "source": [
    "# # Flatten the feature input as needed (e.g., combined_features shape)\n",
    "# # Visualize one component (e.g., total importance)\n",
    "# shap_values_tensor = torch.cat([v.reshape(1, -1) for v in shap_values], dim=1)\n",
    "# shap.summary_plot(shap_values_tensor.detach().numpy())\n",
    "\n",
    "shap.plots.waterfall(shap_values[0][0])  # 0 = tcr embedding SHAP, second 0 = first sample\n",
    "\n"
   ]
  }
 ],
 "metadata": {
  "kernelspec": {
   "display_name": "base",
   "language": "python",
   "name": "python3"
  },
  "language_info": {
   "codemirror_mode": {
    "name": "ipython",
    "version": 3
   },
   "file_extension": ".py",
   "mimetype": "text/x-python",
   "name": "python",
   "nbconvert_exporter": "python",
   "pygments_lexer": "ipython3",
   "version": "3.12.2"
  }
 },
 "nbformat": 4,
 "nbformat_minor": 5
}
