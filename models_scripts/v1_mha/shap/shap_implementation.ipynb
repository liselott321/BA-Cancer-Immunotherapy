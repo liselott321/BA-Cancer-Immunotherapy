{
 "cells": [
  {
   "cell_type": "code",
   "execution_count": null,
   "id": "acb18cff",
   "metadata": {},
   "outputs": [
    {
     "name": "stdout",
     "output_type": "stream",
     "text": [
      "✅ File exists at: ../../../../../data/ba_splitted/train.tsv\n",
      "File size: 19336105 bytes\n"
     ]
    },
    {
     "data": {
      "text/plain": [
       "True"
      ]
     },
     "execution_count": 5,
     "metadata": {},
     "output_type": "execute_result"
    }
   ],
   "source": [
    "# checking paths\n",
    "\n",
    "import os\n",
    "\n",
    "def check_file_path(file_path):\n",
    "\n",
    "    if os.path.isfile(file_path):\n",
    "        print(f\"✅ File exists at: {file_path}\")\n",
    "        print(f\"File size: {os.path.getsize(file_path)} bytes\")\n",
    "        return True\n",
    "    else:\n",
    "        print(f\"❌ File NOT found at: {file_path}\")\n",
    "        return False\n",
    "train_epi_emb_path = \"../../../../../data/embeddings/beta/allele/dimension_1024/padded_train_epitope_embeddings_final.h5\"\n",
    "train_tcr_emb_path = \"../../../../../data/embeddings/beta/allele/dimension_1024/padded_train_tcr_embeddings_final.h5\"\n",
    "train_path = \"../../../../../data/ba_splitted/train.tsv\"\n",
    "check_file_path(train_path)\n"
   ]
  },
  {
   "cell_type": "markdown",
   "id": "0fa20546",
   "metadata": {},
   "source": [
    "### SHAP Implementation"
   ]
  },
  {
   "cell_type": "code",
   "execution_count": 45,
   "id": "c9261e54",
   "metadata": {},
   "outputs": [],
   "source": [
    "# v1_mha_1024_res.py\n",
    "\n",
    "import torch\n",
    "import torch.nn as nn\n",
    "\n",
    "class ResidualBlock(nn.Module):\n",
    "    def __init__(self, hidden_dim, dropout):\n",
    "        super(ResidualBlock, self).__init__()\n",
    "        self.block = nn.Sequential(\n",
    "            nn.BatchNorm1d(hidden_dim),\n",
    "            nn.ReLU(),\n",
    "            nn.Linear(hidden_dim, hidden_dim),\n",
    "            nn.BatchNorm1d(hidden_dim),\n",
    "            nn.ReLU(),\n",
    "            nn.Dropout(dropout),\n",
    "            nn.Linear(hidden_dim, hidden_dim)\n",
    "        )\n",
    "\n",
    "    def forward(self, x):\n",
    "        return x + self.block(x)\n",
    "\n",
    "class Classifier(nn.Module):\n",
    "    def __init__(self, input_dim, hidden_dim, dropout):\n",
    "        super(Classifier, self).__init__()\n",
    "        self.model = nn.Sequential(\n",
    "            nn.Linear(input_dim, hidden_dim),\n",
    "            nn.BatchNorm1d(hidden_dim),\n",
    "            nn.ReLU(),\n",
    "            nn.Dropout(dropout),\n",
    "            ResidualBlock(hidden_dim, dropout),\n",
    "            nn.Linear(hidden_dim, 1)\n",
    "        )\n",
    "\n",
    "    def forward(self, x):\n",
    "        return self.model(x)\n",
    "\n",
    "class AttentionBlock(nn.Module):\n",
    "    def __init__(self, embed_dim, num_heads, dropout=0.1):\n",
    "        super(AttentionBlock, self).__init__()\n",
    "        self.attn = nn.MultiheadAttention(embed_dim, num_heads, dropout=dropout, batch_first=True)\n",
    "        self.norm1 = nn.LayerNorm(embed_dim)\n",
    "        self.dropout1 = nn.Dropout(dropout)\n",
    "        self.ff = nn.Sequential(\n",
    "            nn.Linear(embed_dim, embed_dim * 4),\n",
    "            nn.ReLU(),\n",
    "            nn.Dropout(dropout),\n",
    "            nn.Linear(embed_dim * 4, embed_dim)\n",
    "        )\n",
    "        self.norm2 = nn.LayerNorm(embed_dim)\n",
    "        self.dropout2 = nn.Dropout(dropout)\n",
    "\n",
    "    def forward(self, x, key_padding_mask=None):\n",
    "        attn_output, _ = self.attn(x, x, x, key_padding_mask=key_padding_mask)\n",
    "        x = self.norm1(x + self.dropout1(attn_output))\n",
    "        ff_output = self.ff(x)\n",
    "        x = self.norm2(x + self.dropout2(ff_output))\n",
    "        return x\n",
    "\n",
    "class LazyTCR_Epitope_Dataset(torch.utils.data.Dataset):\n",
    "    def __init__(self, data_frame, tcr_embeddings, epitope_embeddings):\n",
    "        \"\"\"\n",
    "        Args:\n",
    "            data_frame (DataFrame): The DataFrame containing sample data.\n",
    "            tcr_embeddings (h5py.File): HDF5 file containing TCR embeddings.\n",
    "            epitope_embeddings (h5py.File): HDF5 file containing epitope embeddings.\n",
    "        \"\"\"\n",
    "        self.data_frame = data_frame\n",
    "        self.tcr_embeddings = tcr_embeddings\n",
    "        self.epitope_embeddings = epitope_embeddings\n",
    "\n",
    "    def __len__(self):\n",
    "        return len(self.data_frame)\n",
    "\n",
    "    def __getitem__(self, idx):\n",
    "        sample = self.data_frame.iloc[idx]\n",
    "        tcr_id = sample['TRB_CDR3']  # Column name for TCR IDs\n",
    "        epitope_id = sample['Epitope']  # Column name for epitope IDs\n",
    "        label = sample['Binding']  # Target label\n",
    "\n",
    "        # Access embeddings lazily\n",
    "        tcr_embedding = self.tcr_embeddings[tcr_id][:]\n",
    "        epitope_embedding = self.epitope_embeddings[epitope_id][:]\n",
    "\n",
    "        return (\n",
    "            torch.tensor(tcr_embedding, dtype=torch.float32),\n",
    "            torch.tensor(epitope_embedding, dtype=torch.float32),\n",
    "            torch.tensor(label, dtype=torch.float32),\n",
    "        )\n",
    "\n",
    "class TCR_Epitope_Transformer(nn.Module):\n",
    "    def __init__(self, embed_dim=128, num_heads=4, num_layers=2, max_tcr_length=20, max_epitope_length=15, dropout=0.1, classifier_hidden_dim=64):\n",
    "        super(TCR_Epitope_Transformer, self).__init__()\n",
    "        self.embed_dim = embed_dim\n",
    "        self.tcr_embedding = nn.Linear(1024, embed_dim)\n",
    "        self.epitope_embedding = nn.Linear(1024, embed_dim)\n",
    "\n",
    "        self.tcr_bn = nn.BatchNorm1d(max_tcr_length)\n",
    "        self.epitope_bn = nn.BatchNorm1d(max_epitope_length)\n",
    "\n",
    "        self.tcr_positional_encoding = nn.Parameter(torch.randn(1, max_tcr_length, embed_dim))\n",
    "        self.epitope_positional_encoding = nn.Parameter(torch.randn(1, max_epitope_length, embed_dim))\n",
    "\n",
    "        self.transformer_layers = nn.ModuleList([\n",
    "            AttentionBlock(embed_dim, num_heads, dropout) for _ in range(num_layers)\n",
    "        ])\n",
    "\n",
    "        self.classifier_input_dim = embed_dim * 2  # For concatenated mean+max pooling\n",
    "        self.classifier = Classifier(self.classifier_input_dim, classifier_hidden_dim, dropout)\n",
    "\n",
    "    def forward(self, tcr, epitope):\n",
    "        tcr_emb = self.tcr_embedding(tcr)\n",
    "        epitope_emb = self.epitope_embedding(epitope)\n",
    "\n",
    "        # Optional: normalize across sequence\n",
    "        tcr_emb = self.tcr_bn(tcr_emb)\n",
    "        epitope_emb = self.epitope_bn(epitope_emb)\n",
    "\n",
    "        # Create masks\n",
    "        tcr_mask = (tcr.sum(dim=-1) == 0)\n",
    "        epitope_mask = (epitope.sum(dim=-1) == 0)\n",
    "\n",
    "        # Add positional encoding\n",
    "        tcr_emb += self.tcr_positional_encoding[:, :tcr_emb.size(1), :]\n",
    "        epitope_emb += self.epitope_positional_encoding[:, :epitope_emb.size(1), :]\n",
    "\n",
    "        # Concatenate sequence and mask\n",
    "        combined = torch.cat([tcr_emb, epitope_emb], dim=1)\n",
    "        key_padding_mask = torch.cat([tcr_mask, epitope_mask], dim=1)\n",
    "\n",
    "        for layer in self.transformer_layers:\n",
    "            combined = layer(combined, key_padding_mask=key_padding_mask)\n",
    "\n",
    "        # Combine mean and max pooling\n",
    "        pooled_mean = combined.mean(dim=1)\n",
    "        pooled_max, _ = combined.max(dim=1)\n",
    "        pooled = torch.cat([pooled_mean, pooled_max], dim=1)\n",
    "\n",
    "        output = self.classifier(pooled).squeeze(1)\n",
    "        return output"
   ]
  },
  {
   "cell_type": "code",
   "execution_count": null,
   "id": "60fdeac5",
   "metadata": {},
   "outputs": [
    {
     "name": "stdout",
     "output_type": "stream",
     "text": [
      "Successfully loaded embeddings for 50 samples\n",
      "TCR embeddings shape: torch.Size([50, 43, 1024])\n",
      "Epitope embeddings shape: torch.Size([50, 43, 1024])\n"
     ]
    },
    {
     "data": {
      "text/html": [
       "Finishing last run (ID:p7zya7ae) before initializing another..."
      ],
      "text/plain": [
       "<IPython.core.display.HTML object>"
      ]
     },
     "metadata": {},
     "output_type": "display_data"
    },
    {
     "data": {
      "text/html": [
       " View run <strong style=\"color:#cdcd00\">fiery-energy-9</strong> at: <a href='https://wandb.ai/ba_cancerimmunotherapy/BA-Cancer-Immunotherapy-models_scripts_v1_mha_shap/runs/p7zya7ae' target=\"_blank\">https://wandb.ai/ba_cancerimmunotherapy/BA-Cancer-Immunotherapy-models_scripts_v1_mha_shap/runs/p7zya7ae</a><br/> View project at: <a href='https://wandb.ai/ba_cancerimmunotherapy/BA-Cancer-Immunotherapy-models_scripts_v1_mha_shap' target=\"_blank\">https://wandb.ai/ba_cancerimmunotherapy/BA-Cancer-Immunotherapy-models_scripts_v1_mha_shap</a><br/>Synced 5 W&B file(s), 0 media file(s), 0 artifact file(s) and 0 other file(s)"
      ],
      "text/plain": [
       "<IPython.core.display.HTML object>"
      ]
     },
     "metadata": {},
     "output_type": "display_data"
    },
    {
     "data": {
      "text/html": [
       "Find logs at: <code>./wandb/run-20250424_120727-p7zya7ae/logs</code>"
      ],
      "text/plain": [
       "<IPython.core.display.HTML object>"
      ]
     },
     "metadata": {},
     "output_type": "display_data"
    },
    {
     "data": {
      "text/html": [
       "Successfully finished last run (ID:p7zya7ae). Initializing new run:<br/>"
      ],
      "text/plain": [
       "<IPython.core.display.HTML object>"
      ]
     },
     "metadata": {},
     "output_type": "display_data"
    },
    {
     "data": {
      "text/html": [
       "Tracking run with wandb version 0.18.7"
      ],
      "text/plain": [
       "<IPython.core.display.HTML object>"
      ]
     },
     "metadata": {},
     "output_type": "display_data"
    },
    {
     "data": {
      "text/html": [
       "Run data is saved locally in <code>/home/ubuntu/oscar/BA-Cancer-Immunotherapy/models_scripts/v1_mha/shap/wandb/run-20250424_153859-pu0beoaq</code>"
      ],
      "text/plain": [
       "<IPython.core.display.HTML object>"
      ]
     },
     "metadata": {},
     "output_type": "display_data"
    },
    {
     "data": {
      "text/html": [
       "Syncing run <strong><a href='https://wandb.ai/ba_cancerimmunotherapy/BA-Cancer-Immunotherapy-models_scripts_v1_mha_shap/runs/pu0beoaq' target=\"_blank\">vocal-cosmos-10</a></strong> to <a href='https://wandb.ai/ba_cancerimmunotherapy/BA-Cancer-Immunotherapy-models_scripts_v1_mha_shap' target=\"_blank\">Weights & Biases</a> (<a href='https://wandb.me/developer-guide' target=\"_blank\">docs</a>)<br/>"
      ],
      "text/plain": [
       "<IPython.core.display.HTML object>"
      ]
     },
     "metadata": {},
     "output_type": "display_data"
    },
    {
     "data": {
      "text/html": [
       " View project at <a href='https://wandb.ai/ba_cancerimmunotherapy/BA-Cancer-Immunotherapy-models_scripts_v1_mha_shap' target=\"_blank\">https://wandb.ai/ba_cancerimmunotherapy/BA-Cancer-Immunotherapy-models_scripts_v1_mha_shap</a>"
      ],
      "text/plain": [
       "<IPython.core.display.HTML object>"
      ]
     },
     "metadata": {},
     "output_type": "display_data"
    },
    {
     "data": {
      "text/html": [
       " View run at <a href='https://wandb.ai/ba_cancerimmunotherapy/BA-Cancer-Immunotherapy-models_scripts_v1_mha_shap/runs/pu0beoaq' target=\"_blank\">https://wandb.ai/ba_cancerimmunotherapy/BA-Cancer-Immunotherapy-models_scripts_v1_mha_shap/runs/pu0beoaq</a>"
      ],
      "text/plain": [
       "<IPython.core.display.HTML object>"
      ]
     },
     "metadata": {},
     "output_type": "display_data"
    },
    {
     "name": "stderr",
     "output_type": "stream",
     "text": [
      "\u001b[34m\u001b[1mwandb\u001b[0m:   1 of 1 files downloaded.  \n"
     ]
    }
   ],
   "source": [
    "import pandas as pd\n",
    "import h5py\n",
    "import torch\n",
    "import numpy as np\n",
    "import shap\n",
    "import wandb\n",
    "import os\n",
    "\n",
    "device = torch.device(\"cuda\" if torch.cuda.is_available() else \"cpu\")\n",
    "\n",
    "# ---------------- Load Data ----------------\n",
    "\n",
    "# File paths\n",
    "train_path = \"../../../../../data/splitted_datasets/allele/beta/train.tsv\"\n",
    "train_epi_emb_path = \"../../../../../data/embeddings/beta/allele/dimension_1024/padded_train_epitope_embeddings_final.h5\"\n",
    "train_tcr_emb_path = \"../../../../../data/embeddings/beta/allele/dimension_1024/padded_train_tcr_embeddings_final.h5\"\n",
    "\n",
    "# Load training data\n",
    "train_df = pd.read_csv(train_path, sep='\\t')\n",
    "\n",
    "# Select balanced samples\n",
    "binding_samples = train_df[train_df['Binding'] == 1].sample(25, random_state=42)\n",
    "non_binding_samples = train_df[train_df['Binding'] == 0].sample(25, random_state=42)\n",
    "selected_samples = pd.concat([binding_samples, non_binding_samples])\n",
    "\n",
    "selected_tcrs = selected_samples['TRB_CDR3'].tolist()\n",
    "selected_epitopes = selected_samples['Epitope'].tolist()\n",
    "\n",
    "def load_embeddings(h5_path, keys):\n",
    "    embeddings = []\n",
    "    with h5py.File(h5_path, 'r') as f:\n",
    "        for key in keys:\n",
    "            if key in f:\n",
    "                embeddings.append(f[key][:])\n",
    "            else:\n",
    "                raise ValueError(f\"Key '{key}' not found in {h5_path}\")\n",
    "    return np.stack(embeddings)\n",
    "\n",
    "try:\n",
    "    tcr_embeddings = load_embeddings(train_tcr_emb_path, selected_tcrs)\n",
    "    epi_embeddings = load_embeddings(train_epi_emb_path, selected_epitopes)\n",
    "\n",
    "    tcr_embeddings = torch.from_numpy(tcr_embeddings).float()\n",
    "    epi_embeddings = torch.from_numpy(epi_embeddings).float()\n",
    "\n",
    "    dataset = list(zip(tcr_embeddings, epi_embeddings))\n",
    "\n",
    "    # Prepare background tensors    \n",
    "    background_tcr = torch.stack([dataset[i][0] for i in range(50)]).to(device)\n",
    "    background_epitope = torch.stack([dataset[i][1] for i in range(50)]).to(device)\n",
    "\n",
    "    print(f\"Successfully loaded embeddings for {len(dataset)} samples\")\n",
    "    print(f\"TCR embeddings shape: {background_tcr.shape}\")\n",
    "    print(f\"Epitope embeddings shape: {background_epitope.shape}\")\n",
    "\n",
    "except Exception as e:\n",
    "    print(f\"Error loading embeddings: {str(e)}\")\n",
    "\n",
    "# ---------------- Load Model ----------------\n",
    "\n",
    "run = wandb.init()\n",
    "artifact = run.use_artifact('ba_cancerimmunotherapy/dataset-allele/Run_v1_mha_building_SHAPh_model:v2', type='model')\n",
    "artifact_dir = artifact.download()\n",
    "# artifact = run.use_artifact('ba_cancerimmunotherapy/dataset-allele/Run_v1_mha_1024h_flattened_model:v2', type='model')\n",
    "\n"
   ]
  },
  {
   "cell_type": "code",
   "execution_count": 47,
   "id": "df43ffe7",
   "metadata": {},
   "outputs": [
    {
     "name": "stderr",
     "output_type": "stream",
     "text": [
      "/tmp/ipykernel_71859/3004346885.py:13: FutureWarning: You are using `torch.load` with `weights_only=False` (the current default value), which uses the default pickle module implicitly. It is possible to construct malicious pickle data which will execute arbitrary code during unpickling (See https://github.com/pytorch/pytorch/blob/main/SECURITY.md#untrusted-models for more details). In a future release, the default value for `weights_only` will be flipped to `True`. This limits the functions that could be executed during unpickling. Arbitrary objects will no longer be allowed to be loaded via this mode unless they are explicitly allowlisted by the user via `torch.serialization.add_safe_globals`. We recommend you start setting `weights_only=True` for any use case where you don't have full control of the loaded file. Please open an issue on GitHub for any issues related to this experimental feature.\n",
      "  model.load_state_dict(torch.load(model_file, map_location=device))\n"
     ]
    }
   ],
   "source": [
    "# from your_model_module import TCR_Epitope_Transformer  # Replace with actual import\n",
    "\n",
    "model = TCR_Epitope_Transformer(\n",
    "    embed_dim=128, \n",
    "    num_heads=8, \n",
    "    num_layers=2, \n",
    "    max_tcr_length=43, \n",
    "    max_epitope_length=43, \n",
    "    dropout=0.1\n",
    ").to(device)\n",
    "\n",
    "model_file = os.path.join(artifact_dir, os.listdir(artifact_dir)[0])\n",
    "model.load_state_dict(torch.load(model_file, map_location=device))\n",
    "model.eval()\n",
    "\n",
    "# ---------------- Wrap Model for SHAP ----------------\n",
    "\n",
    "tcr_dim = background_tcr.shape[1]\n",
    "epitope_dim = background_epitope.shape[1]\n",
    "class WrappedModel(torch.nn.Module):\n",
    "    def __init__(self, base_model):\n",
    "        super().__init__()\n",
    "        self.base_model = base_model\n",
    "\n",
    "    def forward(self, x):\n",
    "        tcr = x[:, :tcr_dim]\n",
    "        epitope = x[:, tcr_dim:]\n",
    "        output = self.base_model(tcr, epitope)\n",
    "        return output.unsqueeze(1)  # <- Ensure shape [batch_size, 1]\n",
    "\n",
    "wrapped_model = WrappedModel(model)\n",
    "\n",
    "# Prepare SHAP-compatible inputs\n",
    "background_input = torch.cat([background_tcr, background_epitope], dim=1)\n",
    "test_tcr = torch.stack([dataset[i][0] for i in range(10)]).to(device)\n",
    "test_epitope = torch.stack([dataset[i][1] for i in range(10)]).to(device)\n",
    "test_input = torch.cat([test_tcr, test_epitope], dim=1)\n",
    "\n",
    "explainer = shap.GradientExplainer(wrapped_model, background_input)\n",
    "shap_values = explainer.shap_values(test_input)\n"
   ]
  },
  {
   "cell_type": "code",
   "execution_count": 54,
   "id": "55e7ee30",
   "metadata": {},
   "outputs": [
    {
     "data": {
      "text/plain": [
       "(10, 86, 1024, 1)"
      ]
     },
     "execution_count": 54,
     "metadata": {},
     "output_type": "execute_result"
    }
   ],
   "source": [
    "shap_values.shape"
   ]
  },
  {
   "cell_type": "markdown",
   "id": "c24148f5",
   "metadata": {},
   "source": [
    "### 1. Split SHAP values back into TCR and epitope parts"
   ]
  },
  {
   "cell_type": "code",
   "execution_count": null,
   "id": "ab0287ab",
   "metadata": {},
   "outputs": [],
   "source": [
    "shap_vals = shap_values[0].squeeze(-1)  # (86, 1024)\n",
    "\n",
    "shap_tcr_vals = shap_vals[ :43, :]     \n",
    "shap_epi_vals = shap_vals[ 43:, :]    # (86, 1024)\n"
   ]
  },
  {
   "cell_type": "code",
   "execution_count": 63,
   "id": "2eece287",
   "metadata": {},
   "outputs": [
    {
     "data": {
      "text/plain": [
       "(86, 1024)"
      ]
     },
     "execution_count": 63,
     "metadata": {},
     "output_type": "execute_result"
    }
   ],
   "source": [
    "shap_tcr_vals.shape\n",
    "shap_vals.shape"
   ]
  },
  {
   "cell_type": "markdown",
   "id": "a687b8de",
   "metadata": {},
   "source": [
    "### 2. Aggregate across embedding dimension"
   ]
  },
  {
   "cell_type": "code",
   "execution_count": null,
   "id": "218bf034",
   "metadata": {},
   "outputs": [],
   "source": [
    "tcr_token_scores = shap_tcr_vals.mean(axis=1)  # shape: (43,)\n",
    "epi_token_scores = shap_epi_vals.mean(axis=1)  # shape: (43,)\n"
   ]
  },
  {
   "cell_type": "code",
   "execution_count": 77,
   "id": "69dae40a",
   "metadata": {},
   "outputs": [
    {
     "data": {
      "text/plain": [
       "(43,)"
      ]
     },
     "execution_count": 77,
     "metadata": {},
     "output_type": "execute_result"
    }
   ],
   "source": [
    "tcr_token_scores.shape"
   ]
  },
  {
   "cell_type": "code",
   "execution_count": 67,
   "id": "53dee697",
   "metadata": {},
   "outputs": [
    {
     "data": {
      "image/png": "[encoded data removed]",
      "text/plain": [
       "<Figure size 1200x500 with 4 Axes>"
      ]
     },
     "metadata": {},
     "output_type": "display_data"
    }
   ],
   "source": [
    "import seaborn as sns\n",
    "import matplotlib.pyplot as plt\n",
    "\n",
    "plt.figure(figsize=(12, 5))\n",
    "\n",
    "plt.subplot(1, 2, 1)\n",
    "sns.heatmap(tcr_token_scores[None, :], cmap=\"coolwarm\", cbar=True)\n",
    "plt.title(\"TCR Token Importance\")\n",
    "\n",
    "plt.subplot(1, 2, 2)\n",
    "sns.heatmap(epi_token_scores[None, :], cmap=\"coolwarm\", cbar=True)\n",
    "plt.title(\"Epitope Token Importance\")\n",
    "\n",
    "plt.tight_layout()\n",
    "plt.show()\n"
   ]
  },
  {
   "cell_type": "code",
   "execution_count": 73,
   "id": "fd03813b",
   "metadata": {},
   "outputs": [
    {
     "data": {
      "image/png": "[encoded data removed]",
      "text/plain": [
       "<Figure size 1400x500 with 4 Axes>"
      ]
     },
     "metadata": {},
     "output_type": "display_data"
    }
   ],
   "source": [
    "import matplotlib.pyplot as plt\n",
    "import seaborn as sns\n",
    "\n",
    "# Select sample index\n",
    "idx = 5\n",
    "\n",
    "# Get sequence strings for labels\n",
    "tcr_seq = selected_tcrs[idx]\n",
    "epitope_seq = selected_epitopes[idx]\n",
    "\n",
    "# Get SHAP values and squeeze trailing dim\n",
    "shap_vals = shap_values[idx].squeeze(-1)  # (86, 1024)\n",
    "shap_tcr_vals = shap_vals[:43, :]\n",
    "shap_epi_vals = shap_vals[43:, :]\n",
    "\n",
    "# Compute mean SHAP per token\n",
    "tcr_token_scores = shap_tcr_vals.mean(axis=1)  # (43,)\n",
    "epi_token_scores = shap_epi_vals.mean(axis=1)  # (43,)\n",
    "\n",
    "# Pad labels to match input size (padded to 43)\n",
    "tcr_labels = list(tcr_seq.ljust(43, '-'))  # pad with '-' if shorter\n",
    "epi_labels = list(epitope_seq.ljust(43, '-'))\n",
    "\n",
    "# Plot\n",
    "plt.figure(figsize=(14, 5))\n",
    "\n",
    "plt.subplot(1, 2, 1)\n",
    "sns.heatmap(tcr_token_scores[None, :], cmap=\"coolwarm\", cbar=True, xticklabels=tcr_labels)\n",
    "plt.title(\"TCR Token Importance\")\n",
    "plt.xticks(rotation=90)\n",
    "\n",
    "plt.subplot(1, 2, 2)\n",
    "sns.heatmap(epi_token_scores[None, :], cmap=\"coolwarm\", cbar=True, xticklabels=epi_labels)\n",
    "plt.title(\"Epitope Token Importance\")\n",
    "plt.xticks(rotation=90)\n",
    "\n",
    "plt.tight_layout()\n",
    "plt.show()\n"
   ]
  },
  {
   "cell_type": "code",
   "execution_count": 79,
   "id": "2d142fa4",
   "metadata": {},
   "outputs": [
    {
     "data": {
      "image/png": "[encoded data removed]",
      "text/plain": [
       "<Figure size 1400x500 with 4 Axes>"
      ]
     },
     "metadata": {},
     "output_type": "display_data"
    }
   ],
   "source": [
    "import matplotlib.pyplot as plt\n",
    "import seaborn as sns\n",
    "import numpy as np\n",
    "\n",
    "# Select sample index\n",
    "idx = 0\n",
    "\n",
    "# Get sequence strings for labels\n",
    "tcr_seq = selected_tcrs[idx]\n",
    "epitope_seq = selected_epitopes[idx]\n",
    "\n",
    "# Get SHAP values and squeeze trailing dim\n",
    "shap_vals = shap_values[idx].squeeze(-1)  # (86, 1024)\n",
    "shap_tcr_vals = shap_vals[:43, :]\n",
    "shap_epi_vals = shap_vals[43:, :]\n",
    "\n",
    "# Compute mean SHAP per token\n",
    "tcr_token_scores = shap_tcr_vals.mean(axis=1)  # (43,)\n",
    "epi_token_scores = shap_epi_vals.mean(axis=1)  # (43,)\n",
    "\n",
    "# Pad labels to match input size\n",
    "tcr_labels = list(tcr_seq.ljust(43, '-'))\n",
    "epi_labels = list(epitope_seq.ljust(43, '-'))\n",
    "\n",
    "# Reshape for heatmap\n",
    "tcr_array = tcr_token_scores[None, :]\n",
    "epi_array = epi_token_scores[None, :]\n",
    "\n",
    "# Create annotations (round to 3 decimal places)\n",
    "tcr_annots = np.round(tcr_array, 5).astype(str)\n",
    "epi_annots = np.round(epi_array, 5).astype(str)\n",
    "\n",
    "# Plot with annotations\n",
    "plt.figure(figsize=(14, 5))\n",
    "\n",
    "plt.subplot(1, 2, 1)\n",
    "sns.heatmap(tcr_array, cmap=\"coolwarm\", cbar=True, xticklabels=tcr_labels,\n",
    "            annot=tcr_annots, fmt=\"\", annot_kws={\"size\": 8, \"rotation\": 90})\n",
    "plt.title(\"TCR Token Importance\")\n",
    "plt.xticks(rotation=90)\n",
    "plt.yticks([])\n",
    "\n",
    "plt.subplot(1, 2, 2)\n",
    "sns.heatmap(epi_array, cmap=\"coolwarm\", cbar=True, xticklabels=epi_labels,\n",
    "            annot=epi_annots, fmt=\"\", annot_kws={\"size\": 8, \"rotation\": 90})\n",
    "plt.title(\"Epitope Token Importance\")\n",
    "plt.xticks(rotation=90)\n",
    "plt.yticks([])\n",
    "\n",
    "plt.tight_layout()\n",
    "plt.show()\n"
   ]
  },
  {
   "cell_type": "markdown",
   "id": "59c1a853",
   "metadata": {},
   "source": [
    "### SHAP on Run_v1_mha_1024_shap_model:v0"
   ]
  },
  {
   "cell_type": "code",
   "execution_count": null,
   "id": "6d588aef",
   "metadata": {},
   "outputs": [],
   "source": [
    "import torch\n",
    "import torch.nn as nn\n",
    "\n",
    "import pandas as pd\n",
    "import h5py\n",
    "import torch\n",
    "import numpy as np\n",
    "import shap\n",
    "import wandb\n",
    "import os\n",
    "\n",
    "# class ResidualBlock(nn.Module):\n",
    "#     def __init__(self, hidden_dim, dropout):\n",
    "#         super(ResidualBlock, self).__init__()\n",
    "#         self.block = nn.Sequential(\n",
    "#             nn.BatchNorm1d(hidden_dim),\n",
    "#             nn.ReLU(),\n",
    "#             nn.Linear(hidden_dim, hidden_dim),\n",
    "#             nn.BatchNorm1d(hidden_dim),\n",
    "#             nn.ReLU(),\n",
    "#             nn.Dropout(dropout),\n",
    "#             nn.Linear(hidden_dim, hidden_dim)\n",
    "#         )\n",
    "class ResidualBlock(nn.Module):\n",
    "    def __init__(self, hidden_dim, dropout):\n",
    "        super(ResidualBlock, self).__init__()\n",
    "        self.block = nn.Sequential(\n",
    "            nn.LayerNorm(hidden_dim),\n",
    "            nn.ReLU(),\n",
    "            nn.Linear(hidden_dim, hidden_dim),\n",
    "            nn.LayerNorm(hidden_dim),\n",
    "            nn.ReLU(),\n",
    "            nn.Dropout(dropout),\n",
    "            nn.Linear(hidden_dim, hidden_dim)\n",
    "        )\n",
    "\n",
    "    def forward(self, x):\n",
    "        return x + self.block(x)\n",
    "\n",
    "class Classifier(nn.Module):\n",
    "    def __init__(self, input_dim, hidden_dim, dropout):\n",
    "        super(Classifier, self).__init__()\n",
    "        self.model = nn.Sequential(\n",
    "            ResidualBlock(input_dim, dropout),\n",
    "            nn.Linear(input_dim, 1)\n",
    "        )\n",
    "\n",
    "    def forward(self, x):\n",
    "        return self.model(x)\n",
    "\n",
    "class AttentionBlock(nn.Module):\n",
    "    def __init__(self, embed_dim, num_heads, dropout=0.1):\n",
    "        super(AttentionBlock, self).__init__()\n",
    "        self.attn = nn.MultiheadAttention(embed_dim, num_heads, dropout=dropout, batch_first=True)\n",
    "        self.norm1 = nn.LayerNorm(embed_dim)\n",
    "        self.dropout1 = nn.Dropout(dropout)\n",
    "        self.ff = nn.Sequential(\n",
    "            nn.Linear(embed_dim, embed_dim * 4),\n",
    "            nn.ReLU(),\n",
    "            nn.Dropout(dropout),\n",
    "            nn.Linear(embed_dim * 4, embed_dim)\n",
    "        )\n",
    "        self.norm2 = nn.LayerNorm(embed_dim)\n",
    "        self.dropout2 = nn.Dropout(dropout)\n",
    "\n",
    "    def forward(self, x, key_padding_mask=None):\n",
    "        attn_output, _ = self.attn(x, x, x, key_padding_mask=key_padding_mask)\n",
    "        x = self.norm1(x + self.dropout1(attn_output))\n",
    "        ff_output = self.ff(x)\n",
    "        x = self.norm2(x + self.dropout2(ff_output))\n",
    "        return x\n",
    "\n",
    "class LazyTCR_Epitope_Dataset(torch.utils.data.Dataset):\n",
    "    def __init__(self, data_frame, tcr_embeddings, epitope_embeddings):\n",
    "        \"\"\"\n",
    "        Args:\n",
    "            data_frame (DataFrame): The DataFrame containing sample data.\n",
    "            tcr_embeddings (h5py.File): HDF5 file containing TCR embeddings.\n",
    "            epitope_embeddings (h5py.File): HDF5 file containing epitope embeddings.\n",
    "        \"\"\"\n",
    "        self.data_frame = data_frame\n",
    "        self.tcr_embeddings = tcr_embeddings\n",
    "        self.epitope_embeddings = epitope_embeddings\n",
    "\n",
    "    def __len__(self):\n",
    "        return len(self.data_frame)\n",
    "\n",
    "    def __getitem__(self, idx):\n",
    "        sample = self.data_frame.iloc[idx]\n",
    "        tcr_id = sample['TRB_CDR3']  # Column name for TCR IDs\n",
    "        epitope_id = sample['Epitope']  # Column name for epitope IDs\n",
    "        label = sample['Binding']  # Target label\n",
    "\n",
    "        # Access embeddings lazily\n",
    "        tcr_embedding = self.tcr_embeddings[tcr_id][:]\n",
    "        epitope_embedding = self.epitope_embeddings[epitope_id][:]\n",
    "\n",
    "        return (\n",
    "            torch.tensor(tcr_embedding, dtype=torch.float32),\n",
    "            torch.tensor(epitope_embedding, dtype=torch.float32),\n",
    "            torch.tensor(label, dtype=torch.float32),\n",
    "        )\n",
    "\n",
    "class TCR_Epitope_Transformer(nn.Module):\n",
    "    def __init__(self, embed_dim=128, num_heads=4, num_layers=2, max_tcr_length=43, \n",
    "    max_epitope_length=43, dropout=0.1, classifier_hidden_dim=64):\n",
    "        super(TCR_Epitope_Transformer, self).__init__()\n",
    "        self.embed_dim = embed_dim\n",
    "        self.tcr_embedding = nn.Linear(1024, embed_dim)\n",
    "        self.epitope_embedding = nn.Linear(1024, embed_dim)\n",
    "\n",
    "        self.tcr_positional_encoding = nn.Parameter(torch.randn(1, max_tcr_length, embed_dim))\n",
    "        self.epitope_positional_encoding = nn.Parameter(torch.randn(1, max_epitope_length, embed_dim))\n",
    "\n",
    "        self.transformer_layers = nn.ModuleList([\n",
    "            AttentionBlock(embed_dim, num_heads, dropout) for _ in range(num_layers)\n",
    "        ])\n",
    "        self.classifier_input_dim = (max_tcr_length + max_epitope_length) * embed_dim\n",
    "\n",
    "        self.classifier = Classifier(self.classifier_input_dim, classifier_hidden_dim, dropout)\n",
    "\n",
    "    def forward(self, tcr, epitope):\n",
    "        tcr_emb = self.tcr_embedding(tcr)\n",
    "        epitope_emb = self.epitope_embedding(epitope)\n",
    "\n",
    "        # Create masks\n",
    "        tcr_mask = (tcr.sum(dim=-1) == 0)\n",
    "        epitope_mask = (epitope.sum(dim=-1) == 0)\n",
    "\n",
    "        # Add positional encoding\n",
    "        tcr_emb += self.tcr_positional_encoding[:, :tcr_emb.size(1), :]\n",
    "        epitope_emb += self.epitope_positional_encoding[:, :epitope_emb.size(1), :]\n",
    "\n",
    "        # Concatenate sequence and mask\n",
    "        combined = torch.cat([tcr_emb, epitope_emb], dim=1)\n",
    "        key_padding_mask = torch.cat([tcr_mask, epitope_mask], dim=1)\n",
    "\n",
    "        for layer in self.transformer_layers:\n",
    "            combined = layer(combined, key_padding_mask=key_padding_mask)\n",
    "\n",
    "        flattened = combined.view(combined.size(0), -1)  \n",
    "\n",
    "        output = self.classifier(flattened).squeeze(1)\n",
    "        return output"
   ]
  },
  {
   "cell_type": "code",
   "execution_count": 11,
   "id": "b3f76421",
   "metadata": {},
   "outputs": [
    {
     "name": "stdout",
     "output_type": "stream",
     "text": [
      "TCR Embedding shape: torch.Size([43, 1024])\n",
      "Epitope Embedding shape: torch.Size([43, 1024])\n",
      "Label: tensor(1.)\n"
     ]
    },
    {
     "data": {
      "text/html": [
       "Finishing last run (ID:y1c5koih) before initializing another..."
      ],
      "text/plain": [
       "<IPython.core.display.HTML object>"
      ]
     },
     "metadata": {},
     "output_type": "display_data"
    },
    {
     "data": {
      "text/html": [
       " View run <strong style=\"color:#cdcd00\">fine-donkey-15</strong> at: <a href='https://wandb.ai/ba_cancerimmunotherapy/BA-Cancer-Immunotherapy-models_scripts_v1_mha_shap/runs/y1c5koih' target=\"_blank\">https://wandb.ai/ba_cancerimmunotherapy/BA-Cancer-Immunotherapy-models_scripts_v1_mha_shap/runs/y1c5koih</a><br/> View project at: <a href='https://wandb.ai/ba_cancerimmunotherapy/BA-Cancer-Immunotherapy-models_scripts_v1_mha_shap' target=\"_blank\">https://wandb.ai/ba_cancerimmunotherapy/BA-Cancer-Immunotherapy-models_scripts_v1_mha_shap</a><br/>Synced 5 W&B file(s), 0 media file(s), 0 artifact file(s) and 0 other file(s)"
      ],
      "text/plain": [
       "<IPython.core.display.HTML object>"
      ]
     },
     "metadata": {},
     "output_type": "display_data"
    },
    {
     "data": {
      "text/html": [
       "Find logs at: <code>./wandb/run-20250426_092434-y1c5koih/logs</code>"
      ],
      "text/plain": [
       "<IPython.core.display.HTML object>"
      ]
     },
     "metadata": {},
     "output_type": "display_data"
    },
    {
     "data": {
      "text/html": [
       "Successfully finished last run (ID:y1c5koih). Initializing new run:<br/>"
      ],
      "text/plain": [
       "<IPython.core.display.HTML object>"
      ]
     },
     "metadata": {},
     "output_type": "display_data"
    },
    {
     "data": {
      "text/html": [
       "Tracking run with wandb version 0.18.7"
      ],
      "text/plain": [
       "<IPython.core.display.HTML object>"
      ]
     },
     "metadata": {},
     "output_type": "display_data"
    },
    {
     "data": {
      "text/html": [
       "Run data is saved locally in <code>/home/ubuntu/oscar/BA-Cancer-Immunotherapy/models_scripts/v1_mha/shap/wandb/run-20250426_111530-4uebre30</code>"
      ],
      "text/plain": [
       "<IPython.core.display.HTML object>"
      ]
     },
     "metadata": {},
     "output_type": "display_data"
    },
    {
     "data": {
      "text/html": [
       "Syncing run <strong><a href='https://wandb.ai/ba_cancerimmunotherapy/BA-Cancer-Immunotherapy-models_scripts_v1_mha_shap/runs/4uebre30' target=\"_blank\">absurd-morning-16</a></strong> to <a href='https://wandb.ai/ba_cancerimmunotherapy/BA-Cancer-Immunotherapy-models_scripts_v1_mha_shap' target=\"_blank\">Weights & Biases</a> (<a href='https://wandb.me/developer-guide' target=\"_blank\">docs</a>)<br/>"
      ],
      "text/plain": [
       "<IPython.core.display.HTML object>"
      ]
     },
     "metadata": {},
     "output_type": "display_data"
    },
    {
     "data": {
      "text/html": [
       " View project at <a href='https://wandb.ai/ba_cancerimmunotherapy/BA-Cancer-Immunotherapy-models_scripts_v1_mha_shap' target=\"_blank\">https://wandb.ai/ba_cancerimmunotherapy/BA-Cancer-Immunotherapy-models_scripts_v1_mha_shap</a>"
      ],
      "text/plain": [
       "<IPython.core.display.HTML object>"
      ]
     },
     "metadata": {},
     "output_type": "display_data"
    },
    {
     "data": {
      "text/html": [
       " View run at <a href='https://wandb.ai/ba_cancerimmunotherapy/BA-Cancer-Immunotherapy-models_scripts_v1_mha_shap/runs/4uebre30' target=\"_blank\">https://wandb.ai/ba_cancerimmunotherapy/BA-Cancer-Immunotherapy-models_scripts_v1_mha_shap/runs/4uebre30</a>"
      ],
      "text/plain": [
       "<IPython.core.display.HTML object>"
      ]
     },
     "metadata": {},
     "output_type": "display_data"
    },
    {
     "name": "stderr",
     "output_type": "stream",
     "text": [
      "\u001b[34m\u001b[1mwandb\u001b[0m: Downloading large artifact Run_v1_mha_1024_shap_model:v0, 926.60MB. 1 files... \n",
      "\u001b[34m\u001b[1mwandb\u001b[0m:   1 of 1 files downloaded.  \n",
      "Done. 0:0:1.7\n"
     ]
    }
   ],
   "source": [
    "\n",
    "# ---------------- Load Data ----------------\n",
    "\n",
    "device = torch.device(\"cuda\" if torch.cuda.is_available() else \"cpu\")\n",
    "\n",
    "train_path = \"../../../../../data/splitted_datasets/allele/beta/train.tsv\"\n",
    "train_epi_emb_path = \"../../../../../data/embeddings/beta/allele/dimension_1024/padded_train_epitope_embeddings_final.h5\"\n",
    "train_tcr_emb_path = \"../../../../../data/embeddings/beta/allele/dimension_1024/padded_train_tcr_embeddings_final.h5\"\n",
    "\n",
    "train_df = pd.read_csv(train_path, sep='\\t')\n",
    "binding_samples = train_df[train_df['Binding'] == 1].sample(100, random_state=42)\n",
    "non_binding_samples = train_df[train_df['Binding'] == 0].sample(50, random_state=42)\n",
    "selected_samples = pd.concat([binding_samples, non_binding_samples])\n",
    "selected_tcrs = selected_samples['TRB_CDR3'].tolist()\n",
    "selected_epitopes = selected_samples['Epitope'].tolist()\n",
    "\n",
    "def load_embeddings(h5_path, keys):\n",
    "    embeddings = []\n",
    "    with h5py.File(h5_path, 'r') as f:\n",
    "        for key in keys:\n",
    "            if key in f:\n",
    "                embeddings.append(f[key][:])\n",
    "            else:\n",
    "                raise ValueError(f\"Key '{key}' not found in {h5_path}\")\n",
    "    return np.stack(embeddings)\n",
    "\n",
    "tcr_embeddings = load_embeddings(train_tcr_emb_path, selected_tcrs)\n",
    "epi_embeddings = load_embeddings(train_epi_emb_path, selected_epitopes)\n",
    "# tcr_embeddings = torch.from_numpy(tcr_embeddings).float()\n",
    "# epi_embeddings = torch.from_numpy(epi_embeddings).float()\n",
    "\n",
    "class InMemoryTCR_Epitope_Dataset(torch.utils.data.Dataset):\n",
    "    def __init__(self, data_frame, tcr_embeddings, epitope_embeddings):\n",
    "        self.data_frame = data_frame.reset_index(drop=True)\n",
    "        self.tcr_embeddings = tcr_embeddings\n",
    "        self.epitope_embeddings = epitope_embeddings\n",
    "\n",
    "    def __len__(self):\n",
    "        return len(self.data_frame)\n",
    "\n",
    "    def __getitem__(self, idx):\n",
    "        sample = self.data_frame.iloc[idx]\n",
    "        return (\n",
    "            torch.tensor(self.tcr_embeddings[idx], dtype=torch.float32),\n",
    "            torch.tensor(self.epitope_embeddings[idx], dtype=torch.float32),\n",
    "            torch.tensor(sample['Binding'], dtype=torch.float32),\n",
    "        )\n",
    "dataset = InMemoryTCR_Epitope_Dataset(selected_samples, tcr_embeddings, epi_embeddings)\n",
    "\n",
    "\n",
    "# ---------------- adjustment ------------------\n",
    "\n",
    "\n",
    "# # Create dataset\n",
    "# dataset = LazyTCR_Epitope_Dataset(train_df, tcr_embeddings, epi_embeddings)\n",
    "\n",
    "# # Optional: create a DataLoader\n",
    "# batch_size = 128\n",
    "# dataloader = DataLoader(dataset, batch_size=batch_size, shuffle=True)\n",
    "\n",
    "# Quick sanity check\n",
    "sample_tcr, sample_epitope, sample_label = dataset[0]\n",
    "print(\"TCR Embedding shape:\", sample_tcr.shape)\n",
    "print(\"Epitope Embedding shape:\", sample_epitope.shape)\n",
    "print(\"Label:\", sample_label)\n",
    "\n",
    "# ------------------- until here -----------------\n",
    "\n",
    "# dataset = list(zip(tcr_embeddings, epi_embeddings))\n",
    "\n",
    "# background_tcr = torch.stack([dataset[i][0] for i in range(50)]).to(device)\n",
    "# background_epitope = torch.stack([dataset[i][1] for i in range(50)]).to(device)\n",
    "\n",
    "# ---------------- Load Model ---------------- to be updated!!!\n",
    "\n",
    "run = wandb.init()\n",
    "artifact = run.use_artifact('ba_cancerimmunotherapy/dataset-allele/Run_v1_mha_1024_shap_model:v0', type='model')\n",
    "artifact_dir = artifact.download()\n",
    "model_file = os.path.join(artifact_dir, os.listdir(artifact_dir)[0])"
   ]
  },
  {
   "cell_type": "code",
   "execution_count": 12,
   "id": "2eb6d4b1",
   "metadata": {},
   "outputs": [
    {
     "name": "stderr",
     "output_type": "stream",
     "text": [
      "/tmp/ipykernel_119307/974845466.py:10: FutureWarning: You are using `torch.load` with `weights_only=False` (the current default value), which uses the default pickle module implicitly. It is possible to construct malicious pickle data which will execute arbitrary code during unpickling (See https://github.com/pytorch/pytorch/blob/main/SECURITY.md#untrusted-models for more details). In a future release, the default value for `weights_only` will be flipped to `True`. This limits the functions that could be executed during unpickling. Arbitrary objects will no longer be allowed to be loaded via this mode unless they are explicitly allowlisted by the user via `torch.serialization.add_safe_globals`. We recommend you start setting `weights_only=True` for any use case where you don't have full control of the loaded file. Please open an issue on GitHub for any issues related to this experimental feature.\n",
      "  model.load_state_dict(torch.load(model_file, map_location=device))\n"
     ]
    },
    {
     "data": {
      "text/plain": [
       "TCR_Epitope_Transformer(\n",
       "  (tcr_embedding): Linear(in_features=1024, out_features=128, bias=True)\n",
       "  (epitope_embedding): Linear(in_features=1024, out_features=128, bias=True)\n",
       "  (transformer_layers): ModuleList(\n",
       "    (0): AttentionBlock(\n",
       "      (attn): MultiheadAttention(\n",
       "        (out_proj): NonDynamicallyQuantizableLinear(in_features=128, out_features=128, bias=True)\n",
       "      )\n",
       "      (norm1): LayerNorm((128,), eps=1e-05, elementwise_affine=True)\n",
       "      (dropout1): Dropout(p=0.125, inplace=False)\n",
       "      (ff): Sequential(\n",
       "        (0): Linear(in_features=128, out_features=512, bias=True)\n",
       "        (1): ReLU()\n",
       "        (2): Dropout(p=0.125, inplace=False)\n",
       "        (3): Linear(in_features=512, out_features=128, bias=True)\n",
       "      )\n",
       "      (norm2): LayerNorm((128,), eps=1e-05, elementwise_affine=True)\n",
       "      (dropout2): Dropout(p=0.125, inplace=False)\n",
       "    )\n",
       "  )\n",
       "  (classifier): Classifier(\n",
       "    (model): Sequential(\n",
       "      (0): ResidualBlock(\n",
       "        (block): Sequential(\n",
       "          (0): LayerNorm((11008,), eps=1e-05, elementwise_affine=True)\n",
       "          (1): ReLU()\n",
       "          (2): Linear(in_features=11008, out_features=11008, bias=True)\n",
       "          (3): LayerNorm((11008,), eps=1e-05, elementwise_affine=True)\n",
       "          (4): ReLU()\n",
       "          (5): Dropout(p=0.125, inplace=False)\n",
       "          (6): Linear(in_features=11008, out_features=11008, bias=True)\n",
       "        )\n",
       "      )\n",
       "      (1): Linear(in_features=11008, out_features=1, bias=True)\n",
       "    )\n",
       "  )\n",
       ")"
      ]
     },
     "execution_count": 12,
     "metadata": {},
     "output_type": "execute_result"
    }
   ],
   "source": [
    "model = TCR_Epitope_Transformer(\n",
    "    embed_dim=128, \n",
    "    num_heads=4, \n",
    "    num_layers=1, \n",
    "    dropout=0.125, \n",
    "    max_tcr_length=43, \n",
    "    max_epitope_length=43, \n",
    "    classifier_hidden_dim=64\n",
    ").to(device)\n",
    "model.load_state_dict(torch.load(model_file, map_location=device))\n",
    "model.eval()\n"
   ]
  },
  {
   "cell_type": "code",
   "execution_count": 13,
   "id": "7cad3231",
   "metadata": {},
   "outputs": [
    {
     "ename": "RuntimeError",
     "evalue": "Output 0 of BackwardHookFunctionBackward is a view and is being modified inplace. This view was created inside a custom Function (or because an input was returned as-is) and the autograd logic to handle view+inplace would override the custom backward associated with the custom Function, leading to incorrect gradients. This behavior is forbidden. You can fix this by cloning the output of the custom Function.",
     "output_type": "error",
     "traceback": [
      "\u001b[0;31m---------------------------------------------------------------------------\u001b[0m",
      "\u001b[0;31mRuntimeError\u001b[0m                              Traceback (most recent call last)",
      "Cell \u001b[0;32mIn[13], line 50\u001b[0m\n\u001b[1;32m     48\u001b[0m \u001b[38;5;66;03m# SHAP expects input as tuple if model takes multiple tensors\u001b[39;00m\n\u001b[1;32m     49\u001b[0m explainer \u001b[38;5;241m=\u001b[39m shap\u001b[38;5;241m.\u001b[39mDeepExplainer(wrapped_model, [background_tcr, background_epitope])\n\u001b[0;32m---> 50\u001b[0m shap_values \u001b[38;5;241m=\u001b[39m explainer\u001b[38;5;241m.\u001b[39mshap_values([explain_tcr, explain_epitope])\n\u001b[1;32m     51\u001b[0m tcr_flat \u001b[38;5;241m=\u001b[39m explain_tcr\u001b[38;5;241m.\u001b[39mview(explain_tcr\u001b[38;5;241m.\u001b[39msize(\u001b[38;5;241m0\u001b[39m), \u001b[38;5;241m-\u001b[39m\u001b[38;5;241m1\u001b[39m)\u001b[38;5;241m.\u001b[39mcpu()\u001b[38;5;241m.\u001b[39mnumpy()\n\u001b[1;32m     52\u001b[0m epi_flat \u001b[38;5;241m=\u001b[39m explain_epitope\u001b[38;5;241m.\u001b[39mview(explain_epitope\u001b[38;5;241m.\u001b[39msize(\u001b[38;5;241m0\u001b[39m), \u001b[38;5;241m-\u001b[39m\u001b[38;5;241m1\u001b[39m)\u001b[38;5;241m.\u001b[39mcpu()\u001b[38;5;241m.\u001b[39mnumpy()\n",
      "File \u001b[0;32m~/anaconda3/lib/python3.12/site-packages/shap/explainers/_deep/__init__.py:164\u001b[0m, in \u001b[0;36mDeepExplainer.shap_values\u001b[0;34m(self, X, ranked_outputs, output_rank_order, check_additivity)\u001b[0m\n\u001b[1;32m    120\u001b[0m \u001b[38;5;28;01mdef\u001b[39;00m \u001b[38;5;21mshap_values\u001b[39m(\u001b[38;5;28mself\u001b[39m, X, ranked_outputs\u001b[38;5;241m=\u001b[39m\u001b[38;5;28;01mNone\u001b[39;00m, output_rank_order\u001b[38;5;241m=\u001b[39m\u001b[38;5;124m\"\u001b[39m\u001b[38;5;124mmax\u001b[39m\u001b[38;5;124m\"\u001b[39m, check_additivity\u001b[38;5;241m=\u001b[39m\u001b[38;5;28;01mTrue\u001b[39;00m):\n\u001b[1;32m    121\u001b[0m \u001b[38;5;250m    \u001b[39m\u001b[38;5;124;03m\"\"\"Return approximate SHAP values for the model applied to the data given by X.\u001b[39;00m\n\u001b[1;32m    122\u001b[0m \n\u001b[1;32m    123\u001b[0m \u001b[38;5;124;03m    Parameters\u001b[39;00m\n\u001b[0;32m   (...)\u001b[0m\n\u001b[1;32m    162\u001b[0m \n\u001b[1;32m    163\u001b[0m \u001b[38;5;124;03m    \"\"\"\u001b[39;00m\n\u001b[0;32m--> 164\u001b[0m     \u001b[38;5;28;01mreturn\u001b[39;00m \u001b[38;5;28mself\u001b[39m\u001b[38;5;241m.\u001b[39mexplainer\u001b[38;5;241m.\u001b[39mshap_values(X, ranked_outputs, output_rank_order, check_additivity\u001b[38;5;241m=\u001b[39mcheck_additivity)\n",
      "File \u001b[0;32m~/anaconda3/lib/python3.12/site-packages/shap/explainers/_deep/deep_pytorch.py:189\u001b[0m, in \u001b[0;36mPyTorchDeep.shap_values\u001b[0;34m(self, X, ranked_outputs, output_rank_order, check_additivity)\u001b[0m\n\u001b[1;32m    187\u001b[0m \u001b[38;5;66;03m# run attribution computation graph\u001b[39;00m\n\u001b[1;32m    188\u001b[0m feature_ind \u001b[38;5;241m=\u001b[39m model_output_ranks[j, i]\n\u001b[0;32m--> 189\u001b[0m sample_phis \u001b[38;5;241m=\u001b[39m \u001b[38;5;28mself\u001b[39m\u001b[38;5;241m.\u001b[39mgradient(feature_ind, joint_x)\n\u001b[1;32m    190\u001b[0m \u001b[38;5;66;03m# assign the attributions to the right part of the output arrays\u001b[39;00m\n\u001b[1;32m    191\u001b[0m \u001b[38;5;28;01mif\u001b[39;00m \u001b[38;5;28mself\u001b[39m\u001b[38;5;241m.\u001b[39minterim:\n",
      "File \u001b[0;32m~/anaconda3/lib/python3.12/site-packages/shap/explainers/_deep/deep_pytorch.py:102\u001b[0m, in \u001b[0;36mPyTorchDeep.gradient\u001b[0;34m(self, idx, inputs)\u001b[0m\n\u001b[1;32m    100\u001b[0m \u001b[38;5;28mself\u001b[39m\u001b[38;5;241m.\u001b[39mmodel\u001b[38;5;241m.\u001b[39mzero_grad()\n\u001b[1;32m    101\u001b[0m X \u001b[38;5;241m=\u001b[39m [x\u001b[38;5;241m.\u001b[39mrequires_grad_() \u001b[38;5;28;01mfor\u001b[39;00m x \u001b[38;5;129;01min\u001b[39;00m inputs]\n\u001b[0;32m--> 102\u001b[0m outputs \u001b[38;5;241m=\u001b[39m \u001b[38;5;28mself\u001b[39m\u001b[38;5;241m.\u001b[39mmodel(\u001b[38;5;241m*\u001b[39mX)\n\u001b[1;32m    103\u001b[0m selected \u001b[38;5;241m=\u001b[39m [val \u001b[38;5;28;01mfor\u001b[39;00m val \u001b[38;5;129;01min\u001b[39;00m outputs[:, idx]]\n\u001b[1;32m    104\u001b[0m grads \u001b[38;5;241m=\u001b[39m []\n",
      "File \u001b[0;32m~/.local/lib/python3.12/site-packages/torch/nn/modules/module.py:1736\u001b[0m, in \u001b[0;36mModule._wrapped_call_impl\u001b[0;34m(self, *args, **kwargs)\u001b[0m\n\u001b[1;32m   1734\u001b[0m     \u001b[38;5;28;01mreturn\u001b[39;00m \u001b[38;5;28mself\u001b[39m\u001b[38;5;241m.\u001b[39m_compiled_call_impl(\u001b[38;5;241m*\u001b[39margs, \u001b[38;5;241m*\u001b[39m\u001b[38;5;241m*\u001b[39mkwargs)  \u001b[38;5;66;03m# type: ignore[misc]\u001b[39;00m\n\u001b[1;32m   1735\u001b[0m \u001b[38;5;28;01melse\u001b[39;00m:\n\u001b[0;32m-> 1736\u001b[0m     \u001b[38;5;28;01mreturn\u001b[39;00m \u001b[38;5;28mself\u001b[39m\u001b[38;5;241m.\u001b[39m_call_impl(\u001b[38;5;241m*\u001b[39margs, \u001b[38;5;241m*\u001b[39m\u001b[38;5;241m*\u001b[39mkwargs)\n",
      "File \u001b[0;32m~/.local/lib/python3.12/site-packages/torch/nn/modules/module.py:1747\u001b[0m, in \u001b[0;36mModule._call_impl\u001b[0;34m(self, *args, **kwargs)\u001b[0m\n\u001b[1;32m   1742\u001b[0m \u001b[38;5;66;03m# If we don't have any hooks, we want to skip the rest of the logic in\u001b[39;00m\n\u001b[1;32m   1743\u001b[0m \u001b[38;5;66;03m# this function, and just call forward.\u001b[39;00m\n\u001b[1;32m   1744\u001b[0m \u001b[38;5;28;01mif\u001b[39;00m \u001b[38;5;129;01mnot\u001b[39;00m (\u001b[38;5;28mself\u001b[39m\u001b[38;5;241m.\u001b[39m_backward_hooks \u001b[38;5;129;01mor\u001b[39;00m \u001b[38;5;28mself\u001b[39m\u001b[38;5;241m.\u001b[39m_backward_pre_hooks \u001b[38;5;129;01mor\u001b[39;00m \u001b[38;5;28mself\u001b[39m\u001b[38;5;241m.\u001b[39m_forward_hooks \u001b[38;5;129;01mor\u001b[39;00m \u001b[38;5;28mself\u001b[39m\u001b[38;5;241m.\u001b[39m_forward_pre_hooks\n\u001b[1;32m   1745\u001b[0m         \u001b[38;5;129;01mor\u001b[39;00m _global_backward_pre_hooks \u001b[38;5;129;01mor\u001b[39;00m _global_backward_hooks\n\u001b[1;32m   1746\u001b[0m         \u001b[38;5;129;01mor\u001b[39;00m _global_forward_hooks \u001b[38;5;129;01mor\u001b[39;00m _global_forward_pre_hooks):\n\u001b[0;32m-> 1747\u001b[0m     \u001b[38;5;28;01mreturn\u001b[39;00m forward_call(\u001b[38;5;241m*\u001b[39margs, \u001b[38;5;241m*\u001b[39m\u001b[38;5;241m*\u001b[39mkwargs)\n\u001b[1;32m   1749\u001b[0m result \u001b[38;5;241m=\u001b[39m \u001b[38;5;28;01mNone\u001b[39;00m\n\u001b[1;32m   1750\u001b[0m called_always_called_hooks \u001b[38;5;241m=\u001b[39m \u001b[38;5;28mset\u001b[39m()\n",
      "Cell \u001b[0;32mIn[13], line 44\u001b[0m, in \u001b[0;36mSHAPWrapper.forward\u001b[0;34m(self, *inputs)\u001b[0m\n\u001b[1;32m     42\u001b[0m \u001b[38;5;28;01mdef\u001b[39;00m \u001b[38;5;21mforward\u001b[39m(\u001b[38;5;28mself\u001b[39m, \u001b[38;5;241m*\u001b[39minputs):\n\u001b[1;32m     43\u001b[0m     \u001b[38;5;66;03m# SHAP passes each input tensor as a separate arg\u001b[39;00m\n\u001b[0;32m---> 44\u001b[0m     \u001b[38;5;28;01mreturn\u001b[39;00m \u001b[38;5;28mself\u001b[39m\u001b[38;5;241m.\u001b[39mmodel(\u001b[38;5;241m*\u001b[39minputs)\n",
      "File \u001b[0;32m~/.local/lib/python3.12/site-packages/torch/nn/modules/module.py:1736\u001b[0m, in \u001b[0;36mModule._wrapped_call_impl\u001b[0;34m(self, *args, **kwargs)\u001b[0m\n\u001b[1;32m   1734\u001b[0m     \u001b[38;5;28;01mreturn\u001b[39;00m \u001b[38;5;28mself\u001b[39m\u001b[38;5;241m.\u001b[39m_compiled_call_impl(\u001b[38;5;241m*\u001b[39margs, \u001b[38;5;241m*\u001b[39m\u001b[38;5;241m*\u001b[39mkwargs)  \u001b[38;5;66;03m# type: ignore[misc]\u001b[39;00m\n\u001b[1;32m   1735\u001b[0m \u001b[38;5;28;01melse\u001b[39;00m:\n\u001b[0;32m-> 1736\u001b[0m     \u001b[38;5;28;01mreturn\u001b[39;00m \u001b[38;5;28mself\u001b[39m\u001b[38;5;241m.\u001b[39m_call_impl(\u001b[38;5;241m*\u001b[39margs, \u001b[38;5;241m*\u001b[39m\u001b[38;5;241m*\u001b[39mkwargs)\n",
      "File \u001b[0;32m~/.local/lib/python3.12/site-packages/torch/nn/modules/module.py:1747\u001b[0m, in \u001b[0;36mModule._call_impl\u001b[0;34m(self, *args, **kwargs)\u001b[0m\n\u001b[1;32m   1742\u001b[0m \u001b[38;5;66;03m# If we don't have any hooks, we want to skip the rest of the logic in\u001b[39;00m\n\u001b[1;32m   1743\u001b[0m \u001b[38;5;66;03m# this function, and just call forward.\u001b[39;00m\n\u001b[1;32m   1744\u001b[0m \u001b[38;5;28;01mif\u001b[39;00m \u001b[38;5;129;01mnot\u001b[39;00m (\u001b[38;5;28mself\u001b[39m\u001b[38;5;241m.\u001b[39m_backward_hooks \u001b[38;5;129;01mor\u001b[39;00m \u001b[38;5;28mself\u001b[39m\u001b[38;5;241m.\u001b[39m_backward_pre_hooks \u001b[38;5;129;01mor\u001b[39;00m \u001b[38;5;28mself\u001b[39m\u001b[38;5;241m.\u001b[39m_forward_hooks \u001b[38;5;129;01mor\u001b[39;00m \u001b[38;5;28mself\u001b[39m\u001b[38;5;241m.\u001b[39m_forward_pre_hooks\n\u001b[1;32m   1745\u001b[0m         \u001b[38;5;129;01mor\u001b[39;00m _global_backward_pre_hooks \u001b[38;5;129;01mor\u001b[39;00m _global_backward_hooks\n\u001b[1;32m   1746\u001b[0m         \u001b[38;5;129;01mor\u001b[39;00m _global_forward_hooks \u001b[38;5;129;01mor\u001b[39;00m _global_forward_pre_hooks):\n\u001b[0;32m-> 1747\u001b[0m     \u001b[38;5;28;01mreturn\u001b[39;00m forward_call(\u001b[38;5;241m*\u001b[39margs, \u001b[38;5;241m*\u001b[39m\u001b[38;5;241m*\u001b[39mkwargs)\n\u001b[1;32m   1749\u001b[0m result \u001b[38;5;241m=\u001b[39m \u001b[38;5;28;01mNone\u001b[39;00m\n\u001b[1;32m   1750\u001b[0m called_always_called_hooks \u001b[38;5;241m=\u001b[39m \u001b[38;5;28mset\u001b[39m()\n",
      "Cell \u001b[0;32mIn[10], line 131\u001b[0m, in \u001b[0;36mTCR_Epitope_Transformer.forward\u001b[0;34m(self, tcr, epitope)\u001b[0m\n\u001b[1;32m    128\u001b[0m epitope_mask \u001b[38;5;241m=\u001b[39m (epitope\u001b[38;5;241m.\u001b[39msum(dim\u001b[38;5;241m=\u001b[39m\u001b[38;5;241m-\u001b[39m\u001b[38;5;241m1\u001b[39m) \u001b[38;5;241m==\u001b[39m \u001b[38;5;241m0\u001b[39m)\n\u001b[1;32m    130\u001b[0m \u001b[38;5;66;03m# Add positional encoding\u001b[39;00m\n\u001b[0;32m--> 131\u001b[0m tcr_emb \u001b[38;5;241m+\u001b[39m\u001b[38;5;241m=\u001b[39m \u001b[38;5;28mself\u001b[39m\u001b[38;5;241m.\u001b[39mtcr_positional_encoding[:, :tcr_emb\u001b[38;5;241m.\u001b[39msize(\u001b[38;5;241m1\u001b[39m), :]\n\u001b[1;32m    132\u001b[0m epitope_emb \u001b[38;5;241m+\u001b[39m\u001b[38;5;241m=\u001b[39m \u001b[38;5;28mself\u001b[39m\u001b[38;5;241m.\u001b[39mepitope_positional_encoding[:, :epitope_emb\u001b[38;5;241m.\u001b[39msize(\u001b[38;5;241m1\u001b[39m), :]\n\u001b[1;32m    134\u001b[0m \u001b[38;5;66;03m# Concatenate sequence and mask\u001b[39;00m\n",
      "\u001b[0;31mRuntimeError\u001b[0m: Output 0 of BackwardHookFunctionBackward is a view and is being modified inplace. This view was created inside a custom Function (or because an input was returned as-is) and the autograd logic to handle view+inplace would override the custom backward associated with the custom Function, leading to incorrect gradients. This behavior is forbidden. You can fix this by cloning the output of the custom Function."
     ]
    }
   ],
   "source": [
    "import shap\n",
    "import torch\n",
    "import numpy as np\n",
    "\n",
    "# # Ensure the model is in eval mode\n",
    "# model.eval()\n",
    "\n",
    "# Wrap the model with a lambda to only return the output before sigmoid/logit\n",
    "f_model = lambda tcr, epitope: model(tcr, epitope).detach().cpu().numpy()\n",
    "\n",
    "# Select a representative background set and samples to explain\n",
    "def get_batch(dataset, indices):\n",
    "    tcr_batch, epitope_batch, label_batch = [], [], []\n",
    "    for idx in indices:\n",
    "        tcr, epitope, label = dataset[idx]\n",
    "        tcr_batch.append(tcr)\n",
    "        epitope_batch.append(epitope)\n",
    "        label_batch.append(label)\n",
    "    return (\n",
    "        torch.stack(tcr_batch).to(device),\n",
    "        torch.stack(epitope_batch).to(device),\n",
    "        torch.tensor(label_batch)\n",
    "    )\n",
    "\n",
    "# ⚠️ Adjust according to your setup\n",
    "device = torch.device(\"cuda\" if torch.cuda.is_available() else \"cpu\")\n",
    "\n",
    "# Dataset: assumed to be an instance of LazyTCR_Epitope_Dataset\n",
    "background_idxs = np.random.choice(len(dataset), size=100, replace=False)\n",
    "explained_idxs = np.random.choice(len(dataset), size=50, replace=False)\n",
    "\n",
    "background_tcr, background_epitope, _ = get_batch(dataset, background_idxs)\n",
    "explain_tcr, explain_epitope, explain_labels = get_batch(dataset, explained_idxs)\n",
    "\n",
    "# Define a wrapper compatible with SHAP DeepExplainer\n",
    "\n",
    "class SHAPWrapper(torch.nn.Module):\n",
    "    def __init__(self, model):\n",
    "        super().__init__()\n",
    "        self.model = model\n",
    "\n",
    "    def forward(self, *inputs):\n",
    "        # SHAP passes each input tensor as a separate arg\n",
    "        return self.model(*inputs)\n",
    "\n",
    "wrapped_model = SHAPWrapper(model)\n",
    "\n",
    "# SHAP expects input as tuple if model takes multiple tensors\n",
    "explainer = shap.DeepExplainer(wrapped_model, [background_tcr, background_epitope])\n",
    "shap_values = explainer.shap_values([explain_tcr, explain_epitope])\n",
    "tcr_flat = explain_tcr.view(explain_tcr.size(0), -1).cpu().numpy()\n",
    "epi_flat = explain_epitope.view(explain_epitope.size(0), -1).cpu().numpy()\n",
    "\n",
    "shap.summary_plot(\n",
    "    shap_values[0],\n",
    "    features=np.concatenate([tcr_flat, epi_flat], axis=1),\n",
    "    feature_names=[f\"TCR_{i}\" for i in range(tcr_flat.shape[1])] + [f\"EPI_{i}\" for i in range(epi_flat.shape[1])]\n",
    ")\n",
    "\n",
    "# # Plotting\n",
    "# shap.summary_plot(shap_values[0], features=np.concatenate([explain_tcr.cpu().numpy(), explain_epitope.cpu().numpy()], axis=1), feature_names=[f\"TCR_{i}\" for i in range(1024)] + [f\"EPI_{i}\" for i in range(1024)])\n"
   ]
  },
  {
   "cell_type": "code",
   "execution_count": null,
   "id": "ff37e29a",
   "metadata": {},
   "outputs": [],
   "source": []
  },
  {
   "cell_type": "code",
   "execution_count": null,
   "id": "744d1808",
   "metadata": {},
   "outputs": [],
   "source": []
  },
  {
   "cell_type": "code",
   "execution_count": null,
   "id": "dae167f0",
   "metadata": {},
   "outputs": [],
   "source": []
  },
  {
   "cell_type": "code",
   "execution_count": null,
   "id": "1adf1745",
   "metadata": {},
   "outputs": [],
   "source": [
    "\n",
    "# ---------------- SHAP Wrapper ----------------\n",
    "\n",
    "tcr_dim = background_tcr.shape[1]\n",
    "epitope_dim = background_epitope.shape[1]\n",
    "\n",
    "class WrappedModel(nn.Module):\n",
    "    def __init__(self, base_model):\n",
    "        super().__init__()\n",
    "        self.base_model = base_model\n",
    "\n",
    "    def forward(self, x):\n",
    "        tcr = x[:, :tcr_dim]\n",
    "        epitope = x[:, tcr_dim:]\n",
    "        return self.base_model(tcr, epitope).unsqueeze(1)\n",
    "\n",
    "wrapped_model = WrappedModel(model)\n",
    "\n",
    "background_input = torch.cat([background_tcr, background_epitope], dim=1)\n",
    "test_tcr = torch.stack([dataset[i][0] for i in range(10)]).to(device)\n",
    "test_epitope = torch.stack([dataset[i][1] for i in range(10)]).to(device)\n",
    "test_input = torch.cat([test_tcr, test_epitope], dim=1)\n",
    "\n",
    "explainer = shap.GradientExplainer(wrapped_model, background_input)\n",
    "shap_values = explainer.shap_values(test_input)\n",
    "\n",
    "print(\"SHAP analysis complete. Shape:\", np.array(shap_values).shape)\n"
   ]
  },
  {
   "cell_type": "code",
   "execution_count": null,
   "id": "6509fc4b",
   "metadata": {},
   "outputs": [],
   "source": []
  },
  {
   "cell_type": "code",
   "execution_count": null,
   "id": "cf03f758",
   "metadata": {},
   "outputs": [],
   "source": []
  },
  {
   "cell_type": "code",
   "execution_count": 37,
   "metadata": {},
   "outputs": [
    {
     "data": {
      "image/png": "[encoded data removed]",
      "text/plain": [
       "<Figure size 1000x400 with 1 Axes>"
      ]
     },
     "metadata": {},
     "output_type": "display_data"
    }
   ],
   "source": [
    "# # Reshape to (batch_size, sequence_length, embedding_dim)\n",
    "# tcr_shap_values = tcr_shap.reshape(1, 20, 128)  # shape: (1, 20, 128)\n",
    "\n",
    "# # Aggregate importance by TCR position\n",
    "# tcr_importance_per_pos = tcr_shap_values.abs().sum(dim=2).squeeze(0)  # (20,)\n",
    "\n",
    "# Plot\n",
    "import matplotlib.pyplot as plt\n",
    "plt.figure(figsize=(10, 4))\n",
    "plt.plot(range(1, 21), tcr_importance_per_pos.cpu().numpy(), marker='o')\n",
    "plt.title(\"TCR Feature Importance by Position (SHAP)\")\n",
    "plt.xlabel(\"TCR Sequence Position\")\n",
    "plt.ylabel(\"Importance (|SHAP| sum)\")\n",
    "plt.grid(True)\n",
    "plt.show()\n"
   ]
  },
  {
   "cell_type": "code",
   "execution_count": null,
   "id": "e7ff1894",
   "metadata": {},
   "outputs": [],
   "source": []
  },
  {
   "cell_type": "code",
   "execution_count": 38,
   "metadata": {},
   "outputs": [],
   "source": [
    "# Your decoded sequences\n",
    "tcr_aa_sequence = \"CASSFGQRDRGYWRNTEAFF\"   # Length = 20\n",
    "epitope_aa_sequence = \"ARNLVPMVATVQGQN\"  # Length = 15\n"
   ]
  },
  {
   "cell_type": "code",
   "execution_count": 39,
   "id": "a81cf28f",
   "metadata": {},
   "outputs": [],
   "source": [
    "import matplotlib.pyplot as plt\n",
    "import matplotlib.cm as cm\n",
    "import matplotlib.colors as mcolors\n",
    "from IPython.display import display, HTML\n",
    "\n",
    "def color_sequence_by_importance(sequence, importances, cmap_name=\"Reds\"):\n",
    "    \"\"\"\n",
    "    Returns an HTML string with amino acids colored by importance values.\n",
    "    \"\"\"\n",
    "    cmap = cm.get_cmap(cmap_name)\n",
    "    norm = mcolors.Normalize(vmin=0, vmax=max(importances))\n",
    "    \n",
    "    html_str = \"\"\n",
    "    for aa, score in zip(sequence, importances):\n",
    "        rgba = cmap(norm(score))\n",
    "        color = mcolors.to_hex(rgba)\n",
    "        html_str += f'<span style=\"background-color:{color};padding:2px;\">{aa}</span>'\n",
    "    \n",
    "    return html_str\n"
   ]
  },
  {
   "cell_type": "code",
   "execution_count": 41,
   "id": "bbd09fe9",
   "metadata": {},
   "outputs": [
    {
     "name": "stderr",
     "output_type": "stream",
     "text": [
      "/tmp/ipykernel_20749/4162379589.py:10: MatplotlibDeprecationWarning: The get_cmap function was deprecated in Matplotlib 3.7 and will be removed in 3.11. Use ``matplotlib.colormaps[name]`` or ``matplotlib.colormaps.get_cmap()`` or ``pyplot.get_cmap()`` instead.\n",
      "  cmap = cm.get_cmap(cmap_name)\n"
     ]
    },
    {
     "data": {
      "text/html": [
       "<h4>TCR Sequence SHAP Overlay</h4><span style=\"background-color:#bf151b;padding:2px;\">C</span><span style=\"background-color:#860811;padding:2px;\">A</span><span style=\"background-color:#820711;padding:2px;\">S</span><span style=\"background-color:#c8171c;padding:2px;\">S</span><span style=\"background-color:#9d0d14;padding:2px;\">F</span><span style=\"background-color:#c4161c;padding:2px;\">G</span><span style=\"background-color:#c4161c;padding:2px;\">Q</span><span style=\"background-color:#ab1016;padding:2px;\">R</span><span style=\"background-color:#b31218;padding:2px;\">D</span><span style=\"background-color:#bc141a;padding:2px;\">R</span><span style=\"background-color:#9f0e14;padding:2px;\">G</span><span style=\"background-color:#b01217;padding:2px;\">Y</span><span style=\"background-color:#b91419;padding:2px;\">W</span><span style=\"background-color:#840711;padding:2px;\">R</span><span style=\"background-color:#b61319;padding:2px;\">N</span><span style=\"background-color:#b91419;padding:2px;\">T</span><span style=\"background-color:#ab1016;padding:2px;\">E</span><span style=\"background-color:#9c0d14;padding:2px;\">A</span><span style=\"background-color:#67000d;padding:2px;\">F</span><span style=\"background-color:#a91016;padding:2px;\">F</span>"
      ],
      "text/plain": [
       "<IPython.core.display.HTML object>"
      ]
     },
     "metadata": {},
     "output_type": "display_data"
    }
   ],
   "source": [
    "# Example usage\n",
    "tcr_html = color_sequence_by_importance(tcr_aa_sequence, tcr_importance_per_pos)\n",
    "# epitope_html = color_sequence_by_importance(epitope_aa_sequence, epitope_importance_per_pos)\n",
    "\n",
    "# Display in notebook\n",
    "display(HTML(f\"<h4>TCR Sequence SHAP Overlay</h4>{tcr_html}\"))\n",
    "# display(HTML(f\"<h4>Epitope Sequence SHAP Overlay</h4>{epitope_html}\"))\n"
   ]
  },
  {
   "cell_type": "code",
   "execution_count": null,
   "id": "b1f2a76f",
   "metadata": {},
   "outputs": [],
   "source": [
    "import shap\n",
    "import torch\n",
    "\n",
    "class CustomModelWrapper(torch.nn.Module):\n",
    "    def __init__(self, model):\n",
    "        super().__init__()\n",
    "        self.model = model\n",
    "\n",
    "    def forward(self, inputs):\n",
    "        # Unpack tuple to pass to the original model\n",
    "        return self.model(*inputs)\n",
    "        \n",
    "wrapped_model = CustomModelWrapper(model)\n"
   ]
  },
  {
   "cell_type": "code",
   "execution_count": 8,
   "id": "ab4beb69",
   "metadata": {},
   "outputs": [],
   "source": [
    "# explainer = shap.GradientExplainer(wrapped_model, explainer_input)\n",
    "# # Or use DeepExplainer if all ops are supported\n",
    "# # explainer = shap.DeepExplainer(wrapped_model, explainer_input)\n",
    "\n",
    "explainer = shap.Explainer(wrapped_model, explainer_input)\n"
   ]
  },
  {
   "cell_type": "code",
   "execution_count": 9,
   "id": "4576b631",
   "metadata": {},
   "outputs": [
    {
     "ename": "ValueError",
     "evalue": "max_evals=500 is too low for the Permutation explainer, it must be at least 2 * num_features + 1 = 40961!",
     "output_type": "error",
     "traceback": [
      "\u001b[0;31m---------------------------------------------------------------------------\u001b[0m",
      "\u001b[0;31mValueError\u001b[0m                                Traceback (most recent call last)",
      "Cell \u001b[0;32mIn[9], line 9\u001b[0m\n\u001b[1;32m      1\u001b[0m sample_input \u001b[38;5;241m=\u001b[39m (\n\u001b[1;32m      2\u001b[0m     tcr[\u001b[38;5;241m0\u001b[39m:\u001b[38;5;241m1\u001b[39m],\n\u001b[1;32m      3\u001b[0m     epitope[\u001b[38;5;241m0\u001b[39m:\u001b[38;5;241m1\u001b[39m],\n\u001b[0;32m   (...)\u001b[0m\n\u001b[1;32m      6\u001b[0m     mhc[\u001b[38;5;241m0\u001b[39m:\u001b[38;5;241m1\u001b[39m]\n\u001b[1;32m      7\u001b[0m )\n\u001b[0;32m----> 9\u001b[0m shap_values \u001b[38;5;241m=\u001b[39m explainer(sample_input)\n",
      "File \u001b[0;32m~/anaconda3/lib/python3.12/site-packages/shap/explainers/_permutation.py:100\u001b[0m, in \u001b[0;36mPermutationExplainer.__call__\u001b[0;34m(self, max_evals, main_effects, error_bounds, batch_size, outputs, silent, *args)\u001b[0m\n\u001b[1;32m     89\u001b[0m \u001b[38;5;28;01mdef\u001b[39;00m \u001b[38;5;21m__call__\u001b[39m(\n\u001b[1;32m     90\u001b[0m     \u001b[38;5;28mself\u001b[39m,\n\u001b[1;32m     91\u001b[0m     \u001b[38;5;241m*\u001b[39margs,\n\u001b[0;32m   (...)\u001b[0m\n\u001b[1;32m     97\u001b[0m     silent\u001b[38;5;241m=\u001b[39m\u001b[38;5;28;01mFalse\u001b[39;00m,\n\u001b[1;32m     98\u001b[0m ):\n\u001b[1;32m     99\u001b[0m \u001b[38;5;250m    \u001b[39m\u001b[38;5;124;03m\"\"\"Explain the output of the model on the given arguments.\"\"\"\u001b[39;00m\n\u001b[0;32m--> 100\u001b[0m     \u001b[38;5;28;01mreturn\u001b[39;00m \u001b[38;5;28msuper\u001b[39m()\u001b[38;5;241m.\u001b[39m\u001b[38;5;21m__call__\u001b[39m(\n\u001b[1;32m    101\u001b[0m         \u001b[38;5;241m*\u001b[39margs,\n\u001b[1;32m    102\u001b[0m         max_evals\u001b[38;5;241m=\u001b[39mmax_evals,\n\u001b[1;32m    103\u001b[0m         main_effects\u001b[38;5;241m=\u001b[39mmain_effects,\n\u001b[1;32m    104\u001b[0m         error_bounds\u001b[38;5;241m=\u001b[39merror_bounds,\n\u001b[1;32m    105\u001b[0m         batch_size\u001b[38;5;241m=\u001b[39mbatch_size,\n\u001b[1;32m    106\u001b[0m         outputs\u001b[38;5;241m=\u001b[39moutputs,\n\u001b[1;32m    107\u001b[0m         silent\u001b[38;5;241m=\u001b[39msilent,\n\u001b[1;32m    108\u001b[0m     )\n",
      "File \u001b[0;32m~/anaconda3/lib/python3.12/site-packages/shap/explainers/_explainer.py:366\u001b[0m, in \u001b[0;36mExplainer.__call__\u001b[0;34m(self, max_evals, main_effects, error_bounds, batch_size, outputs, silent, *args, **kwargs)\u001b[0m\n\u001b[1;32m    364\u001b[0m     feature_names \u001b[38;5;241m=\u001b[39m [[] \u001b[38;5;28;01mfor\u001b[39;00m _ \u001b[38;5;129;01min\u001b[39;00m \u001b[38;5;28mrange\u001b[39m(\u001b[38;5;28mlen\u001b[39m(args))]\n\u001b[1;32m    365\u001b[0m \u001b[38;5;28;01mfor\u001b[39;00m row_args \u001b[38;5;129;01min\u001b[39;00m show_progress(\u001b[38;5;28mzip\u001b[39m(\u001b[38;5;241m*\u001b[39margs), num_rows, \u001b[38;5;28mself\u001b[39m\u001b[38;5;241m.\u001b[39m\u001b[38;5;18m__class__\u001b[39m\u001b[38;5;241m.\u001b[39m\u001b[38;5;18m__name__\u001b[39m \u001b[38;5;241m+\u001b[39m \u001b[38;5;124m\"\u001b[39m\u001b[38;5;124m explainer\u001b[39m\u001b[38;5;124m\"\u001b[39m, silent):\n\u001b[0;32m--> 366\u001b[0m     row_result \u001b[38;5;241m=\u001b[39m \u001b[38;5;28mself\u001b[39m\u001b[38;5;241m.\u001b[39mexplain_row(\n\u001b[1;32m    367\u001b[0m         \u001b[38;5;241m*\u001b[39mrow_args,\n\u001b[1;32m    368\u001b[0m         max_evals\u001b[38;5;241m=\u001b[39mmax_evals,\n\u001b[1;32m    369\u001b[0m         main_effects\u001b[38;5;241m=\u001b[39mmain_effects,\n\u001b[1;32m    370\u001b[0m         error_bounds\u001b[38;5;241m=\u001b[39merror_bounds,\n\u001b[1;32m    371\u001b[0m         batch_size\u001b[38;5;241m=\u001b[39mbatch_size,\n\u001b[1;32m    372\u001b[0m         outputs\u001b[38;5;241m=\u001b[39moutputs,\n\u001b[1;32m    373\u001b[0m         silent\u001b[38;5;241m=\u001b[39msilent,\n\u001b[1;32m    374\u001b[0m         \u001b[38;5;241m*\u001b[39m\u001b[38;5;241m*\u001b[39mkwargs,\n\u001b[1;32m    375\u001b[0m     )\n\u001b[1;32m    376\u001b[0m     values\u001b[38;5;241m.\u001b[39mappend(row_result\u001b[38;5;241m.\u001b[39mget(\u001b[38;5;124m\"\u001b[39m\u001b[38;5;124mvalues\u001b[39m\u001b[38;5;124m\"\u001b[39m, \u001b[38;5;28;01mNone\u001b[39;00m))\n\u001b[1;32m    377\u001b[0m     output_indices\u001b[38;5;241m.\u001b[39mappend(row_result\u001b[38;5;241m.\u001b[39mget(\u001b[38;5;124m\"\u001b[39m\u001b[38;5;124moutput_indices\u001b[39m\u001b[38;5;124m\"\u001b[39m, \u001b[38;5;28;01mNone\u001b[39;00m))\n",
      "File \u001b[0;32m~/anaconda3/lib/python3.12/site-packages/shap/explainers/_permutation.py:192\u001b[0m, in \u001b[0;36mPermutationExplainer.explain_row\u001b[0;34m(self, max_evals, main_effects, error_bounds, batch_size, outputs, silent, *row_args)\u001b[0m\n\u001b[1;32m    189\u001b[0m     history_pos \u001b[38;5;241m+\u001b[39m\u001b[38;5;241m=\u001b[39m \u001b[38;5;241m1\u001b[39m\n\u001b[1;32m    191\u001b[0m \u001b[38;5;28;01mif\u001b[39;00m npermutations \u001b[38;5;241m==\u001b[39m \u001b[38;5;241m0\u001b[39m:\n\u001b[0;32m--> 192\u001b[0m     \u001b[38;5;28;01mraise\u001b[39;00m \u001b[38;5;167;01mValueError\u001b[39;00m(\n\u001b[1;32m    193\u001b[0m         \u001b[38;5;124mf\u001b[39m\u001b[38;5;124m\"\u001b[39m\u001b[38;5;124mmax_evals=\u001b[39m\u001b[38;5;132;01m{\u001b[39;00mmax_evals\u001b[38;5;132;01m}\u001b[39;00m\u001b[38;5;124m is too low for the Permutation explainer, it must be at least 2 * num_features + 1 = \u001b[39m\u001b[38;5;132;01m{\u001b[39;00m\u001b[38;5;241m2\u001b[39m\u001b[38;5;250m \u001b[39m\u001b[38;5;241m*\u001b[39m\u001b[38;5;250m \u001b[39m\u001b[38;5;28mlen\u001b[39m(inds)\u001b[38;5;250m \u001b[39m\u001b[38;5;241m+\u001b[39m\u001b[38;5;250m \u001b[39m\u001b[38;5;241m1\u001b[39m\u001b[38;5;132;01m}\u001b[39;00m\u001b[38;5;124m!\u001b[39m\u001b[38;5;124m\"\u001b[39m\n\u001b[1;32m    194\u001b[0m     )\n\u001b[1;32m    196\u001b[0m expected_value \u001b[38;5;241m=\u001b[39m outputs[\u001b[38;5;241m0\u001b[39m]\n\u001b[1;32m    198\u001b[0m \u001b[38;5;66;03m# compute the main effects if we need to\u001b[39;00m\n",
      "\u001b[0;31mValueError\u001b[0m: max_evals=500 is too low for the Permutation explainer, it must be at least 2 * num_features + 1 = 40961!"
     ]
    }
   ],
   "source": [
    "sample_input = (\n",
    "    tcr[0:1],\n",
    "    epitope[0:1],\n",
    "    trbv[0:1],\n",
    "    trbj[0:1],\n",
    "    mhc[0:1]\n",
    ")\n",
    "\n",
    "shap_values = explainer(sample_input)\n"
   ]
  },
  {
   "cell_type": "code",
   "execution_count": null,
   "id": "2fe991c3",
   "metadata": {},
   "outputs": [],
   "source": [
    "# # Flatten the feature input as needed (e.g., combined_features shape)\n",
    "# # Visualize one component (e.g., total importance)\n",
    "# shap_values_tensor = torch.cat([v.reshape(1, -1) for v in shap_values], dim=1)\n",
    "# shap.summary_plot(shap_values_tensor.detach().numpy())\n",
    "\n",
    "shap.plots.waterfall(shap_values[0][0])  # 0 = tcr embedding SHAP, second 0 = first sample\n",
    "\n"
   ]
  }
 ],
 "metadata": {
  "kernelspec": {
   "display_name": "base",
   "language": "python",
   "name": "python3"
  },
  "language_info": {
   "codemirror_mode": {
    "name": "ipython",
    "version": 3
   },
   "file_extension": ".py",
   "mimetype": "text/x-python",
   "name": "python",
   "nbconvert_exporter": "python",
   "pygments_lexer": "ipython3",
   "version": "3.12.2"
  }
 },
 "nbformat": 4,
 "nbformat_minor": 5
}
