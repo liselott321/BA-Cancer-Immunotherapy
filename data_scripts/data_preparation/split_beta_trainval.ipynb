{
 "cells": [
  {
   "cell_type": "code",
   "execution_count": null,
   "metadata": {},
   "outputs": [],
   "source": [
    "import pandas as pd\n",
    "import numpy as np\n",
    "import math\n",
    "\n",
    "if not 'precision' in locals():\n",
    "  precision = \"gene\" # allele or gene\n",
    "\n",
    "if not 'input_file' in locals():\n",
    "  input_file = f\"../../data_10x/customDatasets/{precision}/beta_concatenated.tsv\"\n",
    "df = pd.read_csv(input_file, sep='\\t', low_memory=False)\n",
    "\n",
    "if not 'beta_output_folder' in locals():\n",
    "  beta_output_folder = f\"../../data_10x/splitted_data/{precision}/beta\"\n",
    "\n",
    "if not 'validation_file_name' in locals():\n",
    "  validation_file_name = \"validation.tsv\"\n",
    "\n",
    "if not 'train_file_name' in locals():\n",
    "  train_file_name = \"train.tsv\"\n",
    "\n",
    "if not 'aimed_test_ratio' in locals():\n",
    "  aimed_test_ratio = 0.2\n",
    "\n"
   ]
  },
  {
   "cell_type": "markdown",
   "metadata": {},
   "source": [
    "First the data entries (without negative data) is analysed."
   ]
  },
  {
   "cell_type": "code",
   "execution_count": null,
   "metadata": {},
   "outputs": [],
   "source": [
    "tcr_key = 'TRB_CDR3'\n",
    "\n",
    "distinct_tcrs = df.drop_duplicates(subset=[tcr_key], keep=\"first\", inplace=False)\n",
    "unique_epitopes = df.drop_duplicates(subset=[\"Epitope\"], keep=False, inplace=False)\n",
    "unique_tcrs = df.drop_duplicates(subset=[tcr_key], keep=False, inplace=False)\n",
    "\n",
    "print(f\"distinct tcr's: {len(distinct_tcrs)} from {len(df)}\")\n",
    "print(f\"unique tcr's: {len(unique_tcrs)} from {len(df)}\")\n",
    "print(f\"unique epitopes: {len(unique_epitopes['Epitope'])} from {len(df)}\")"
   ]
  },
  {
   "cell_type": "markdown",
   "metadata": {},
   "source": [
    "Now a train and validation set is created."
   ]
  },
  {
   "cell_type": "code",
   "execution_count": null,
   "metadata": {},
   "outputs": [],
   "source": [
    "# Aufteilen in Train und Validation\n",
    "df_train = pd.merge(df, unique_tcrs, how='left', indicator=True)\n",
    "df_train = df_train[df_train['_merge'] == 'left_only']\n",
    "df_train[\"task\"] = \"\"\n",
    "\n",
    "train_epitopes = set(df_train[\"Epitope\"])\n",
    "\n",
    "df_validation = unique_tcrs.copy()\n",
    "df_validation[\"task\"] = df_validation[\"Epitope\"].apply(lambda x: 'TPP3' if x not in train_epitopes else 'TPP2')\n",
    "\n",
    "validation_ratio = len(df_validation) / (len(df_validation) + len(df_train))\n",
    "\n",
    "print(f\"Train Data: {len(df_train)} entries\")\n",
    "print(f\"Validation Data: {len(df_validation)} entries\")\n",
    "print(f\"Validation TPP1: {(df_validation['task'] == 'TPP1').sum()}\")\n",
    "print(f\"Validation TPP2: {(df_validation['task'] == 'TPP2').sum()}\")\n",
    "print(f\"Validation TPP3: {(df_validation['task'] == 'TPP3').sum()}\")\n",
    "print(f\"Validation TPP4: {(df_validation['task'] == 'TPP4').sum()}\")\n",
    "print(f\"Train/Validation Ratio: {(1-validation_ratio)}/{validation_ratio}\")"
   ]
  },
  {
   "cell_type": "markdown",
   "metadata": {},
   "source": [
    "if the test ratio doesn't match"
   ]
  },
  {
   "cell_type": "code",
   "execution_count": null,
   "metadata": {},
   "outputs": [],
   "source": [
    "# Falls das Verhältnis nicht passt, wird es angepasst\n",
    "if validation_ratio > aimed_validation_ratio:\n",
    "    abundant_validation_count = math.ceil((validation_ratio - aimed_validation_ratio) * (len(df_validation) + len(df_train)))\n",
    "    print(f\"{abundant_validation_count} Entries will be moved from Validation to Train\")\n",
    "    \n",
    "    filtered_rows = df_validation[df_validation[\"task\"] == \"TPP2\"]\n",
    "    if len(filtered_rows) < abundant_validation_count:\n",
    "        raise ValueError(\"Not enough entries with 'task' == 'TPP2' to move.\")\n",
    "\n",
    "    rows_to_move = filtered_rows.head(abundant_validation_count)\n",
    "    df_train = pd.concat([df_train, rows_to_move], ignore_index=True)\n",
    "    df_validation = df_validation.drop(rows_to_move.index)\n",
    "\n",
    "elif validation_ratio < aimed_validation_ratio:\n",
    "    missing_validation_count = math.ceil((aimed_validation_ratio - validation_ratio) * (len(df_validation) + len(df_train)))\n",
    "    print(f\"{missing_validation_count} Entries need to be shifted from Train to Validation\")\n",
    "\n",
    "    # Verschiebe Daten von Train → Validation\n",
    "    filtered_rows = df_train[df_train[\"task\"] == \"TPP1\"].head(missing_validation_count)\n",
    "    df_validation = pd.concat([df_validation, filtered_rows], ignore_index=True)\n",
    "    df_train = df_train.drop(filtered_rows.index)"
   ]
  },
  {
   "cell_type": "code",
   "execution_count": null,
   "metadata": {},
   "outputs": [],
   "source": [
    "# Entferne unnötige Spalten\n",
    "df_train.drop(columns=[\"_merge\", \"tcr_key\"], inplace=True, errors='ignore')\n",
    "df_validation.drop(columns=[\"_merge\", \"tcr_key\"], inplace=True, errors='ignore')\n",
    "\n",
    "# Speichere die neuen Dateien\n",
    "df_train.to_csv(f\"{beta_output_folder}/{train_file_name}\", sep=\"\\t\", index=False)\n",
    "df_validation.to_csv(f\"{beta_output_folder}/{validation_file_name}\", sep=\"\\t\", index=False)\n",
    "\n",
    "print(f\"Train: {len(df_train)} Einträge\")\n",
    "print(f\"Validation: {len(df_validation)} Einträge\")"
   ]
  }
 ],
 "metadata": {
  "kernelspec": {
   "display_name": "Python 3 (ipykernel)",
   "language": "python",
   "name": "python3"
  },
  "language_info": {
   "codemirror_mode": {
    "name": "ipython",
    "version": 3
   },
   "file_extension": ".py",
   "mimetype": "text/x-python",
   "name": "python",
   "nbconvert_exporter": "python",
   "pygments_lexer": "ipython3",
   "version": "3.12.2"
  }
 },
 "nbformat": 4,
 "nbformat_minor": 4
}
