{
 "cells": [
  {
   "cell_type": "code",
   "execution_count": 1,
   "id": "d525b0a2-6d57-4a05-bbd4-cc70e3fe5e7a",
   "metadata": {},
   "outputs": [
    {
     "name": "stderr",
     "output_type": "stream",
     "text": [
      "\u001b[34m\u001b[1mwandb\u001b[0m: Using wandb-core as the SDK backend.  Please refer to https://wandb.me/wandb-core for more information.\n",
      "\u001b[34m\u001b[1mwandb\u001b[0m: Currently logged in as: \u001b[33marina-frohofer\u001b[0m (\u001b[33mba_cancerimmunotherapy\u001b[0m). Use \u001b[1m`wandb login --relogin`\u001b[0m to force relogin\n"
     ]
    },
    {
     "data": {
      "text/html": [
       "Tracking run with wandb version 0.18.7"
      ],
      "text/plain": [
       "<IPython.core.display.HTML object>"
      ]
     },
     "metadata": {},
     "output_type": "display_data"
    },
    {
     "data": {
      "text/html": [
       "Run data is saved locally in <code>/home/ubuntu/arina/BA-Cancer-Immunotherapy/data_scripts/wandb/run-20250516_123235-od5alu59</code>"
      ],
      "text/plain": [
       "<IPython.core.display.HTML object>"
      ]
     },
     "metadata": {},
     "output_type": "display_data"
    },
    {
     "data": {
      "text/html": [
       "Syncing run <strong><a href='https://wandb.ai/ba_cancerimmunotherapy/dataset-allele/runs/od5alu59' target=\"_blank\">feature_selection_run</a></strong> to <a href='https://wandb.ai/ba_cancerimmunotherapy/dataset-allele' target=\"_blank\">Weights & Biases</a> (<a href='https://wandb.me/developer-guide' target=\"_blank\">docs</a>)<br/>"
      ],
      "text/plain": [
       "<IPython.core.display.HTML object>"
      ]
     },
     "metadata": {},
     "output_type": "display_data"
    },
    {
     "data": {
      "text/html": [
       " View project at <a href='https://wandb.ai/ba_cancerimmunotherapy/dataset-allele' target=\"_blank\">https://wandb.ai/ba_cancerimmunotherapy/dataset-allele</a>"
      ],
      "text/plain": [
       "<IPython.core.display.HTML object>"
      ]
     },
     "metadata": {},
     "output_type": "display_data"
    },
    {
     "data": {
      "text/html": [
       " View run at <a href='https://wandb.ai/ba_cancerimmunotherapy/dataset-allele/runs/od5alu59' target=\"_blank\">https://wandb.ai/ba_cancerimmunotherapy/dataset-allele/runs/od5alu59</a>"
      ],
      "text/plain": [
       "<IPython.core.display.HTML object>"
      ]
     },
     "metadata": {},
     "output_type": "display_data"
    },
    {
     "name": "stderr",
     "output_type": "stream",
     "text": [
      "\u001b[34m\u001b[1mwandb\u001b[0m: Downloading large artifact beta_allele:latest, 1397.03MB. 103 files... \n",
      "\u001b[34m\u001b[1mwandb\u001b[0m:   103 of 103 files downloaded.  \n",
      "Done. 0:0:1.9\n"
     ]
    },
    {
     "name": "stdout",
     "output_type": "stream",
     "text": [
      "[INFO] Lade Datensätze...\n"
     ]
    },
    {
     "name": "stderr",
     "output_type": "stream",
     "text": [
      "/tmp/ipykernel_167290/4066144170.py:32: DtypeWarning: Columns (1,7) have mixed types. Specify dtype option on import or set low_memory=False.\n",
      "  df_beta_train = pd.read_csv(path_beta_train, sep=\"\\t\", index_col=False)\n"
     ]
    },
    {
     "name": "stdout",
     "output_type": "stream",
     "text": [
      "[INFO] Datensätze geladen: 755758 Einträge\n",
      "[INFO] Gefiltert: 755758 Einträge mit TRB_CDR3, Epitope und Binding\n",
      "[INFO] Extrahiere Deskriptoren für TCR...\n",
      "[INFO] Extrahiere Deskriptoren für Epitope...\n",
      "\n",
      "✅ Scaler gespeichert als: physchem_scaler.pkl\n",
      "\n",
      "Top Features (nach Importance sortiert):\n",
      "tcr_BLOSUM9     0.010352\n",
      "tcr_KF10        0.009583\n",
      "tcr_BLOSUM10    0.009448\n",
      "tcr_VHSE5       0.009340\n",
      "tcr_BLOSUM5     0.009274\n",
      "tcr_ProtFP8     0.008995\n",
      "tcr_KF5         0.008921\n",
      "tcr_KF7         0.008880\n",
      "tcr_KF3         0.008873\n",
      "tcr_BLOSUM4     0.008786\n",
      "tcr_AF3         0.008771\n",
      "tcr_SVGER3      0.008735\n",
      "tcr_E4          0.008732\n",
      "tcr_SVGER6      0.008717\n",
      "tcr_Z5          0.008709\n",
      "tcr_ST7         0.008695\n",
      "tcr_KF9         0.008695\n",
      "tcr_ProtFP7     0.008677\n",
      "tcr_MSWHIM2     0.008664\n",
      "tcr_F1          0.008647\n",
      "tcr_KF6         0.008612\n",
      "tcr_ProtFP4     0.008582\n",
      "tcr_PRIN3       0.008559\n",
      "tcr_BLOSUM6     0.008547\n",
      "tcr_ProtFP5     0.008506\n",
      "tcr_KF8         0.008485\n",
      "tcr_SVGER2      0.008482\n",
      "tcr_AF5         0.008442\n",
      "tcr_F6          0.008436\n",
      "tcr_VHSE8       0.008407\n",
      "dtype: float64\n",
      "\n",
      "✅ Gespeichert als: selected_physchem_features.json\n"
     ]
    }
   ],
   "source": [
    "import pandas as pd\n",
    "import numpy as np\n",
    "import json\n",
    "from peptides import Peptide\n",
    "from sklearn.ensemble import RandomForestClassifier\n",
    "from sklearn.preprocessing import StandardScaler\n",
    "import wandb\n",
    "import joblib\n",
    "\n",
    "# --- Logging ---\n",
    "def log(msg):\n",
    "    print(f\"[INFO] {msg}\")\n",
    "\n",
    "# --- W&B initialisieren ---\n",
    "dataset_name = \"beta_allele\"\n",
    "wandb.init(\n",
    "    project=\"dataset-allele\",\n",
    "    entity=\"ba_cancerimmunotherapy\",\n",
    "    job_type=\"physchem_selection\",\n",
    "    name=\"feature_selection_run\"\n",
    ")\n",
    "\n",
    "# --- Artifact herunterladen ---\n",
    "artifact = wandb.use_artifact(\"ba_cancerimmunotherapy/dataset-allele/beta_allele:latest\")\n",
    "data_dir = artifact.download(f\"./WnB_Experiments_Datasets/{dataset_name}\")\n",
    "\n",
    "# --- Dateipfade definieren ---\n",
    "path_beta_train = f\"{data_dir}/allele/train.tsv\"\n",
    "\n",
    "# --- Daten laden ---\n",
    "log(\"Lade Datensätze...\")\n",
    "df_beta_train = pd.read_csv(path_beta_train, sep=\"\\t\", index_col=False)\n",
    "log(f\"Datensätze geladen: {len(df_beta_train)} Einträge\")\n",
    "\n",
    "# --- Relevante Spalten extrahieren ---\n",
    "df_physchem = df_beta_train[[\"TRB_CDR3\", \"Epitope\", \"Binding\"]].dropna()\n",
    "log(f\"Gefiltert: {len(df_physchem)} Einträge mit TRB_CDR3, Epitope und Binding\")\n",
    "\n",
    "# --- Deskriptoren extrahieren ---\n",
    "def get_descriptors(seq):\n",
    "    try:\n",
    "        return Peptide(seq).descriptors()\n",
    "    except:\n",
    "        return {}\n",
    "\n",
    "log(\"Extrahiere Deskriptoren für TCR...\")\n",
    "tcr_desc = df_physchem[\"TRB_CDR3\"].apply(get_descriptors)\n",
    "log(\"Extrahiere Deskriptoren für Epitope...\")\n",
    "epi_desc = df_physchem[\"Epitope\"].apply(get_descriptors)\n",
    "\n",
    "# --- Kombinieren & Label anhängen ---\n",
    "tcr_df = pd.DataFrame(tcr_desc.tolist()).add_prefix(\"tcr_\")\n",
    "epi_df = pd.DataFrame(epi_desc.tolist()).add_prefix(\"epi_\")\n",
    "desc_df = pd.concat([tcr_df, epi_df], axis=1)\n",
    "desc_df[\"label\"] = df_physchem[\"Binding\"].values\n",
    "\n",
    "# --- Feature-Matrix & Zielvariable ---\n",
    "X = desc_df.drop(columns=[\"label\"])\n",
    "y = desc_df[\"label\"]\n",
    "\n",
    "# --- Skalieren ---\n",
    "scaler = StandardScaler()\n",
    "X_scaled = pd.DataFrame(scaler.fit_transform(X), columns=X.columns)\n",
    "\n",
    "# --- Feature Importance berechnen ---\n",
    "rf = RandomForestClassifier(n_estimators=100, random_state=42)\n",
    "rf.fit(X_scaled, y)\n",
    "\n",
    "importances = pd.Series(rf.feature_importances_, index=X.columns)\n",
    "selected_features = list(importances.sort_values(ascending=False).index)\n",
    "\n",
    "# --- Speichern ---\n",
    "with open(\"selected_physchem_features.json\", \"w\") as f:\n",
    "    json.dump(selected_features, f, indent=2)\n",
    "\n",
    "joblib.dump(scaler, \"physchem_scaler.pkl\")\n",
    "print(\"\\n✅ Scaler gespeichert als: physchem_scaler.pkl\")\n",
    "\n",
    "print(\"\\nTop Features (nach Importance sortiert):\")\n",
    "print(importances.sort_values(ascending=False).head(30))\n",
    "print(\"\\n✅ Gespeichert als: selected_physchem_features.json\")"
   ]
  },
  {
   "cell_type": "code",
   "execution_count": 2,
   "id": "8d8b5a35-89d8-4dc1-9a33-4e372668fe80",
   "metadata": {},
   "outputs": [
    {
     "name": "stderr",
     "output_type": "stream",
     "text": [
      "2025-05-16 13:36:06.965924: I external/local_xla/xla/tsl/cuda/cudart_stub.cc:32] Could not find cuda drivers on your machine, GPU will not be used.\n",
      "2025-05-16 13:36:07.530515: I external/local_xla/xla/tsl/cuda/cudart_stub.cc:32] Could not find cuda drivers on your machine, GPU will not be used.\n",
      "2025-05-16 13:36:08.012043: E external/local_xla/xla/stream_executor/cuda/cuda_fft.cc:467] Unable to register cuFFT factory: Attempting to register factory for plugin cuFFT when one has already been registered\n",
      "WARNING: All log messages before absl::InitializeLog() is called are written to STDERR\n",
      "E0000 00:00:1747402568.350495  167290 cuda_dnn.cc:8579] Unable to register cuDNN factory: Attempting to register factory for plugin cuDNN when one has already been registered\n",
      "E0000 00:00:1747402568.454872  167290 cuda_blas.cc:1407] Unable to register cuBLAS factory: Attempting to register factory for plugin cuBLAS when one has already been registered\n",
      "W0000 00:00:1747402569.352212  167290 computation_placer.cc:177] computation placer already registered. Please check linkage and avoid linking the same target more than once.\n",
      "W0000 00:00:1747402569.352299  167290 computation_placer.cc:177] computation placer already registered. Please check linkage and avoid linking the same target more than once.\n",
      "W0000 00:00:1747402569.352305  167290 computation_placer.cc:177] computation placer already registered. Please check linkage and avoid linking the same target more than once.\n",
      "W0000 00:00:1747402569.352311  167290 computation_placer.cc:177] computation placer already registered. Please check linkage and avoid linking the same target more than once.\n",
      "2025-05-16 13:36:09.448243: I tensorflow/core/platform/cpu_feature_guard.cc:210] This TensorFlow binary is optimized to use available CPU instructions in performance-critical operations.\n",
      "To enable the following instructions: AVX2 FMA, in other operations, rebuild TensorFlow with the appropriate compiler flags.\n"
     ]
    },
    {
     "data": {
      "text/html": [
       "Finishing last run (ID:od5alu59) before initializing another..."
      ],
      "text/plain": [
       "<IPython.core.display.HTML object>"
      ]
     },
     "metadata": {},
     "output_type": "display_data"
    },
    {
     "data": {
      "application/vnd.jupyter.widget-view+json": {
       "model_id": "fc7d04065d804bdeb4885e57a5c5de5e",
       "version_major": 2,
       "version_minor": 0
      },
      "text/plain": [
       "VBox(children=(Label(value='0.013 MB of 0.013 MB uploaded\\r'), FloatProgress(value=1.0, max=1.0)))"
      ]
     },
     "metadata": {},
     "output_type": "display_data"
    },
    {
     "data": {
      "text/html": [
       " View run <strong style=\"color:#cdcd00\">feature_selection_run</strong> at: <a href='https://wandb.ai/ba_cancerimmunotherapy/dataset-allele/runs/od5alu59' target=\"_blank\">https://wandb.ai/ba_cancerimmunotherapy/dataset-allele/runs/od5alu59</a><br/> View project at: <a href='https://wandb.ai/ba_cancerimmunotherapy/dataset-allele' target=\"_blank\">https://wandb.ai/ba_cancerimmunotherapy/dataset-allele</a><br/>Synced 4 W&B file(s), 0 media file(s), 3 artifact file(s) and 0 other file(s)"
      ],
      "text/plain": [
       "<IPython.core.display.HTML object>"
      ]
     },
     "metadata": {},
     "output_type": "display_data"
    },
    {
     "data": {
      "text/html": [
       "Find logs at: <code>./wandb/run-20250516_123235-od5alu59/logs</code>"
      ],
      "text/plain": [
       "<IPython.core.display.HTML object>"
      ]
     },
     "metadata": {},
     "output_type": "display_data"
    },
    {
     "data": {
      "text/html": [
       "Successfully finished last run (ID:od5alu59). Initializing new run:<br/>"
      ],
      "text/plain": [
       "<IPython.core.display.HTML object>"
      ]
     },
     "metadata": {},
     "output_type": "display_data"
    },
    {
     "data": {
      "text/html": [
       "Tracking run with wandb version 0.18.7"
      ],
      "text/plain": [
       "<IPython.core.display.HTML object>"
      ]
     },
     "metadata": {},
     "output_type": "display_data"
    },
    {
     "data": {
      "text/html": [
       "Run data is saved locally in <code>/home/ubuntu/arina/BA-Cancer-Immunotherapy/data_scripts/wandb/run-20250516_133627-7v7u7zxe</code>"
      ],
      "text/plain": [
       "<IPython.core.display.HTML object>"
      ]
     },
     "metadata": {},
     "output_type": "display_data"
    },
    {
     "data": {
      "text/html": [
       "Syncing run <strong><a href='https://wandb.ai/ba_cancerimmunotherapy/dataset-allele/runs/7v7u7zxe' target=\"_blank\">descriptor_feature_extraction</a></strong> to <a href='https://wandb.ai/ba_cancerimmunotherapy/dataset-allele' target=\"_blank\">Weights & Biases</a> (<a href='https://wandb.me/developer-guide' target=\"_blank\">docs</a>)<br/>"
      ],
      "text/plain": [
       "<IPython.core.display.HTML object>"
      ]
     },
     "metadata": {},
     "output_type": "display_data"
    },
    {
     "data": {
      "text/html": [
       " View project at <a href='https://wandb.ai/ba_cancerimmunotherapy/dataset-allele' target=\"_blank\">https://wandb.ai/ba_cancerimmunotherapy/dataset-allele</a>"
      ],
      "text/plain": [
       "<IPython.core.display.HTML object>"
      ]
     },
     "metadata": {},
     "output_type": "display_data"
    },
    {
     "data": {
      "text/html": [
       " View run at <a href='https://wandb.ai/ba_cancerimmunotherapy/dataset-allele/runs/7v7u7zxe' target=\"_blank\">https://wandb.ai/ba_cancerimmunotherapy/dataset-allele/runs/7v7u7zxe</a>"
      ],
      "text/plain": [
       "<IPython.core.display.HTML object>"
      ]
     },
     "metadata": {},
     "output_type": "display_data"
    },
    {
     "name": "stderr",
     "output_type": "stream",
     "text": [
      "\u001b[34m\u001b[1mwandb\u001b[0m: Downloading large artifact beta_allele:latest, 1397.03MB. 103 files... \n",
      "\u001b[34m\u001b[1mwandb\u001b[0m:   103 of 103 files downloaded.  \n",
      "Done. 0:0:2.5\n"
     ]
    },
    {
     "name": "stdout",
     "output_type": "stream",
     "text": [
      "[INFO] Lade Datensätze...\n"
     ]
    },
    {
     "name": "stderr",
     "output_type": "stream",
     "text": [
      "/tmp/ipykernel_167290/4110575145.py:37: DtypeWarning: Columns (1,7,11) have mixed types. Specify dtype option on import or set low_memory=False.\n",
      "  df_beta_validation = pd.read_csv(path_beta_validation, sep=\"\\t\", index_col=False)\n",
      "/tmp/ipykernel_167290/4110575145.py:38: DtypeWarning: Columns (1,7) have mixed types. Specify dtype option on import or set low_memory=False.\n",
      "  df_beta_train = pd.read_csv(path_beta_train, sep=\"\\t\", index_col=False)\n"
     ]
    },
    {
     "name": "stdout",
     "output_type": "stream",
     "text": [
      "[INFO] Datensätze geladen: 978913 Einträge\n",
      "[INFO] Gefiltert: 978913 Einträge mit TRB_CDR3, Epitope und Binding\n",
      "[INFO] Lade Scaler aus Training...\n",
      "[INFO] Berechne Deskriptor-Features für TCR...\n",
      "[INFO] Berechne Deskriptor-Features für Epitope...\n",
      "[INFO] Kombiniere Feature-Vektoren und skaliere mit Training-Scaler...\n"
     ]
    },
    {
     "name": "stderr",
     "output_type": "stream",
     "text": [
      "/home/ubuntu/anaconda3/lib/python3.12/site-packages/sklearn/base.py:493: UserWarning: X does not have valid feature names, but StandardScaler was fitted with feature names\n",
      "  warnings.warn(\n"
     ]
    },
    {
     "name": "stdout",
     "output_type": "stream",
     "text": [
      "[INFO] Mapping gespeichert unter: ../../../data/physico/descriptor_encoded_physchem_mapping.tsv\n",
      "[INFO] Speichere vorbereiteten DataFrame nach: ../../../data/physico/descriptor_encoded_physchem.h5\n",
      "[INFO] Gespeichert als HDF5 unter: ../../../data/physico/descriptor_encoded_physchem.h5\n",
      "[INFO] ✅ Alles abgeschlossen und gespeichert!\n"
     ]
    },
    {
     "data": {
      "text/html": [
       " View run <strong style=\"color:#cdcd00\">descriptor_feature_extraction</strong> at: <a href='https://wandb.ai/ba_cancerimmunotherapy/dataset-allele/runs/7v7u7zxe' target=\"_blank\">https://wandb.ai/ba_cancerimmunotherapy/dataset-allele/runs/7v7u7zxe</a><br/> View project at: <a href='https://wandb.ai/ba_cancerimmunotherapy/dataset-allele' target=\"_blank\">https://wandb.ai/ba_cancerimmunotherapy/dataset-allele</a><br/>Synced 5 W&B file(s), 0 media file(s), 0 artifact file(s) and 0 other file(s)"
      ],
      "text/plain": [
       "<IPython.core.display.HTML object>"
      ]
     },
     "metadata": {},
     "output_type": "display_data"
    },
    {
     "data": {
      "text/html": [
       "Find logs at: <code>./wandb/run-20250516_133627-7v7u7zxe/logs</code>"
      ],
      "text/plain": [
       "<IPython.core.display.HTML object>"
      ]
     },
     "metadata": {},
     "output_type": "display_data"
    }
   ],
   "source": [
    "import os\n",
    "import pandas as pd\n",
    "import numpy as np\n",
    "import json\n",
    "import h5py\n",
    "import wandb\n",
    "import importlib\n",
    "import joblib\n",
    "import ple_embedding as pe\n",
    "# importlib.reload(pe)\n",
    "\n",
    "# --- Logging ---\n",
    "def log(msg):\n",
    "    print(f\"[INFO] {msg}\")\n",
    "\n",
    "# --- W&B initialisieren ---\n",
    "dataset_name = \"beta_allele\"\n",
    "wandb.init(\n",
    "    project=\"dataset-allele\",\n",
    "    entity=\"ba_cancerimmunotherapy\",\n",
    "    job_type=\"physchem_encoding\",\n",
    "    name=\"descriptor_feature_extraction\"\n",
    ")\n",
    "\n",
    "# --- Artifact herunterladen ---\n",
    "artifact = wandb.use_artifact(\"ba_cancerimmunotherapy/dataset-allele/beta_allele:latest\")\n",
    "data_dir = artifact.download(f\"./WnB_Experiments_Datasets/{dataset_name}\")\n",
    "\n",
    "# --- Dateipfade definieren ---\n",
    "path_beta_test = f\"{data_dir}/allele/test.tsv\"\n",
    "path_beta_validation = f\"{data_dir}/allele/validation.tsv\"\n",
    "path_beta_train = f\"{data_dir}/allele/train.tsv\"\n",
    "\n",
    "# --- Daten laden ---\n",
    "log(\"Lade Datensätze...\")\n",
    "df_beta_test = pd.read_csv(path_beta_test, sep=\"\\t\", index_col=False)\n",
    "df_beta_validation = pd.read_csv(path_beta_validation, sep=\"\\t\", index_col=False)\n",
    "df_beta_train = pd.read_csv(path_beta_train, sep=\"\\t\", index_col=False)\n",
    "df_beta = pd.concat([df_beta_test, df_beta_validation, df_beta_train])\n",
    "log(f\"Datensätze geladen: {len(df_beta)} Einträge\")\n",
    "\n",
    "# --- Relevante Spalten extrahieren ---\n",
    "df_physchem = df_beta[[\"TRB_CDR3\", \"Epitope\", \"Binding\"]].dropna()\n",
    "log(f\"Gefiltert: {len(df_physchem)} Einträge mit TRB_CDR3, Epitope und Binding\")\n",
    "\n",
    "# --- Features laden & trennen ---\n",
    "with open(\"selected_physchem_features.json\") as f:\n",
    "    all_features = json.load(f)\n",
    "\n",
    "tcr_features = [f.replace(\"tcr_\", \"\") for f in all_features if f.startswith(\"tcr_\")]\n",
    "epi_features = [f.replace(\"epi_\", \"\") for f in all_features if f.startswith(\"epi_\")]\n",
    "\n",
    "# --- Scaler laden ---\n",
    "log(\"Lade Scaler aus Training...\")\n",
    "scaler = joblib.load(\"physchem_scaler.pkl\")\n",
    "\n",
    "# --- Feature-Encoding ---\n",
    "log(\"Berechne Deskriptor-Features für TCR...\")\n",
    "df_physchem[\"tcr_encoded\"] = df_physchem[\"TRB_CDR3\"].apply(lambda s: pe.encode_descriptor_sequence(s, tcr_features))\n",
    "\n",
    "log(\"Berechne Deskriptor-Features für Epitope...\")\n",
    "df_physchem[\"epi_encoded\"] = df_physchem[\"Epitope\"].apply(lambda s: pe.encode_descriptor_sequence(s, epi_features))\n",
    "\n",
    "# --- Zu Matrix zusammenfügen ---\n",
    "log(\"Kombiniere Feature-Vektoren und skaliere mit Training-Scaler...\")\n",
    "tcr_arr = np.stack(df_physchem[\"tcr_encoded\"].to_numpy())\n",
    "epi_arr = np.stack(df_physchem[\"epi_encoded\"].to_numpy())\n",
    "\n",
    "# Kombinieren & Skalieren\n",
    "X_encoded = np.concatenate([tcr_arr, epi_arr], axis=1)\n",
    "X_scaled = scaler.transform(X_encoded)\n",
    "\n",
    "# Wieder aufteilen\n",
    "num_tcr = tcr_arr.shape[1]\n",
    "tcr_scaled = X_scaled[:, :num_tcr]\n",
    "epi_scaled = X_scaled[:, num_tcr:]\n",
    "binding_arr = df_physchem[\"Binding\"].to_numpy()\n",
    "\n",
    "# --- physchem_index hinzufügen ---\n",
    "df_physchem[\"physchem_index\"] = np.arange(len(df_physchem))\n",
    "\n",
    "# --- Mapping-Datei speichern ---\n",
    "mapping_path = \"../../../data/physico/descriptor_encoded_physchem_mapping.tsv\"\n",
    "df_physchem[[\"TRB_CDR3\", \"Epitope\", \"physchem_index\"]].to_csv(mapping_path, sep=\"\\t\", index=False)\n",
    "log(f\"Mapping gespeichert unter: {mapping_path}\")\n",
    "\n",
    "# --- HDF5 speichern ---\n",
    "output_path = \"../../../data/physico/descriptor_encoded_physchem.h5\"\n",
    "log(f\"Speichere vorbereiteten DataFrame nach: {output_path}\")\n",
    "with h5py.File(output_path, \"w\") as h5f:\n",
    "    h5f.create_dataset(\"tcr_encoded\", data=tcr_scaled)\n",
    "    h5f.create_dataset(\"epi_encoded\", data=epi_scaled)\n",
    "    h5f.create_dataset(\"binding\", data=binding_arr)\n",
    "print(f\"[INFO] Gespeichert als HDF5 unter: {output_path}\")\n",
    "\n",
    "# --- Abschließen ---\n",
    "log(\"✅ Alles abgeschlossen und gespeichert!\")\n",
    "wandb.finish()"
   ]
  },
  {
   "cell_type": "code",
   "execution_count": 3,
   "id": "e240c316-8634-4d2a-9ffb-904f82facb46",
   "metadata": {},
   "outputs": [
    {
     "name": "stdout",
     "output_type": "stream",
     "text": [
      "✅ Geladene Features:\n",
      " 1. tcr_BLOSUM9\n",
      " 2. tcr_KF10\n",
      " 3. tcr_BLOSUM10\n",
      " 4. tcr_VHSE5\n",
      " 5. tcr_BLOSUM5\n",
      " 6. tcr_ProtFP8\n",
      " 7. tcr_KF5\n",
      " 8. tcr_KF7\n",
      " 9. tcr_KF3\n",
      "10. tcr_BLOSUM4\n",
      "11. tcr_AF3\n",
      "12. tcr_SVGER3\n",
      "13. tcr_E4\n",
      "14. tcr_SVGER6\n",
      "15. tcr_Z5\n",
      "16. tcr_ST7\n",
      "17. tcr_KF9\n",
      "18. tcr_ProtFP7\n",
      "19. tcr_MSWHIM2\n",
      "20. tcr_F1\n",
      "21. tcr_KF6\n",
      "22. tcr_ProtFP4\n",
      "23. tcr_PRIN3\n",
      "24. tcr_BLOSUM6\n",
      "25. tcr_ProtFP5\n",
      "26. tcr_KF8\n",
      "27. tcr_SVGER2\n",
      "28. tcr_AF5\n",
      "29. tcr_F6\n",
      "30. tcr_VHSE8\n",
      "31. tcr_Z4\n",
      "32. tcr_Z3\n",
      "33. tcr_SVGER4\n",
      "34. tcr_BLOSUM8\n",
      "35. tcr_SVGER9\n",
      "36. tcr_PP3\n",
      "37. tcr_SV4\n",
      "38. tcr_F5\n",
      "39. tcr_VHSE7\n",
      "40. tcr_E5\n",
      "41. tcr_SV1\n",
      "42. tcr_T3\n",
      "43. tcr_SVGER11\n",
      "44. tcr_ST4\n",
      "45. tcr_SVGER10\n",
      "46. tcr_VSTPV4\n",
      "47. tcr_SV3\n",
      "48. tcr_BLOSUM7\n",
      "49. tcr_ST3\n",
      "50. tcr_VSTPV5\n",
      "51. tcr_SVGER5\n",
      "52. tcr_ProtFP6\n",
      "53. tcr_SVGER1\n",
      "54. tcr_VSTPV2\n",
      "55. tcr_ProtFP3\n",
      "56. tcr_VHSE6\n",
      "57. tcr_ST2\n",
      "58. tcr_MSWHIM3\n",
      "59. tcr_ST5\n",
      "60. tcr_E3\n",
      "61. tcr_BLOSUM1\n",
      "62. tcr_ST8\n",
      "63. tcr_F4\n",
      "64. tcr_ProtFP1\n",
      "65. tcr_AF1\n",
      "66. tcr_AF2\n",
      "67. tcr_VHSE4\n",
      "68. tcr_KF1\n",
      "69. tcr_F2\n",
      "70. tcr_SVGER8\n",
      "71. tcr_E1\n",
      "72. tcr_ST6\n",
      "73. tcr_MSWHIM1\n",
      "74. tcr_BLOSUM2\n",
      "75. tcr_T2\n",
      "76. tcr_KF4\n",
      "77. tcr_BLOSUM3\n",
      "78. tcr_AF4\n",
      "79. tcr_PRIN1\n",
      "80. tcr_SVGER7\n",
      "81. tcr_T4\n",
      "82. tcr_Z1\n",
      "83. tcr_SV2\n",
      "84. tcr_PD2\n",
      "85. tcr_VHSE2\n",
      "86. tcr_VSTPV6\n",
      "87. tcr_VHSE1\n",
      "88. tcr_PP1\n",
      "89. tcr_Z2\n",
      "90. tcr_E2\n",
      "91. tcr_VSTPV3\n",
      "92. tcr_PP2\n",
      "93. tcr_T5\n",
      "94. tcr_F3\n",
      "95. tcr_PRIN2\n",
      "96. tcr_VHSE3\n",
      "97. tcr_ProtFP2\n",
      "98. tcr_PD1\n",
      "99. tcr_ST1\n",
      "100. tcr_KF2\n",
      "101. tcr_T1\n",
      "102. tcr_VSTPV1\n",
      "103. epi_ST7\n",
      "104. epi_ProtFP6\n",
      "105. epi_BLOSUM7\n",
      "106. epi_VHSE5\n",
      "107. epi_Z1\n",
      "108. epi_MSWHIM3\n",
      "109. epi_Z4\n",
      "110. epi_PRIN1\n",
      "111. epi_VHSE7\n",
      "112. epi_VHSE1\n",
      "113. epi_E4\n",
      "114. epi_T3\n",
      "115. epi_KF1\n",
      "116. epi_E3\n",
      "117. epi_ProtFP8\n",
      "118. epi_BLOSUM5\n",
      "119. epi_ProtFP3\n",
      "120. epi_T4\n",
      "121. epi_ProtFP5\n",
      "122. epi_F2\n",
      "123. epi_E1\n",
      "124. epi_ProtFP7\n",
      "125. epi_SVGER8\n",
      "126. epi_SVGER5\n",
      "127. epi_SVGER3\n",
      "128. epi_ST6\n",
      "129. epi_SVGER1\n",
      "130. epi_SVGER11\n",
      "131. epi_PRIN3\n",
      "132. epi_BLOSUM10\n",
      "133. epi_VSTPV4\n",
      "134. epi_KF7\n",
      "135. epi_VHSE6\n",
      "136. epi_BLOSUM4\n",
      "137. epi_BLOSUM8\n",
      "138. epi_VHSE8\n",
      "139. epi_SVGER9\n",
      "140. epi_SVGER7\n",
      "141. epi_ST8\n",
      "142. epi_KF10\n",
      "143. epi_SVGER6\n",
      "144. epi_ProtFP1\n",
      "145. epi_SV1\n",
      "146. epi_ST5\n",
      "147. epi_F1\n",
      "148. epi_ST2\n",
      "149. epi_AF5\n",
      "150. epi_PP3\n",
      "151. epi_ProtFP4\n",
      "152. epi_KF5\n",
      "153. epi_SVGER2\n",
      "154. epi_KF4\n",
      "155. epi_PD2\n",
      "156. epi_BLOSUM1\n",
      "157. epi_AF2\n",
      "158. epi_T5\n",
      "159. epi_VHSE2\n",
      "160. epi_E5\n",
      "161. epi_BLOSUM6\n",
      "162. epi_KF9\n",
      "163. epi_T2\n",
      "164. epi_VSTPV3\n",
      "165. epi_VSTPV2\n",
      "166. epi_SVGER10\n",
      "167. epi_F6\n",
      "168. epi_E2\n",
      "169. epi_SVGER4\n",
      "170. epi_PP1\n",
      "171. epi_ST4\n",
      "172. epi_Z2\n",
      "173. epi_BLOSUM3\n",
      "174. epi_AF1\n",
      "175. epi_BLOSUM9\n",
      "176. epi_VHSE3\n",
      "177. epi_KF8\n",
      "178. epi_KF6\n",
      "179. epi_PD1\n",
      "180. epi_F4\n",
      "181. epi_VSTPV6\n",
      "182. epi_Z3\n",
      "183. epi_VHSE4\n",
      "184. epi_KF3\n",
      "185. epi_SV4\n",
      "186. epi_VSTPV5\n",
      "187. epi_AF3\n",
      "188. epi_PP2\n",
      "189. epi_ProtFP2\n",
      "190. epi_SV3\n",
      "191. epi_ST1\n",
      "192. epi_AF4\n",
      "193. epi_MSWHIM2\n",
      "194. epi_BLOSUM2\n",
      "195. epi_PRIN2\n",
      "196. epi_SV2\n",
      "197. epi_T1\n",
      "198. epi_ST3\n",
      "199. epi_Z5\n",
      "200. epi_KF2\n",
      "201. epi_VSTPV1\n",
      "202. epi_MSWHIM1\n",
      "203. epi_F3\n",
      "204. epi_F5\n"
     ]
    }
   ],
   "source": [
    "import json\n",
    "\n",
    "with open(\"selected_physchem_features.json\", \"r\") as f:\n",
    "    features = json.load(f)\n",
    "\n",
    "print(\"✅ Geladene Features:\")\n",
    "for i, feat in enumerate(features, 1):\n",
    "    print(f\"{i:2d}. {feat}\")\n"
   ]
  },
  {
   "cell_type": "code",
   "execution_count": 4,
   "id": "f6499518-520c-4515-bd69-d19364cd2d23",
   "metadata": {},
   "outputs": [
    {
     "name": "stdout",
     "output_type": "stream",
     "text": [
      "\u001b[0;39m204\u001b[0m\n"
     ]
    }
   ],
   "source": [
    "cat selected_physchem_features.json | jq length"
   ]
  },
  {
   "cell_type": "code",
   "execution_count": 5,
   "id": "b06c9c1a-a1cf-4101-997e-f258ef2fe1de",
   "metadata": {},
   "outputs": [
    {
     "data": {
      "text/html": [
       "Tracking run with wandb version 0.18.7"
      ],
      "text/plain": [
       "<IPython.core.display.HTML object>"
      ]
     },
     "metadata": {},
     "output_type": "display_data"
    },
    {
     "data": {
      "text/html": [
       "Run data is saved locally in <code>/home/ubuntu/arina/BA-Cancer-Immunotherapy/data_scripts/wandb/run-20250516_142712-bg08feit</code>"
      ],
      "text/plain": [
       "<IPython.core.display.HTML object>"
      ]
     },
     "metadata": {},
     "output_type": "display_data"
    },
    {
     "data": {
      "text/html": [
       "Syncing run <strong><a href='https://wandb.ai/ba_cancerimmunotherapy/dataset-allele/runs/bg08feit' target=\"_blank\">physchem_rf_binding_prediction</a></strong> to <a href='https://wandb.ai/ba_cancerimmunotherapy/dataset-allele' target=\"_blank\">Weights & Biases</a> (<a href='https://wandb.me/developer-guide' target=\"_blank\">docs</a>)<br/>"
      ],
      "text/plain": [
       "<IPython.core.display.HTML object>"
      ]
     },
     "metadata": {},
     "output_type": "display_data"
    },
    {
     "data": {
      "text/html": [
       " View project at <a href='https://wandb.ai/ba_cancerimmunotherapy/dataset-allele' target=\"_blank\">https://wandb.ai/ba_cancerimmunotherapy/dataset-allele</a>"
      ],
      "text/plain": [
       "<IPython.core.display.HTML object>"
      ]
     },
     "metadata": {},
     "output_type": "display_data"
    },
    {
     "data": {
      "text/html": [
       " View run at <a href='https://wandb.ai/ba_cancerimmunotherapy/dataset-allele/runs/bg08feit' target=\"_blank\">https://wandb.ai/ba_cancerimmunotherapy/dataset-allele/runs/bg08feit</a>"
      ],
      "text/plain": [
       "<IPython.core.display.HTML object>"
      ]
     },
     "metadata": {},
     "output_type": "display_data"
    },
    {
     "name": "stderr",
     "output_type": "stream",
     "text": [
      "\u001b[34m\u001b[1mwandb\u001b[0m: Downloading large artifact beta_allele:latest, 1397.03MB. 103 files... \n",
      "\u001b[34m\u001b[1mwandb\u001b[0m:   103 of 103 files downloaded.  \n",
      "Done. 0:0:0.9\n",
      "/tmp/ipykernel_167290/3198741877.py:42: DtypeWarning: Columns (1,7,11) have mixed types. Specify dtype option on import or set low_memory=False.\n",
      "  df_val = pd.read_csv(path_beta_validation, sep=\"\\t\", index_col=False)\n",
      "/tmp/ipykernel_167290/3198741877.py:43: DtypeWarning: Columns (1,7) have mixed types. Specify dtype option on import or set low_memory=False.\n",
      "  df_train = pd.read_csv(path_beta_train, sep=\"\\t\", index_col=False)\n"
     ]
    },
    {
     "name": "stdout",
     "output_type": "stream",
     "text": [
      "[INFO] Berechne physikochemische Deskriptoren...\n",
      "[INFO] Trainiere Random Forest...\n",
      "\n",
      "=== Classification Report ===\n",
      "              precision    recall  f1-score   support\n",
      "\n",
      "           0       0.86      0.97      0.91    163150\n",
      "           1       0.61      0.21      0.32     32633\n",
      "\n",
      "    accuracy                           0.85    195783\n",
      "   macro avg       0.74      0.59      0.61    195783\n",
      "weighted avg       0.82      0.85      0.81    195783\n",
      "\n",
      "ROC AUC: 0.8345\n"
     ]
    },
    {
     "data": {
      "image/png": "[encoded data removed]",
      "text/plain": [
       "<Figure size 800x600 with 1 Axes>"
      ]
     },
     "metadata": {},
     "output_type": "display_data"
    },
    {
     "data": {
      "text/html": [
       " View run <strong style=\"color:#cdcd00\">physchem_rf_binding_prediction</strong> at: <a href='https://wandb.ai/ba_cancerimmunotherapy/dataset-allele/runs/bg08feit' target=\"_blank\">https://wandb.ai/ba_cancerimmunotherapy/dataset-allele/runs/bg08feit</a><br/> View project at: <a href='https://wandb.ai/ba_cancerimmunotherapy/dataset-allele' target=\"_blank\">https://wandb.ai/ba_cancerimmunotherapy/dataset-allele</a><br/>Synced 5 W&B file(s), 0 media file(s), 0 artifact file(s) and 0 other file(s)"
      ],
      "text/plain": [
       "<IPython.core.display.HTML object>"
      ]
     },
     "metadata": {},
     "output_type": "display_data"
    },
    {
     "data": {
      "text/html": [
       "Find logs at: <code>./wandb/run-20250516_142712-bg08feit/logs</code>"
      ],
      "text/plain": [
       "<IPython.core.display.HTML object>"
      ]
     },
     "metadata": {},
     "output_type": "display_data"
    }
   ],
   "source": [
    "import os\n",
    "import json\n",
    "import numpy as np\n",
    "import pandas as pd\n",
    "import matplotlib.pyplot as plt\n",
    "\n",
    "from sklearn.ensemble import RandomForestClassifier\n",
    "from sklearn.model_selection import train_test_split\n",
    "from sklearn.preprocessing import StandardScaler\n",
    "from sklearn.metrics import classification_report, roc_auc_score\n",
    "\n",
    "import wandb\n",
    "from ple_embedding import encode_descriptor_sequence  # Importiere deine Encoding-Funktion hier\n",
    "\n",
    "# === W&B initialisieren ===\n",
    "wandb.init(\n",
    "    project=\"dataset-allele\",\n",
    "    entity=\"ba_cancerimmunotherapy\",\n",
    "    job_type=\"physchem_rf_test\",\n",
    "    name=\"physchem_rf_binding_prediction\"\n",
    ")\n",
    "\n",
    "# === Lade Top-N Features ===\n",
    "with open(\"selected_physchem_features.json\", \"r\") as f:\n",
    "    features = json.load(f)\n",
    "\n",
    "tcr_features = [f.replace(\"tcr_\", \"\") for f in features if f.startswith(\"tcr_\")]\n",
    "epi_features = [f.replace(\"epi_\", \"\") for f in features if f.startswith(\"epi_\")]\n",
    "\n",
    "# === Lade Datensätze aus Artifact ===\n",
    "dataset_name = \"beta_allele\"\n",
    "artifact = wandb.use_artifact(\"ba_cancerimmunotherapy/dataset-allele/beta_allele:latest\")\n",
    "data_dir = artifact.download(f\"./WnB_Experiments_Datasets/{dataset_name}\")\n",
    "\n",
    "# === CSV-Pfade ===\n",
    "path_beta_test = f\"{data_dir}/allele/test.tsv\"\n",
    "path_beta_validation = f\"{data_dir}/allele/validation.tsv\"\n",
    "path_beta_train = f\"{data_dir}/allele/train.tsv\"\n",
    "\n",
    "# === Lade und kombiniere Daten ===\n",
    "df_test = pd.read_csv(path_beta_test, sep=\"\\t\", index_col=False)\n",
    "df_val = pd.read_csv(path_beta_validation, sep=\"\\t\", index_col=False)\n",
    "df_train = pd.read_csv(path_beta_train, sep=\"\\t\", index_col=False)\n",
    "df_beta = pd.concat([df_test, df_val, df_train])\n",
    "\n",
    "df_physchem = df_beta[[\"TRB_CDR3\", \"Epitope\", \"Binding\"]].dropna()\n",
    "\n",
    "# === Berechne physikochemische Features ===\n",
    "print(\"[INFO] Berechne physikochemische Deskriptoren...\")\n",
    "df_physchem[\"tcr_encoded\"] = df_physchem[\"TRB_CDR3\"].apply(lambda s: encode_descriptor_sequence(s, tcr_features))\n",
    "df_physchem[\"epi_encoded\"] = df_physchem[\"Epitope\"].apply(lambda s: encode_descriptor_sequence(s, epi_features))\n",
    "\n",
    "# === Kombiniere zu X und y ===\n",
    "X = np.hstack([\n",
    "    df_physchem[\"tcr_encoded\"].to_list(),\n",
    "    df_physchem[\"epi_encoded\"].to_list()\n",
    "])\n",
    "y = df_physchem[\"Binding\"].values\n",
    "\n",
    "# === Train/Test Split ===\n",
    "X_train, X_test, y_train, y_test = train_test_split(\n",
    "    X, y, test_size=0.2, random_state=42, stratify=y\n",
    ")\n",
    "\n",
    "# === Skalieren ===\n",
    "scaler = StandardScaler()\n",
    "X_train_scaled = scaler.fit_transform(X_train)\n",
    "X_test_scaled = scaler.transform(X_test)\n",
    "\n",
    "# === Trainiere Random Forest ===\n",
    "print(\"[INFO] Trainiere Random Forest...\")\n",
    "rf = RandomForestClassifier(n_estimators=200, random_state=42, class_weight='balanced')\n",
    "rf.fit(X_train_scaled, y_train)\n",
    "\n",
    "# === Vorhersage & Bewertung ===\n",
    "y_pred = rf.predict(X_test_scaled)\n",
    "y_prob = rf.predict_proba(X_test_scaled)[:, 1]\n",
    "\n",
    "print(\"\\n=== Classification Report ===\")\n",
    "print(classification_report(y_test, y_pred))\n",
    "\n",
    "print(f\"ROC AUC: {roc_auc_score(y_test, y_prob):.4f}\")\n",
    "\n",
    "# === Feature-Importanz plotten ===\n",
    "importances = rf.feature_importances_\n",
    "feature_names = [f\"tcr_{f}\" for f in tcr_features] + [f\"epi_{f}\" for f in epi_features]\n",
    "top_features = pd.Series(importances, index=feature_names).sort_values(ascending=False).head(15)\n",
    "\n",
    "plt.figure(figsize=(8, 6))\n",
    "top_features.plot(kind='barh')\n",
    "plt.gca().invert_yaxis()\n",
    "plt.title(\"Top 15 Feature Importances (Random Forest)\")\n",
    "plt.tight_layout()\n",
    "plt.show()\n",
    "\n",
    "wandb.finish()"
   ]
  }
 ],
 "metadata": {
  "kernelspec": {
   "display_name": "Python 3 (ipykernel)",
   "language": "python",
   "name": "python3"
  },
  "language_info": {
   "codemirror_mode": {
    "name": "ipython",
    "version": 3
   },
   "file_extension": ".py",
   "mimetype": "text/x-python",
   "name": "python",
   "nbconvert_exporter": "python",
   "pygments_lexer": "ipython3",
   "version": "3.12.2"
  }
 },
 "nbformat": 4,
 "nbformat_minor": 5
}
