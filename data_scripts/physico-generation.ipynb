{
 "cells": [
  {
   "cell_type": "code",
<<<<<<< HEAD
   "execution_count": 18,
=======
   "execution_count": 21,
>>>>>>> 94654f12c31d780adcda8273b594d94ecb205f52
   "id": "09feb7e3-ad2a-43f5-8975-b9e1e4735fd5",
   "metadata": {},
   "outputs": [],
   "source": [
<<<<<<< HEAD
    "#!pip install tensorflow"
=======
    "#pip install numpy==1.23.5\n",
    "#!pip install peptides"
>>>>>>> 94654f12c31d780adcda8273b594d94ecb205f52
   ]
  },
  {
   "cell_type": "code",
<<<<<<< HEAD
   "execution_count": 20,
=======
   "execution_count": 7,
>>>>>>> 94654f12c31d780adcda8273b594d94ecb205f52
   "id": "6a655879-9c7a-482d-891b-9a43d670f19b",
   "metadata": {},
   "outputs": [
    {
     "name": "stdout",
     "output_type": "stream",
     "text": [
      "Shape: (12, 30)\n"
     ]
    }
   ],
   "source": [
    "#Test\n",
    "import numpy as np\n",
    "import importlib\n",
    "import ple_embedding as pe\n",
    "importlib.reload(pe)\n",
    "\n",
    "#bins definieren die \"numerischen Buckets\" für jedes physikochemische Feature\n",
    "bins = [\n",
    "    np.linspace(-4.5, 4.5, 6),    # start, stop, number of bins: hydrophobicity\n",
    "    np.linspace(75, 200, 6),      # mol weight\n",
    "    np.linspace(-1, 1, 6),        # charge\n",
    "    np.linspace(-4.5, 4.5, 6),    # kyte-doolittle\n",
    "    np.linspace(70, 200, 6),      # (dummy)\n",
    "    np.linspace(0, 12, 6),        # (dummy)\n",
    "]\n",
    "\n",
    "seq = \"CASSLGQETQYF\"\n",
    "encoded = pe.encode_sequence_with_full_PLE(seq, bins)\n",
    "print(\"Shape:\", encoded.shape)\n",
    "\n",
    "# 6 Werte = 5 Intervalle = 5 PLE-Features pro Attribut, Bei 6 Features → 6 × 5 = 30-Dimensionaler Vektor pro Position"
   ]
  },
  {
   "cell_type": "code",
<<<<<<< HEAD
   "execution_count": 25,
   "id": "a2c70350-f5a8-4fa0-b0be-e84556b00ede",
   "metadata": {},
   "outputs": [
    {
=======
   "execution_count": 22,
   "id": "c9db8163-55b2-4fe6-8e64-5320d251e7af",
   "metadata": {},
   "outputs": [
    {
     "data": {
      "text/html": [
       "Tracking run with wandb version 0.18.5"
      ],
      "text/plain": [
       "<IPython.core.display.HTML object>"
      ]
     },
     "metadata": {},
     "output_type": "display_data"
    },
    {
     "data": {
      "text/html": [
       "Run data is saved locally in <code>/home/ubuntu/BA-Cancer-Immunotherapy/data_scripts/wandb/run-20250329_194054-8epvohq1</code>"
      ],
      "text/plain": [
       "<IPython.core.display.HTML object>"
      ]
     },
     "metadata": {},
     "output_type": "display_data"
    },
    {
     "data": {
      "text/html": [
       "Syncing run <strong><a href='https://wandb.ai/ba_cancerimmunotherapy/dataset-allele/runs/8epvohq1' target=\"_blank\">feature_selection_run</a></strong> to <a href='https://wandb.ai/ba_cancerimmunotherapy/dataset-allele' target=\"_blank\">Weights & Biases</a> (<a href='https://wandb.me/run' target=\"_blank\">docs</a>)<br/>"
      ],
      "text/plain": [
       "<IPython.core.display.HTML object>"
      ]
     },
     "metadata": {},
     "output_type": "display_data"
    },
    {
     "data": {
      "text/html": [
       " View project at <a href='https://wandb.ai/ba_cancerimmunotherapy/dataset-allele' target=\"_blank\">https://wandb.ai/ba_cancerimmunotherapy/dataset-allele</a>"
      ],
      "text/plain": [
       "<IPython.core.display.HTML object>"
      ]
     },
     "metadata": {},
     "output_type": "display_data"
    },
    {
     "data": {
      "text/html": [
       " View run at <a href='https://wandb.ai/ba_cancerimmunotherapy/dataset-allele/runs/8epvohq1' target=\"_blank\">https://wandb.ai/ba_cancerimmunotherapy/dataset-allele/runs/8epvohq1</a>"
      ],
      "text/plain": [
       "<IPython.core.display.HTML object>"
      ]
     },
     "metadata": {},
     "output_type": "display_data"
    },
    {
     "name": "stderr",
     "output_type": "stream",
     "text": [
      "\u001b[34m\u001b[1mwandb\u001b[0m: Downloading large artifact beta_allele:latest, 225.08MB. 18 files... \n",
      "\u001b[34m\u001b[1mwandb\u001b[0m:   18 of 18 files downloaded.  \n",
      "Done. 0:0:0.5\n"
     ]
    },
    {
>>>>>>> 94654f12c31d780adcda8273b594d94ecb205f52
     "name": "stdout",
     "output_type": "stream",
     "text": [
      "[INFO] Lade Datensätze...\n",
      "[INFO] Datensätze geladen: 543844 Einträge\n",
      "[INFO] Gefiltert: 543844 Einträge mit TRB_CDR3, Epitope und Binding\n",
<<<<<<< HEAD
      "[INFO] Berechne PLE-Features für TCR...\n",
      "[INFO] Berechne PLE-Features für Epitope...\n",
      "[INFO] Wende Padding auf PLE-Features an...\n",
      "[INFO] Speichere vorbereiteten DataFrame nach: ../../../data/physico/ple_encoded_physchem.h5\n",
      "[INFO] Gespeichert als HDF5 unter: ../../../data/physico/ple_encoded_physchem.h5\n",
      "[INFO] ✅ Alles abgeschlossen und gespeichert!\n"
=======
      "[INFO] Extrahiere Deskriptoren für TCR...\n",
      "[INFO] Extrahiere Deskriptoren für Epitope...\n",
      "\n",
      "Top Features:\n",
      "epi_SVGER2      0.012374\n",
      "epi_VHSE5       0.012222\n",
      "epi_ProtFP3     0.009888\n",
      "epi_T4          0.009281\n",
      "epi_BLOSUM9     0.008672\n",
      "epi_Z4          0.008615\n",
      "epi_MSWHIM3     0.008186\n",
      "epi_BLOSUM10    0.007820\n",
      "epi_PRIN1       0.007748\n",
      "epi_ST7         0.007393\n",
      "epi_KF1         0.007167\n",
      "epi_ProtFP1     0.007115\n",
      "epi_F2          0.007102\n",
      "epi_Z3          0.006811\n",
      "epi_PP3         0.006692\n",
      "epi_VSTPV3      0.006557\n",
      "epi_Z1          0.006538\n",
      "epi_E4          0.006484\n",
      "tcr_BLOSUM9     0.006471\n",
      "epi_MSWHIM2     0.006414\n",
      "dtype: float64\n",
      "\n",
      "✅ Gespeichert als: selected_physchem_features.json\n"
>>>>>>> 94654f12c31d780adcda8273b594d94ecb205f52
     ]
    }
   ],
   "source": [
<<<<<<< HEAD
=======
    "import pandas as pd\n",
    "import numpy as np\n",
    "import json\n",
    "from peptides import Peptide\n",
    "from sklearn.ensemble import RandomForestClassifier\n",
    "from sklearn.preprocessing import StandardScaler\n",
    "import wandb\n",
    "\n",
    "# --- Logging ---\n",
    "def log(msg):\n",
    "    print(f\"[INFO] {msg}\")\n",
    "\n",
    "# --- W&B initialisieren ---\n",
    "dataset_name = \"beta_allele\"\n",
    "wandb.init(\n",
    "    project=\"dataset-allele\",\n",
    "    entity=\"ba_cancerimmunotherapy\",\n",
    "    job_type=\"physchem_selection\",\n",
    "    name=\"feature_selection_run\"\n",
    ")\n",
    "\n",
    "# --- Artifact herunterladen ---\n",
    "artifact = wandb.use_artifact(\"ba_cancerimmunotherapy/dataset-allele/beta_allele:latest\")\n",
    "data_dir = artifact.download(f\"./WnB_Experiments_Datasets/{dataset_name}\")\n",
    "\n",
    "# --- Dateipfade definieren ---\n",
    "path_beta_test = f\"{data_dir}/allele/test.tsv\"\n",
    "path_beta_validation = f\"{data_dir}/allele/validation.tsv\"\n",
    "path_beta_train = f\"{data_dir}/allele/train.tsv\"\n",
    "\n",
    "# --- Daten laden ---\n",
    "log(\"Lade Datensätze...\")\n",
    "df_beta_test = pd.read_csv(path_beta_test, sep=\"\\t\", index_col=False)\n",
    "df_beta_validation = pd.read_csv(path_beta_validation, sep=\"\\t\", index_col=False)\n",
    "df_beta_train = pd.read_csv(path_beta_train, sep=\"\\t\", index_col=False)\n",
    "df_beta = pd.concat([df_beta_test, df_beta_validation, df_beta_train])\n",
    "log(f\"Datensätze geladen: {len(df_beta)} Einträge\")\n",
    "\n",
    "# --- Relevante Spalten extrahieren ---\n",
    "df_physchem = df_beta[[\"TRB_CDR3\", \"Epitope\", \"Binding\"]].dropna()\n",
    "log(f\"Gefiltert: {len(df_physchem)} Einträge mit TRB_CDR3, Epitope und Binding\")\n",
    "\n",
    "# --- Deskriptoren extrahieren ---\n",
    "def get_descriptors(seq):\n",
    "    try:\n",
    "        return Peptide(seq).descriptors()\n",
    "    except:\n",
    "        return {}\n",
    "\n",
    "log(\"Extrahiere Deskriptoren für TCR...\")\n",
    "tcr_desc = df_physchem[\"TRB_CDR3\"].apply(get_descriptors)\n",
    "log(\"Extrahiere Deskriptoren für Epitope...\")\n",
    "epi_desc = df_physchem[\"Epitope\"].apply(get_descriptors)\n",
    "\n",
    "# --- Kombinieren & Label anhängen ---\n",
    "tcr_df = pd.DataFrame(tcr_desc.tolist()).add_prefix(\"tcr_\")\n",
    "epi_df = pd.DataFrame(epi_desc.tolist()).add_prefix(\"epi_\")\n",
    "desc_df = pd.concat([tcr_df, epi_df], axis=1)\n",
    "desc_df[\"label\"] = df_physchem[\"Binding\"].values\n",
    "\n",
    "# --- Feature-Matrix & Zielvariable ---\n",
    "X = desc_df.drop(columns=[\"label\"])\n",
    "y = desc_df[\"label\"]\n",
    "\n",
    "# --- Skalieren ---\n",
    "scaler = StandardScaler()\n",
    "X_scaled = pd.DataFrame(scaler.fit_transform(X), columns=X.columns)\n",
    "\n",
    "# --- Feature Importance berechnen ---\n",
    "rf = RandomForestClassifier(n_estimators=100, random_state=42)\n",
    "rf.fit(X_scaled, y)\n",
    "\n",
    "importances = pd.Series(rf.feature_importances_, index=X.columns)\n",
    "top_n = 20\n",
    "top_features = importances.sort_values(ascending=False).head(top_n)\n",
    "selected_features = list(top_features.index)\n",
    "\n",
    "# --- Speichern der Top-N Features ---\n",
    "with open(\"selected_physchem_features.json\", \"w\") as f:\n",
    "    json.dump(selected_features, f, indent=2)\n",
    "\n",
    "print(\"\\nTop Features:\")\n",
    "print(top_features)\n",
    "print(\"\\n✅ Gespeichert als: selected_physchem_features.json\")"
   ]
  },
  {
   "cell_type": "code",
   "execution_count": 1,
   "id": "a2c70350-f5a8-4fa0-b0be-e84556b00ede",
   "metadata": {},
   "outputs": [
    {
     "name": "stderr",
     "output_type": "stream",
     "text": [
      "2025-03-29 20:52:40.015772: E external/local_xla/xla/stream_executor/cuda/cuda_fft.cc:467] Unable to register cuFFT factory: Attempting to register factory for plugin cuFFT when one has already been registered\n",
      "WARNING: All log messages before absl::InitializeLog() is called are written to STDERR\n",
      "E0000 00:00:1743281560.406066  146054 cuda_dnn.cc:8579] Unable to register cuDNN factory: Attempting to register factory for plugin cuDNN when one has already been registered\n",
      "E0000 00:00:1743281560.525107  146054 cuda_blas.cc:1407] Unable to register cuBLAS factory: Attempting to register factory for plugin cuBLAS when one has already been registered\n",
      "W0000 00:00:1743281561.454791  146054 computation_placer.cc:177] computation placer already registered. Please check linkage and avoid linking the same target more than once.\n",
      "W0000 00:00:1743281561.454911  146054 computation_placer.cc:177] computation placer already registered. Please check linkage and avoid linking the same target more than once.\n",
      "W0000 00:00:1743281561.454919  146054 computation_placer.cc:177] computation placer already registered. Please check linkage and avoid linking the same target more than once.\n",
      "W0000 00:00:1743281561.454925  146054 computation_placer.cc:177] computation placer already registered. Please check linkage and avoid linking the same target more than once.\n",
      "2025-03-29 20:52:41.562208: I tensorflow/core/platform/cpu_feature_guard.cc:210] This TensorFlow binary is optimized to use available CPU instructions in performance-critical operations.\n",
      "To enable the following instructions: AVX2 FMA, in other operations, rebuild TensorFlow with the appropriate compiler flags.\n",
      "\u001b[34m\u001b[1mwandb\u001b[0m: Using wandb-core as the SDK backend. Please refer to https://wandb.me/wandb-core for more information.\n",
      "\u001b[34m\u001b[1mwandb\u001b[0m: Currently logged in as: \u001b[33mfrohoari\u001b[0m (\u001b[33mba_cancerimmunotherapy\u001b[0m). Use \u001b[1m`wandb login --relogin`\u001b[0m to force relogin\n"
     ]
    },
    {
     "data": {
      "text/html": [
       "Tracking run with wandb version 0.18.5"
      ],
      "text/plain": [
       "<IPython.core.display.HTML object>"
      ]
     },
     "metadata": {},
     "output_type": "display_data"
    },
    {
     "data": {
      "text/html": [
       "Run data is saved locally in <code>/home/ubuntu/BA-Cancer-Immunotherapy/data_scripts/wandb/run-20250329_205251-h9kipgjl</code>"
      ],
      "text/plain": [
       "<IPython.core.display.HTML object>"
      ]
     },
     "metadata": {},
     "output_type": "display_data"
    },
    {
     "data": {
      "text/html": [
       "Syncing run <strong><a href='https://wandb.ai/ba_cancerimmunotherapy/dataset-allele/runs/h9kipgjl' target=\"_blank\">descriptor_feature_extraction</a></strong> to <a href='https://wandb.ai/ba_cancerimmunotherapy/dataset-allele' target=\"_blank\">Weights & Biases</a> (<a href='https://wandb.me/run' target=\"_blank\">docs</a>)<br/>"
      ],
      "text/plain": [
       "<IPython.core.display.HTML object>"
      ]
     },
     "metadata": {},
     "output_type": "display_data"
    },
    {
     "data": {
      "text/html": [
       " View project at <a href='https://wandb.ai/ba_cancerimmunotherapy/dataset-allele' target=\"_blank\">https://wandb.ai/ba_cancerimmunotherapy/dataset-allele</a>"
      ],
      "text/plain": [
       "<IPython.core.display.HTML object>"
      ]
     },
     "metadata": {},
     "output_type": "display_data"
    },
    {
     "data": {
      "text/html": [
       " View run at <a href='https://wandb.ai/ba_cancerimmunotherapy/dataset-allele/runs/h9kipgjl' target=\"_blank\">https://wandb.ai/ba_cancerimmunotherapy/dataset-allele/runs/h9kipgjl</a>"
      ],
      "text/plain": [
       "<IPython.core.display.HTML object>"
      ]
     },
     "metadata": {},
     "output_type": "display_data"
    },
    {
     "name": "stderr",
     "output_type": "stream",
     "text": [
      "\u001b[34m\u001b[1mwandb\u001b[0m: Downloading large artifact beta_allele:latest, 225.08MB. 18 files... \n",
      "\u001b[34m\u001b[1mwandb\u001b[0m:   18 of 18 files downloaded.  \n",
      "Done. 0:0:0.4\n"
     ]
    },
    {
     "name": "stdout",
     "output_type": "stream",
     "text": [
      "[INFO] Lade Datensätze...\n",
      "[INFO] Datensätze geladen: 543844 Einträge\n",
      "[INFO] Gefiltert: 543844 Einträge mit TRB_CDR3, Epitope und Binding\n",
      "[INFO] Berechne Deskriptor-Features für TCR...\n",
      "[INFO] Berechne Deskriptor-Features für Epitope...\n",
      "[INFO] Speichere vorbereiteten DataFrame nach: ../../data/physico/descriptor_encoded_physchem.h5\n",
      "[INFO] Gespeichert als HDF5 unter: ../../data/physico/descriptor_encoded_physchem.h5\n",
      "[INFO] ✅ Alles abgeschlossen und gespeichert!\n"
     ]
    },
    {
     "data": {
      "text/html": [
       " View run <strong style=\"color:#cdcd00\">descriptor_feature_extraction</strong> at: <a href='https://wandb.ai/ba_cancerimmunotherapy/dataset-allele/runs/h9kipgjl' target=\"_blank\">https://wandb.ai/ba_cancerimmunotherapy/dataset-allele/runs/h9kipgjl</a><br/> View project at: <a href='https://wandb.ai/ba_cancerimmunotherapy/dataset-allele' target=\"_blank\">https://wandb.ai/ba_cancerimmunotherapy/dataset-allele</a><br/>Synced 5 W&B file(s), 0 media file(s), 0 artifact file(s) and 0 other file(s)"
      ],
      "text/plain": [
       "<IPython.core.display.HTML object>"
      ]
     },
     "metadata": {},
     "output_type": "display_data"
    },
    {
     "data": {
      "text/html": [
       "Find logs at: <code>./wandb/run-20250329_205251-h9kipgjl/logs</code>"
      ],
      "text/plain": [
       "<IPython.core.display.HTML object>"
      ]
     },
     "metadata": {},
     "output_type": "display_data"
    }
   ],
   "source": [
    "import os\n",
    "import pandas as pd\n",
    "import numpy as np\n",
    "import json\n",
    "import h5py\n",
    "import wandb\n",
    "import importlib\n",
    "import ple_embedding as pe\n",
    "#importlib.reload(pe)\n",
    "\n",
    "# --- Logging ---\n",
    "def log(msg):\n",
    "    print(f\"[INFO] {msg}\")\n",
    "\n",
    "# --- W&B initialisieren ---\n",
    "dataset_name = \"beta_allele\"\n",
    "wandb.init(\n",
    "    project=\"dataset-allele\",\n",
    "    entity=\"ba_cancerimmunotherapy\",\n",
    "    job_type=\"physchem_encoding\",\n",
    "    name=\"descriptor_feature_extraction\"\n",
    ")\n",
    "\n",
    "# --- Artifact herunterladen ---\n",
    "artifact = wandb.use_artifact(\"ba_cancerimmunotherapy/dataset-allele/beta_allele:latest\")\n",
    "data_dir = artifact.download(f\"./WnB_Experiments_Datasets/{dataset_name}\")\n",
    "\n",
    "# --- Dateipfade definieren ---\n",
    "path_beta_test = f\"{data_dir}/allele/test.tsv\"\n",
    "path_beta_validation = f\"{data_dir}/allele/validation.tsv\"\n",
    "path_beta_train = f\"{data_dir}/allele/train.tsv\"\n",
    "\n",
    "# --- Daten laden ---\n",
    "log(\"Lade Datensätze...\")\n",
    "df_beta_test = pd.read_csv(path_beta_test, sep=\"\\t\", index_col=False)\n",
    "df_beta_validation = pd.read_csv(path_beta_validation, sep=\"\\t\", index_col=False)\n",
    "df_beta_train = pd.read_csv(path_beta_train, sep=\"\\t\", index_col=False)\n",
    "df_beta = pd.concat([df_beta_test, df_beta_validation, df_beta_train])\n",
    "log(f\"Datensätze geladen: {len(df_beta)} Einträge\")\n",
    "\n",
    "# --- Relevante Spalten extrahieren ---\n",
    "df_physchem = df_beta[[\"TRB_CDR3\", \"Epitope\", \"Binding\"]].dropna()\n",
    "log(f\"Gefiltert: {len(df_physchem)} Einträge mit TRB_CDR3, Epitope und Binding\")\n",
    "\n",
    "# --- Features laden & trennen ---\n",
    "with open(\"selected_physchem_features.json\") as f:\n",
    "    all_features = json.load(f)\n",
    "\n",
    "tcr_features = [f.replace(\"tcr_\", \"\") for f in all_features if f.startswith(\"tcr_\")]\n",
    "epi_features = [f.replace(\"epi_\", \"\") for f in all_features if f.startswith(\"epi_\")]\n",
    "\n",
    "# --- Feature-Encoding ---\n",
    "log(\"Berechne Deskriptor-Features für TCR...\")\n",
    "df_physchem[\"tcr_encoded\"] = df_physchem[\"TRB_CDR3\"].apply(lambda s: pe.encode_descriptor_sequence(s, tcr_features))\n",
    "\n",
    "log(\"Berechne Deskriptor-Features für Epitope...\")\n",
    "df_physchem[\"epi_encoded\"] = df_physchem[\"Epitope\"].apply(lambda s: pe.encode_descriptor_sequence(s, epi_features))\n",
    "\n",
    "# --- Padding (optional, falls Sequenzen als Vektor statt Sequenzmatrix) ---\n",
    "tcr_arr = np.stack(df_physchem[\"tcr_encoded\"].to_numpy())\n",
    "epi_arr = np.stack(df_physchem[\"epi_encoded\"].to_numpy())\n",
    "binding_arr = df_physchem[\"Binding\"].to_numpy()\n",
    "\n",
    "# --- HDF5 speichern ---\n",
    "output_path = \"../../data/physico/descriptor_encoded_physchem.h5\"\n",
    "log(f\"Speichere vorbereiteten DataFrame nach: {output_path}\")\n",
    "with h5py.File(output_path, \"w\") as h5f:\n",
    "    h5f.create_dataset(\"tcr_encoded\", data=tcr_arr)\n",
    "    h5f.create_dataset(\"epi_encoded\", data=epi_arr)\n",
    "    h5f.create_dataset(\"binding\", data=binding_arr)\n",
    "print(f\"[INFO] Gespeichert als HDF5 unter: {output_path}\")\n",
    "\n",
    "# --- Abschließen ---\n",
    "log(\"✅ Alles abgeschlossen und gespeichert!\")\n",
    "wandb.finish()"
   ]
  },
  {
   "cell_type": "code",
   "execution_count": 4,
   "id": "06787ca1-1fb0-4e1e-b728-129c0c5a7282",
   "metadata": {},
   "outputs": [
    {
     "name": "stdout",
     "output_type": "stream",
     "text": [
      "Datasets in File: ['binding', 'epi_encoded', 'tcr_encoded']\n",
      "tcr_ple shape: (543844, 1)\n",
      "epi_ple shape: (543844, 19)\n",
      "binding shape: (543844,)\n"
     ]
    }
   ],
   "source": [
    "import h5py\n",
    "\n",
    "path = \"../../data/physico/descriptor_encoded_physchem.h5\"\n",
    "\n",
    "with h5py.File(path, \"r\") as h5f:\n",
    "    print(\"Datasets in File:\", list(h5f.keys()))\n",
    "\n",
    "    tcr_shape = h5f[\"tcr_encoded\"].shape\n",
    "    epi_shape = h5f[\"epi_encoded\"].shape\n",
    "    label_shape = h5f[\"binding\"].shape\n",
    "\n",
    "    print(f\"tcr_ple shape: {tcr_shape}\")\n",
    "    print(f\"epi_ple shape: {epi_shape}\")\n",
    "    print(f\"binding shape: {label_shape}\")"
   ]
  },
  {
   "cell_type": "code",
   "execution_count": null,
   "id": "732551c5-99a5-4b56-a714-67ad3e87f44a",
   "metadata": {},
   "outputs": [],
   "source": []
  },
  {
   "cell_type": "code",
   "execution_count": null,
   "id": "d412f731-648b-4230-8c0c-12713be15a36",
   "metadata": {},
   "outputs": [],
   "source": [
    "#alter code von hier"
   ]
  },
  {
   "cell_type": "code",
   "execution_count": null,
   "id": "a414e782-628e-4d68-96db-d12f07745b55",
   "metadata": {},
   "outputs": [],
   "source": [
>>>>>>> 94654f12c31d780adcda8273b594d94ecb205f52
    "import os\n",
    "import pandas as pd\n",
    "import numpy as np\n",
    "import pickle\n",
    "import ple_embedding as pe\n",
    "import h5py\n",
    "\n",
    "# --- Logging ---\n",
    "def log(msg):\n",
    "    print(f\"[INFO] {msg}\")\n",
    "\n",
    "# --- Pfade definieren ---\n",
    "precision = 'allele'\n",
    "pipeline_data = '../../../data'\n",
    "pipeline_data_splitted = f'{pipeline_data}/splitted_datasets'\n",
    "\n",
    "path_beta_test = f\"{pipeline_data_splitted}/{precision}/beta/test.tsv\"\n",
    "path_beta_validation = f\"{pipeline_data_splitted}/{precision}/beta/validation.tsv\"\n",
    "path_beta_train = f\"{pipeline_data_splitted}/{precision}/beta/train.tsv\"\n",
    "\n",
    "log(\"Lade Datensätze...\")\n",
    "df_beta_test = pd.read_csv(path_beta_test, sep=\"\\t\", index_col=False)\n",
    "df_beta_validation = pd.read_csv(path_beta_validation, sep=\"\\t\", index_col=False)\n",
    "df_beta_train = pd.read_csv(path_beta_train, sep=\"\\t\", index_col=False)\n",
    "df_beta = pd.concat([df_beta_test, df_beta_validation, df_beta_train])\n",
    "log(f\"Datensätze geladen: {len(df_beta)} Einträge\")\n",
    "\n",
    "# --- Filter nur relevante Spalten ---\n",
    "df_physchem = df_beta[[\"TRB_CDR3\", \"Epitope\", \"Binding\"]].dropna()\n",
    "log(f\"Gefiltert: {len(df_physchem)} Einträge mit TRB_CDR3, Epitope und Binding\")\n",
    "\n",
    "# --- Bins definieren ---\n",
    "bins = [\n",
    "    np.linspace(-4.5, 4.5, 6), \n",
    "    np.linspace(75, 200, 6),\n",
    "    np.linspace(-1, 1, 6),\n",
    "    np.linspace(-4.5, 4.5, 6),\n",
    "    np.linspace(70, 200, 6),\n",
    "    np.linspace(0, 12, 6),\n",
    "]\n",
    "\n",
    "# --- PLE-Encoding ---\n",
    "log(\"Berechne PLE-Features für TCR...\")\n",
    "df_physchem[\"tcr_ple\"] = df_physchem[\"TRB_CDR3\"].apply(lambda s: pe.encode_sequence_with_full_PLE(s, bins))\n",
    "\n",
    "log(\"Berechne PLE-Features für Epitope...\")\n",
    "df_physchem[\"epi_ple\"] = df_physchem[\"Epitope\"].apply(lambda s: pe.encode_sequence_with_full_PLE(s, bins))\n",
    "\n",
    "# --- Padding ---\n",
    "log(\"Wende Padding auf PLE-Features an...\")\n",
    "df_physchem[\"tcr_ple_pad\"] = df_physchem[\"tcr_ple\"].apply(lambda m: pe.pad_encoded_sequences([m], max_len=43)[0])\n",
    "df_physchem[\"epi_ple_pad\"] = df_physchem[\"epi_ple\"].apply(lambda m: pe.pad_encoded_sequences([m], max_len=43)[0])\n",
    "\n",
    "# --- Speichern ---\n",
    "output_path = f\"{pipeline_data}/physico/ple_encoded_physchem.h5\"\n",
    "log(f\"Speichere vorbereiteten DataFrame nach: {output_path}\")\n",
    "with h5py.File(output_path, \"w\") as h5f:\n",
    "    h5f.create_dataset(\"tcr_ple\", data=np.stack(df_physchem[\"tcr_ple_pad\"].to_numpy()))\n",
    "    h5f.create_dataset(\"epi_ple\", data=np.stack(df_physchem[\"epi_ple_pad\"].to_numpy()))\n",
    "    h5f.create_dataset(\"binding\", data=df_physchem[\"Binding\"].to_numpy())\n",
    "print(f\"[INFO] Gespeichert als HDF5 unter: {output_path}\")\n",
    "log(\"✅ Alles abgeschlossen und gespeichert!\")"
   ]
<<<<<<< HEAD
  },
  {
   "cell_type": "code",
   "execution_count": 26,
   "id": "06787ca1-1fb0-4e1e-b728-129c0c5a7282",
   "metadata": {},
   "outputs": [
    {
     "name": "stdout",
     "output_type": "stream",
     "text": [
      "Datasets in File: ['binding', 'epi_ple', 'tcr_ple']\n",
      "tcr_ple shape: (543844, 43, 30)\n",
      "epi_ple shape: (543844, 43, 30)\n",
      "binding shape: (543844,)\n"
     ]
    }
   ],
   "source": [
    "import h5py\n",
    "\n",
    "path = \"../../../data/physico/ple_encoded_physchem.h5\"\n",
    "\n",
    "with h5py.File(path, \"r\") as h5f:\n",
    "    print(\"Datasets in File:\", list(h5f.keys()))\n",
    "\n",
    "    tcr_shape = h5f[\"tcr_ple\"].shape\n",
    "    epi_shape = h5f[\"epi_ple\"].shape\n",
    "    label_shape = h5f[\"binding\"].shape\n",
    "\n",
    "    print(f\"tcr_ple shape: {tcr_shape}\")\n",
    "    print(f\"epi_ple shape: {epi_shape}\")\n",
    "    print(f\"binding shape: {label_shape}\")"
   ]
  },
  {
   "cell_type": "code",
   "execution_count": null,
   "id": "41048220-6785-49de-b767-1aa68940dfb5",
   "metadata": {},
   "outputs": [],
   "source": []
  },
  {
   "cell_type": "code",
   "execution_count": null,
   "id": "8b16e99d-5e1a-4f12-8b7b-4de571a6eb8d",
   "metadata": {},
   "outputs": [],
   "source": []
  },
  {
   "cell_type": "code",
   "execution_count": null,
   "id": "9287f320-6492-4a26-a19b-181479e5eb29",
   "metadata": {},
   "outputs": [],
   "source": []
=======
>>>>>>> 94654f12c31d780adcda8273b594d94ecb205f52
  }
 ],
 "metadata": {
  "kernelspec": {
   "display_name": "Python 3 (ipykernel)",
   "language": "python",
   "name": "python3"
  },
  "language_info": {
   "codemirror_mode": {
    "name": "ipython",
    "version": 3
   },
   "file_extension": ".py",
   "mimetype": "text/x-python",
   "name": "python",
   "nbconvert_exporter": "python",
   "pygments_lexer": "ipython3",
<<<<<<< HEAD
   "version": "3.12.2"
=======
   "version": "3.11.4"
>>>>>>> 94654f12c31d780adcda8273b594d94ecb205f52
  }
 },
 "nbformat": 4,
 "nbformat_minor": 5
}
