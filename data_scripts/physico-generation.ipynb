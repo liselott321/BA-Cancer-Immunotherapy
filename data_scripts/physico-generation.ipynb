{
 "cells": [
  {
   "cell_type": "code",
   "execution_count": 18,
   "id": "09feb7e3-ad2a-43f5-8975-b9e1e4735fd5",
   "metadata": {},
   "outputs": [],
   "source": [
    "#!pip install tensorflow"
   ]
  },
  {
   "cell_type": "code",
   "execution_count": 20,
   "id": "6a655879-9c7a-482d-891b-9a43d670f19b",
   "metadata": {},
   "outputs": [
    {
     "name": "stdout",
     "output_type": "stream",
     "text": [
      "Shape: (12, 30)\n"
     ]
    }
   ],
   "source": [
    "#Test\n",
    "import numpy as np\n",
    "import importlib\n",
    "import ple_embedding as pe\n",
    "importlib.reload(pe)\n",
    "\n",
    "#bins definieren die \"numerischen Buckets\" für jedes physikochemische Feature\n",
    "bins = [\n",
    "    np.linspace(-4.5, 4.5, 6),    # start, stop, number of bins: hydrophobicity\n",
    "    np.linspace(75, 200, 6),      # mol weight\n",
    "    np.linspace(-1, 1, 6),        # charge\n",
    "    np.linspace(-4.5, 4.5, 6),    # kyte-doolittle\n",
    "    np.linspace(70, 200, 6),      # (dummy)\n",
    "    np.linspace(0, 12, 6),        # (dummy)\n",
    "]\n",
    "\n",
    "seq = \"CASSLGQETQYF\"\n",
    "encoded = pe.encode_sequence_with_full_PLE(seq, bins)\n",
    "print(\"Shape:\", encoded.shape)\n",
    "\n",
    "# 6 Werte = 5 Intervalle = 5 PLE-Features pro Attribut, Bei 6 Features → 6 × 5 = 30-Dimensionaler Vektor pro Position"
   ]
  },
  {
   "cell_type": "code",
   "execution_count": 25,
   "id": "a2c70350-f5a8-4fa0-b0be-e84556b00ede",
   "metadata": {},
   "outputs": [
    {
     "name": "stdout",
     "output_type": "stream",
     "text": [
      "[INFO] Lade Datensätze...\n",
      "[INFO] Datensätze geladen: 543844 Einträge\n",
      "[INFO] Gefiltert: 543844 Einträge mit TRB_CDR3, Epitope und Binding\n",
      "[INFO] Berechne PLE-Features für TCR...\n",
      "[INFO] Berechne PLE-Features für Epitope...\n",
      "[INFO] Wende Padding auf PLE-Features an...\n",
      "[INFO] Speichere vorbereiteten DataFrame nach: ../../../data/physico/ple_encoded_physchem.h5\n",
      "[INFO] Gespeichert als HDF5 unter: ../../../data/physico/ple_encoded_physchem.h5\n",
      "[INFO] ✅ Alles abgeschlossen und gespeichert!\n"
     ]
    }
   ],
   "source": [
    "import os\n",
    "import pandas as pd\n",
    "import numpy as np\n",
    "import pickle\n",
    "import ple_embedding as pe\n",
    "import h5py\n",
    "\n",
    "# --- Logging ---\n",
    "def log(msg):\n",
    "    print(f\"[INFO] {msg}\")\n",
    "\n",
    "# --- Pfade definieren ---\n",
    "precision = 'allele'\n",
    "pipeline_data = '../../../data'\n",
    "pipeline_data_splitted = f'{pipeline_data}/splitted_datasets'\n",
    "\n",
    "path_beta_test = f\"{pipeline_data_splitted}/{precision}/beta/test.tsv\"\n",
    "path_beta_validation = f\"{pipeline_data_splitted}/{precision}/beta/validation.tsv\"\n",
    "path_beta_train = f\"{pipeline_data_splitted}/{precision}/beta/train.tsv\"\n",
    "\n",
    "log(\"Lade Datensätze...\")\n",
    "df_beta_test = pd.read_csv(path_beta_test, sep=\"\\t\", index_col=False)\n",
    "df_beta_validation = pd.read_csv(path_beta_validation, sep=\"\\t\", index_col=False)\n",
    "df_beta_train = pd.read_csv(path_beta_train, sep=\"\\t\", index_col=False)\n",
    "df_beta = pd.concat([df_beta_test, df_beta_validation, df_beta_train])\n",
    "log(f\"Datensätze geladen: {len(df_beta)} Einträge\")\n",
    "\n",
    "# --- Filter nur relevante Spalten ---\n",
    "df_physchem = df_beta[[\"TRB_CDR3\", \"Epitope\", \"Binding\"]].dropna()\n",
    "log(f\"Gefiltert: {len(df_physchem)} Einträge mit TRB_CDR3, Epitope und Binding\")\n",
    "\n",
    "# --- Bins definieren ---\n",
    "bins = [\n",
    "    np.linspace(-4.5, 4.5, 6), \n",
    "    np.linspace(75, 200, 6),\n",
    "    np.linspace(-1, 1, 6),\n",
    "    np.linspace(-4.5, 4.5, 6),\n",
    "    np.linspace(70, 200, 6),\n",
    "    np.linspace(0, 12, 6),\n",
    "]\n",
    "\n",
    "# --- PLE-Encoding ---\n",
    "log(\"Berechne PLE-Features für TCR...\")\n",
    "df_physchem[\"tcr_ple\"] = df_physchem[\"TRB_CDR3\"].apply(lambda s: pe.encode_sequence_with_full_PLE(s, bins))\n",
    "\n",
    "log(\"Berechne PLE-Features für Epitope...\")\n",
    "df_physchem[\"epi_ple\"] = df_physchem[\"Epitope\"].apply(lambda s: pe.encode_sequence_with_full_PLE(s, bins))\n",
    "\n",
    "# --- Padding ---\n",
    "log(\"Wende Padding auf PLE-Features an...\")\n",
    "df_physchem[\"tcr_ple_pad\"] = df_physchem[\"tcr_ple\"].apply(lambda m: pe.pad_encoded_sequences([m], max_len=43)[0])\n",
    "df_physchem[\"epi_ple_pad\"] = df_physchem[\"epi_ple\"].apply(lambda m: pe.pad_encoded_sequences([m], max_len=43)[0])\n",
    "\n",
    "# --- Speichern ---\n",
    "output_path = f\"{pipeline_data}/physico/ple_encoded_physchem.h5\"\n",
    "log(f\"Speichere vorbereiteten DataFrame nach: {output_path}\")\n",
    "with h5py.File(output_path, \"w\") as h5f:\n",
    "    h5f.create_dataset(\"tcr_ple\", data=np.stack(df_physchem[\"tcr_ple_pad\"].to_numpy()))\n",
    "    h5f.create_dataset(\"epi_ple\", data=np.stack(df_physchem[\"epi_ple_pad\"].to_numpy()))\n",
    "    h5f.create_dataset(\"binding\", data=df_physchem[\"Binding\"].to_numpy())\n",
    "print(f\"[INFO] Gespeichert als HDF5 unter: {output_path}\")\n",
    "log(\"✅ Alles abgeschlossen und gespeichert!\")"
   ]
  },
  {
   "cell_type": "code",
   "execution_count": 26,
   "id": "06787ca1-1fb0-4e1e-b728-129c0c5a7282",
   "metadata": {},
   "outputs": [
    {
     "name": "stdout",
     "output_type": "stream",
     "text": [
      "Datasets in File: ['binding', 'epi_ple', 'tcr_ple']\n",
      "tcr_ple shape: (543844, 43, 30)\n",
      "epi_ple shape: (543844, 43, 30)\n",
      "binding shape: (543844,)\n"
     ]
    }
   ],
   "source": [
    "import h5py\n",
    "\n",
    "path = \"../../../data/physico/ple_encoded_physchem.h5\"\n",
    "\n",
    "with h5py.File(path, \"r\") as h5f:\n",
    "    print(\"Datasets in File:\", list(h5f.keys()))\n",
    "\n",
    "    tcr_shape = h5f[\"tcr_ple\"].shape\n",
    "    epi_shape = h5f[\"epi_ple\"].shape\n",
    "    label_shape = h5f[\"binding\"].shape\n",
    "\n",
    "    print(f\"tcr_ple shape: {tcr_shape}\")\n",
    "    print(f\"epi_ple shape: {epi_shape}\")\n",
    "    print(f\"binding shape: {label_shape}\")"
   ]
  },
  {
   "cell_type": "code",
   "execution_count": null,
   "id": "41048220-6785-49de-b767-1aa68940dfb5",
   "metadata": {},
   "outputs": [],
   "source": []
  },
  {
   "cell_type": "code",
   "execution_count": null,
   "id": "8b16e99d-5e1a-4f12-8b7b-4de571a6eb8d",
   "metadata": {},
   "outputs": [],
   "source": []
  },
  {
   "cell_type": "code",
   "execution_count": null,
   "id": "9287f320-6492-4a26-a19b-181479e5eb29",
   "metadata": {},
   "outputs": [],
   "source": []
  }
 ],
 "metadata": {
  "kernelspec": {
   "display_name": "Python 3 (ipykernel)",
   "language": "python",
   "name": "python3"
  },
  "language_info": {
   "codemirror_mode": {
    "name": "ipython",
    "version": 3
   },
   "file_extension": ".py",
   "mimetype": "text/x-python",
   "name": "python",
   "nbconvert_exporter": "python",
   "pygments_lexer": "ipython3",
   "version": "3.12.2"
  }
 },
 "nbformat": 4,
 "nbformat_minor": 5
}
