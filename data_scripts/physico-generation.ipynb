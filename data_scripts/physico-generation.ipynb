{
 "cells": [
  {
   "cell_type": "code",
   "execution_count": null,
   "id": "d525b0a2-6d57-4a05-bbd4-cc70e3fe5e7a",
   "metadata": {},
   "outputs": [],
   "source": [
    "import pandas as pd\n",
    "import numpy as np\n",
    "import json\n",
    "from peptides import Peptide\n",
    "from sklearn.ensemble import RandomForestClassifier\n",
    "from sklearn.preprocessing import StandardScaler\n",
    "import wandb\n",
    "\n",
    "# --- Logging ---\n",
    "def log(msg):\n",
    "    print(f\"[INFO] {msg}\")\n",
    "\n",
    "# --- W&B initialisieren ---\n",
    "dataset_name = \"beta_allele\"\n",
    "wandb.init(\n",
    "    project=\"dataset-allele\",\n",
    "    entity=\"ba_cancerimmunotherapy\",\n",
    "    job_type=\"physchem_selection\",\n",
    "    name=\"feature_selection_run\"\n",
    ")\n",
    "\n",
    "# --- Artifact herunterladen ---\n",
    "artifact = wandb.use_artifact(\"ba_cancerimmunotherapy/dataset-allele/beta_allele:latest\")\n",
    "data_dir = artifact.download(f\"./WnB_Experiments_Datasets/{dataset_name}\")\n",
    "\n",
    "# --- Dateipfade definieren ---\n",
    "path_beta_train = f\"{data_dir}/allele/train.tsv\"\n",
    "\n",
    "# --- Daten laden ---\n",
    "log(\"Lade Datensätze...\")\n",
    "df_beta_train = pd.read_csv(path_beta_train, sep=\"\\t\", index_col=False)\n",
    "log(f\"Datensätze geladen: {len(df_beta_train)} Einträge\")\n",
    "\n",
    "# --- Relevante Spalten extrahieren ---\n",
    "df_physchem = df_beta_train[[\"TRB_CDR3\", \"Epitope\", \"Binding\"]].dropna()\n",
    "log(f\"Gefiltert: {len(df_physchem)} Einträge mit TRB_CDR3, Epitope und Binding\")\n",
    "\n",
    "# --- Deskriptoren extrahieren ---\n",
    "def get_descriptors(seq):\n",
    "    try:\n",
    "        return Peptide(seq).descriptors()\n",
    "    except:\n",
    "        return {}\n",
    "\n",
    "log(\"Extrahiere Deskriptoren für TCR...\")\n",
    "tcr_desc = df_physchem[\"TRB_CDR3\"].apply(get_descriptors)\n",
    "log(\"Extrahiere Deskriptoren für Epitope...\")\n",
    "epi_desc = df_physchem[\"Epitope\"].apply(get_descriptors)\n",
    "\n",
    "# --- Kombinieren & Label anhängen ---\n",
    "tcr_df = pd.DataFrame(tcr_desc.tolist()).add_prefix(\"tcr_\")\n",
    "epi_df = pd.DataFrame(epi_desc.tolist()).add_prefix(\"epi_\")\n",
    "desc_df = pd.concat([tcr_df, epi_df], axis=1)\n",
    "desc_df[\"label\"] = df_physchem[\"Binding\"].values\n",
    "\n",
    "# --- Feature-Matrix & Zielvariable ---\n",
    "X = desc_df.drop(columns=[\"label\"])\n",
    "y = desc_df[\"label\"]\n",
    "\n",
    "# --- Skalieren ---\n",
    "scaler = StandardScaler()\n",
    "X_scaled = pd.DataFrame(scaler.fit_transform(X), columns=X.columns)\n",
    "\n",
    "# --- Feature Importance berechnen ---\n",
    "rf = RandomForestClassifier(n_estimators=100, random_state=42)\n",
    "rf.fit(X_scaled, y)\n",
    "\n",
    "importances = pd.Series(rf.feature_importances_, index=X.columns)\n",
    "top_n = 20\n",
    "top_features = importances.sort_values(ascending=False).head(top_n)\n",
    "selected_features = list(top_features.index)\n",
    "\n",
    "# --- Speichern der Top-N Features ---\n",
    "with open(\"selected_physchem_features.json\", \"w\") as f:\n",
    "    json.dump(selected_features, f, indent=2)\n",
    "\n",
    "print(\"\\nTop Features:\")\n",
    "print(top_features)\n",
    "print(\"\\n✅ Gespeichert als: selected_physchem_features.json\")"
   ]
  },
  {
   "cell_type": "code",
   "execution_count": 3,
   "id": "8d8b5a35-89d8-4dc1-9a33-4e372668fe80",
   "metadata": {},
   "outputs": [
    {
     "data": {
      "text/html": [
       "Finishing last run (ID:2u7xsu6m) before initializing another..."
      ],
      "text/plain": [
       "<IPython.core.display.HTML object>"
      ]
     },
     "metadata": {},
     "output_type": "display_data"
    },
    {
     "data": {
      "application/vnd.jupyter.widget-view+json": {
       "model_id": "307808d937174b878d7a6e2ad00b0f05",
       "version_major": 2,
       "version_minor": 0
      },
      "text/plain": [
       "VBox(children=(Label(value='0.010 MB of 0.010 MB uploaded\\r'), FloatProgress(value=1.0, max=1.0)))"
      ]
     },
     "metadata": {},
     "output_type": "display_data"
    },
    {
     "data": {
      "text/html": [
       " View run <strong style=\"color:#cdcd00\">descriptor_feature_extraction</strong> at: <a href='https://wandb.ai/ba_cancerimmunotherapy/dataset-allele/runs/2u7xsu6m' target=\"_blank\">https://wandb.ai/ba_cancerimmunotherapy/dataset-allele/runs/2u7xsu6m</a><br/> View project at: <a href='https://wandb.ai/ba_cancerimmunotherapy/dataset-allele' target=\"_blank\">https://wandb.ai/ba_cancerimmunotherapy/dataset-allele</a><br/>Synced 5 W&B file(s), 0 media file(s), 2 artifact file(s) and 0 other file(s)"
      ],
      "text/plain": [
       "<IPython.core.display.HTML object>"
      ]
     },
     "metadata": {},
     "output_type": "display_data"
    },
    {
     "data": {
      "text/html": [
       "Find logs at: <code>./wandb/run-20250410_080325-2u7xsu6m/logs</code>"
      ],
      "text/plain": [
       "<IPython.core.display.HTML object>"
      ]
     },
     "metadata": {},
     "output_type": "display_data"
    },
    {
     "data": {
      "text/html": [
       "Successfully finished last run (ID:2u7xsu6m). Initializing new run:<br/>"
      ],
      "text/plain": [
       "<IPython.core.display.HTML object>"
      ]
     },
     "metadata": {},
     "output_type": "display_data"
    },
    {
     "data": {
      "text/html": [
       "Tracking run with wandb version 0.18.7"
      ],
      "text/plain": [
       "<IPython.core.display.HTML object>"
      ]
     },
     "metadata": {},
     "output_type": "display_data"
    },
    {
     "data": {
      "text/html": [
       "Run data is saved locally in <code>/home/ubuntu/arina/BA-Cancer-Immunotherapy/data_scripts/wandb/run-20250410_090235-xq0w3r9p</code>"
      ],
      "text/plain": [
       "<IPython.core.display.HTML object>"
      ]
     },
     "metadata": {},
     "output_type": "display_data"
    },
    {
     "data": {
      "text/html": [
       "Syncing run <strong><a href='https://wandb.ai/ba_cancerimmunotherapy/dataset-allele/runs/xq0w3r9p' target=\"_blank\">descriptor_feature_extraction</a></strong> to <a href='https://wandb.ai/ba_cancerimmunotherapy/dataset-allele' target=\"_blank\">Weights & Biases</a> (<a href='https://wandb.me/developer-guide' target=\"_blank\">docs</a>)<br/>"
      ],
      "text/plain": [
       "<IPython.core.display.HTML object>"
      ]
     },
     "metadata": {},
     "output_type": "display_data"
    },
    {
     "data": {
      "text/html": [
       " View project at <a href='https://wandb.ai/ba_cancerimmunotherapy/dataset-allele' target=\"_blank\">https://wandb.ai/ba_cancerimmunotherapy/dataset-allele</a>"
      ],
      "text/plain": [
       "<IPython.core.display.HTML object>"
      ]
     },
     "metadata": {},
     "output_type": "display_data"
    },
    {
     "data": {
      "text/html": [
       " View run at <a href='https://wandb.ai/ba_cancerimmunotherapy/dataset-allele/runs/xq0w3r9p' target=\"_blank\">https://wandb.ai/ba_cancerimmunotherapy/dataset-allele/runs/xq0w3r9p</a>"
      ],
      "text/plain": [
       "<IPython.core.display.HTML object>"
      ]
     },
     "metadata": {},
     "output_type": "display_data"
    },
    {
     "name": "stderr",
     "output_type": "stream",
     "text": [
      "\u001b[34m\u001b[1mwandb\u001b[0m: Downloading large artifact beta_allele:latest, 314.17MB. 18 files... \n",
      "\u001b[34m\u001b[1mwandb\u001b[0m:   18 of 18 files downloaded.  \n",
      "Done. 0:0:0.4\n"
     ]
    },
    {
     "name": "stdout",
     "output_type": "stream",
     "text": [
      "[INFO] Lade Datensätze...\n",
      "[INFO] Datensätze geladen: 1104348 Einträge\n",
      "[INFO] Gefiltert: 1104348 Einträge mit TRB_CDR3, Epitope und Binding\n",
      "[INFO] Berechne Deskriptor-Features für TCR...\n",
      "[INFO] Berechne Deskriptor-Features für Epitope...\n",
      "[INFO] Mapping gespeichert unter: ../../../data/physico/descriptor_encoded_physchem_mapping.tsv\n",
      "[INFO] Speichere vorbereiteten DataFrame nach: ../../../data/physico/descriptor_encoded_physchem.h5\n",
      "[INFO] Gespeichert als HDF5 unter: ../../../data/physico/descriptor_encoded_physchem.h5\n",
      "[INFO] ✅ Alles abgeschlossen und gespeichert!\n"
     ]
    },
    {
     "data": {
      "text/html": [
       " View run <strong style=\"color:#cdcd00\">descriptor_feature_extraction</strong> at: <a href='https://wandb.ai/ba_cancerimmunotherapy/dataset-allele/runs/xq0w3r9p' target=\"_blank\">https://wandb.ai/ba_cancerimmunotherapy/dataset-allele/runs/xq0w3r9p</a><br/> View project at: <a href='https://wandb.ai/ba_cancerimmunotherapy/dataset-allele' target=\"_blank\">https://wandb.ai/ba_cancerimmunotherapy/dataset-allele</a><br/>Synced 5 W&B file(s), 0 media file(s), 0 artifact file(s) and 0 other file(s)"
      ],
      "text/plain": [
       "<IPython.core.display.HTML object>"
      ]
     },
     "metadata": {},
     "output_type": "display_data"
    },
    {
     "data": {
      "text/html": [
       "Find logs at: <code>./wandb/run-20250410_090235-xq0w3r9p/logs</code>"
      ],
      "text/plain": [
       "<IPython.core.display.HTML object>"
      ]
     },
     "metadata": {},
     "output_type": "display_data"
    }
   ],
   "source": [
    "import os\n",
    "import pandas as pd\n",
    "import numpy as np\n",
    "import json\n",
    "import h5py\n",
    "import wandb\n",
    "import importlib\n",
    "import ple_embedding as pe\n",
    "#importlib.reload(pe)\n",
    "\n",
    "# --- Logging ---\n",
    "def log(msg):\n",
    "    print(f\"[INFO] {msg}\")\n",
    "\n",
    "# --- W&B initialisieren ---\n",
    "dataset_name = \"beta_allele\"\n",
    "wandb.init(\n",
    "    project=\"dataset-allele\",\n",
    "    entity=\"ba_cancerimmunotherapy\",\n",
    "    job_type=\"physchem_encoding\",\n",
    "    name=\"descriptor_feature_extraction\"\n",
    ")\n",
    "\n",
    "# --- Artifact herunterladen ---\n",
    "artifact = wandb.use_artifact(\"ba_cancerimmunotherapy/dataset-allele/beta_allele:latest\")\n",
    "data_dir = artifact.download(f\"./WnB_Experiments_Datasets/{dataset_name}\")\n",
    "\n",
    "# --- Dateipfade definieren ---\n",
    "path_beta_test = f\"{data_dir}/allele/test.tsv\"\n",
    "path_beta_validation = f\"{data_dir}/allele/validation.tsv\"\n",
    "path_beta_train = f\"{data_dir}/allele/train.tsv\"\n",
    "\n",
    "# --- Daten laden ---\n",
    "log(\"Lade Datensätze...\")\n",
    "df_beta_test = pd.read_csv(path_beta_test, sep=\"\\t\", index_col=False)\n",
    "df_beta_validation = pd.read_csv(path_beta_validation, sep=\"\\t\", index_col=False)\n",
    "df_beta_train = pd.read_csv(path_beta_train, sep=\"\\t\", index_col=False)\n",
    "df_beta = pd.concat([df_beta_test, df_beta_validation, df_beta_train])\n",
    "log(f\"Datensätze geladen: {len(df_beta)} Einträge\")\n",
    "\n",
    "# --- Relevante Spalten extrahieren ---\n",
    "df_physchem = df_beta[[\"TRB_CDR3\", \"Epitope\", \"Binding\"]].dropna()\n",
    "log(f\"Gefiltert: {len(df_physchem)} Einträge mit TRB_CDR3, Epitope und Binding\")\n",
    "\n",
    "# --- Features laden & trennen ---\n",
    "with open(\"selected_physchem_features.json\") as f:\n",
    "    all_features = json.load(f)\n",
    "\n",
    "tcr_features = [f.replace(\"tcr_\", \"\") for f in all_features if f.startswith(\"tcr_\")]\n",
    "epi_features = [f.replace(\"epi_\", \"\") for f in all_features if f.startswith(\"epi_\")]\n",
    "\n",
    "# --- Feature-Encoding ---\n",
    "log(\"Berechne Deskriptor-Features für TCR...\")\n",
    "df_physchem[\"tcr_encoded\"] = df_physchem[\"TRB_CDR3\"].apply(lambda s: pe.encode_descriptor_sequence(s, tcr_features))\n",
    "\n",
    "log(\"Berechne Deskriptor-Features für Epitope...\")\n",
    "df_physchem[\"epi_encoded\"] = df_physchem[\"Epitope\"].apply(lambda s: pe.encode_descriptor_sequence(s, epi_features))\n",
    "\n",
    "# --- Padding (optional, falls Sequenzen als Vektor statt Sequenzmatrix) ---\n",
    "tcr_arr = np.stack(df_physchem[\"tcr_encoded\"].to_numpy())\n",
    "epi_arr = np.stack(df_physchem[\"epi_encoded\"].to_numpy())\n",
    "binding_arr = df_physchem[\"Binding\"].to_numpy()\n",
    "\n",
    "# --- physchem_index hinzufügen\n",
    "df_physchem[\"physchem_index\"] = np.arange(len(df_physchem))\n",
    "\n",
    "# --- Mapping-Datei speichern\n",
    "mapping_path = \"../../../data/physico/descriptor_encoded_physchem_mapping.tsv\"\n",
    "df_physchem[[\"TRB_CDR3\", \"Epitope\", \"physchem_index\"]].to_csv(mapping_path, sep=\"\\t\", index=False)\n",
    "log(f\"Mapping gespeichert unter: {mapping_path}\")\n",
    "\n",
    "\n",
    "# --- HDF5 speichern ---\n",
    "output_path = \"../../../data/physico/descriptor_encoded_physchem.h5\"\n",
    "log(f\"Speichere vorbereiteten DataFrame nach: {output_path}\")\n",
    "with h5py.File(output_path, \"w\") as h5f:\n",
    "    h5f.create_dataset(\"tcr_encoded\", data=tcr_arr)\n",
    "    h5f.create_dataset(\"epi_encoded\", data=epi_arr)\n",
    "    h5f.create_dataset(\"binding\", data=binding_arr)\n",
    "print(f\"[INFO] Gespeichert als HDF5 unter: {output_path}\")\n",
    "\n",
    "# --- Abschließen ---\n",
    "log(\"✅ Alles abgeschlossen und gespeichert!\")\n",
    "wandb.finish()"
   ]
  },
  {
   "cell_type": "code",
   "execution_count": 1,
   "id": "e240c316-8634-4d2a-9ffb-904f82facb46",
   "metadata": {},
   "outputs": [
    {
     "name": "stdout",
     "output_type": "stream",
     "text": [
      "✅ Geladene Features:\n",
      " 1. epi_SVGER2\n",
      " 2. epi_VHSE5\n",
      " 3. epi_ProtFP3\n",
      " 4. epi_T4\n",
      " 5. epi_BLOSUM9\n",
      " 6. epi_Z4\n",
      " 7. epi_MSWHIM3\n",
      " 8. epi_BLOSUM10\n",
      " 9. epi_PRIN1\n",
      "10. epi_ST7\n",
      "11. epi_KF1\n",
      "12. epi_ProtFP1\n",
      "13. epi_F2\n",
      "14. epi_Z3\n",
      "15. epi_PP3\n",
      "16. epi_VSTPV3\n",
      "17. epi_Z1\n",
      "18. epi_E4\n",
      "19. tcr_BLOSUM9\n",
      "20. epi_MSWHIM2\n"
     ]
    }
   ],
   "source": [
    "import json\n",
    "\n",
    "with open(\"selected_physchem_features.json\", \"r\") as f:\n",
    "    features = json.load(f)\n",
    "\n",
    "print(\"✅ Geladene Features:\")\n",
    "for i, feat in enumerate(features, 1):\n",
    "    print(f\"{i:2d}. {feat}\")\n"
   ]
  },
  {
   "cell_type": "code",
   "execution_count": 1,
   "id": "b06c9c1a-a1cf-4101-997e-f258ef2fe1de",
   "metadata": {},
   "outputs": [
    {
     "name": "stderr",
     "output_type": "stream",
     "text": [
      "2025-04-06 14:25:38.109370: I external/local_xla/xla/tsl/cuda/cudart_stub.cc:32] Could not find cuda drivers on your machine, GPU will not be used.\n",
      "2025-04-06 14:25:38.561597: I external/local_xla/xla/tsl/cuda/cudart_stub.cc:32] Could not find cuda drivers on your machine, GPU will not be used.\n",
      "2025-04-06 14:25:38.931641: E external/local_xla/xla/stream_executor/cuda/cuda_fft.cc:467] Unable to register cuFFT factory: Attempting to register factory for plugin cuFFT when one has already been registered\n",
      "WARNING: All log messages before absl::InitializeLog() is called are written to STDERR\n",
      "E0000 00:00:1743949539.244425    1785 cuda_dnn.cc:8579] Unable to register cuDNN factory: Attempting to register factory for plugin cuDNN when one has already been registered\n",
      "E0000 00:00:1743949539.329769    1785 cuda_blas.cc:1407] Unable to register cuBLAS factory: Attempting to register factory for plugin cuBLAS when one has already been registered\n",
      "W0000 00:00:1743949540.128722    1785 computation_placer.cc:177] computation placer already registered. Please check linkage and avoid linking the same target more than once.\n",
      "W0000 00:00:1743949540.128755    1785 computation_placer.cc:177] computation placer already registered. Please check linkage and avoid linking the same target more than once.\n",
      "W0000 00:00:1743949540.128757    1785 computation_placer.cc:177] computation placer already registered. Please check linkage and avoid linking the same target more than once.\n",
      "W0000 00:00:1743949540.128759    1785 computation_placer.cc:177] computation placer already registered. Please check linkage and avoid linking the same target more than once.\n",
      "2025-04-06 14:25:40.208027: I tensorflow/core/platform/cpu_feature_guard.cc:210] This TensorFlow binary is optimized to use available CPU instructions in performance-critical operations.\n",
      "To enable the following instructions: AVX2 FMA, in other operations, rebuild TensorFlow with the appropriate compiler flags.\n",
      "\u001b[34m\u001b[1mwandb\u001b[0m: Using wandb-core as the SDK backend.  Please refer to https://wandb.me/wandb-core for more information.\n",
      "\u001b[34m\u001b[1mwandb\u001b[0m: Currently logged in as: \u001b[33marina-frohofer\u001b[0m (\u001b[33mba_cancerimmunotherapy\u001b[0m). Use \u001b[1m`wandb login --relogin`\u001b[0m to force relogin\n"
     ]
    },
    {
     "data": {
      "text/html": [
       "Tracking run with wandb version 0.18.7"
      ],
      "text/plain": [
       "<IPython.core.display.HTML object>"
      ]
     },
     "metadata": {},
     "output_type": "display_data"
    },
    {
     "data": {
      "text/html": [
       "Run data is saved locally in <code>/home/ubuntu/arina/BA-Cancer-Immunotherapy/data_scripts/wandb/run-20250406_142545-iafxtez4</code>"
      ],
      "text/plain": [
       "<IPython.core.display.HTML object>"
      ]
     },
     "metadata": {},
     "output_type": "display_data"
    },
    {
     "data": {
      "text/html": [
       "Syncing run <strong><a href='https://wandb.ai/ba_cancerimmunotherapy/dataset-allele/runs/iafxtez4' target=\"_blank\">physchem_rf_binding_prediction</a></strong> to <a href='https://wandb.ai/ba_cancerimmunotherapy/dataset-allele' target=\"_blank\">Weights & Biases</a> (<a href='https://wandb.me/developer-guide' target=\"_blank\">docs</a>)<br/>"
      ],
      "text/plain": [
       "<IPython.core.display.HTML object>"
      ]
     },
     "metadata": {},
     "output_type": "display_data"
    },
    {
     "data": {
      "text/html": [
       " View project at <a href='https://wandb.ai/ba_cancerimmunotherapy/dataset-allele' target=\"_blank\">https://wandb.ai/ba_cancerimmunotherapy/dataset-allele</a>"
      ],
      "text/plain": [
       "<IPython.core.display.HTML object>"
      ]
     },
     "metadata": {},
     "output_type": "display_data"
    },
    {
     "data": {
      "text/html": [
       " View run at <a href='https://wandb.ai/ba_cancerimmunotherapy/dataset-allele/runs/iafxtez4' target=\"_blank\">https://wandb.ai/ba_cancerimmunotherapy/dataset-allele/runs/iafxtez4</a>"
      ],
      "text/plain": [
       "<IPython.core.display.HTML object>"
      ]
     },
     "metadata": {},
     "output_type": "display_data"
    },
    {
     "name": "stderr",
     "output_type": "stream",
     "text": [
      "\u001b[34m\u001b[1mwandb\u001b[0m: Downloading large artifact beta_allele:latest, 314.17MB. 18 files... \n",
      "\u001b[34m\u001b[1mwandb\u001b[0m:   18 of 18 files downloaded.  \n",
      "Done. 0:0:1.2\n"
     ]
    },
    {
     "name": "stdout",
     "output_type": "stream",
     "text": [
      "[INFO] Berechne physikochemische Deskriptoren...\n",
      "[INFO] Trainiere Random Forest...\n",
      "\n",
      "=== Classification Report ===\n",
      "              precision    recall  f1-score   support\n",
      "\n",
      "           0       0.95      0.91      0.93    184058\n",
      "           1       0.61      0.74      0.67     36812\n",
      "\n",
      "    accuracy                           0.88    220870\n",
      "   macro avg       0.78      0.83      0.80    220870\n",
      "weighted avg       0.89      0.88      0.88    220870\n",
      "\n",
      "ROC AUC: 0.9051\n"
     ]
    },
    {
     "data": {
      "image/png": "[encoded data removed]",
      "text/plain": [
       "<Figure size 800x600 with 1 Axes>"
      ]
     },
     "metadata": {},
     "output_type": "display_data"
    },
    {
     "data": {
      "application/vnd.jupyter.widget-view+json": {
       "model_id": "4690b8da23cf4ca283bc9c29db311a74",
       "version_major": 2,
       "version_minor": 0
      },
      "text/plain": [
       "VBox(children=(Label(value='0.011 MB of 0.011 MB uploaded\\r'), FloatProgress(value=1.0, max=1.0)))"
      ]
     },
     "metadata": {},
     "output_type": "display_data"
    },
    {
     "data": {
      "text/html": [
       " View run <strong style=\"color:#cdcd00\">physchem_rf_binding_prediction</strong> at: <a href='https://wandb.ai/ba_cancerimmunotherapy/dataset-allele/runs/iafxtez4' target=\"_blank\">https://wandb.ai/ba_cancerimmunotherapy/dataset-allele/runs/iafxtez4</a><br/> View project at: <a href='https://wandb.ai/ba_cancerimmunotherapy/dataset-allele' target=\"_blank\">https://wandb.ai/ba_cancerimmunotherapy/dataset-allele</a><br/>Synced 4 W&B file(s), 0 media file(s), 3 artifact file(s) and 0 other file(s)"
      ],
      "text/plain": [
       "<IPython.core.display.HTML object>"
      ]
     },
     "metadata": {},
     "output_type": "display_data"
    },
    {
     "data": {
      "text/html": [
       "Find logs at: <code>./wandb/run-20250406_142545-iafxtez4/logs</code>"
      ],
      "text/plain": [
       "<IPython.core.display.HTML object>"
      ]
     },
     "metadata": {},
     "output_type": "display_data"
    }
   ],
   "source": [
    "import os\n",
    "import json\n",
    "import numpy as np\n",
    "import pandas as pd\n",
    "import matplotlib.pyplot as plt\n",
    "\n",
    "from sklearn.ensemble import RandomForestClassifier\n",
    "from sklearn.model_selection import train_test_split\n",
    "from sklearn.preprocessing import StandardScaler\n",
    "from sklearn.metrics import classification_report, roc_auc_score\n",
    "\n",
    "import wandb\n",
    "from ple_embedding import encode_descriptor_sequence  # Importiere deine Encoding-Funktion hier\n",
    "\n",
    "# === W&B initialisieren ===\n",
    "wandb.init(\n",
    "    project=\"dataset-allele\",\n",
    "    entity=\"ba_cancerimmunotherapy\",\n",
    "    job_type=\"physchem_rf_test\",\n",
    "    name=\"physchem_rf_binding_prediction\"\n",
    ")\n",
    "\n",
    "# === Lade Top-N Features ===\n",
    "with open(\"selected_physchem_features.json\", \"r\") as f:\n",
    "    features = json.load(f)\n",
    "\n",
    "tcr_features = [f.replace(\"tcr_\", \"\") for f in features if f.startswith(\"tcr_\")]\n",
    "epi_features = [f.replace(\"epi_\", \"\") for f in features if f.startswith(\"epi_\")]\n",
    "\n",
    "# === Lade Datensätze aus Artifact ===\n",
    "dataset_name = \"beta_allele\"\n",
    "artifact = wandb.use_artifact(\"ba_cancerimmunotherapy/dataset-allele/beta_allele:latest\")\n",
    "data_dir = artifact.download(f\"./WnB_Experiments_Datasets/{dataset_name}\")\n",
    "\n",
    "# === CSV-Pfade ===\n",
    "path_beta_test = f\"{data_dir}/allele/test.tsv\"\n",
    "path_beta_validation = f\"{data_dir}/allele/validation.tsv\"\n",
    "path_beta_train = f\"{data_dir}/allele/train.tsv\"\n",
    "\n",
    "# === Lade und kombiniere Daten ===\n",
    "df_test = pd.read_csv(path_beta_test, sep=\"\\t\", index_col=False)\n",
    "df_val = pd.read_csv(path_beta_validation, sep=\"\\t\", index_col=False)\n",
    "df_train = pd.read_csv(path_beta_train, sep=\"\\t\", index_col=False)\n",
    "df_beta = pd.concat([df_test, df_val, df_train])\n",
    "\n",
    "df_physchem = df_beta[[\"TRB_CDR3\", \"Epitope\", \"Binding\"]].dropna()\n",
    "\n",
    "# === Berechne physikochemische Features ===\n",
    "print(\"[INFO] Berechne physikochemische Deskriptoren...\")\n",
    "df_physchem[\"tcr_encoded\"] = df_physchem[\"TRB_CDR3\"].apply(lambda s: encode_descriptor_sequence(s, tcr_features))\n",
    "df_physchem[\"epi_encoded\"] = df_physchem[\"Epitope\"].apply(lambda s: encode_descriptor_sequence(s, epi_features))\n",
    "\n",
    "# === Kombiniere zu X und y ===\n",
    "X = np.hstack([\n",
    "    df_physchem[\"tcr_encoded\"].to_list(),\n",
    "    df_physchem[\"epi_encoded\"].to_list()\n",
    "])\n",
    "y = df_physchem[\"Binding\"].values\n",
    "\n",
    "# === Train/Test Split ===\n",
    "X_train, X_test, y_train, y_test = train_test_split(\n",
    "    X, y, test_size=0.2, random_state=42, stratify=y\n",
    ")\n",
    "\n",
    "# === Skalieren ===\n",
    "scaler = StandardScaler()\n",
    "X_train_scaled = scaler.fit_transform(X_train)\n",
    "X_test_scaled = scaler.transform(X_test)\n",
    "\n",
    "# === Trainiere Random Forest ===\n",
    "print(\"[INFO] Trainiere Random Forest...\")\n",
    "rf = RandomForestClassifier(n_estimators=200, random_state=42, class_weight='balanced')\n",
    "rf.fit(X_train_scaled, y_train)\n",
    "\n",
    "# === Vorhersage & Bewertung ===\n",
    "y_pred = rf.predict(X_test_scaled)\n",
    "y_prob = rf.predict_proba(X_test_scaled)[:, 1]\n",
    "\n",
    "print(\"\\n=== Classification Report ===\")\n",
    "print(classification_report(y_test, y_pred))\n",
    "\n",
    "print(f\"ROC AUC: {roc_auc_score(y_test, y_prob):.4f}\")\n",
    "\n",
    "# === Feature-Importanz plotten ===\n",
    "importances = rf.feature_importances_\n",
    "feature_names = [f\"tcr_{f}\" for f in tcr_features] + [f\"epi_{f}\" for f in epi_features]\n",
    "top_features = pd.Series(importances, index=feature_names).sort_values(ascending=False).head(15)\n",
    "\n",
    "plt.figure(figsize=(8, 6))\n",
    "top_features.plot(kind='barh')\n",
    "plt.gca().invert_yaxis()\n",
    "plt.title(\"Top 15 Feature Importances (Random Forest)\")\n",
    "plt.tight_layout()\n",
    "plt.show()\n",
    "\n",
    "wandb.finish()"
   ]
  }
 ],
 "metadata": {
  "kernelspec": {
   "display_name": "Python 3 (ipykernel)",
   "language": "python",
   "name": "python3"
  },
  "language_info": {
   "codemirror_mode": {
    "name": "ipython",
    "version": 3
   },
   "file_extension": ".py",
   "mimetype": "text/x-python",
   "name": "python",
   "nbconvert_exporter": "python",
   "pygments_lexer": "ipython3",
   "version": "3.12.2"
  }
 },
 "nbformat": 4,
 "nbformat_minor": 5
}
