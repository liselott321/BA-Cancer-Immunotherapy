{
 "cells": [
  {
   "cell_type": "code",
   "execution_count": 2,
   "id": "a0d8838a-8ea6-4e2f-862a-e9fcede10484",
   "metadata": {},
   "outputs": [],
   "source": [
    "import pandas as pd\n",
    "import os"
   ]
  },
  {
   "cell_type": "markdown",
   "id": "0e87a8bf-d930-4723-ba6a-6790d05a49ae",
   "metadata": {},
   "source": [
    "## Unique TCR und Epitope"
   ]
  },
  {
   "cell_type": "code",
   "execution_count": 21,
   "id": "d681b4a6-c8f1-46fb-94d5-b2f07902a6b6",
   "metadata": {},
   "outputs": [
    {
     "name": "stderr",
     "output_type": "stream",
     "text": [
      "/tmp/ipykernel_1988/3073727823.py:14: DtypeWarning: Columns (1,7) have mixed types. Specify dtype option on import or set low_memory=False.\n",
      "  train_df = pd.read_csv(train_file, sep='\\t')\n",
      "/tmp/ipykernel_1988/3073727823.py:15: DtypeWarning: Columns (1,7,11) have mixed types. Specify dtype option on import or set low_memory=False.\n",
      "  val_df = pd.read_csv(validation_file, sep='\\t')\n"
     ]
    },
    {
     "name": "stdout",
     "output_type": "stream",
     "text": [
      "\n",
      "== TRAIN ==\n",
      "Unique TCRs: 199504\n",
      "Unique epitopes: 993\n",
      "\n",
      "Unique TCRs by task:\n",
      "Series([], Name: TRB_CDR3, dtype: int64)\n",
      "\n",
      "Unique epitopes by task:\n",
      "Series([], Name: Epitope, dtype: int64)\n",
      "\n",
      "Unique TCRs by source:\n",
      "source\n",
      "10X           77954\n",
      "dataset      125750\n",
      "generated    125917\n",
      "Name: TRB_CDR3, dtype: int64\n",
      "\n",
      "Unique epitopes by source:\n",
      "source\n",
      "10X           49\n",
      "dataset      979\n",
      "generated    885\n",
      "Name: Epitope, dtype: int64\n",
      "\n",
      "== VALIDATION ==\n",
      "Unique TCRs: 68580\n",
      "Unique epitopes: 1455\n",
      "\n",
      "Unique TCRs by task:\n",
      "task\n",
      "TPP1    62706\n",
      "TPP2     3493\n",
      "TPP3     2369\n",
      "TPP4       57\n",
      "Name: TRB_CDR3, dtype: int64\n",
      "\n",
      "Unique epitopes by task:\n",
      "task\n",
      "TPP1    681\n",
      "TPP2    334\n",
      "TPP3    760\n",
      "TPP4    169\n",
      "Name: Epitope, dtype: int64\n",
      "\n",
      "Unique TCRs by source:\n",
      "source\n",
      "10X          50389\n",
      "dataset      25826\n",
      "generated    27370\n",
      "Name: TRB_CDR3, dtype: int64\n",
      "\n",
      "Unique epitopes by source:\n",
      "source\n",
      "10X            49\n",
      "dataset      1443\n",
      "generated    1241\n",
      "Name: Epitope, dtype: int64\n",
      "\n",
      "== TEST ==\n",
      "Unique TCRs: 22189\n",
      "Unique epitopes: 304\n",
      "\n",
      "Unique TCRs by task:\n",
      "task\n",
      "TPP1    16155\n",
      "TPP2     4996\n",
      "TPP3      950\n",
      "TPP4      122\n",
      "Name: TRB_CDR3, dtype: int64\n",
      "\n",
      "Unique epitopes by task:\n",
      "task\n",
      "TPP1    105\n",
      "TPP2    150\n",
      "TPP3    114\n",
      "TPP4     77\n",
      "Name: Epitope, dtype: int64\n",
      "\n",
      "Unique TCRs by source:\n",
      "source\n",
      "10X          14201\n",
      "dataset       8359\n",
      "generated     5972\n",
      "Name: TRB_CDR3, dtype: int64\n",
      "\n",
      "Unique epitopes by source:\n",
      "source\n",
      "10X           49\n",
      "dataset      293\n",
      "generated    278\n",
      "Name: Epitope, dtype: int64\n"
     ]
    }
   ],
   "source": [
    "pipeline_data = '../../../../data'\n",
    "pipeline_data_plain = f'{pipeline_data}/plain_datasets'\n",
    "pipeline_data_cleaned = f'{pipeline_data}/cleaned_datasets'\n",
    "pipeline_data_concatenated = f'{pipeline_data}/concatenated_datasets'\n",
    "pipeline_data_splitted = f'{pipeline_data}/splitted_datasets'\n",
    "pipeline_data_temp_bucket = f'{pipeline_data}/temp'\n",
    "precision = \"allele\"\n",
    "\n",
    "train_file = f'{pipeline_data_splitted}/{precision}/beta/train.tsv'\n",
    "validation_file = f'{pipeline_data_splitted}/{precision}/beta/validation.tsv'\n",
    "test_file = f'{pipeline_data_splitted}/{precision}/beta/test.tsv'\n",
    "\n",
    "# Dateien einlesen\n",
    "train_df = pd.read_csv(train_file, sep='\\t')\n",
    "val_df = pd.read_csv(validation_file, sep='\\t')\n",
    "test_df = pd.read_csv(test_file, sep='\\t')\n",
    "\n",
    "# Funktion zur Analyse\n",
    "def analyze(df, name):\n",
    "    print(f'\\n== {name.upper()} ==')\n",
    "    print(f'Unique TCRs: {df[\"TRB_CDR3\"].nunique()}')\n",
    "    print(f'Unique epitopes: {df[\"Epitope\"].nunique()}')\n",
    "\n",
    "    if 'task' in df.columns:\n",
    "        print('\\nUnique TCRs by task:')\n",
    "        print(df.groupby('task')['TRB_CDR3'].nunique())\n",
    "\n",
    "        print('\\nUnique epitopes by task:')\n",
    "        print(df.groupby('task')['Epitope'].nunique())\n",
    "\n",
    "    if 'source' in df.columns:\n",
    "        print('\\nUnique TCRs by source:')\n",
    "        print(df.groupby('source')['TRB_CDR3'].nunique())\n",
    "\n",
    "        print('\\nUnique epitopes by source:')\n",
    "        print(df.groupby('source')['Epitope'].nunique())\n",
    "\n",
    "# Analyse für jede Datei\n",
    "analyze(train_df, \"train\")\n",
    "analyze(val_df, \"validation\")\n",
    "analyze(test_df, \"test\")"
   ]
  },
  {
   "cell_type": "code",
   "execution_count": 22,
   "id": "35e5442a-92b6-41a3-ac33-f4103843e5de",
   "metadata": {},
   "outputs": [
    {
     "data": {
      "image/png": "[encoded data removed]",
      "text/plain": [
       "<Figure size 640x480 with 1 Axes>"
      ]
     },
     "metadata": {},
     "output_type": "display_data"
    }
   ],
   "source": [
    "import pandas as pd\n",
    "import matplotlib.pyplot as plt\n",
    "\n",
    "# Dataset Stats\n",
    "datasets = {\n",
    "    'Train': train_df,\n",
    "    'Validation': val_df,\n",
    "    'Test': test_df\n",
    "}\n",
    "\n",
    "ratios_tcr = []\n",
    "ratios_epi = []\n",
    "total_counts = []\n",
    "\n",
    "for name, df in datasets.items():\n",
    "    total = len(df)\n",
    "    tcr_ratio = df[\"TRB_CDR3\"].nunique() / total\n",
    "    epi_ratio = df[\"Epitope\"].nunique() / total\n",
    "    total_counts.append(total)\n",
    "    ratios_tcr.append(tcr_ratio)\n",
    "    ratios_epi.append(epi_ratio)\n",
    "\n",
    "# Plot\n",
    "labels = list(datasets.keys())\n",
    "x = range(len(labels))\n",
    "width = 0.35\n",
    "\n",
    "plt.bar(x, ratios_tcr, width=width, label='TCRs / total')\n",
    "plt.bar([i + width for i in x], ratios_epi, width=width, label='Epitopes / total')\n",
    "\n",
    "plt.xticks([i + width/2 for i in x], labels)\n",
    "plt.ylabel('Relative ratio')\n",
    "plt.title('Relative TCR and Epitope Diversity per Dataset')\n",
    "plt.ylim(0, 1)\n",
    "plt.legend()\n",
    "plt.tight_layout()\n",
    "plt.show()"
   ]
  },
  {
   "cell_type": "code",
   "execution_count": 33,
   "id": "bb2cb2bc-ae4e-430d-b629-62746a403f5e",
   "metadata": {},
   "outputs": [
    {
     "name": "stdout",
     "output_type": "stream",
     "text": [
      "🔍 total 10X Train: 316157 davon uique: 77954\n",
      "🔍 total dataset Train: 126286 davon uique: 125750\n",
      "🔍 total generated Train: 313315 davon uique: 125917\n",
      "🔍 total 10X Validation: 79435 davon uique: 50389\n",
      "🔍 total dataset Validation: 28150 davon uique: 25826\n",
      "🔍 total generated Validation: 61444 davon uique: 27370\n",
      "🔍 total 10X Test: 15707 davon uique: 14201\n",
      "🔍 total dataset Test: 8731 davon uique: 8359\n",
      "🔍 total generated Test: 29688 davon uique: 5972\n"
     ]
    },
    {
     "data": {
      "image/png": "[encoded data removed]",
      "text/plain": [
       "<Figure size 1000x600 with 1 Axes>"
      ]
     },
     "metadata": {},
     "output_type": "display_data"
    }
   ],
   "source": [
    "import pandas as pd\n",
    "import matplotlib.pyplot as plt\n",
    "\n",
    "datasets = {\n",
    "    'Train': train_df,\n",
    "    'Validation': val_df,\n",
    "    'Test': test_df\n",
    "}\n",
    "\n",
    "results = []\n",
    "\n",
    "for name, df in datasets.items():\n",
    "    for source in df['source'].dropna().unique():\n",
    "        subset = df[df['source'] == source]\n",
    "        total = len(subset)\n",
    "        unique_total = len(subset[\"TRB_CDR3\"].value_counts())\n",
    "        print(f\"🔍 total {source} {name}: {total} davon uique: {unique_total}\")\n",
    "        if total == 0:\n",
    "            continue\n",
    "        tcr_ratio = subset[\"TRB_CDR3\"].nunique() / total\n",
    "        epi_ratio = subset[\"Epitope\"].nunique() / total\n",
    "        results.append({\n",
    "            'Dataset': name,\n",
    "            'Source': source,\n",
    "            'TCRs / total': tcr_ratio,\n",
    "            'Epitopes / total': epi_ratio\n",
    "        })\n",
    "\n",
    "# In DataFrame umwandeln\n",
    "ratio_df = pd.DataFrame(results)\n",
    "\n",
    "# Plotten\n",
    "fig, ax = plt.subplots(figsize=(10, 6))\n",
    "x = range(len(ratio_df))\n",
    "bar_width = 0.4\n",
    "\n",
    "ax.bar([i - bar_width/2 for i in x], ratio_df['TCRs / total'], width=bar_width, label='TCRs / total')\n",
    "ax.bar([i + bar_width/2 for i in x], ratio_df['Epitopes / total'], width=bar_width, label='Epitopes / total')\n",
    "\n",
    "ax.set_xticks(x)\n",
    "ax.set_xticklabels([f\"{r['Dataset']}\\n{r['Source']}\" for _, r in ratio_df.iterrows()], rotation=45)\n",
    "ax.set_ylabel(\"Relative ratio\")\n",
    "ax.set_ylim(0, 1)\n",
    "ax.set_title(\"Relative TCR and Epitope Diversity per Source and Dataset\")\n",
    "ax.legend()\n",
    "plt.tight_layout()\n",
    "plt.show()"
   ]
  },
  {
   "cell_type": "code",
   "execution_count": null,
   "id": "ec208e20-6ec4-45e4-a1bf-0304f22b4798",
   "metadata": {},
   "outputs": [],
   "source": []
  },
  {
   "cell_type": "code",
   "execution_count": null,
   "id": "802a13cd-849e-4247-af6c-e727030231fa",
   "metadata": {},
   "outputs": [],
   "source": []
  },
  {
   "cell_type": "code",
   "execution_count": null,
   "id": "f81d600f-9bf1-4bf8-9ec1-d4b812a1a5a9",
   "metadata": {},
   "outputs": [],
   "source": []
  },
  {
   "cell_type": "code",
   "execution_count": null,
   "id": "9fee754f-9ac6-437f-a696-631a74451c76",
   "metadata": {},
   "outputs": [],
   "source": []
  },
  {
   "cell_type": "code",
   "execution_count": null,
   "id": "afcd5aeb-a5b6-4887-a7ef-5c00085424e6",
   "metadata": {},
   "outputs": [],
   "source": []
  },
  {
   "cell_type": "markdown",
   "id": "db981695-2401-4c09-9e60-635eef627c08",
   "metadata": {},
   "source": [
    "## Unterschiedliche Epitope und TCR genauer analysiert"
   ]
  },
  {
   "cell_type": "code",
   "execution_count": 7,
   "id": "67eec61f-ff1e-44bd-ae93-019d9fa0ea0c",
   "metadata": {},
   "outputs": [
    {
     "data": {
      "text/plain": [
       "count      993.000000\n",
       "mean       761.085599\n",
       "std       3030.043023\n",
       "min          1.000000\n",
       "25%          3.000000\n",
       "50%          7.000000\n",
       "75%        119.000000\n",
       "max      47208.000000\n",
       "Name: TRB_CDR3, dtype: float64"
      ]
     },
     "execution_count": 7,
     "metadata": {},
     "output_type": "execute_result"
    }
   ],
   "source": [
    "# Wie viele verschiedene TCRs pro Epitope im Training?\n",
    "tcrs_per_epitope = train_df.groupby(\"Epitope\")[\"TRB_CDR3\"].nunique()\n",
    "tcrs_per_epitope.describe()"
   ]
  },
  {
   "cell_type": "code",
   "execution_count": 11,
   "id": "7d594a46-76a4-4f87-929a-c173d4ce3cf3",
   "metadata": {},
   "outputs": [
    {
     "name": "stdout",
     "output_type": "stream",
     "text": [
      "                           non_binders  binders  total  binder_ratio\n",
      "Epitope                                                             \n",
      "MIELSLIDFYLCFLAFLLFLVLIML        36176    11032  47208      0.233689\n",
      "YVLDHLIVV                        22739     8340  31079      0.268348\n",
      "GLCTLVAML                        36743     7033  43776      0.160659\n",
      "HTTDPSFLGRY                       7884     5521  13405      0.411861\n",
      "GILGFVFTL                        18848     4926  23774      0.207201\n",
      "NLVPMVATV                        13941     4702  18643      0.252213\n",
      "FLWLLWPVTLACFVLAAV               13327     3594  16921      0.212399\n",
      "SEHDYQIGGYTEKW                    6927     3322  10249      0.324129\n",
      "MGYINVFAFPFTIYSL                 10039     2678  12717      0.210584\n",
      "FVDGVPFVV                         2915     2536   5451      0.465236\n"
     ]
    }
   ],
   "source": [
    "bind_counts = train_df.groupby([\"Epitope\", \"Binding\"])[\"TRB_CDR3\"].nunique().unstack(fill_value=0)\n",
    "bind_counts.columns = [\"non_binders\", \"binders\"]\n",
    "bind_counts[\"total\"] = bind_counts.sum(axis=1)\n",
    "bind_counts[\"binder_ratio\"] = bind_counts[\"binders\"] / bind_counts[\"total\"]\n",
    "\n",
    "# Beispielausgabe für Top-Binder\n",
    "print(bind_counts.sort_values(\"binders\", ascending=False).head(10))"
   ]
  },
  {
   "cell_type": "code",
   "execution_count": 8,
   "id": "32dc06a7-7b61-4f6a-a8a7-66a08fe29d16",
   "metadata": {},
   "outputs": [
    {
     "data": {
      "text/plain": [
       "count     1455.000000\n",
       "mean       115.468729\n",
       "std        615.483071\n",
       "min          1.000000\n",
       "25%          3.000000\n",
       "50%          8.000000\n",
       "75%         22.000000\n",
       "max      14683.000000\n",
       "Name: TRB_CDR3, dtype: float64"
      ]
     },
     "execution_count": 8,
     "metadata": {},
     "output_type": "execute_result"
    }
   ],
   "source": [
    "# Wie viele verschiedene TCRs pro Epitope im Validation?\n",
    "tcrs_per_epitope = val_df.groupby(\"Epitope\")[\"TRB_CDR3\"].nunique()\n",
    "tcrs_per_epitope.describe()"
   ]
  },
  {
   "cell_type": "code",
   "execution_count": 9,
   "id": "d7e7849b-8795-44a1-b687-58a96e48e0bf",
   "metadata": {},
   "outputs": [
    {
     "data": {
      "text/plain": [
       "count     304.000000\n",
       "mean      177.940789\n",
       "std       465.444955\n",
       "min         1.000000\n",
       "25%         6.750000\n",
       "50%        18.000000\n",
       "75%       200.000000\n",
       "max      4508.000000\n",
       "Name: TRB_CDR3, dtype: float64"
      ]
     },
     "execution_count": 9,
     "metadata": {},
     "output_type": "execute_result"
    }
   ],
   "source": [
    "# Wie viele verschiedene TCRs pro Epitope im Test?\n",
    "tcrs_per_epitope = test_df.groupby(\"Epitope\")[\"TRB_CDR3\"].nunique()\n",
    "tcrs_per_epitope.describe()"
   ]
  },
  {
   "cell_type": "code",
   "execution_count": 10,
   "id": "8e0ff776-9c09-44bf-8553-1f12204a7505",
   "metadata": {},
   "outputs": [
    {
     "data": {
      "image/png": "[encoded data removed]",
      "text/plain": [
       "<Figure size 800x400 with 1 Axes>"
      ]
     },
     "metadata": {},
     "output_type": "display_data"
    },
    {
     "name": "stdout",
     "output_type": "stream",
     "text": [
      "Epitope mit meisten TCRs:\n",
      "Epitope\n",
      "ELAGIGILTV    4508\n",
      "KLGGALQAK     3862\n",
      "GLCTLVAML     2834\n",
      "CINGVCWTV     2226\n",
      "NLVPMVATV     1821\n",
      "AVFDRKSDAK    1728\n",
      "KRWIILGLNK    1690\n",
      "GTSGSPIVNR    1495\n",
      "GTSGSPIINR    1447\n",
      "GILGFVFTL     1179\n",
      "Name: TRB_CDR3, dtype: int64\n"
     ]
    }
   ],
   "source": [
    "import matplotlib.pyplot as plt\n",
    "\n",
    "plt.figure(figsize=(8, 4))\n",
    "tcrs_per_epitope.hist(bins=50)\n",
    "plt.title(\"Verteilung der Anzahl einzigartiger TCRs pro Epitope (Trainingsset)\")\n",
    "plt.xlabel(\"Anzahl TCRs\")\n",
    "plt.ylabel(\"Epitope-Anzahl\")\n",
    "plt.show()\n",
    "\n",
    "# Extrembeispiele\n",
    "print(\"Epitope mit meisten TCRs:\")\n",
    "print(tcrs_per_epitope.sort_values(ascending=False).head(10))"
   ]
  },
  {
   "cell_type": "code",
   "execution_count": null,
   "id": "38267d3a-e928-4aab-a886-11a57c19ae3d",
   "metadata": {},
   "outputs": [],
   "source": []
  },
  {
   "cell_type": "code",
   "execution_count": null,
   "id": "cbeca62b-2122-4c2a-b941-8e45159b387a",
   "metadata": {},
   "outputs": [],
   "source": []
  },
  {
   "cell_type": "code",
   "execution_count": 141,
   "id": "afd32847-ee64-4455-b066-968342ab958d",
   "metadata": {},
   "outputs": [
    {
     "name": "stderr",
     "output_type": "stream",
     "text": [
      "/tmp/ipykernel_149709/566910811.py:17: DtypeWarning: Columns (1,7) have mixed types. Specify dtype option on import or set low_memory=False.\n",
      "  df = pd.read_csv(file_path, sep='\\t')\n"
     ]
    },
    {
     "name": "stdout",
     "output_type": "stream",
     "text": [
      "Binding  non-binding  binding\n",
      "split                        \n",
      "test             292      293\n",
      "train            899      979\n",
      "val             1255     1443\n"
     ]
    },
    {
     "name": "stderr",
     "output_type": "stream",
     "text": [
      "/tmp/ipykernel_149709/566910811.py:17: DtypeWarning: Columns (1,7,11) have mixed types. Specify dtype option on import or set low_memory=False.\n",
      "  df = pd.read_csv(file_path, sep='\\t')\n"
     ]
    }
   ],
   "source": [
    "pipeline_data = '../../../../data'\n",
    "pipeline_data_plain = f'{pipeline_data}/plain_datasets'\n",
    "pipeline_data_cleaned = f'{pipeline_data}/cleaned_datasets'\n",
    "pipeline_data_concatenated = f'{pipeline_data}/concatenated_datasets'\n",
    "pipeline_data_splitted = f'{pipeline_data}/splitted_datasets'\n",
    "pipeline_data_temp_bucket = f'{pipeline_data}/temp'\n",
    "precision = \"allele\"\n",
    "\n",
    "import pandas as pd\n",
    "\n",
    "train_file = f'{pipeline_data_splitted}/{precision}/beta/new/train.tsv'\n",
    "validation_file = f'{pipeline_data_splitted}/{precision}/beta/new/validation.tsv'\n",
    "test_file = f'{pipeline_data_splitted}/{precision}/beta/new/test.tsv'\n",
    "\n",
    "# Helper-Funktion\n",
    "def count_unique_epitopes(file_path, split_name):\n",
    "    df = pd.read_csv(file_path, sep='\\t')\n",
    "    df['split'] = split_name\n",
    "    return df.groupby('Binding')['Epitope'].nunique().reset_index(name='unique_epitopes').assign(split=split_name)\n",
    "\n",
    "# Ergebnisse sammeln\n",
    "results = pd.concat([\n",
    "    count_unique_epitopes(train_file, 'train'),\n",
    "    count_unique_epitopes(validation_file, 'val'),\n",
    "    count_unique_epitopes(test_file, 'test')\n",
    "])\n",
    "\n",
    "# Umstrukturieren für bessere Übersicht\n",
    "summary = results.pivot(index='split', columns='Binding', values='unique_epitopes').rename(columns={0: 'non-binding', 1: 'binding'}).fillna(0).astype(int)\n",
    "\n",
    "print(summary)\n"
   ]
  },
  {
   "cell_type": "code",
   "execution_count": 3,
   "id": "53d925fd-90c1-481b-8391-4f33fb2a6960",
   "metadata": {},
   "outputs": [
    {
     "name": "stderr",
     "output_type": "stream",
     "text": [
      "/tmp/ipykernel_187311/3913806595.py:8: DtypeWarning: Columns (1,7) have mixed types. Specify dtype option on import or set low_memory=False.\n",
      "  df_train = pd.read_csv(train_file, sep='\\t')\n",
      "/tmp/ipykernel_187311/3913806595.py:9: DtypeWarning: Columns (1,7,11) have mixed types. Specify dtype option on import or set low_memory=False.\n",
      "  df_val = pd.read_csv(validation_file, sep='\\t')\n"
     ]
    },
    {
     "name": "stdout",
     "output_type": "stream",
     "text": [
      "\n",
      "Negative Verteilung in Train:\n",
      "      source   count\n",
      "0        10X  316157\n",
      "1  generated  313315\n",
      "\n",
      "Negative Verteilung in Validation:\n",
      "   task     source  count\n",
      "0  TPP1        10X  78164\n",
      "1  TPP1  generated  37790\n",
      "2  TPP2        10X   1271\n",
      "3  TPP2  generated  12661\n",
      "4  TPP3  generated  10787\n",
      "5  TPP4  generated    206\n",
      "\n",
      "Negative Verteilung in Test:\n",
      "   task     source  count\n",
      "0  TPP1        10X  15609\n",
      "1  TPP2        10X     98\n",
      "2  TPP2  generated  24640\n",
      "3  TPP3  generated   4375\n",
      "4  TPP4  generated    673\n"
     ]
    }
   ],
   "source": [
    "import pandas as pd\n",
    "\n",
    "train_file = f'{pipeline_data_splitted}/{precision}/beta/new/train.tsv'\n",
    "validation_file = f'{pipeline_data_splitted}/{precision}/beta/new/validation.tsv'\n",
    "test_file = f'{pipeline_data_splitted}/{precision}/beta/new/test.tsv'\n",
    "\n",
    "# Einlesen\n",
    "df_train = pd.read_csv(train_file, sep='\\t')\n",
    "df_val = pd.read_csv(validation_file, sep='\\t')\n",
    "df_test = pd.read_csv(test_file, sep='\\t')\n",
    "\n",
    "# Schritt 1: Übersicht pro Task & Source (nur Negative)\n",
    "def negative_overview(df, name):\n",
    "    negatives = df[df['Binding'] == 0]\n",
    "    overview = negatives.groupby(['task', 'source']).size().reset_index(name='count')\n",
    "    print(f\"\\nNegative Verteilung in {name}:\")\n",
    "    print(overview)\n",
    "    return overview\n",
    "\n",
    "def negative_overview2(df, name):\n",
    "    negatives = df[df['Binding'] == 0]\n",
    "    overview = negatives.groupby(['source']).size().reset_index(name='count')\n",
    "    print(f\"\\nNegative Verteilung in {name}:\")\n",
    "    print(overview)\n",
    "    return overview\n",
    "    \n",
    "neg_overview_train = negative_overview2(df_train, 'Train')\n",
    "neg_overview_val = negative_overview(df_val, 'Validation')\n",
    "neg_overview_test = negative_overview(df_test, 'Test')\n",
    "\n",
    "# Schritt 2: Verhältnis Pos/Neg in Validation bestimmen\n",
    "val_stats = df_val.groupby('task')['Binding'].value_counts().unstack().fillna(0)\n",
    "val_stats['binder_ratio'] = val_stats[1] / (val_stats[0] + val_stats[1])\n",
    "val_stats['nonbinder_ratio'] = val_stats[0] / (val_stats[0] + val_stats[1])\n",
    "\n",
    "# Schritt 3: Für Test - neue gewünschte Anzahl an Negativen berechnen\n",
    "test_stats = df_test.groupby('task')['Binding'].value_counts().unstack().fillna(0)\n",
    "needed_negatives = {}\n",
    "\n",
    "for task in test_stats.index:\n",
    "    num_positive = test_stats.loc[task, 1] if 1 in test_stats.columns else 0\n",
    "    binder_ratio_val = val_stats.loc[task, 'binder_ratio']\n",
    "    if binder_ratio_val > 0:\n",
    "        needed_total = num_positive / binder_ratio_val\n",
    "        needed_negative = int(round(needed_total - num_positive))\n",
    "        needed_negatives[task] = needed_negative\n",
    "    else:\n",
    "        needed_negatives[task] = 0"
   ]
  },
  {
   "cell_type": "code",
   "execution_count": null,
   "id": "592476f0-d0bc-4f06-9ca2-392173a3c578",
   "metadata": {},
   "outputs": [],
   "source": []
  },
  {
   "cell_type": "code",
   "execution_count": null,
   "id": "e20708cc-14f8-46d0-83cd-43e69298f1ee",
   "metadata": {},
   "outputs": [],
   "source": []
  },
  {
   "cell_type": "code",
   "execution_count": 12,
   "id": "e86d06b5-54ff-44b4-9237-18fa9b25a992",
   "metadata": {},
   "outputs": [
    {
     "name": "stderr",
     "output_type": "stream",
     "text": [
      "/tmp/ipykernel_187311/3626647992.py:8: DtypeWarning: Columns (1,7) have mixed types. Specify dtype option on import or set low_memory=False.\n",
      "  train_df = pd.read_csv(train_file, sep='\\t')\n"
     ]
    },
    {
     "name": "stdout",
     "output_type": "stream",
     "text": [
      "--- Train ---\n",
      "Binding = 0: 629472 Beispiele (83.29%)\n",
      "Binding = 1: 126286 Beispiele (16.71%)\n",
      "Total: 755758 Beispiele\n",
      "\n",
      "--- Validation ---\n",
      "Binding = 0: 140879 Beispiele (83.35%)\n",
      "Binding = 1: 28150 Beispiele (16.65%)\n",
      "Total: 169029 Beispiele\n",
      "\n",
      "--- Test ---\n",
      "Binding = 0: 45395 Beispiele (83.87%)\n",
      "Binding = 1: 8731 Beispiele (16.13%)\n",
      "Total: 54126 Beispiele\n",
      "\n"
     ]
    },
    {
     "name": "stderr",
     "output_type": "stream",
     "text": [
      "/tmp/ipykernel_187311/3626647992.py:9: DtypeWarning: Columns (1,7,11) have mixed types. Specify dtype option on import or set low_memory=False.\n",
      "  val_df = pd.read_csv(validation_file, sep='\\t')\n"
     ]
    }
   ],
   "source": [
    "import pandas as pd\n",
    "\n",
    "train_file = f'{pipeline_data_splitted}/{precision}/beta/new/train.tsv'\n",
    "validation_file = f'{pipeline_data_splitted}/{precision}/beta/new/validation.tsv'\n",
    "test_file = f'{pipeline_data_splitted}/{precision}/beta/new/test.tsv'\n",
    "\n",
    "# Dateien einlesen\n",
    "train_df = pd.read_csv(train_file, sep='\\t')\n",
    "val_df = pd.read_csv(validation_file, sep='\\t')\n",
    "test_df = pd.read_csv(test_file, sep='\\t')\n",
    "\n",
    "# Funktion zur Ausgabe der Verteilung\n",
    "def show_binding_distribution(df, name):\n",
    "    counts = df['Binding'].value_counts().sort_index()\n",
    "    total = counts.sum()\n",
    "    print(f'--- {name} ---')\n",
    "    for b in counts.index:\n",
    "        percentage = (counts[b] / total) * 100\n",
    "        print(f'Binding = {b}: {counts[b]} Beispiele ({percentage:.2f}%)')\n",
    "    print(f'Total: {total} Beispiele\\n')\n",
    "\n",
    "# Ausgabe\n",
    "show_binding_distribution(train_df, 'Train')\n",
    "show_binding_distribution(val_df, 'Validation')\n",
    "show_binding_distribution(test_df, 'Test')"
   ]
  },
  {
   "cell_type": "code",
   "execution_count": 136,
   "id": "bb754c7d-1d70-4f0f-be91-6000ea549e61",
   "metadata": {},
   "outputs": [
    {
     "name": "stderr",
     "output_type": "stream",
     "text": [
      "/tmp/ipykernel_149709/4199668655.py:13: DtypeWarning: Columns (1,7) have mixed types. Specify dtype option on import or set low_memory=False.\n",
      "  dfs[split] = pd.read_csv(path, sep=\"\\t\")\n",
      "/tmp/ipykernel_149709/4199668655.py:13: DtypeWarning: Columns (1,7,11) have mixed types. Specify dtype option on import or set low_memory=False.\n",
      "  dfs[split] = pd.read_csv(path, sep=\"\\t\")\n"
     ]
    },
    {
     "name": "stdout",
     "output_type": "stream",
     "text": [
      "\n",
      "--- BETA_ALLELE - TRAIN OVERVIEW ---\n",
      "Total rows: 755758\n",
      "Unique TCRs: 199504\n",
      "Unique Epitopes: 993\n",
      "Unique (TCR, Epitope) pairs: 755758\n",
      "Binding distribution:\n",
      " Binding\n",
      "0    0.832902\n",
      "1    0.167098\n",
      "Name: proportion, dtype: float64\n",
      "\n",
      "--- BETA_ALLELE - TRAIN DUPLICATE & INCONSISTENCY CHECK ---\n",
      "Exact duplicates: 0\n",
      "Exact duplicates by Binding:\n",
      "Series([], dtype: int64)\n",
      "Inconsistent (TCR, Epitope) label pairs (0 and 1): 0\n",
      "\n",
      "--- BETA_ALLELE - VALIDATION OVERVIEW ---\n",
      "Total rows: 169029\n",
      "Unique TCRs: 68580\n",
      "Unique Epitopes: 1455\n",
      "Unique (TCR, Epitope) pairs: 168007\n",
      "Binding distribution:\n",
      " Binding\n",
      "0    0.833461\n",
      "1    0.166539\n",
      "Name: proportion, dtype: float64\n",
      "\n",
      "--- BETA_ALLELE - VALIDATION DUPLICATE & INCONSISTENCY CHECK ---\n",
      "Exact duplicates: 1022\n",
      "Exact duplicates by Binding:\n",
      "Binding\n",
      "0    1022\n",
      "dtype: int64\n",
      "Inconsistent (TCR, Epitope) label pairs (0 and 1): 0\n",
      "\n",
      "--- BETA_ALLELE - TEST OVERVIEW ---\n",
      "Total rows: 60939\n",
      "Unique TCRs: 27454\n",
      "Unique Epitopes: 304\n",
      "Unique (TCR, Epitope) pairs: 60907\n",
      "Binding distribution:\n",
      " Binding\n",
      "0    0.856726\n",
      "1    0.143274\n",
      "Name: proportion, dtype: float64\n",
      "\n",
      "--- BETA_ALLELE - TEST DUPLICATE & INCONSISTENCY CHECK ---\n",
      "Exact duplicates: 32\n",
      "Exact duplicates by Binding:\n",
      "Binding\n",
      "0    32\n",
      "dtype: int64\n",
      "Inconsistent (TCR, Epitope) label pairs (0 and 1): 0\n",
      "\n",
      "--- OVERLAP BETWEEN TRAIN AND TEST ---\n",
      "Shared (TCR, Epitope) pairs: 18\n",
      "\n",
      "--- OVERLAP BETWEEN TRAIN AND VALIDATION ---\n",
      "Shared (TCR, Epitope) pairs: 44\n",
      "\n",
      "--- OVERLAP BETWEEN VALIDATION AND TEST ---\n",
      "Shared (TCR, Epitope) pairs: 0\n"
     ]
    }
   ],
   "source": [
    "import matplotlib.pyplot as plt\n",
    "import seaborn as sns\n",
    "import numpy as np\n",
    "import pandas as pd\n",
    "import os\n",
    "\n",
    "# Analyse-Funktionen (ergänzt mit Visualisierung & weiteren Checks)\n",
    "\n",
    "def load_datasets(paths):\n",
    "    dfs = {}\n",
    "    for split, path in paths.items():\n",
    "        if os.path.exists(path):\n",
    "            dfs[split] = pd.read_csv(path, sep=\"\\t\")\n",
    "        else:\n",
    "            dfs[split] = None\n",
    "    return dfs\n",
    "\n",
    "def dataset_overview(df, name):\n",
    "    print(f\"\\n--- {name.upper()} OVERVIEW ---\")\n",
    "    print(f\"Total rows: {len(df)}\")\n",
    "    print(\"Unique TCRs:\", df[\"TRB_CDR3\"].nunique())\n",
    "    print(\"Unique Epitopes:\", df[\"Epitope\"].nunique())\n",
    "    print(\"Unique (TCR, Epitope) pairs:\", df[[\"TRB_CDR3\", \"Epitope\"]].drop_duplicates().shape[0])\n",
    "    print(\"Binding distribution:\\n\", df[\"Binding\"].value_counts(normalize=True))\n",
    "\n",
    "def check_duplicates_and_inconsistencies(df, name):\n",
    "    print(f\"\\n--- {name.upper()} DUPLICATE & INCONSISTENCY CHECK ---\")\n",
    "    # Exakte Duplikate zählen\n",
    "    exact_duplicates = df.duplicated(subset=[\"TRB_CDR3\", \"Epitope\", \"Binding\"])\n",
    "    total_duplicates = exact_duplicates.sum()\n",
    "    print(f\"Exact duplicates: {total_duplicates}\")\n",
    "\n",
    "    # Aufspalten nach Binding-Klasse\n",
    "    dup_by_binding = df[exact_duplicates].groupby(\"Binding\").size()\n",
    "    print(\"Exact duplicates by Binding:\")\n",
    "    print(dup_by_binding)\n",
    "\n",
    "    # Inkonsistente Labels erkennen\n",
    "    inconsistent_labels = df.groupby([\"TRB_CDR3\", \"Epitope\"])[\"Binding\"].nunique()\n",
    "    inconsistent_count = (inconsistent_labels == 2).sum()\n",
    "    print(\"Inconsistent (TCR, Epitope) label pairs (0 and 1):\", inconsistent_count)\n",
    "\n",
    "def check_overlap(df1, df2, name1, name2):\n",
    "    set1 = set(zip(df1[\"TRB_CDR3\"], df1[\"Epitope\"]))\n",
    "    set2 = set(zip(df2[\"TRB_CDR3\"], df2[\"Epitope\"]))\n",
    "    overlap = set1 & set2\n",
    "    print(f\"\\n--- OVERLAP BETWEEN {name1.upper()} AND {name2.upper()} ---\")\n",
    "    print(f\"Shared (TCR, Epitope) pairs: {len(overlap)}\")\n",
    "\n",
    "\n",
    "datasets = {\n",
    "    \"beta_allele\": {\n",
    "        \"train\": f'{pipeline_data_splitted}/{precision}/beta/new/train.tsv',\n",
    "        \"test\": f'{pipeline_data_splitted}/{precision}/beta/new/test.tsv',\n",
    "        \"validation\": f'{pipeline_data_splitted}/{precision}/beta/new/validation.tsv'\n",
    "    }\n",
    "}\n",
    "\n",
    "data = {key: load_datasets(paths) for key, paths in datasets.items()}\n",
    "\n",
    "for dataset_name, splits in data.items():\n",
    "    train, val, test = splits[\"train\"], splits[\"validation\"], splits[\"test\"]\n",
    "\n",
    "    if train is not None:\n",
    "        dataset_overview(train, f\"{dataset_name} - train\")\n",
    "        check_duplicates_and_inconsistencies(train, f\"{dataset_name} - train\")\n",
    "    \n",
    "    if val is not None:\n",
    "        dataset_overview(val, f\"{dataset_name} - validation\")\n",
    "        check_duplicates_and_inconsistencies(val, f\"{dataset_name} - validation\")\n",
    "        \n",
    "    if test is not None:\n",
    "        dataset_overview(test, f\"{dataset_name} - test\")\n",
    "        check_duplicates_and_inconsistencies(test, f\"{dataset_name} - test\")\n",
    "       \n",
    "    if train is not None and test is not None:\n",
    "        check_overlap(train, test, \"train\", \"test\")\n",
    "    if train is not None and val is not None:\n",
    "        check_overlap(train, val, \"train\", \"validation\")\n",
    "    if val is not None and test is not None:\n",
    "        check_overlap(val, test, \"validation\", \"test\")\n",
    "        \n",
    "    "
   ]
  },
  {
   "cell_type": "code",
   "execution_count": 11,
   "id": "5c108085-b573-4e47-a970-f44adf59436c",
   "metadata": {},
   "outputs": [],
   "source": [
    "def remove_exact_duplicates(df):\n",
    "    before = len(df)\n",
    "\n",
    "    # Split in 10X und Rest\n",
    "    df_10x = df[df[\"source\"] == \"10X\"]\n",
    "    df_rest = df[df[\"source\"] != \"10X\"]\n",
    "\n",
    "    # Nur bei \"nicht 10X\" Duplikate entfernen\n",
    "    df_rest = df_rest.drop_duplicates(subset=[\"TRB_CDR3\", \"Epitope\", \"Binding\"])\n",
    "    \n",
    "    # Wieder zusammenführen\n",
    "    df_cleaned = pd.concat([df_10x, df_rest], ignore_index=True)\n",
    "\n",
    "    after = len(df_cleaned)\n",
    "    print(f\"🧹 Entfernt {before - after} exakte Duplikate (10X wurden behalten)\")\n",
    "    return df_cleaned\n",
    "\n",
    "def remove_overlaps(df_main, df_secondary, name_main=\"train\", name_secondary=\"val/test\"):\n",
    "    main_pairs = set(zip(df_main[\"TRB_CDR3\"], df_main[\"Epitope\"]))\n",
    "    secondary_pairs = df_secondary.set_index([\"TRB_CDR3\", \"Epitope\"])\n",
    "    \n",
    "    # Markiere Overlaps, aber behalte source == \"10X\"\n",
    "    mask = secondary_pairs.index.isin(main_pairs)\n",
    "    to_remove = mask & (df_secondary[\"source\"] != \"10X\")\n",
    "\n",
    "    before = len(df_secondary)\n",
    "    df_secondary_cleaned = df_secondary[~to_remove].copy()\n",
    "    after = len(df_secondary_cleaned)\n",
    "\n",
    "    print(f\"🔁 Entfernt {before - after} Overlaps aus {name_secondary} (ausser 10X wurde behalten)\")\n",
    "    return df_secondary_cleaned\n",
    "\n",
    "def remove_inconsistent_pairs(df):\n",
    "    # Finde inkonsistente Paare\n",
    "    inconsistent = df.groupby([\"TRB_CDR3\", \"Epitope\"])[\"Binding\"].nunique()\n",
    "    inconsistent_pairs = inconsistent[inconsistent == 2].index\n",
    "\n",
    "    # Erhalte Zeilen mit diesen Paaren\n",
    "    index = df.set_index([\"TRB_CDR3\", \"Epitope\"]).index\n",
    "    mask = index.isin(inconsistent_pairs)\n",
    "\n",
    "    # Behalte source == \"10X\", lösche Rest\n",
    "    to_keep = df[\"source\"] == \"10X\"\n",
    "    final_df = df[~(mask & ~to_keep)].copy()\n",
    "\n",
    "    removed = mask.sum() - to_keep[mask].sum()\n",
    "    print(f\"⚠️ Entfernt {removed} inkonsistente Beispiele (10X wurden behalten)\")\n",
    "    return final_df"
   ]
  },
  {
   "cell_type": "code",
   "execution_count": 13,
   "id": "1fe3da7e-fa05-4ede-97f0-fa5bb71d364a",
   "metadata": {},
   "outputs": [
    {
     "name": "stdout",
     "output_type": "stream",
     "text": [
      "🧹 Entfernt 0 exakte Duplikate (10X wurden behalten)\n",
      "⚠️ Entfernt 0 inkonsistente Beispiele (10X wurden behalten)\n",
      "🧹 Entfernt 0 exakte Duplikate (10X wurden behalten)\n",
      "⚠️ Entfernt 0 inkonsistente Beispiele (10X wurden behalten)\n",
      "🔁 Entfernt 0 Overlaps aus validation (ausser 10X wurde behalten)\n",
      "🧹 Entfernt 0 exakte Duplikate (10X wurden behalten)\n",
      "⚠️ Entfernt 0 inkonsistente Beispiele (10X wurden behalten)\n",
      "🔁 Entfernt 0 Overlaps aus test (ausser 10X wurde behalten)\n",
      "🔁 Entfernt 0 Overlaps aus test (ausser 10X wurde behalten)\n",
      "✅ Alle bereinigten Dateien gespeichert.\n"
     ]
    }
   ],
   "source": [
    "train = remove_exact_duplicates(train)\n",
    "train = remove_inconsistent_pairs(train)\n",
    "\n",
    "val = remove_exact_duplicates(val)\n",
    "val = remove_inconsistent_pairs(val)\n",
    "val = remove_overlaps(train, val, \"train\", \"validation\")\n",
    "\n",
    "test = remove_exact_duplicates(test)\n",
    "test = remove_inconsistent_pairs(test)\n",
    "test = remove_overlaps(train, test, \"train\", \"test\")\n",
    "test = remove_overlaps(val, test, \"validation\", \"test\")\n",
    "\n",
    "train.to_csv(datasets[\"beta_allele\"][\"train\"], sep=\"\\t\", index=False)\n",
    "val.to_csv(datasets[\"beta_allele\"][\"validation\"], sep=\"\\t\", index=False)\n",
    "test.to_csv(datasets[\"beta_allele\"][\"test\"], sep=\"\\t\", index=False)\n",
    "print(\"✅ Alle bereinigten Dateien gespeichert.\")"
   ]
  },
  {
   "cell_type": "code",
   "execution_count": null,
   "id": "4b579ebd-fbe6-41aa-bd21-4a906daa07c3",
   "metadata": {},
   "outputs": [],
   "source": [
    "\n"
   ]
  },
  {
   "cell_type": "code",
   "execution_count": 144,
   "id": "cefab0a0-d2a4-45ed-8633-4e91fd3c33e0",
   "metadata": {},
   "outputs": [
    {
     "name": "stdout",
     "output_type": "stream",
     "text": [
      "\n",
      "### Dataset: beta_allele ###\n",
      "\n",
      "--- TEST ---\n",
      "      Non-Binder  Binder  Total  Binder %  Non-Binder %\n",
      "task                                                   \n",
      "TPP1       15609    2541  18150     14.00         86.00\n",
      "TPP2       24738    5050  29788     16.95         83.05\n",
      "TPP3        4375    1000   5375     18.60         81.40\n",
      "TPP4         673     140    813     17.22         82.78\n",
      "\n",
      "--- VALIDATION ---\n",
      "      Non-Binder  Binder   Total  Binder %  Non-Binder %\n",
      "task                                                    \n",
      "TPP1      115954   22892  138846     16.49         83.51\n",
      "TPP2       13932    2848   16780     16.97         83.03\n",
      "TPP3       10787    2369   13156     18.01         81.99\n",
      "TPP4         206      41     247     16.60         83.40\n"
     ]
    },
    {
     "name": "stderr",
     "output_type": "stream",
     "text": [
      "/tmp/ipykernel_149709/2840934071.py:10: DtypeWarning: Columns (1,7,11) have mixed types. Specify dtype option on import or set low_memory=False.\n",
      "  df = pd.read_csv(file_path, sep='\\t')\n"
     ]
    }
   ],
   "source": [
    "# Definierte Pfade für alle vier Kategorien\n",
    "datasets = {\n",
    "    \"beta_allele\": {\n",
    "        \"test\": f'{pipeline_data_splitted}/{precision}/beta/new/test.tsv',\n",
    "        \"validation\": f'{pipeline_data_splitted}/{precision}/beta/new/validation.tsv'\n",
    "    }\n",
    "}\n",
    "# Analyse-Funktion\n",
    "def analyze_binding_distribution(file_path):\n",
    "    df = pd.read_csv(file_path, sep='\\t')\n",
    "\n",
    "    # Spaltennamen vereinheitlichen\n",
    "    df.columns = [col.lower() for col in df.columns]\n",
    "\n",
    "    if 'binding' not in df.columns or 'task' not in df.columns:\n",
    "        raise ValueError(f\"'binding' oder 'task' Spalte fehlt in {file_path}\")\n",
    "\n",
    "    # Gruppieren nach task und binding\n",
    "    stats = df.groupby(['task', 'binding']).size().unstack(fill_value=0)\n",
    "\n",
    "    # Spalten konsistent benennen (wenn z.B. nur 0 oder nur 1 vorkommt)\n",
    "    if 0 in stats.columns and 1 in stats.columns:\n",
    "        stats.columns = ['Non-Binder', 'Binder']\n",
    "    elif 0 in stats.columns:\n",
    "        stats['Binder'] = 0\n",
    "        stats.columns = ['Non-Binder', 'Binder']\n",
    "    elif 1 in stats.columns:\n",
    "        stats['Non-Binder'] = 0\n",
    "        stats.columns = ['Binder', 'Non-Binder']\n",
    "    else:\n",
    "        raise ValueError(\"Keine Binder/Non-Binder-Werte gefunden\")\n",
    "\n",
    "    # Berechnungen\n",
    "    stats['Total'] = stats.sum(axis=1)\n",
    "    stats['Binder %'] = (stats['Binder'] / stats['Total'] * 100).round(2)\n",
    "    stats['Non-Binder %'] = (stats['Non-Binder'] / stats['Total'] * 100).round(2)\n",
    "\n",
    "    return stats\n",
    "\n",
    "# Alle Splits durchgehen\n",
    "for dataset_name, splits in datasets.items():\n",
    "    print(f\"\\n### Dataset: {dataset_name} ###\")\n",
    "    for split_name, path in splits.items():\n",
    "        if os.path.exists(path):\n",
    "            print(f\"\\n--- {split_name.upper()} ---\")\n",
    "            stats = analyze_binding_distribution(path)\n",
    "            print(stats)\n",
    "        else:\n",
    "            print(f\"{split_name} not found: {path}\")"
   ]
  },
  {
   "cell_type": "code",
   "execution_count": 145,
   "id": "ebaea3f1-ba9a-4ccf-9335-4d5ec611ed56",
   "metadata": {},
   "outputs": [
    {
     "name": "stderr",
     "output_type": "stream",
     "text": [
      "/tmp/ipykernel_149709/4009205718.py:20: DtypeWarning: Columns (1,7) have mixed types. Specify dtype option on import or set low_memory=False.\n",
      "  train_df = pd.read_csv(train_path, sep=\"\\t\")\n",
      "/tmp/ipykernel_149709/4009205718.py:21: DtypeWarning: Columns (1,7,11) have mixed types. Specify dtype option on import or set low_memory=False.\n",
      "  val_df = pd.read_csv(val_path, sep=\"\\t\")\n"
     ]
    },
    {
     "name": "stdout",
     "output_type": "stream",
     "text": [
      "\n",
      "--- TRAIN ---\n",
      "10X: 316157 (50.23%)\n",
      "generated: 313315 (49.77%)\n",
      "Total negatives: 629472\n",
      "\n",
      "--- VALIDATION ---\n",
      "10X: 79435 (56.39%)\n",
      "generated: 61444 (43.61%)\n",
      "Total negatives: 140879\n",
      "\n",
      "--- TEST ---\n",
      "generated: 29688 (65.4%)\n",
      "10X: 15707 (34.6%)\n",
      "Total negatives: 45395\n"
     ]
    }
   ],
   "source": [
    "def show_negative_source_distribution(df, name):\n",
    "    negatives = df[df[\"Binding\"] == 0]\n",
    "    if negatives.empty:\n",
    "        print(f\"\\n--- {name.upper()} ---\\nKeine negativen Beispiele vorhanden.\")\n",
    "        return\n",
    "    \n",
    "    total = len(negatives)\n",
    "    source_counts = negatives[\"source\"].value_counts()\n",
    "    source_percent = (source_counts / total * 100).round(2)\n",
    "\n",
    "    print(f\"\\n--- {name.upper()} ---\")\n",
    "    for src in source_counts.index:\n",
    "        print(f\"{src}: {source_counts[src]} ({source_percent[src]}%)\")\n",
    "    print(f\"Total negatives: {total}\")\n",
    "\n",
    "train_path = f'{pipeline_data_splitted}/{precision}/beta/new/train.tsv'\n",
    "val_path = f'{pipeline_data_splitted}/{precision}/beta/new/validation.tsv'\n",
    "test_path = f'{pipeline_data_splitted}/{precision}/beta/new/test.tsv'\n",
    "\n",
    "train_df = pd.read_csv(train_path, sep=\"\\t\")\n",
    "val_df = pd.read_csv(val_path, sep=\"\\t\")\n",
    "test_df = pd.read_csv(test_path, sep=\"\\t\")\n",
    "# Anzeigen\n",
    "show_negative_source_distribution(train_df, \"Train\")\n",
    "show_negative_source_distribution(val_df, \"Validation\")\n",
    "show_negative_source_distribution(test_df, \"Test\")"
   ]
  },
  {
   "cell_type": "code",
   "execution_count": null,
   "id": "c7ae258f-17af-4c16-8fa2-c60015d758f0",
   "metadata": {},
   "outputs": [],
   "source": [
    "'''Train: 126463 Pos + 316157 10X >> done\n",
    "Validation: 31774 Pos + 79435 10X \n",
    "Test: 9008 Pos + 22520 10X '''"
   ]
  },
  {
   "cell_type": "code",
   "execution_count": 121,
   "id": "c94177b5-6a49-4f68-b325-152c8914a64a",
   "metadata": {},
   "outputs": [
    {
     "name": "stderr",
     "output_type": "stream",
     "text": [
      "/tmp/ipykernel_149709/186225501.py:7: DtypeWarning: Columns (0,4) have mixed types. Specify dtype option on import or set low_memory=False.\n",
      "  df_test = pd.read_csv(test_path, sep='\\t')\n"
     ]
    },
    {
     "name": "stdout",
     "output_type": "stream",
     "text": [
      "✅ Gespeichert: 60939 Zeilen ohne TPP1-generated Negatives.\n"
     ]
    }
   ],
   "source": [
    "import pandas as pd\n",
    "\n",
    "# Pfad zur Test-Datei\n",
    "test_path = f\"{pipeline_data_splitted}/{precision}/beta/new/test.tsv\"\n",
    "\n",
    "# Einlesen\n",
    "df_test = pd.read_csv(test_path, sep='\\t')\n",
    "\n",
    "# Entferne alle TPP1 mit source == 'generated' und Binding == 0\n",
    "filtered_test = df_test[~((df_test['task'] == 'TPP1') & \n",
    "                          (df_test['Binding'] == 0) & \n",
    "                          (df_test['source'] == 'generated'))]\n",
    "\n",
    "# Speichern\n",
    "filtered_test.to_csv(test_path, sep='\\t', index=False)\n",
    "\n",
    "print(f\"✅ Gespeichert: {len(filtered_test)} Zeilen ohne TPP1-generated Negatives.\")"
   ]
  },
  {
   "cell_type": "code",
   "execution_count": null,
   "id": "f4320a4d-39db-4477-9539-08286d7389a2",
   "metadata": {},
   "outputs": [],
   "source": []
  },
  {
   "cell_type": "code",
   "execution_count": null,
   "id": "67269567-86c7-4367-a273-931ae9aafdb5",
   "metadata": {},
   "outputs": [],
   "source": []
  },
  {
   "cell_type": "code",
   "execution_count": 13,
   "id": "f115abd6-f9a3-49da-9f7a-abb8b501aa77",
   "metadata": {},
   "outputs": [
    {
     "data": {
      "image/png": "[encoded data removed]",
      "text/plain": [
       "<Figure size 800x400 with 1 Axes>"
      ]
     },
     "metadata": {},
     "output_type": "display_data"
    }
   ],
   "source": [
    "import pandas as pd\n",
    "import matplotlib.pyplot as plt\n",
    "\n",
    "fp = pd.read_csv(\"../../results/false_positives.csv\", sep=\"\\t\")\n",
    "\n",
    "# Häufigste Epitope\n",
    "epitope_counts = fp[\"Epitope\"].value_counts().head(10)\n",
    "\n",
    "plt.figure(figsize=(8, 4))\n",
    "plt.hist(fp[\"score\"], bins=50, color=\"skyblue\", edgecolor=\"black\")\n",
    "plt.title(\"Model confidence distribution of false positives\")\n",
    "plt.xlabel(\"Score\")\n",
    "plt.ylabel(\"Counts\")\n",
    "plt.tight_layout()\n",
    "plt.show()"
   ]
  },
  {
   "cell_type": "code",
   "execution_count": 14,
   "id": "01c5ab06-cbc8-433b-a5f3-b85c58643a55",
   "metadata": {},
   "outputs": [
    {
     "data": {
      "image/png": "[encoded data removed]",
      "text/plain": [
       "<Figure size 640x480 with 1 Axes>"
      ]
     },
     "metadata": {},
     "output_type": "display_data"
    }
   ],
   "source": [
    "source_counts = fp[\"source\"].value_counts()\n",
    "\n",
    "source_counts.plot(kind=\"bar\", color=\"purple\")\n",
    "plt.title(\"False Positives per source\")\n",
    "plt.ylabel(\"Counts\")\n",
    "plt.tight_layout()\n",
    "plt.show()"
   ]
  },
  {
   "cell_type": "code",
   "execution_count": 21,
   "id": "0cfc4ffa-2f79-44f2-9726-0559ae6555f3",
   "metadata": {},
   "outputs": [
    {
     "data": {
      "image/png": "[encoded data removed]",
      "text/plain": [
       "<Figure size 640x480 with 1 Axes>"
      ]
     },
     "metadata": {},
     "output_type": "display_data"
    }
   ],
   "source": [
    "task_counts = fp[\"task\"].value_counts()\n",
    "\n",
    "task_counts.plot(kind=\"bar\", color=\"purple\")\n",
    "plt.title(\"False Positives per task\")\n",
    "plt.ylabel(\"Anzahl\")\n",
    "plt.tight_layout()\n",
    "plt.show()"
   ]
  },
  {
   "cell_type": "code",
   "execution_count": 24,
   "id": "0db3a57e-599e-498c-bf0f-638600c49d59",
   "metadata": {},
   "outputs": [
    {
     "data": {
      "image/png": "[encoded data removed]",
      "text/plain": [
       "<Figure size 640x480 with 1 Axes>"
      ]
     },
     "metadata": {},
     "output_type": "display_data"
    }
   ],
   "source": [
    "# 1. False Positives pro Task\n",
    "fp_task_counts = fp[\"task\"].value_counts()\n",
    "\n",
    "# 2. Alle Testbeispiele pro Task (aus df_test)\n",
    "test_task_counts = test_df[\"task\"].value_counts()\n",
    "\n",
    "# 3. Verhältnis: FP-Anteil pro Task\n",
    "fp_ratio = (fp_task_counts / test_task_counts).sort_index()\n",
    "\n",
    "# 4. Visualisieren\n",
    "fp_ratio.plot(kind=\"bar\", color=\"darkorange\")\n",
    "plt.title(\"Proportion of False Positives per Task in the Test Set\")\n",
    "plt.ylabel(\"Proportion (False Positives / Task Size)\")\n",
    "plt.ylim(0, 1.0)\n",
    "plt.tight_layout()\n",
    "plt.show()"
   ]
  },
  {
   "cell_type": "code",
   "execution_count": 7,
   "id": "57d36e68-8b10-4d45-aef0-206176aae3a9",
   "metadata": {},
   "outputs": [
    {
     "data": {
      "image/png": "[encoded data removed]",
      "text/plain": [
       "<Figure size 800x400 with 1 Axes>"
      ]
     },
     "metadata": {},
     "output_type": "display_data"
    }
   ],
   "source": [
    "import pandas as pd\n",
    "import matplotlib.pyplot as plt\n",
    "\n",
    "# Einlesen\n",
    "fp = pd.read_csv(\"../../results/false_positives.csv\", sep=\"\\t\")\n",
    "test_df = pd.read_csv(f\"{pipeline_data_splitted}/{precision}/beta/test.tsv\", sep=\"\\t\")\n",
    "\n",
    "# Gesamtanzahl pro Quelle im gesamten Testset\n",
    "total_per_source = test_df[\"source\"].value_counts()\n",
    "\n",
    "# Anzahl der False Positives pro Quelle\n",
    "fp_per_source = fp[\"source\"].value_counts()\n",
    "\n",
    "# Prozentuale False Positive Rate pro Quelle\n",
    "fp_rate_per_source = (fp_per_source / total_per_source * 100).sort_values(ascending=False)\n",
    "\n",
    "# Plot\n",
    "plt.figure(figsize=(8, 4))\n",
    "fp_rate_per_source.plot(kind=\"bar\", color=\"darkorange\")\n",
    "plt.title(\"False Positive Rate per Source (%)\")\n",
    "plt.ylabel(\"False Positives (%)\")\n",
    "plt.xlabel(\"Source\")\n",
    "plt.tight_layout()\n",
    "plt.show()\n"
   ]
  },
  {
   "cell_type": "markdown",
   "id": "4ed3f0c7-f6e4-4c05-ac01-6ce51a98762e",
   "metadata": {},
   "source": [
    "# Datenanalyse mit neuen Daten am 12.05."
   ]
  },
  {
   "cell_type": "code",
   "execution_count": 4,
   "id": "c4c6aea4-af3a-4179-863c-828fd0ef4388",
   "metadata": {},
   "outputs": [
    {
     "data": {
      "image/png": "[encoded data removed]",
      "text/plain": [
       "<Figure size 800x400 with 1 Axes>"
      ]
     },
     "metadata": {},
     "output_type": "display_data"
    }
   ],
   "source": [
    "import pandas as pd\n",
    "import matplotlib.pyplot as plt\n",
    "\n",
    "# Einlesen\n",
    "fp = pd.read_csv(\"../../results/false_positives_v1oversample.csv\", sep=\"\\t\")\n",
    "test_df = pd.read_csv(f\"{pipeline_data_splitted}/{precision}/beta/test.tsv\", sep=\"\\t\")\n",
    "\n",
    "# Gesamtanzahl pro Quelle im gesamten Testset\n",
    "total_per_source = test_df[\"source\"].value_counts()\n",
    "\n",
    "# Anzahl der False Positives pro Quelle\n",
    "fp_per_source = fp[\"source\"].value_counts()\n",
    "\n",
    "# Prozentuale False Positive Rate pro Quelle\n",
    "fp_rate_per_source = (fp_per_source / total_per_source * 100).sort_values(ascending=False)\n",
    "\n",
    "# Plot\n",
    "plt.figure(figsize=(8, 4))\n",
    "fp_rate_per_source.plot(kind=\"bar\", color=\"darkorange\")\n",
    "plt.title(\"False Positive Rate per Source (%)\")\n",
    "plt.ylabel(\"False Positives (%)\")\n",
    "plt.xlabel(\"Source\")\n",
    "plt.tight_layout()\n",
    "plt.show()"
   ]
  },
  {
   "cell_type": "code",
   "execution_count": 10,
   "id": "67165d5d-1458-4964-b059-5f2be9832ace",
   "metadata": {},
   "outputs": [
    {
     "name": "stdout",
     "output_type": "stream",
     "text": [
      "Anzahl TPP2 False Positives: 17237\n"
     ]
    },
    {
     "data": {
      "image/png": "[encoded data removed]",
      "text/plain": [
       "<Figure size 600x400 with 1 Axes>"
      ]
     },
     "metadata": {},
     "output_type": "display_data"
    },
    {
     "name": "stdout",
     "output_type": "stream",
     "text": [
      "\n",
      "Top Epitope unter TPP2-False-Positives:\n",
      " Epitope\n",
      "CINGVCWTV     2242\n",
      "GTSGSPIINR    1409\n",
      "GTSGSPIVNR    1385\n",
      "KLGGALQAK     1106\n",
      "KRWIILGLNK    1079\n",
      "NLVPMVATV     1065\n",
      "GILGFVFTL      880\n",
      "GLCTLVAML      767\n",
      "EIYKRWII       654\n",
      "FLKEKGGL       601\n",
      "Name: count, dtype: int64\n"
     ]
    }
   ],
   "source": [
    "import pandas as pd\n",
    "import matplotlib.pyplot as plt\n",
    "import seaborn as sns\n",
    "\n",
    "# CSV einlesen\n",
    "fp = pd.read_csv(\"../../results/false_positives_v1oversample.csv\", sep=\"\\t\")\n",
    "\n",
    "# Nur TPP2-Fehlklassifikationen\n",
    "fp_tpp2 = fp[fp[\"task\"] == \"TPP2\"].copy()\n",
    "print(f\"Anzahl TPP2 False Positives: {len(fp_tpp2)}\")\n",
    "\n",
    "# Confidence Score Verteilung\n",
    "plt.figure(figsize=(6,4))\n",
    "sns.histplot(fp_tpp2[\"predicted_score\"], bins=30, color=\"crimson\", edgecolor=\"black\")\n",
    "plt.title(\"Confidence Distribution – TPP2 False Positives\")\n",
    "plt.xlabel(\"Predicted Probability\")\n",
    "plt.ylabel(\"Count\")\n",
    "plt.axvline(0.5, linestyle=\"--\", color=\"gray\", label=\"Threshold = 0.5\")\n",
    "plt.legend()\n",
    "plt.tight_layout()\n",
    "plt.savefig(\"results/tpp2_fp_confidence_hist.png\")\n",
    "plt.show()\n",
    "\n",
    "# Top Epitope bei FPs\n",
    "top_epitopes = fp_tpp2[\"Epitope\"].value_counts().head(10)\n",
    "print(\"\\nTop Epitope unter TPP2-False-Positives:\\n\", top_epitopes)"
   ]
  },
  {
   "cell_type": "code",
   "execution_count": 11,
   "id": "60ef67d8-5b0f-42bb-b117-2c43c4152649",
   "metadata": {},
   "outputs": [
    {
     "name": "stdout",
     "output_type": "stream",
     "text": [
      "\n",
      "Negative Bindungen im Training für diese Epitope:\n",
      "Epitope\n",
      "NLVPMVATV     15912\n",
      "KLGGALQAK      7394\n",
      "CINGVCWTV        38\n",
      "KRWIILGLNK       14\n",
      "GTSGSPIVNR        1\n",
      "GTSGSPIINR        1\n",
      "Name: count, dtype: int64\n",
      "\n",
      "Diese Epitope hatten KEINE negativen Bindungen im Training:\n",
      "[]\n"
     ]
    }
   ],
   "source": [
    "import pandas as pd\n",
    "\n",
    "# 1. Liste deiner Epitope\n",
    "fp_epitopes = [\n",
    "    \"CINGVCWTV\", \"GTSGSPIINR\", \"GTSGSPIVNR\", \"KLGGALQAK\", \"KRWIILGLNK\",\n",
    "    \"NLVPMVATV\"]\n",
    "\n",
    "# 2. Trainingsdaten laden\n",
    "train_df = pd.read_csv(f\"{pipeline_data_splitted}/{precision}/beta/train.tsv\", sep=\"\\t\")\n",
    "\n",
    "# 3. Nur negative Bindungen mit diesen Epitope\n",
    "negatives_with_epitope = train_df[\n",
    "    (train_df[\"Epitope\"].isin(fp_epitopes)) &\n",
    "    (train_df[\"Binding\"] == 0)\n",
    "]\n",
    "\n",
    "# 4. Auswertung\n",
    "counts = negatives_with_epitope[\"Epitope\"].value_counts()\n",
    "print(\"\\nNegative Bindungen im Training für diese Epitope:\")\n",
    "print(counts)\n",
    "\n",
    "# Optional: Epitope ohne *jede* negative Instanz\n",
    "epitopes_with_no_negatives = [e for e in fp_epitopes if e not in counts]\n",
    "print(\"\\nDiese Epitope hatten KEINE negativen Bindungen im Training:\")\n",
    "print(epitopes_with_no_negatives)"
   ]
  },
  {
   "cell_type": "code",
   "execution_count": 12,
   "id": "0b2c4cd8-5289-4796-932a-93e09a60ceb6",
   "metadata": {},
   "outputs": [
    {
     "name": "stdout",
     "output_type": "stream",
     "text": [
      "\n",
      "Negative Bindungen in VALIDATION für diese Epitope:\n",
      "Epitope\n",
      "KLGGALQAK     5116\n",
      "NLVPMVATV     1581\n",
      "CINGVCWTV      802\n",
      "GTSGSPIINR       1\n",
      "GTSGSPIVNR       1\n",
      "Name: count, dtype: int64\n",
      "\n",
      "Diese Epitope hatten KEINE negativen Bindungen im Validation:\n",
      "['KRWIILGLNK']\n"
     ]
    },
    {
     "name": "stderr",
     "output_type": "stream",
     "text": [
      "/tmp/ipykernel_79851/772175817.py:10: DtypeWarning: Columns (12) have mixed types. Specify dtype option on import or set low_memory=False.\n",
      "  val_df = pd.read_csv(f\"{pipeline_data_splitted}/{precision}/beta/validation.tsv\", sep=\"\\t\")\n"
     ]
    }
   ],
   "source": [
    "import pandas as pd\n",
    "\n",
    "# 1. Liste deiner interessanten Epitope (z. B. aus False Positives)\n",
    "fp_epitopes = [\n",
    "    \"CINGVCWTV\", \"GTSGSPIINR\", \"GTSGSPIVNR\", \"KLGGALQAK\", \"KRWIILGLNK\",\n",
    "    \"NLVPMVATV\"\n",
    "]\n",
    "\n",
    "# 2. Validierungsdaten laden\n",
    "val_df = pd.read_csv(f\"{pipeline_data_splitted}/{precision}/beta/validation.tsv\", sep=\"\\t\")\n",
    "\n",
    "# 3. Nur negative Bindungen mit diesen Epitope\n",
    "negatives_in_val = val_df[\n",
    "    (val_df[\"Epitope\"].isin(fp_epitopes)) &\n",
    "    (val_df[\"Binding\"] == 0)\n",
    "]\n",
    "\n",
    "# 4. Auswertung\n",
    "counts_val = negatives_in_val[\"Epitope\"].value_counts()\n",
    "print(\"\\nNegative Bindungen in VALIDATION für diese Epitope:\")\n",
    "print(counts_val)\n",
    "\n",
    "# Optional: Welche Epitope fehlen ganz in den negativen\n",
    "epitopes_missing_in_val = [e for e in fp_epitopes if e not in counts_val]\n",
    "print(\"\\nDiese Epitope hatten KEINE negativen Bindungen im Validation:\")\n",
    "print(epitopes_missing_in_val)\n"
   ]
  },
  {
   "cell_type": "code",
   "execution_count": 42,
   "id": "49e71712-0c00-4d09-a6ec-4848aa2ad0e6",
   "metadata": {},
   "outputs": [
    {
     "name": "stdout",
     "output_type": "stream",
     "text": [
      "\n",
      "📊 TRAIN Binding-Statistik:\n",
      "Binding        Binding_1  Binding_0    Total  Ratio_Binding1\n",
      "Epitope                                                     \n",
      "ALTPVVVTL            5.0        1.0      6.0        0.833333\n",
      "AMFWSVPTV          104.0       11.0    115.0        0.904348\n",
      "APRGPHGGAASGL        1.0        1.0      2.0        0.500000\n",
      "AVFDRKSDAK         373.0     6804.0   7177.0        0.051972\n",
      "CINGVCWTV           85.0       38.0    123.0        0.691057\n",
      "...                  ...        ...      ...             ...\n",
      "VTEHDTLLY          285.0     6535.0   6820.0        0.041789\n",
      "YILKYSVFL            9.0        1.0     10.0        0.900000\n",
      "YLQPRTFLL          722.0      204.0    926.0        0.779698\n",
      "YSEHPTFTSQY        108.0       22.0    130.0        0.830769\n",
      "YVLDHLIVV         8340.0    35476.0  43816.0        0.190341\n",
      "\n",
      "[67 rows x 4 columns]\n",
      "\n",
      "📊 TEST Binding-Statistik:\n",
      "Binding        Binding_1  Binding_0  Total  Ratio_Binding1\n",
      "Epitope                                                   \n",
      "ALTPVVVTL              3          7     10        0.300000\n",
      "AMFWSVPTV              5         16     21        0.238095\n",
      "APRGPHGGAASGL          4         57     61        0.065574\n",
      "AVFDRKSDAK           317       1042   1359        0.233260\n",
      "CINGVCWTV            254       2455   2709        0.093762\n",
      "...                  ...        ...    ...             ...\n",
      "VTEHDTLLY              3        101    104        0.028846\n",
      "YILKYSVFL             11         56     67        0.164179\n",
      "YLQPRTFLL            180        330    510        0.352941\n",
      "YSEHPTFTSQY           45        362    407        0.110565\n",
      "YVLDHLIVV             25         92    117        0.213675\n",
      "\n",
      "[67 rows x 4 columns]\n",
      "\n",
      "➕ Zusätzliche Binding=0 Beispiele pro Epitope nötig im TRAIN (sortiert):\n",
      "               Add_Binding_0_Needed\n",
      "RQLLFVVEV                      7327\n",
      "VTEHDTLLY                      3060\n",
      "KTFPPTEPK                      1677\n",
      "YLQPRTFLL                      1120\n",
      "YLQPRTFLL                      1120\n",
      "YSEHPTFTSQY                     847\n",
      "YSEHPTFTSQY                     847\n",
      "CINGVCWTV                       784\n",
      "CINGVCWTV                       784\n",
      "EAAGIGILTV                      648\n",
      "QYIKWPWYI                       541\n",
      "QYIKWPWYI                       541\n",
      "RYPLTFGWCF                      434\n",
      "HPVGEADYFEY                     402\n",
      "HPVGEADYFEY                     402\n",
      "AMFWSVPTV                       322\n",
      "LLWNGPMAV                       318\n",
      "LLWNGPMAV                       318\n",
      "GLCTLVAML                       282\n",
      "GLCTLVAML                       282\n",
      "DATYQRTRALVR                    281\n",
      "NYNYLYRLF                       244\n",
      "NYNYLYRLF                       244\n",
      "KRWIILGLNK                      227\n",
      "KRWIILGLNK                      227\n",
      "FPRPWLHGL                       217\n",
      "QIKVRVKMV                       195\n",
      "QIKVRVKMV                       195\n",
      "KAFSPEVIPMF                     184\n",
      "KAFSPEVIPMF                     184\n",
      "TPGPGVRYPL                      172\n",
      "TPGPGVRYPL                      172\n",
      "EIYKRWII                        166\n",
      "EIYKRWII                        166\n",
      "NLVPMVATV                       164\n",
      "NLVPMVATV                       164\n",
      "HPKVSSEVHI                      120\n",
      "LLHGFSFYL                       102\n",
      "RLQSLQTYV                        97\n",
      "RLQSLQTYV                        97\n",
      "RLPGVLPRA                        77\n",
      "TDLGQNLLY                        76\n",
      "TDLGQNLLY                        76\n",
      "TSTLQEQIGW                       68\n",
      "TSTLQEQIGW                       68\n",
      "YILKYSVFL                        45\n",
      "FLKEKGGL                         39\n",
      "FLKEKGGL                         39\n",
      "NLSALGIFST                       38\n",
      "GTSGSPIINR                       28\n",
      "GTSGSPIINR                       28\n",
      "KRWIIMGLNK                       22\n",
      "KRWIIMGLNK                       22\n",
      "GTSGSPIIDK                       20\n",
      "SLLMWITQC                        20\n",
      "GTSGSPIIDK                       20\n",
      "RLSDFSEQL                        18\n",
      "GTSGSPIVNR                       17\n",
      "GTSGSPIVNR                       17\n",
      "ISPRTLNAW                        14\n",
      "ISPRTLNAW                        14\n",
      "APRGPHGGAASGL                    13\n",
      "LPEPLPQGQLTAY                    12\n",
      "ALTPVVVTL                        11\n",
      "MLNIPSINV                         6\n",
      "MLNIPSINV                         6\n",
      "QASQEVKNW                         5\n",
      "GADGVGKSAL                        0\n",
      "IIKDYGKQM                         0\n",
      "IPSINVHHY                         0\n",
      "LPPIVAKEI                         0\n",
      "SLYNTVATL                         0\n",
      "YVLDHLIVV                         0\n",
      "TPQDLNTML                         0\n",
      "RYSIFFDYM                         0\n",
      "GADGVGKSAL                        0\n",
      "RAKFKQLL                          0\n",
      "IVTDFSVIK                         0\n",
      "KLVALGINAV                        0\n",
      "GLNKIVRMY                         0\n",
      "FLRGRAYGL                         0\n",
      "TPRVTGGGAM                        0\n",
      "ELRRKMMYM                         0\n",
      "KLGGALQAK                         0\n",
      "RPHERNGFTVL                       0\n",
      "YVLDHLIVV                         0\n",
      "GILGFVFTL                         0\n",
      "ELAGIGILTV                        0\n",
      "GILGFVFTL                         0\n",
      "AVFDRKSDAK                        0\n",
      "RPPIFIRRL                         0\n",
      "KLGGALQAK                         0\n",
      "IQPGQTFSV                         0\n",
      "ILHCANFNV                         0\n",
      "TPQDLNTML                         0\n",
      "ELAGIGILTV                        0\n",
      "LLFGYPVYV                         0\n",
      "RAKFKQLL                          0\n",
      "TPRVTGGGAM                        0\n",
      "AVFDRKSDAK                        0\n"
     ]
    }
   ],
   "source": [
    "import pandas as pd\n",
    "\n",
    "# Liste der Ziel-Epitope\n",
    "\n",
    "search_epitopes_tpp1 = [\n",
    "    \"CINGVCWTV\", \"GTSGSPIVNR\", \"GTSGSPIINR\", \"NLVPMVATV\", \"KLGGALQAK\",\n",
    "    \"GILGFVFTL\", \"AVFDRKSDAK\", \"GTSGSPIIDK\", \"GLCTLVAML\", \"KRWIILGLNK\",\n",
    "    \"RPHERNGFTVL\", \"VTEHDTLLY\", \"RAKFKQLL\", \"QYIKWPWYI\", \"EIYKRWII\",\n",
    "    \"FLKEKGGL\", \"TPRVTGGGAM\", \"TSTLQEQIGW\", \"ELAGIGILTV\", \"YSEHPTFTSQY\",\n",
    "    \"LLFGYPVYV\", \"KRWIIMGLNK\", \"IPSINVHHY\", \"YLQPRTFLL\", \"HPVGEADYFEY\",\n",
    "    \"RPPIFIRRL\", \"TPQDLNTML\", \"RLQSLQTYV\", \"TPGPGVRYPL\", \"MLNIPSINV\",\n",
    "    \"TDLGQNLLY\", \"IVTDFSVIK\", \"KAFSPEVIPMF\", \"GADGVGKSAL\", \"NYNYLYRLF\",\n",
    "    \"LLWNGPMAV\", \"FLRGRAYGL\", \"QIKVRVKMV\", \"ISPRTLNAW\", \"AMFWSVPTV\",\n",
    "    \"ILHCANFNV\", \"IQPGQTFSV\", \"LPEPLPQGQLTAY\", \"RQLLFVVEV\", \"YVLDHLIVV\",\n",
    "    \"GLNKIVRMY\", \"ALTPVVVTL\", \"SLLMWITQC\", \"RYPLTFGWCF\", \"ELRRKMMYM\"\n",
    "]\n",
    "\n",
    "\n",
    "search_epitopes_tpp2 = [\n",
    "    \"CINGVCWTV\", \"GTSGSPIINR\", \"GTSGSPIVNR\", \"KLGGALQAK\", \"KRWIILGLNK\",\n",
    "    \"NLVPMVATV\", \"GILGFVFTL\", \"GLCTLVAML\", \"EIYKRWII\", \"FLKEKGGL\",\n",
    "    \"GTSGSPIIDK\", \"AVFDRKSDAK\", \"QYIKWPWYI\", \"YSEHPTFTSQY\", \"YLQPRTFLL\",\n",
    "    \"TSTLQEQIGW\", \"KAFSPEVIPMF\", \"TPQDLNTML\", \"ELAGIGILTV\", \"KRWIIMGLNK\",\n",
    "    \"TPGPGVRYPL\", \"RAKFKQLL\", \"RLQSLQTYV\", \"MLNIPSINV\", \"TPRVTGGGAM\",\n",
    "    \"LLWNGPMAV\", \"NLSALGIFST\", \"HPVGEADYFEY\", \"ISPRTLNAW\", \"LLHGFSFYL\",\n",
    "    \"TDLGQNLLY\", \"RLPGVLPRA\", \"LPPIVAKEI\", \"YVLDHLIVV\", \"QASQEVKNW\",\n",
    "    \"FPRPWLHGL\", \"YILKYSVFL\", \"APRGPHGGAASGL\", \"NYNYLYRLF\", \"QIKVRVKMV\",\n",
    "    \"KLVALGINAV\", \"SLYNTVATL\", \"HPKVSSEVHI\", \"DATYQRTRALVR\", \"RYSIFFDYM\",\n",
    "    \"IIKDYGKQM\", \"KTFPPTEPK\", \"GADGVGKSAL\", \"RLSDFSEQL\", \"EAAGIGILTV\"\n",
    "]\n",
    "\n",
    "\n",
    "search_epitopes = search_epitopes_tpp1 + search_epitopes_tpp2 \n",
    "\n",
    "def get_binding_stats(filepath, label):\n",
    "    df = pd.read_csv(filepath, sep=\"\\t\")\n",
    "    filtered = df[df[\"Epitope\"].isin(search_epitopes)]\n",
    "    result = (\n",
    "        filtered.groupby([\"Epitope\", \"Binding\"])\n",
    "        .size()\n",
    "        .unstack(fill_value=0)\n",
    "        .rename(columns={0: \"Binding_0\", 1: \"Binding_1\"})\n",
    "    )\n",
    "    result[\"Total\"] = result[\"Binding_0\"] + result[\"Binding_1\"]\n",
    "    result[\"Ratio_Binding1\"] = result[\"Binding_1\"] / result[\"Total\"]\n",
    "\n",
    "    # Fehlende Epitope ergänzen\n",
    "    for epitope in search_epitopes:\n",
    "        if epitope not in result.index:\n",
    "            result.loc[epitope] = [0, 0, 0, 0.0]\n",
    "\n",
    "    print(f\"\\n📊 {label} Binding-Statistik:\")\n",
    "    print(result[[\"Binding_1\", \"Binding_0\", \"Total\", \"Ratio_Binding1\"]].sort_index())\n",
    "    return result\n",
    "\n",
    "# Dateipfade definieren\n",
    "train_path = f\"{pipeline_data_splitted}/{precision}/beta/train.tsv\"\n",
    "test_path = f\"{pipeline_data_splitted}/{precision}/beta/test.tsv\"\n",
    "\n",
    "# Statistik je Datensatz\n",
    "train_stats = get_binding_stats(train_path, \"TRAIN\")\n",
    "test_stats = get_binding_stats(test_path, \"TEST\")\n",
    "\n",
    "# Berechnung: Wie viele Binding=0 fehlen im Train, um das Testverhältnis zu erreichen\n",
    "adjustments = pd.DataFrame(index=search_epitopes, columns=[\"Add_Binding_0_Needed\"])\n",
    "\n",
    "for epitope in search_epitopes:\n",
    "    b1_train = train_stats.at[epitope, \"Binding_1\"]\n",
    "    b0_train = train_stats.at[epitope, \"Binding_0\"]\n",
    "    b1_test = test_stats.at[epitope, \"Binding_1\"]\n",
    "    b0_test = test_stats.at[epitope, \"Binding_0\"]\n",
    "\n",
    "    total_test = b1_test + b0_test\n",
    "    if total_test == 0:\n",
    "        # Keine Daten im Test vorhanden → keine Zielratio → keine Anpassung\n",
    "        adjustments.loc[epitope] = 0\n",
    "        continue\n",
    "\n",
    "    target_ratio = b1_test / total_test\n",
    "\n",
    "    # Berechne nötige zusätzliche Binding=0 im Train\n",
    "    if target_ratio == 0:\n",
    "        x_needed = 0\n",
    "    else:\n",
    "        x_needed = int(round((b1_train / target_ratio) - b1_train - b0_train))\n",
    "        x_needed = max(0, x_needed)\n",
    "\n",
    "    adjustments.loc[epitope] = x_needed\n",
    "\n",
    "adjustments[\"Add_Binding_0_Needed\"] = adjustments[\"Add_Binding_0_Needed\"].astype(int)\n",
    "adjustments_sorted = adjustments.sort_values(by=\"Add_Binding_0_Needed\", ascending=False)\n",
    "\n",
    "# Ausgabe\n",
    "pd.set_option(\"display.max_rows\", 100)  # Anzahl der angezeigten Zeilen erhöhen\n",
    "print(\"\\n➕ Zusätzliche Binding=0 Beispiele pro Epitope nötig im TRAIN (sortiert):\")\n",
    "print(adjustments_sorted)\n"
   ]
  },
  {
   "cell_type": "code",
   "execution_count": null,
   "id": "2c57c74a-4e11-4709-80fe-92437a5e6865",
   "metadata": {},
   "outputs": [],
   "source": []
  },
  {
   "cell_type": "code",
   "execution_count": null,
   "id": "deaaec64-ba34-415f-a99b-e88bf70923d6",
   "metadata": {},
   "outputs": [],
   "source": []
  },
  {
   "cell_type": "markdown",
   "id": "4d3066bb-c66c-4ee2-a50c-12a59188183f",
   "metadata": {},
   "source": [
    "## TPP1"
   ]
  },
  {
   "cell_type": "code",
   "execution_count": 40,
   "id": "277ef957-0008-498f-b804-75acb709c7b1",
   "metadata": {},
   "outputs": [
    {
     "name": "stdout",
     "output_type": "stream",
     "text": [
      "Anzahl TPP2 False Positives: 1231\n"
     ]
    },
    {
     "data": {
      "image/png": "[encoded data removed]",
      "text/plain": [
       "<Figure size 600x400 with 1 Axes>"
      ]
     },
     "metadata": {},
     "output_type": "display_data"
    },
    {
     "name": "stdout",
     "output_type": "stream",
     "text": [
      "\n",
      "Top Epitope unter TPP1-False-Positives:\n",
      " Epitope\n",
      "CINGVCWTV        199\n",
      "GTSGSPIVNR       131\n",
      "GTSGSPIINR       121\n",
      "NLVPMVATV        115\n",
      "KLGGALQAK         91\n",
      "GILGFVFTL         78\n",
      "AVFDRKSDAK        72\n",
      "GTSGSPIIDK        45\n",
      "GLCTLVAML         44\n",
      "KRWIILGLNK        38\n",
      "RPHERNGFTVL       37\n",
      "VTEHDTLLY         29\n",
      "RAKFKQLL          25\n",
      "QYIKWPWYI         22\n",
      "EIYKRWII          22\n",
      "FLKEKGGL          20\n",
      "TPRVTGGGAM        20\n",
      "TSTLQEQIGW        20\n",
      "ELAGIGILTV        12\n",
      "YSEHPTFTSQY       11\n",
      "LLFGYPVYV          8\n",
      "KRWIIMGLNK         7\n",
      "IPSINVHHY          5\n",
      "YLQPRTFLL          4\n",
      "HPVGEADYFEY        4\n",
      "RPPIFIRRL          4\n",
      "TPQDLNTML          3\n",
      "RLQSLQTYV          3\n",
      "TPGPGVRYPL         3\n",
      "MLNIPSINV          3\n",
      "TDLGQNLLY          2\n",
      "IVTDFSVIK          2\n",
      "KAFSPEVIPMF        2\n",
      "GADGVGKSAL         2\n",
      "NYNYLYRLF          2\n",
      "LLWNGPMAV          2\n",
      "FLRGRAYGL          2\n",
      "QIKVRVKMV          1\n",
      "ISPRTLNAW          1\n",
      "AMFWSVPTV          1\n",
      "ILHCANFNV          1\n",
      "IQPGQTFSV          1\n",
      "LPEPLPQGQLTAY      1\n",
      "RQLLFVVEV          1\n",
      "YVLDHLIVV          1\n",
      "GLNKIVRMY          1\n",
      "ALTPVVVTL          1\n",
      "SLLMWITQC          1\n",
      "RYPLTFGWCF         1\n",
      "ELRRKMMYM          1\n",
      "Name: count, dtype: int64\n"
     ]
    }
   ],
   "source": [
    "import pandas as pd\n",
    "import matplotlib.pyplot as plt\n",
    "import seaborn as sns\n",
    "\n",
    "# CSV einlesen\n",
    "fp = pd.read_csv(\"../../results/false_positives_v1oversample.csv\", sep=\"\\t\")\n",
    "\n",
    "# Nur TPP2-Fehlklassifikationen\n",
    "fp_tpp2 = fp[fp[\"task\"] == \"TPP1\"].copy()\n",
    "print(f\"Anzahl TPP2 False Positives: {len(fp_tpp2)}\")\n",
    "\n",
    "# Confidence Score Verteilung\n",
    "plt.figure(figsize=(6,4))\n",
    "sns.histplot(fp_tpp2[\"predicted_score\"], bins=30, color=\"crimson\", edgecolor=\"black\")\n",
    "plt.title(\"Confidence Distribution – TPP1 False Positives\")\n",
    "plt.xlabel(\"Predicted Probability\")\n",
    "plt.ylabel(\"Count\")\n",
    "plt.axvline(0.5, linestyle=\"--\", color=\"gray\", label=\"Threshold = 0.5\")\n",
    "plt.legend()\n",
    "plt.tight_layout()\n",
    "plt.savefig(\"results/tpp2_fp_confidence_hist.png\")\n",
    "plt.show()\n",
    "\n",
    "# Top Epitope bei FPs\n",
    "top_epitopes = fp_tpp2[\"Epitope\"].value_counts().head(50)\n",
    "print(\"\\nTop Epitope unter TPP1-False-Positives:\\n\", top_epitopes)"
   ]
  },
  {
   "cell_type": "code",
   "execution_count": 44,
   "id": "6213aa45-9624-4811-b837-ddee7d3a3e7d",
   "metadata": {},
   "outputs": [
    {
     "name": "stdout",
     "output_type": "stream",
     "text": [
      "✅ Speichern abgeschlossen.\n"
     ]
    }
   ],
   "source": [
    "import pandas as pd\n",
    "import numpy as np\n",
    "\n",
    "# Lade das Trainingsset\n",
    "train_df = pd.read_csv(f\"{pipeline_data_splitted}/{precision}/beta/train.tsv\", sep=\"\\t\")\n",
    "\n",
    "# Dictionary: Epitope → Anzahl im Trainingsset\n",
    "epitope_counts = {\n",
    "    \"RQLLFVVEV\": 7327,\n",
    "    \"VTEHDTLLY\": 3060,\n",
    "    \"KTFPPTEPK\": 1677,\n",
    "    \"YLQPRTFLL\": 1120,\n",
    "    \"YSEHPTFTSQY\": 847,\n",
    "    \"CINGVCWTV\": 784,\n",
    "    \"EAAGIGILTV\": 648,\n",
    "    \"QYIKWPWYI\": 541,\n",
    "    \"RYPLTFGWCF\": 434,\n",
    "    \"HPVGEADYFEY\": 402,\n",
    "    \"AMFWSVPTV\": 322,\n",
    "    \"LLWNGPMAV\": 318,\n",
    "    \"GLCTLVAML\": 282,\n",
    "    \"DATYQRTRALVR\": 281,\n",
    "    \"NYNYLYRLF\": 244,\n",
    "    \"KRWIILGLNK\": 227,\n",
    "    \"FPRPWLHGL\": 217,\n",
    "    \"QIKVRVKMV\": 195,\n",
    "    \"KAFSPEVIPMF\": 184,\n",
    "    \"TPGPGVRYPL\": 172,\n",
    "    \"EIYKRWII\": 166,\n",
    "    \"NLVPMVATV\": 164,\n",
    "    \"HPKVSSEVHI\": 120,\n",
    "    \"LLHGFSFYL\": 102,\n",
    "    \"RLQSLQTYV\": 97,\n",
    "    \"RLPGVLPRA\": 77,\n",
    "    \"TDLGQNLLY\": 76,\n",
    "    \"TSTLQEQIGW\": 68,\n",
    "    \"YILKYSVFL\": 45,\n",
    "    \"FLKEKGGL\": 39,\n",
    "    \"NLSALGIFST\": 38,\n",
    "    \"GTSGSPIINR\": 28,\n",
    "    \"KRWIIMGLNK\": 22,\n",
    "    \"GTSGSPIIDK\": 20,\n",
    "    \"SLLMWITQC\": 20,\n",
    "    \"RLSDFSEQL\": 18,\n",
    "    \"GTSGSPIVNR\": 17,\n",
    "    \"ISPRTLNAW\": 14,\n",
    "    \"APRGPHGGAASGL\": 13,\n",
    "    \"LPEPLPQGQLTAY\": 12,\n",
    "    \"ALTPVVVTL\": 11,\n",
    "    \"MLNIPSINV\": 6,\n",
    "    \"QASQEVKNW\": 5\n",
    "}\n",
    "\n",
    "\n",
    "# Liste der Epitope, für die augmentiert werden soll\n",
    "epitopes_to_augment = list(epitope_counts.keys())\n",
    "\n",
    "augmented = []\n",
    "for epitope in epitopes_to_augment:\n",
    "    used_tcrs = train_df[train_df[\"Epitope\"] == epitope][\"TRB_CDR3\"].unique()\n",
    "    candidate_tcrs = train_df[~train_df[\"TRB_CDR3\"].isin(used_tcrs)][\"TRB_CDR3\"].unique()\n",
    "\n",
    "    num_to_generate = epitope_counts[epitope] * 5  # dynamische Zielgröße\n",
    "\n",
    "    # Falls nicht genügend TCRs verfügbar sind, mit replacement ziehen\n",
    "    replace = len(candidate_tcrs) < num_to_generate\n",
    "    sampled = np.random.choice(candidate_tcrs, size=num_to_generate, replace=replace)\n",
    "\n",
    "    df = pd.DataFrame({\n",
    "        \"TRB_CDR3\": sampled,\n",
    "        \"Epitope\": [epitope] * num_to_generate,\n",
    "        \"Binding\": [0] * num_to_generate,\n",
    "        \"source\": [\"augmented\"] * num_to_generate\n",
    "    })\n",
    "\n",
    "    augmented.append(df)\n",
    "\n",
    "# Alle augmentierten Beispiele zusammenfügen und speichern\n",
    "augmented_negatives = pd.concat(augmented, ignore_index=True)\n",
    "augmented_negatives.to_csv(\"augmented_negatives_tpp1250.tsv\", sep=\"\\t\", index=False)\n",
    "print(\"✅ Speichern abgeschlossen.\")"
   ]
  },
  {
   "cell_type": "code",
   "execution_count": 45,
   "id": "fd021e6b-137f-4764-8922-61d12d115323",
   "metadata": {},
   "outputs": [
    {
     "name": "stderr",
     "output_type": "stream",
     "text": [
      "/tmp/ipykernel_104240/3071052388.py:8: DtypeWarning: Columns (12) have mixed types. Specify dtype option on import or set low_memory=False.\n",
      "  val   = pd.read_csv(f\"{pipeline_data_splitted}/{precision}/beta/validation.tsv\", sep=\"\\t\")\n"
     ]
    },
    {
     "name": "stdout",
     "output_type": "stream",
     "text": [
      "⚠️ 14 augmentierte Negative kommen auch als Positive im Dataset vor!\n",
      "           TRB_CDR3    Epitope  Binding     source\n",
      "0       CASSPAYEQYF  RQLLFVVEV        0  augmented\n",
      "1   CASSTGPTGLYEQYF  RQLLFVVEV        0  augmented\n",
      "2       CASSQNNEQFF  RQLLFVVEV        0  augmented\n",
      "3  CASSPPTGLSYNEQFF  RQLLFVVEV        0  augmented\n",
      "4       CASSVGNTIYF  RQLLFVVEV        0  augmented\n"
     ]
    }
   ],
   "source": [
    "import pandas as pd\n",
    "\n",
    "# Lade augmentierte negative Beispiele\n",
    "aug_neg = pd.read_csv(\"augmented_negatives_tpp1250.tsv\", sep=\"\\t\")\n",
    "\n",
    "# Nur positive Bindungen aus allen Splits\n",
    "pos_train = train[train[\"Binding\"] == 1]\n",
    "pos_val = val[val[\"Binding\"] == 1]\n",
    "pos_test = test[test[\"Binding\"] == 1]\n",
    "\n",
    "# Kombiniere alle positiven Paare\n",
    "positive_pairs = pd.concat([pos_train, pos_val, pos_test])[[\"TRB_CDR3\", \"Epitope\"]].drop_duplicates()\n",
    "\n",
    "# Prüfe Überschneidung\n",
    "merged = aug_neg.merge(positive_pairs, on=[\"TRB_CDR3\", \"Epitope\"], how=\"inner\")\n",
    "\n",
    "# Ergebnis anzeigen\n",
    "print(f\"⚠️ {len(merged)} augmentierte Negative kommen auch als Positive im Dataset vor!\")\n",
    "if not merged.empty:\n",
    "    print(merged.head())"
   ]
  },
  {
   "cell_type": "code",
   "execution_count": 46,
   "id": "cea1f30c-d74e-4a0d-b640-10b8f03ded6a",
   "metadata": {},
   "outputs": [
    {
     "name": "stdout",
     "output_type": "stream",
     "text": [
      "✅ Gesäubert gespeichert: 102286 Einträge verbleiben.\n"
     ]
    }
   ],
   "source": [
    "# Augmentierte Daten laden\n",
    "aug_file = \"augmented_negatives_tpp1250.tsv\"\n",
    "aug_df = pd.read_csv(aug_file, sep=\"\\t\")\n",
    "\n",
    "# Kombiniere positive Bindungen aus allen Splits\n",
    "all_pos = pd.concat([train, val, test])\n",
    "all_pos = all_pos[all_pos[\"Binding\"] == 1][[\"TRB_CDR3\", \"Epitope\"]]\n",
    "\n",
    "# Entferne augmentierte Paare, die auch als positive vorkommen\n",
    "cleaned_aug_df = pd.merge(aug_df, all_pos, on=[\"TRB_CDR3\", \"Epitope\"], how=\"left\", indicator=True)\n",
    "cleaned_aug_df = cleaned_aug_df[cleaned_aug_df[\"_merge\"] == \"left_only\"].drop(columns=\"_merge\")\n",
    "\n",
    "# Speichern\n",
    "cleaned_aug_df.to_csv(\"augmented_negatives_tpp1250.tsv\", sep=\"\\t\", index=False)\n",
    "print(f\"✅ Gesäubert gespeichert: {len(cleaned_aug_df)} Einträge verbleiben.\")"
   ]
  },
  {
   "cell_type": "code",
   "execution_count": null,
   "id": "3d7b5af7-a418-4833-a869-42c561c2c456",
   "metadata": {},
   "outputs": [],
   "source": []
  },
  {
   "cell_type": "code",
   "execution_count": null,
   "id": "ec214e1d-0777-4bce-8ba0-db33a5a780b5",
   "metadata": {},
   "outputs": [],
   "source": []
  },
  {
   "cell_type": "code",
   "execution_count": 16,
   "id": "d5f20762-d678-4377-8aba-1bcd7b84f82b",
   "metadata": {},
   "outputs": [
    {
     "name": "stdout",
     "output_type": "stream",
     "text": [
      "\n",
      "Top Epitope unter TPP2-False-Positives:\n",
      " TRB_CDR3\n",
      "CASSYRGGRAGETQYF    9\n",
      "CATSDNNVWFSEQFF     9\n",
      "CASSFDGVYEQYF       9\n",
      "CASSAGSGNEQYF       9\n",
      "CASSLGQGLLYGYTF     9\n",
      "CASSQGLAGAGELFF     9\n",
      "CASSLGGGLQETQYF     8\n",
      "CASSLGLEGEQYF       8\n",
      "CASSLGPEKEQFF       8\n",
      "CASSFGAGSQETQYF     8\n",
      "Name: count, dtype: int64\n"
     ]
    }
   ],
   "source": [
    "# Top Epitope bei FPs\n",
    "top_epitopes = fp_tpp2[\"TRB_CDR3\"].value_counts().head(10)\n",
    "print(\"\\nTop Epitope unter TPP2-False-Positives:\\n\", top_epitopes)"
   ]
  },
  {
   "cell_type": "code",
   "execution_count": 30,
   "id": "08b23057-0402-489d-89f2-18d30457b8fc",
   "metadata": {},
   "outputs": [
    {
     "name": "stdout",
     "output_type": "stream",
     "text": [
      "✅ Speichern abgeschlossen.\n"
     ]
    }
   ],
   "source": [
    "#####TPP2 >> wenig Epitope künstlich vergrössern mit negativen Beispielen\n",
    "train_df = pd.read_csv(f\"{pipeline_data_splitted}/{precision}/beta/train.tsv\", sep=\"\\t\")\n",
    "\n",
    "# Liste mit zu wenig negativen Beispielen\n",
    "rare_epitopes = [\"CINGVCWTV\", \"GTSGSPIINR\", \"GTSGSPIVNR\"]\n",
    "\n",
    "augmented = []\n",
    "for epitope in rare_epitopes:\n",
    "    used_tcrs = train_df[train_df[\"Epitope\"] == epitope][\"TRB_CDR3\"].unique()\n",
    "    candidate_tcrs = train_df[~train_df[\"TRB_CDR3\"].isin(used_tcrs)][\"TRB_CDR3\"].unique()\n",
    "\n",
    "    num_to_generate = 1000  \n",
    "    sampled = np.random.choice(candidate_tcrs, size=num_to_generate, replace=False)\n",
    "\n",
    "    df = pd.DataFrame({\n",
    "        \"TRB_CDR3\": sampled,\n",
    "        \"Epitope\": [epitope] * num_to_generate,\n",
    "        \"Binding\": [0] * num_to_generate,\n",
    "        \"source\": [\"augmented\"] * num_to_generate\n",
    "    })\n",
    "\n",
    "    augmented.append(df)\n",
    "\n",
    "augmented_negatives = pd.concat(augmented, ignore_index=True)\n",
    "augmented_negatives.to_csv(\"augmented_negatives_tpp2.tsv\", sep=\"\\t\", index=False)\n",
    "print(\"✅ Speichern abgeschlossen.\")\n"
   ]
  },
  {
   "cell_type": "code",
   "execution_count": 35,
   "id": "edce5da7-2cb8-4552-80e6-1492a93823af",
   "metadata": {},
   "outputs": [
    {
     "name": "stderr",
     "output_type": "stream",
     "text": [
      "/tmp/ipykernel_21340/1019784861.py:8: DtypeWarning: Columns (12) have mixed types. Specify dtype option on import or set low_memory=False.\n",
      "  val   = pd.read_csv(f\"{pipeline_data_splitted}/{precision}/beta/validation.tsv\", sep=\"\\t\")\n"
     ]
    },
    {
     "name": "stdout",
     "output_type": "stream",
     "text": [
      "⚠️ 0 augmentierte Negative kommen auch als Positive im Dataset vor!\n"
     ]
    }
   ],
   "source": [
    "import pandas as pd\n",
    "\n",
    "# Lade augmentierte negative Beispiele\n",
    "aug_neg = pd.read_csv(\"augmented_negatives_tpp2.tsv\", sep=\"\\t\")\n",
    "\n",
    "# Lade originale Datasets\n",
    "train = pd.read_csv(f\"{pipeline_data_splitted}/{precision}/beta/train.tsv\", sep=\"\\t\")\n",
    "val   = pd.read_csv(f\"{pipeline_data_splitted}/{precision}/beta/validation.tsv\", sep=\"\\t\")\n",
    "test  = pd.read_csv(f\"{pipeline_data_splitted}/{precision}/beta/test.tsv\", sep=\"\\t\")\n",
    "\n",
    "# Nur positive Bindungen aus allen Splits\n",
    "pos_train = train[train[\"Binding\"] == 1]\n",
    "pos_val = val[val[\"Binding\"] == 1]\n",
    "pos_test = test[test[\"Binding\"] == 1]\n",
    "\n",
    "# Kombiniere alle positiven Paare\n",
    "positive_pairs = pd.concat([pos_train, pos_val, pos_test])[[\"TRB_CDR3\", \"Epitope\"]].drop_duplicates()\n",
    "\n",
    "# Prüfe Überschneidung\n",
    "merged = aug_neg.merge(positive_pairs, on=[\"TRB_CDR3\", \"Epitope\"], how=\"inner\")\n",
    "\n",
    "# Ergebnis anzeigen\n",
    "print(f\"⚠️ {len(merged)} augmentierte Negative kommen auch als Positive im Dataset vor!\")\n",
    "if not merged.empty:\n",
    "    print(merged.head())"
   ]
  },
  {
   "cell_type": "code",
   "execution_count": 34,
   "id": "d195430a-389c-4730-9279-fd84f3868879",
   "metadata": {},
   "outputs": [
    {
     "name": "stderr",
     "output_type": "stream",
     "text": [
      "/tmp/ipykernel_21340/899999213.py:7: DtypeWarning: Columns (12) have mixed types. Specify dtype option on import or set low_memory=False.\n",
      "  val = pd.read_csv(f\"{pipeline_data_splitted}/{precision}/beta/validation.tsv\", sep=\"\\t\")\n"
     ]
    },
    {
     "name": "stdout",
     "output_type": "stream",
     "text": [
      "✅ Gesäubert gespeichert: 2997 Einträge verbleiben.\n"
     ]
    }
   ],
   "source": [
    "# Augmentierte Daten laden\n",
    "aug_file = \"augmented_negatives_tpp2.tsv\"\n",
    "aug_df = pd.read_csv(aug_file, sep=\"\\t\")\n",
    "\n",
    "# Train/Val/Test einlesen\n",
    "train = pd.read_csv(f\"{pipeline_data_splitted}/{precision}/beta/train.tsv\", sep=\"\\t\")\n",
    "val = pd.read_csv(f\"{pipeline_data_splitted}/{precision}/beta/validation.tsv\", sep=\"\\t\")\n",
    "test = pd.read_csv(f\"{pipeline_data_splitted}/{precision}/beta/test.tsv\", sep=\"\\t\")\n",
    "\n",
    "# Kombiniere positive Bindungen aus allen Splits\n",
    "all_pos = pd.concat([train, val, test])\n",
    "all_pos = all_pos[all_pos[\"Binding\"] == 1][[\"TRB_CDR3\", \"Epitope\"]]\n",
    "\n",
    "# Entferne augmentierte Paare, die auch als positive vorkommen\n",
    "cleaned_aug_df = pd.merge(aug_df, all_pos, on=[\"TRB_CDR3\", \"Epitope\"], how=\"left\", indicator=True)\n",
    "cleaned_aug_df = cleaned_aug_df[cleaned_aug_df[\"_merge\"] == \"left_only\"].drop(columns=\"_merge\")\n",
    "\n",
    "# Speichern\n",
    "cleaned_aug_df.to_csv(\"augmented_negatives_tpp2.tsv\", sep=\"\\t\", index=False)\n",
    "print(f\"✅ Gesäubert gespeichert: {len(cleaned_aug_df)} Einträge verbleiben.\")"
   ]
  },
  {
   "cell_type": "markdown",
   "id": "da5784f8-64b5-4ca4-a88f-749ab8858994",
   "metadata": {},
   "source": [
    "## Datenanalse mit augmented data 1000"
   ]
  },
  {
   "cell_type": "code",
   "execution_count": 5,
   "id": "65244333-ac7b-4223-920d-3a3b837b19a1",
   "metadata": {},
   "outputs": [
    {
     "data": {
      "image/png": "[encoded data removed]",
      "text/plain": [
       "<Figure size 800x400 with 1 Axes>"
      ]
     },
     "metadata": {},
     "output_type": "display_data"
    }
   ],
   "source": [
    "import pandas as pd\n",
    "import matplotlib.pyplot as plt\n",
    "\n",
    "# Einlesen\n",
    "fp = pd.read_csv(\"../../results/false_positives_v1frbce_aug1000.csv\", sep=\"\\t\")\n",
    "test_df = pd.read_csv(f\"{pipeline_data_splitted}/{precision}/beta/test.tsv\", sep=\"\\t\")\n",
    "\n",
    "# Gesamtanzahl pro Quelle im gesamten Testset\n",
    "total_per_source = test_df[\"source\"].value_counts()\n",
    "\n",
    "# Anzahl der False Positives pro Quelle\n",
    "fp_per_source = fp[\"source\"].value_counts()\n",
    "\n",
    "# Prozentuale False Positive Rate pro Quelle\n",
    "fp_rate_per_source = (fp_per_source / total_per_source * 100).sort_values(ascending=False)\n",
    "\n",
    "# Plot\n",
    "plt.figure(figsize=(8, 4))\n",
    "fp_rate_per_source.plot(kind=\"bar\", color=\"darkorange\")\n",
    "plt.title(\"False Positive Rate per Source (%)\")\n",
    "plt.ylabel(\"False Positives (%)\")\n",
    "plt.xlabel(\"Source\")\n",
    "plt.tight_layout()\n",
    "plt.show()"
   ]
  },
  {
   "cell_type": "code",
   "execution_count": 6,
   "id": "6dcbba6e-7e07-4bb9-9745-d525d0c9c31d",
   "metadata": {},
   "outputs": [
    {
     "name": "stdout",
     "output_type": "stream",
     "text": [
      "Anzahl TPP2 False Positives: 20011\n"
     ]
    },
    {
     "data": {
      "image/png": "[encoded data removed]",
      "text/plain": [
       "<Figure size 600x400 with 1 Axes>"
      ]
     },
     "metadata": {},
     "output_type": "display_data"
    },
    {
     "name": "stdout",
     "output_type": "stream",
     "text": [
      "\n",
      "Top Epitope unter TPP2-False-Positives:\n",
      " Epitope\n",
      "CINGVCWTV     2246\n",
      "KLGGALQAK     1637\n",
      "GTSGSPIINR    1410\n",
      "GTSGSPIVNR    1385\n",
      "GLCTLVAML     1314\n",
      "KRWIILGLNK    1081\n",
      "NLVPMVATV     1071\n",
      "ELAGIGILTV     909\n",
      "GILGFVFTL      885\n",
      "AVFDRKSDAK     860\n",
      "Name: count, dtype: int64\n"
     ]
    }
   ],
   "source": [
    "import pandas as pd\n",
    "import matplotlib.pyplot as plt\n",
    "import seaborn as sns\n",
    "\n",
    "# CSV einlesen\n",
    "fp = pd.read_csv(\"../../results/false_positives_v1frbce_aug1000.csv\", sep=\"\\t\")\n",
    "\n",
    "# Nur TPP2-Fehlklassifikationen\n",
    "fp_tpp2 = fp[fp[\"task\"] == \"TPP2\"].copy()\n",
    "print(f\"Anzahl TPP2 False Positives: {len(fp_tpp2)}\")\n",
    "\n",
    "# Confidence Score Verteilung\n",
    "plt.figure(figsize=(6,4))\n",
    "sns.histplot(fp_tpp2[\"predicted_score\"], bins=30, color=\"crimson\", edgecolor=\"black\")\n",
    "plt.title(\"Confidence Distribution – TPP2 False Positives\")\n",
    "plt.xlabel(\"Predicted Probability\")\n",
    "plt.ylabel(\"Count\")\n",
    "plt.axvline(0.5, linestyle=\"--\", color=\"gray\", label=\"Threshold = 0.5\")\n",
    "plt.legend()\n",
    "plt.tight_layout()\n",
    "plt.show()\n",
    "\n",
    "# Top Epitope bei FPs\n",
    "top_epitopes = fp_tpp2[\"Epitope\"].value_counts().head(10)\n",
    "print(\"\\nTop Epitope unter TPP2-False-Positives:\\n\", top_epitopes)"
   ]
  },
  {
   "cell_type": "code",
   "execution_count": null,
   "id": "aaced072-6f42-4fe6-836d-973d1de823ac",
   "metadata": {},
   "outputs": [],
   "source": []
  },
  {
   "cell_type": "markdown",
   "id": "95492fe4-cc72-4182-b5ef-3c9f6af0d684",
   "metadata": {},
   "source": [
    "# Datenanalyse mit augemnted Data Top10"
   ]
  },
  {
   "cell_type": "code",
   "execution_count": 3,
   "id": "bde6ecda-ea1b-4811-9dd1-e3b069e84d5e",
   "metadata": {},
   "outputs": [
    {
     "data": {
      "image/png": "[encoded data removed]",
      "text/plain": [
       "<Figure size 800x400 with 1 Axes>"
      ]
     },
     "metadata": {},
     "output_type": "display_data"
    }
   ],
   "source": [
    "import pandas as pd\n",
    "import matplotlib.pyplot as plt\n",
    "\n",
    "# Einlesen\n",
    "fp = pd.read_csv(\"../../results/false_positives_v1frbce_aug10.csv\", sep=\"\\t\")\n",
    "test_df = pd.read_csv(f\"{pipeline_data_splitted}/{precision}/beta/test.tsv\", sep=\"\\t\")\n",
    "\n",
    "# Gesamtanzahl pro Quelle im gesamten Testset\n",
    "total_per_source = test_df[\"source\"].value_counts()\n",
    "\n",
    "# Anzahl der False Positives pro Quelle\n",
    "fp_per_source = fp[\"source\"].value_counts()\n",
    "\n",
    "# Prozentuale False Positive Rate pro Quelle\n",
    "fp_rate_per_source = (fp_per_source / total_per_source * 100).sort_values(ascending=False)\n",
    "\n",
    "# Plot\n",
    "plt.figure(figsize=(8, 4))\n",
    "fp_rate_per_source.plot(kind=\"bar\", color=\"darkorange\")\n",
    "plt.title(\"False Positive Rate per Source (%)\")\n",
    "plt.ylabel(\"False Positives (%)\")\n",
    "plt.xlabel(\"Source\")\n",
    "plt.tight_layout()\n",
    "plt.show()"
   ]
  },
  {
   "cell_type": "code",
   "execution_count": 4,
   "id": "00b9c665-48f3-4c0f-8e45-10c96dea0ebb",
   "metadata": {},
   "outputs": [
    {
     "name": "stdout",
     "output_type": "stream",
     "text": [
      "Anzahl TPP2 False Positives: 24368\n"
     ]
    },
    {
     "data": {
      "image/png": "[encoded data removed]",
      "text/plain": [
       "<Figure size 600x400 with 1 Axes>"
      ]
     },
     "metadata": {},
     "output_type": "display_data"
    },
    {
     "name": "stdout",
     "output_type": "stream",
     "text": [
      "\n",
      "Top Epitope unter TPP2-False-Positives:\n",
      " Epitope\n",
      "ELAGIGILTV    3277\n",
      "CINGVCWTV     2246\n",
      "GLCTLVAML     2211\n",
      "KLGGALQAK     1871\n",
      "GTSGSPIINR    1410\n",
      "GTSGSPIVNR    1385\n",
      "KRWIILGLNK    1081\n",
      "NLVPMVATV     1078\n",
      "AVFDRKSDAK     918\n",
      "GILGFVFTL      886\n",
      "Name: count, dtype: int64\n"
     ]
    }
   ],
   "source": [
    "import pandas as pd\n",
    "import matplotlib.pyplot as plt\n",
    "import seaborn as sns\n",
    "\n",
    "# CSV einlesen\n",
    "fp = pd.read_csv(\"../../results/false_positives_v1frbce_aug10.csv\", sep=\"\\t\")\n",
    "\n",
    "# Nur TPP2-Fehlklassifikationen\n",
    "fp_tpp2 = fp[fp[\"task\"] == \"TPP2\"].copy()\n",
    "print(f\"Anzahl TPP2 False Positives: {len(fp_tpp2)}\")\n",
    "\n",
    "# Confidence Score Verteilung\n",
    "plt.figure(figsize=(6,4))\n",
    "sns.histplot(fp_tpp2[\"predicted_score\"], bins=30, color=\"crimson\", edgecolor=\"black\")\n",
    "plt.title(\"Confidence Distribution – TPP2 False Positives\")\n",
    "plt.xlabel(\"Predicted Probability\")\n",
    "plt.ylabel(\"Count\")\n",
    "plt.axvline(0.5, linestyle=\"--\", color=\"gray\", label=\"Threshold = 0.5\")\n",
    "plt.legend()\n",
    "plt.tight_layout()\n",
    "plt.show()\n",
    "\n",
    "# Top Epitope bei FPs\n",
    "top_epitopes = fp_tpp2[\"Epitope\"].value_counts().head(10)\n",
    "print(\"\\nTop Epitope unter TPP2-False-Positives:\\n\", top_epitopes)"
   ]
  },
  {
   "cell_type": "code",
   "execution_count": 8,
   "id": "5ba342d9-c812-4fe2-b6f3-ee4985af1d00",
   "metadata": {},
   "outputs": [
    {
     "name": "stdout",
     "output_type": "stream",
     "text": [
      "Anzahl TPP2 False Positives: 24368\n",
      "\n",
      "Top Epitope unter TPP2-False-Positives:\n",
      " Epitope\n",
      "ELAGIGILTV    3277\n",
      "CINGVCWTV     2246\n",
      "GLCTLVAML     2211\n",
      "KLGGALQAK     1871\n",
      "GTSGSPIINR    1410\n",
      "GTSGSPIVNR    1385\n",
      "KRWIILGLNK    1081\n",
      "NLVPMVATV     1078\n",
      "AVFDRKSDAK     918\n",
      "GILGFVFTL      886\n",
      "Name: count, dtype: int64\n",
      "\n",
      "Top-10 Epitope – Source-Verteilung:\n",
      "\n",
      "• ELAGIGILTV:\n",
      "    generated: 3272\n",
      "    10X: 5\n",
      "\n",
      "• CINGVCWTV:\n",
      "    generated: 2246\n",
      "\n",
      "• GLCTLVAML:\n",
      "    generated: 2205\n",
      "    10X: 6\n",
      "\n",
      "• KLGGALQAK:\n",
      "    generated: 1867\n",
      "    10X: 4\n",
      "\n",
      "• GTSGSPIINR:\n",
      "    generated: 1410\n",
      "\n",
      "• GTSGSPIVNR:\n",
      "    generated: 1385\n",
      "\n",
      "• KRWIILGLNK:\n",
      "    generated: 1081\n",
      "\n",
      "• NLVPMVATV:\n",
      "    generated: 1071\n",
      "    10X: 7\n",
      "\n",
      "• AVFDRKSDAK:\n",
      "    generated: 914\n",
      "    10X: 4\n",
      "\n",
      "• GILGFVFTL:\n",
      "    generated: 880\n",
      "    10X: 6\n"
     ]
    }
   ],
   "source": [
    "# CSV einlesen\n",
    "fp = pd.read_csv(\"../../results/false_positives_v1frbce_aug10.csv\", sep=\"\\t\")\n",
    "\n",
    "# Nur TPP2-Fehlklassifikationen\n",
    "fp_tpp2 = fp[fp[\"task\"] == \"TPP2\"].copy()\n",
    "print(f\"Anzahl TPP2 False Positives: {len(fp_tpp2)}\")\n",
    "\n",
    "# Top 10 Epitope\n",
    "top_epitopes = fp_tpp2[\"Epitope\"].value_counts().head(10)\n",
    "print(\"\\nTop Epitope unter TPP2-False-Positives:\\n\", top_epitopes)\n",
    "\n",
    "# Quelle + Anzahl für Top-10 Epitope\n",
    "top10_list = top_epitopes.index.tolist()\n",
    "\n",
    "# Filter auf nur Top-10 Epitope\n",
    "filtered = fp_tpp2[fp_tpp2[\"Epitope\"].isin(top10_list)]\n",
    "\n",
    "# Gruppierung und Zählung\n",
    "epitope_source_counts = (\n",
    "    filtered\n",
    "    .groupby([\"Epitope\", \"source\"])\n",
    "    .size()\n",
    "    .reset_index(name=\"Count\")\n",
    "    .sort_values([\"Epitope\", \"Count\"], ascending=[True, False])\n",
    ")\n",
    "\n",
    "# Ausgabe\n",
    "print(\"\\nTop-10 Epitope – Source-Verteilung:\")\n",
    "for epitope in top10_list:\n",
    "    subset = epitope_source_counts[epitope_source_counts[\"Epitope\"] == epitope]\n",
    "    print(f\"\\n• {epitope}:\")\n",
    "    for _, row in subset.iterrows():\n",
    "        print(f\"    {row['source']}: {row['Count']}\")"
   ]
  },
  {
   "cell_type": "code",
   "execution_count": 10,
   "id": "4383ce41-e7de-4526-81cc-e76c2f80e641",
   "metadata": {},
   "outputs": [
    {
     "name": "stdout",
     "output_type": "stream",
     "text": [
      "Top 10 False Positives aus Source '10X':\n",
      "\n",
      "• CLGGLLTMV: 8\n",
      "• RTLNAWVKV: 7\n",
      "• NLVPMVATV: 7\n",
      "• LLFGYPVYV: 6\n",
      "• IVTDFSVIK: 6\n",
      "• IMDQVPFSV: 6\n",
      "• GILGFVFTL: 6\n",
      "• GLCTLVAML: 6\n",
      "• RAKFKQLL: 6\n",
      "• FLASKIGRLV: 6\n"
     ]
    }
   ],
   "source": [
    "# Nur TPP2-False Positives mit Source = '10X'\n",
    "fp_tpp2_10x = fp_tpp2[fp_tpp2[\"source\"] == \"10X\"]\n",
    "\n",
    "# Top 10 Epitope nach Anzahl der False Positives aus 10X\n",
    "top10_10x = fp_tpp2_10x[\"Epitope\"].value_counts().head(10)\n",
    "\n",
    "print(\"Top 10 False Positives aus Source '10X':\\n\")\n",
    "for epitope, count in top10_10x.items():\n",
    "    print(f\"• {epitope}: {count}\")\n"
   ]
  },
  {
   "cell_type": "code",
   "execution_count": null,
   "id": "6eb24f02-3495-4f41-b4e6-8f3a917d0006",
   "metadata": {},
   "outputs": [],
   "source": []
  },
  {
   "cell_type": "code",
   "execution_count": null,
   "id": "aef14d69-8e76-4913-b211-bc220b603434",
   "metadata": {},
   "outputs": [],
   "source": []
  },
  {
   "cell_type": "code",
   "execution_count": null,
   "id": "c4b8eb49-bca5-4e6f-bc11-90f9ebeb63e1",
   "metadata": {},
   "outputs": [],
   "source": []
  },
  {
   "cell_type": "code",
   "execution_count": null,
   "id": "25ed8918-fe48-4b1e-980a-e61ddf3cdf87",
   "metadata": {},
   "outputs": [],
   "source": []
  },
  {
   "cell_type": "code",
   "execution_count": null,
   "id": "22902601-fe26-4709-868a-f62a7a11036b",
   "metadata": {},
   "outputs": [],
   "source": []
  },
  {
   "cell_type": "code",
   "execution_count": null,
   "id": "216bca8e-92a0-4670-8f06-dd05c93e89a1",
   "metadata": {},
   "outputs": [],
   "source": []
  },
  {
   "cell_type": "code",
   "execution_count": null,
   "id": "110bfc1f-6372-4a51-b7ed-edd5618b0633",
   "metadata": {},
   "outputs": [],
   "source": []
  },
  {
   "cell_type": "code",
   "execution_count": null,
   "id": "9491765b-3ddb-4585-b99c-c981a2bb11cf",
   "metadata": {},
   "outputs": [],
   "source": []
  },
  {
   "cell_type": "code",
   "execution_count": 5,
   "id": "776bbb96-99c1-404d-a60a-4f4b01a28099",
   "metadata": {},
   "outputs": [
    {
     "name": "stderr",
     "output_type": "stream",
     "text": [
      "/tmp/ipykernel_1988/2859151189.py:17: DtypeWarning: Columns (1,7) have mixed types. Specify dtype option on import or set low_memory=False.\n",
      "  train_df = pd.read_csv(train_path, sep='\\t')\n",
      "/tmp/ipykernel_1988/2859151189.py:18: DtypeWarning: Columns (1,7,11) have mixed types. Specify dtype option on import or set low_memory=False.\n",
      "  val_df = pd.read_csv(val_path, sep='\\t')\n"
     ]
    },
    {
     "name": "stdout",
     "output_type": "stream",
     "text": [
      "10X Task-Verteilung in TRAIN:\n",
      "source\n",
      "10X    316157\n",
      "Name: count, dtype: int64\n",
      "10X Task-Verteilung in VALIDATION:\n",
      "task\n",
      "TPP1    78164\n",
      "TPP2     1271\n",
      "Name: count, dtype: int64\n",
      "\n",
      "10X Task-Verteilung in TEST:\n",
      "task\n",
      "TPP1    15609\n",
      "TPP2       98\n",
      "Name: count, dtype: int64\n",
      "\n",
      "Anzahl 10X Validation-Einträge mit TCRs auch im Training: 78075\n",
      "Anzahl 10X Test-Einträge mit TCRs auch im Training: 15413\n"
     ]
    }
   ],
   "source": [
    "pipeline_data = '../../../../data'\n",
    "pipeline_data_plain = f'{pipeline_data}/plain_datasets'\n",
    "pipeline_data_cleaned = f'{pipeline_data}/cleaned_datasets'\n",
    "pipeline_data_concatenated = f'{pipeline_data}/concatenated_datasets'\n",
    "pipeline_data_splitted = f'{pipeline_data}/splitted_datasets'\n",
    "pipeline_data_temp_bucket = f'{pipeline_data}/temp'\n",
    "precision = \"allele\"\n",
    "\n",
    "import pandas as pd\n",
    "base_path = f\"{pipeline_data_splitted}/{precision}/beta/new\"\n",
    "\n",
    "train_path = f\"{base_path}/train.tsv\"\n",
    "val_path = f\"{base_path}/validation.tsv\"\n",
    "test_path = f\"{base_path}/test.tsv\"\n",
    "\n",
    "# Dateien einlesen\n",
    "train_df = pd.read_csv(train_path, sep='\\t')\n",
    "val_df = pd.read_csv(val_path, sep='\\t')\n",
    "test_df = pd.read_csv(test_path, sep='\\t')\n",
    "\n",
    "# Nach 10X filtern\n",
    "train_10x = train_df[train_df[\"source\"] == \"10X\"]\n",
    "val_10x = val_df[val_df[\"source\"] == \"10X\"]\n",
    "test_10x = test_df[test_df[\"source\"] == \"10X\"]\n",
    "\n",
    "# Aufgabenverteilung anzeigen\n",
    "print(\"10X Task-Verteilung in TRAIN:\")\n",
    "print(train_10x[\"source\"].value_counts())\n",
    "\n",
    "print(\"10X Task-Verteilung in VALIDATION:\")\n",
    "print(val_10x[\"task\"].value_counts())\n",
    "\n",
    "print(\"\\n10X Task-Verteilung in TEST:\")\n",
    "print(test_10x[\"task\"].value_counts())\n",
    "\n",
    "# Optional: Sicherstellen, welche TCRs aus dem Training in Val/Test vorkommen\n",
    "train_tcrs = set(train_10x[\"TRB_CDR3\"])  # oder auch cdr3a je nach Aufbau\n",
    "val_shared = val_10x[val_10x[\"TRB_CDR3\"].isin(train_tcrs)]\n",
    "test_shared = test_10x[test_10x[\"TRB_CDR3\"].isin(train_tcrs)]\n",
    "\n",
    "print(f\"\\nAnzahl 10X Validation-Einträge mit TCRs auch im Training: {len(val_shared)}\")\n",
    "print(f\"Anzahl 10X Test-Einträge mit TCRs auch im Training: {len(test_shared)}\")\n"
   ]
  },
  {
   "cell_type": "code",
   "execution_count": 19,
   "id": "1d41aed1-ab51-4b68-891b-f2f60ca7d92a",
   "metadata": {},
   "outputs": [
    {
     "name": "stdout",
     "output_type": "stream",
     "text": [
      "Anzahl der Einträge (Zeilen): 3881388\n"
     ]
    }
   ],
   "source": [
    "import pandas as pd\n",
    "beta = pd.read_csv(f'{pipeline_data_plain}/10x/combined_output_with_epitope_mhc_TRB_only_expanded-all.csv', sep=',')\n",
    "beta = beta.drop_duplicates(subset=[\"Epitope\", \"TRB_CDR3\", \"Binding\"])\n",
    "print(f\"Anzahl der Einträge (Zeilen): {len(beta)}\")\n"
   ]
  },
  {
   "cell_type": "code",
   "execution_count": 6,
   "id": "26caecea-9f53-4544-90c1-7c013b1aed81",
   "metadata": {},
   "outputs": [
    {
     "name": "stdout",
     "output_type": "stream",
     "text": [
      "\n",
      "📊 Train – Verteilung nach 'source':\n",
      "\n",
      "           Anzahl  Prozent\n",
      "source                    \n",
      "10X        316157    41.83\n",
      "generated  313315    41.46\n",
      "dataset    126286    16.71\n",
      "\n",
      "📊 Validation – Verteilung nach 'source':\n",
      "\n",
      "           Anzahl  Prozent\n",
      "source                    \n",
      "10X         79435    46.99\n",
      "generated   61444    36.35\n",
      "dataset     28150    16.65\n",
      "\n",
      "📊 Test – Verteilung nach 'source':\n",
      "\n",
      "           Anzahl  Prozent\n",
      "source                    \n",
      "generated   29688    54.85\n",
      "10X         15707    29.02\n",
      "dataset      8731    16.13\n"
     ]
    }
   ],
   "source": [
    "import pandas as pd\n",
    "import matplotlib.pyplot as plt\n",
    "def analyze_source_distribution(df, name):\n",
    "    print(f\"\\n📊 {name} – Verteilung nach 'source':\\n\")\n",
    "    \n",
    "    abs_counts = df['source'].value_counts()\n",
    "    rel_counts = df['source'].value_counts(normalize=True) * 100\n",
    "    \n",
    "    summary = pd.DataFrame({\n",
    "        'Anzahl': abs_counts,\n",
    "        'Prozent': rel_counts.round(2)\n",
    "    })\n",
    "    \n",
    "    print(summary)\n",
    "\n",
    "# Analyse durchführen\n",
    "analyze_source_distribution(train_df, \"Train\")\n",
    "analyze_source_distribution(val_df, \"Validation\")\n",
    "analyze_source_distribution(test_df, \"Test\")"
   ]
  }
 ],
 "metadata": {
  "kernelspec": {
   "display_name": "Python 3 (ipykernel)",
   "language": "python",
   "name": "python3"
  },
  "language_info": {
   "codemirror_mode": {
    "name": "ipython",
    "version": 3
   },
   "file_extension": ".py",
   "mimetype": "text/x-python",
   "name": "python",
   "nbconvert_exporter": "python",
   "pygments_lexer": "ipython3",
   "version": "3.12.2"
  }
 },
 "nbformat": 4,
 "nbformat_minor": 5
}
