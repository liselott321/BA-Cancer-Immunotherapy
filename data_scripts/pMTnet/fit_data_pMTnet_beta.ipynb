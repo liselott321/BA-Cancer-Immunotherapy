{
 "cells": [
  {
   "cell_type": "code",
   "execution_count": null,
   "metadata": {},
   "outputs": [],
   "source": [
    "import wandb\n",
    "import pandas as pd\n",
    "from dotenv import load_dotenv\n",
    "import os\n",
    "import numpy as np"
   ]
  },
  {
   "cell_type": "code",
   "execution_count": null,
   "metadata": {},
   "outputs": [],
   "source": [
    "# Sicherstellen, dass Ordner existiert\n",
    "os.makedirs(path_prefix_fitted, exist_ok=True)\n",
    "# CSV einlesen\n",
    "pMTnet_combined_df = pd.read_csv(input_file, sep=\",\")"
   ]
  },
  {
   "cell_type": "code",
   "execution_count": null,
   "metadata": {},
   "outputs": [],
   "source": [
    "# Fehlende Spalten hinzufügen mit NaN\n",
    "columns_to_add = ['TCR_name', 'TRAV', 'TRAJ', 'TRA_CDR3', 'TRBV', 'TRBJ', 'TRB_CDR3',\n",
    "                  'TRB_leader', 'TRAC', 'TRBC', 'Linker', 'Link_order', \n",
    "                  'TRA_5_prime_seq', 'TRA_3_prime_seq', 'TRB_5_prime_seq', 'TRB_3_prime_seq']\n",
    "for col in columns_to_add:\n",
    "    pMTnet_combined_df[col] = np.nan\n",
    "\n",
    "pMTnet_combined_df.rename(columns={\n",
    "    \"CDR3\": \"TRB_CDR3\",  \n",
    "    \"Antigen\": \"Epitope\",\n",
    "    \"HLA\": \"MHC\",\n",
    "}, inplace=True)\n",
    "\n",
    "# MHC Format anpassen (HLA- hinzufügen)\n",
    "pMTnet_combined_df[\"MHC\"] = \"HLA-\" + pMTnet_combined_df[\"MHC\"]\n",
    "pMTnet_combined_df[\"MHC class\"] = \"MHCI\""
   ]
  },
  {
   "cell_type": "code",
   "execution_count": null,
   "metadata": {},
   "outputs": [],
   "source": [
    "pMTnet_combined_df.to_csv(f\"{path_prefix_fitted}/{fitted_file}\", sep=\"\\t\", index=False)\n",
    "print(f\"Gefittete Datei gespeichert unter: {path_prefix_fitted}/{fitted_file}\")"
   ]
  }
 ],
 "metadata": {
  "kernelspec": {
   "display_name": "Python 3 (ipykernel)",
   "language": "python",
   "name": "python3"
  },
  "language_info": {
   "codemirror_mode": {
    "name": "ipython",
    "version": 3
   },
   "file_extension": ".py",
   "mimetype": "text/x-python",
   "name": "python",
   "nbconvert_exporter": "python",
   "pygments_lexer": "ipython3",
   "version": "3.12.2"
  }
 },
 "nbformat": 4,
 "nbformat_minor": 4
}
