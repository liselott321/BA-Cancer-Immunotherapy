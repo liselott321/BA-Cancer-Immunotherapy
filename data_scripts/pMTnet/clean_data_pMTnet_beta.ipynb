{
 "cells": [
  {
   "cell_type": "code",
   "execution_count": null,
   "metadata": {},
   "outputs": [],
   "source": [
    "import pandas as pd\n",
    "import numpy as np"
   ]
  },
  {
   "cell_type": "code",
   "execution_count": null,
   "metadata": {},
   "outputs": [],
   "source": [
    "# Sicherstellen, dass Ordner existiert\n",
    "os.makedirs(os.path.dirname(output_file), exist_ok=True)\n",
    "# Datei einlesen\n",
    "pMTnet_fitted_df = pd.read_csv(input_file, sep=\"\\t\")"
   ]
  },
  {
   "cell_type": "code",
   "execution_count": null,
   "metadata": {},
   "outputs": [],
   "source": [
    "# Template-Spalten setzen, falls sie fehlen\n",
    "template_columns_order = [\n",
    "    'TCR_name', 'TRAV', 'TRAJ', 'TRA_CDR3', 'TRBV', 'TRBJ', 'TRB_CDR3',\n",
    "    'TRB_leader', 'TRAC', 'TRBC', 'Linker', 'Link_order', \n",
    "    'TRA_5_prime_seq', 'TRA_3_prime_seq', 'TRB_5_prime_seq', 'TRB_3_prime_seq', \n",
    "    'Epitope', 'MHC', 'MHC class'\n",
    "]\n",
    "\n",
    "# Fehlende Spalten mit NaN auffüllen\n",
    "for col in template_columns_order:\n",
    "    if col not in pMTnet_fitted_df.columns:\n",
    "        pMTnet_fitted_df[col] = np.nan\n",
    "\n",
    "# Spalten in die korrekte Reihenfolge bringen\n",
    "pMTnet_cleaned_df = pMTnet_fitted_df[template_columns_order]"
   ]
  },
  {
   "cell_type": "code",
   "execution_count": null,
   "metadata": {},
   "outputs": [],
   "source": [
    "pMTnet_cleaned_df.to_csv(output_file, sep=\"\\t\", index=False)\n",
    "print(f\"Bereinigte Datei gespeichert unter: {output_file}\")"
   ]
  }
 ],
 "metadata": {
  "kernelspec": {
   "display_name": "Python 3 (ipykernel)",
   "language": "python",
   "name": "python3"
  },
  "language_info": {
   "codemirror_mode": {
    "name": "ipython",
    "version": 3
   },
   "file_extension": ".py",
   "mimetype": "text/x-python",
   "name": "python",
   "nbconvert_exporter": "python",
   "pygments_lexer": "ipython3",
   "version": "3.12.2"
  }
 },
 "nbformat": 4,
 "nbformat_minor": 4
}
