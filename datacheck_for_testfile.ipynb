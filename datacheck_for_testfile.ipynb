{
 "cells": [
  {
   "cell_type": "code",
   "execution_count": null,
   "id": "a0d8838a-8ea6-4e2f-862a-e9fcede10484",
   "metadata": {},
   "outputs": [],
   "source": [
    "import pandas as pd\n",
    "import os"
   ]
  },
  {
   "cell_type": "code",
   "execution_count": null,
   "id": "d8c85211-ea01-468f-a542-716482a9d87a",
   "metadata": {},
   "outputs": [],
   "source": [
    "file_paths = {\n",
    "    \"VDJdb_beta\": vdjdb_beta_read_path,\n",
    "    \"McPAS_beta\": mcpastcr_beta_read_path,\n",
    "    \"IEDB_beta\": iedb_beta_read_path,\n",
    "    \"pMTnet_beta\": pmtnet_beta_read_path,\n",
    "    \"VDJdb_paired\": vdjdb_paired_read_path,\n",
    "    \"McPAS_paired\": mcpastcr_paired_read_path,\n",
    "    \"IEDB_paired\": iedb_paired_read_path\n",
    "}"
   ]
  },
  {
   "cell_type": "code",
   "execution_count": null,
   "id": "668a5f73-5337-4575-bee1-b4ec20eb1ffc",
   "metadata": {},
   "outputs": [],
   "source": [
    "# Alle Daten speichern\n",
    "all_data = {}\n",
    "\n",
    "# Daten einlesen und vorbereiten\n",
    "for file_name, path in file_paths.items():\n",
    "    if os.path.exists(path):\n",
    "        try:\n",
    "            df = pd.read_csv(path, sep=None, engine=\"python\")\n",
    "\n",
    "            # tcr_key erstellen\n",
    "            if \"TRA_CDR3\" in df.columns:\n",
    "                df[\"tcr_key\"] = df[\"TRA_CDR3\"].astype(str) + '_' + df[\"TRB_CDR3\"]\n",
    "            else:\n",
    "                df[\"tcr_key\"] = df[\"TRB_CDR3\"]\n",
    "\n",
    "            all_data[file_name] = df[[\"tcr_key\", \"Epitope\"]].drop_duplicates()\n",
    "\n",
    "            print(f\"{file_name} geladen mit {len(df)} Einträgen.\")\n",
    "\n",
    "        except Exception as e:\n",
    "            print(f\"Fehler beim Verarbeiten der Datei {file_name}: {e}\")\n",
    "    else:\n",
    "        print(f\"Datei nicht gefunden: {file_name}\")\n",
    "\n",
    "# Analyse: Welcher Datensatz sollte im Testset sein?\n",
    "for test_file_name, test_df in all_data.items():\n",
    "    # Alle anderen Daten als Trainingsset\n",
    "    train_df = pd.concat([data for name, data in all_data.items() if name != test_file_name]).drop_duplicates()\n",
    "\n",
    "    # Erstelle Sets für schnelles Lookup\n",
    "    seen_tcrs = set(train_df[\"tcr_key\"])\n",
    "    seen_epitopes = set(train_df[\"Epitope\"])\n",
    "\n",
    "    # TPP3-Definition: Weder TCR noch Epitope wurden im Trainingsset gesehen\n",
    "    tpp3_pairs = test_df[~test_df[\"tcr_key\"].isin(seen_tcrs) & ~test_df[\"Epitope\"].isin(seen_epitopes)]\n",
    "\n",
    "    # Ausgabe der Ergebnisse\n",
    "    print(f\"\\n**Wenn {test_file_name} als Testset verwendet wird:**\")\n",
    "    print(f\"  - TPP3-Paare im Testset: {len(tpp3_pairs)}\")\n",
    "    print(f\"  - Gesamt Test-Paare: {len(test_df)}\")"
   ]
  }
 ],
 "metadata": {
  "kernelspec": {
   "display_name": "Python 3 (ipykernel)",
   "language": "python",
   "name": "python3"
  },
  "language_info": {
   "codemirror_mode": {
    "name": "ipython",
    "version": 3
   },
   "file_extension": ".py",
   "mimetype": "text/x-python",
   "name": "python",
   "nbconvert_exporter": "python",
   "pygments_lexer": "ipython3",
   "version": "3.12.2"
  }
 },
 "nbformat": 4,
 "nbformat_minor": 5
}
