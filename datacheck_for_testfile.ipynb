{
 "cells": [
  {
   "cell_type": "code",
   "execution_count": null,
   "id": "a0d8838a-8ea6-4e2f-862a-e9fcede10484",
   "metadata": {},
   "outputs": [],
   "source": [
    "import pandas as pd\n",
    "import os"
   ]
  },
  {
   "cell_type": "code",
   "execution_count": null,
   "id": "d8c85211-ea01-468f-a542-716482a9d87a",
   "metadata": {},
   "outputs": [],
   "source": [
    "file_paths = {\n",
    "    \"VDJdb_beta\": vdjdb_beta_read_path,\n",
    "    \"McPAS_beta\": mcpastcr_beta_read_path,\n",
    "    \"IEDB_beta\": iedb_beta_read_path,\n",
    "    \"pMTnet_beta\": pmtnet_beta_read_path,\n",
    "    \"VDJdb_paired\": vdjdb_paired_read_path,\n",
    "    \"McPAS_paired\": mcpastcr_paired_read_path,\n",
    "    \"IEDB_paired\": iedb_paired_read_path\n",
    "}"
   ]
  },
  {
   "cell_type": "code",
   "execution_count": null,
   "id": "c74ad15c-57a1-41c8-b0a5-ce2b88025ddd",
   "metadata": {},
   "outputs": [],
   "source": [
    "def analyze_file(file_path, file_name):\n",
    "    try:\n",
    "        df = pd.read_csv(file_path, sep=None, engine=\"python\")\n",
    "\n",
    "        required_columns = {\"TRB_CDR3\", \"Epitope\"}\n",
    "        missing_columns = required_columns - set(df.columns)\n",
    "\n",
    "        if missing_columns:\n",
    "            print(f\"Fehlende Spalten in {file_name}: {missing_columns}\")\n",
    "            return\n",
    "\n",
    "        distinct_tcrs = df[\"TRB_CDR3\"].nunique()\n",
    "        unique_tcrs = df[df.duplicated(subset=[\"TRB_CDR3\"], keep=False) == False][\"TRB_CDR3\"].count()\n",
    "        distinct_epitopes = df[\"Epitope\"].nunique()\n",
    "        unique_epitopes = df[df.duplicated(subset=[\"Epitope\"], keep=False) == False][\"Epitope\"].count()\n",
    "\n",
    "        print(f\"**{file_name}**\")\n",
    "        print(f\"  - Distinct TCRs: {distinct_tcrs}\")\n",
    "        print(f\"  - Unique TCRs: {unique_tcrs}\")\n",
    "        print(f\"  - Distinct Epitopes: {distinct_epitopes}\")\n",
    "        print(f\"  - Unique Epitopes: {unique_epitopes}\\n\")\n",
    "\n",
    "    except Exception as e:\n",
    "        print(f\"Fehler beim Verarbeiten der Datei {file_name}: {e}\")\n",
    "\n",
    "for file_name, path in file_paths.items():\n",
    "    if os.path.exists(path):\n",
    "        analyze_file(path, file_name)\n",
    "    else:\n",
    "        print(f\"Datei nicht gefunden: {file_name}\")"
   ]
  }
 ],
 "metadata": {
  "kernelspec": {
   "display_name": "Python 3 (ipykernel)",
   "language": "python",
   "name": "python3"
  },
  "language_info": {
   "codemirror_mode": {
    "name": "ipython",
    "version": 3
   },
   "file_extension": ".py",
   "mimetype": "text/x-python",
   "name": "python",
   "nbconvert_exporter": "python",
   "pygments_lexer": "ipython3",
   "version": "3.12.2"
  }
 },
 "nbformat": 4,
 "nbformat_minor": 5
}
