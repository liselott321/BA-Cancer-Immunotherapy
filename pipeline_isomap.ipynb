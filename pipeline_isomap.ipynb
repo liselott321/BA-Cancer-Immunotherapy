{
 "cells": [
  {
   "cell_type": "markdown",
   "id": "f95b12b4-3293-45af-9438-674000421c33",
   "metadata": {},
   "source": [
    "Bibliotheken"
   ]
  },
  {
   "cell_type": "code",
   "execution_count": 1,
   "id": "a25e0d55-72a2-4190-9877-43a1e955aaa7",
   "metadata": {},
   "outputs": [],
   "source": [
    "import os\n",
    "import numpy as np\n",
    "import subprocess"
   ]
  },
  {
   "cell_type": "markdown",
   "id": "53f33ca9-8f34-4a91-aa84-30c5fbf5f042",
   "metadata": {},
   "source": [
    "Embeddings, ISOMAP Ordner + Umwandeln von npz in npy"
   ]
  },
  {
   "cell_type": "code",
   "execution_count": null,
   "id": "8851cc43-3387-4eb4-87d3-f7d6be337777",
   "metadata": {},
   "outputs": [],
   "source": [
    "# Setze den Basis-Pfad für die Embeddings\n",
    "base_path = os.path.expanduser(\"~/data/embeddings/beta/allele/\")\n",
    "output_path = os.path.join(base_path, \"isomap\")\n",
    "\n",
    "# Erstelle den Ausgabeordner, falls er nicht existiert\n",
    "# os.makedirs(output_path, exist_ok=True)\n",
    "\n",
    "# Lade die Embeddings\n",
    "tcr_embedding_path = os.path.join(base_path, \"TRB_beta_embeddings.npz\")\n",
    "epitope_embedding_path = os.path.join(base_path, \"Epitope_beta_embeddings.npz\")\n",
    "\n",
    "# **Funktion zum Laden von .npz und Speichern als .npy**\n",
    "def convert_npz_to_npy(npz_path, save_path):\n",
    "    \"\"\"Lädt .npz Embeddings und speichert sie als .npy für Isomap\"\"\"\n",
    "    data = np.load(npz_path, allow_pickle=True)\n",
    "    embeddings = np.array(list(data.values()))\n",
    "    print(f\"Geladene Embeddings aus {npz_path}: {embeddings.shape}\")\n",
    "    np.save(save_path, embeddings)\n",
    "    return embeddings\n",
    "\n",
    "# **Lade und speichere TCR- und Epitope-Embeddings**\n",
    "tcr_embeddings = convert_npz_to_npy(tcr_embedding_path, os.path.join(output_path, \"tcr_embeddings.npy\"))\n",
    "epitope_embeddings = convert_npz_to_npy(epitope_embedding_path, os.path.join(output_path, \"epitope_embeddings.npy\"))\n"
   ]
  },
  {
   "cell_type": "markdown",
   "id": "363d77a7-38f2-4cd6-84a5-9c22325768fe",
   "metadata": {},
   "source": [
    "ISOMAP für Dimensionsreduktion von 1024 auf 512"
   ]
  },
  {
   "cell_type": "code",
   "execution_count": null,
   "id": "4ad48585-95dd-4522-97e9-2b736b64519a",
   "metadata": {},
   "outputs": [],
   "source": [
    "# **Rufe das Isomap-Python-Skript auf**\n",
    "print(\"\\n🚀 **Starte Isomap-Transformation...**\")\n",
    "subprocess.run([\"python3\", \"apply_isomap.py\"])  # Ruft apply_isomap.py auf\n",
    "print(\"\\n✅ **Isomap-Transformation abgeschlossen!**\")\n"
   ]
  }
 ],
 "metadata": {
  "kernelspec": {
   "display_name": "Python 3 (ipykernel)",
   "language": "python",
   "name": "python3"
  },
  "language_info": {
   "codemirror_mode": {
    "name": "ipython",
    "version": 3
   },
   "file_extension": ".py",
   "mimetype": "text/x-python",
   "name": "python",
   "nbconvert_exporter": "python",
   "pygments_lexer": "ipython3",
   "version": "3.12.2"
  }
 },
 "nbformat": 4,
 "nbformat_minor": 5
}
